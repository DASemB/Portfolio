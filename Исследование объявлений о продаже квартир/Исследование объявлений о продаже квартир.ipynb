{
 "cells": [
  {
   "cell_type": "markdown",
   "metadata": {
    "id": "-VFbjcb3Awb7"
   },
   "source": [
    "# Проект: Исследование объявлений о продаже квартир\n",
    "\n",
    "В вашем распоряжении данные сервиса Яндекс Недвижимость — архив объявлений о продаже квартир в Санкт-Петербурге и соседних населённых пунктах за несколько лет. Вам нужно научиться определять рыночную стоимость объектов недвижимости. Для этого проведите исследовательский анализ данных и установите параметры, влияющие на цену объектов. Это позволит построить автоматизированную систему: она отследит аномалии и мошенническую деятельность.\n",
    "\n",
    "По каждой квартире на продажу доступны два вида данных. Первые вписаны пользователем, вторые — получены автоматически на основе картографических данных. Например, расстояние до центра, аэропорта и других объектов — эти данные автоматически получены из геосервисов. Количество парков и водоёмов также заполняется без участия пользователя."
   ]
  },
  {
   "cell_type": "markdown",
   "metadata": {
    "id": "aeFLH07FAwb9"
   },
   "source": [
    "### Откройте файл с данными и изучите общую информацию"
   ]
  },
  {
   "cell_type": "code",
   "execution_count": 1,
   "metadata": {
    "id": "7MZxY65pAwb9"
   },
   "outputs": [],
   "source": [
    "import pandas as pd\n",
    "from matplotlib import pyplot as plt \n",
    "import seaborn as sbn\n",
    "\n",
    "\n",
    "df=pd.read_csv('/datasets/real_estate_data.csv', sep='\\t')"
   ]
  },
  {
   "cell_type": "code",
   "execution_count": 2,
   "metadata": {},
   "outputs": [
    {
     "data": {
      "text/html": [
       "<div>\n",
       "<style scoped>\n",
       "    .dataframe tbody tr th:only-of-type {\n",
       "        vertical-align: middle;\n",
       "    }\n",
       "\n",
       "    .dataframe tbody tr th {\n",
       "        vertical-align: top;\n",
       "    }\n",
       "\n",
       "    .dataframe thead th {\n",
       "        text-align: right;\n",
       "    }\n",
       "</style>\n",
       "<table border=\"1\" class=\"dataframe\">\n",
       "  <thead>\n",
       "    <tr style=\"text-align: right;\">\n",
       "      <th></th>\n",
       "      <th>total_images</th>\n",
       "      <th>last_price</th>\n",
       "      <th>total_area</th>\n",
       "      <th>first_day_exposition</th>\n",
       "      <th>rooms</th>\n",
       "      <th>ceiling_height</th>\n",
       "      <th>floors_total</th>\n",
       "      <th>living_area</th>\n",
       "      <th>floor</th>\n",
       "      <th>is_apartment</th>\n",
       "      <th>...</th>\n",
       "      <th>kitchen_area</th>\n",
       "      <th>balcony</th>\n",
       "      <th>locality_name</th>\n",
       "      <th>airports_nearest</th>\n",
       "      <th>cityCenters_nearest</th>\n",
       "      <th>parks_around3000</th>\n",
       "      <th>parks_nearest</th>\n",
       "      <th>ponds_around3000</th>\n",
       "      <th>ponds_nearest</th>\n",
       "      <th>days_exposition</th>\n",
       "    </tr>\n",
       "  </thead>\n",
       "  <tbody>\n",
       "    <tr>\n",
       "      <th>0</th>\n",
       "      <td>20</td>\n",
       "      <td>13000000.0</td>\n",
       "      <td>108.0</td>\n",
       "      <td>2019-03-07T00:00:00</td>\n",
       "      <td>3</td>\n",
       "      <td>2.70</td>\n",
       "      <td>16.0</td>\n",
       "      <td>51.0</td>\n",
       "      <td>8</td>\n",
       "      <td>NaN</td>\n",
       "      <td>...</td>\n",
       "      <td>25.0</td>\n",
       "      <td>NaN</td>\n",
       "      <td>Санкт-Петербург</td>\n",
       "      <td>18863.0</td>\n",
       "      <td>16028.0</td>\n",
       "      <td>1.0</td>\n",
       "      <td>482.0</td>\n",
       "      <td>2.0</td>\n",
       "      <td>755.0</td>\n",
       "      <td>NaN</td>\n",
       "    </tr>\n",
       "    <tr>\n",
       "      <th>1</th>\n",
       "      <td>7</td>\n",
       "      <td>3350000.0</td>\n",
       "      <td>40.4</td>\n",
       "      <td>2018-12-04T00:00:00</td>\n",
       "      <td>1</td>\n",
       "      <td>NaN</td>\n",
       "      <td>11.0</td>\n",
       "      <td>18.6</td>\n",
       "      <td>1</td>\n",
       "      <td>NaN</td>\n",
       "      <td>...</td>\n",
       "      <td>11.0</td>\n",
       "      <td>2.0</td>\n",
       "      <td>посёлок Шушары</td>\n",
       "      <td>12817.0</td>\n",
       "      <td>18603.0</td>\n",
       "      <td>0.0</td>\n",
       "      <td>NaN</td>\n",
       "      <td>0.0</td>\n",
       "      <td>NaN</td>\n",
       "      <td>81.0</td>\n",
       "    </tr>\n",
       "    <tr>\n",
       "      <th>2</th>\n",
       "      <td>10</td>\n",
       "      <td>5196000.0</td>\n",
       "      <td>56.0</td>\n",
       "      <td>2015-08-20T00:00:00</td>\n",
       "      <td>2</td>\n",
       "      <td>NaN</td>\n",
       "      <td>5.0</td>\n",
       "      <td>34.3</td>\n",
       "      <td>4</td>\n",
       "      <td>NaN</td>\n",
       "      <td>...</td>\n",
       "      <td>8.3</td>\n",
       "      <td>0.0</td>\n",
       "      <td>Санкт-Петербург</td>\n",
       "      <td>21741.0</td>\n",
       "      <td>13933.0</td>\n",
       "      <td>1.0</td>\n",
       "      <td>90.0</td>\n",
       "      <td>2.0</td>\n",
       "      <td>574.0</td>\n",
       "      <td>558.0</td>\n",
       "    </tr>\n",
       "    <tr>\n",
       "      <th>3</th>\n",
       "      <td>0</td>\n",
       "      <td>64900000.0</td>\n",
       "      <td>159.0</td>\n",
       "      <td>2015-07-24T00:00:00</td>\n",
       "      <td>3</td>\n",
       "      <td>NaN</td>\n",
       "      <td>14.0</td>\n",
       "      <td>NaN</td>\n",
       "      <td>9</td>\n",
       "      <td>NaN</td>\n",
       "      <td>...</td>\n",
       "      <td>NaN</td>\n",
       "      <td>0.0</td>\n",
       "      <td>Санкт-Петербург</td>\n",
       "      <td>28098.0</td>\n",
       "      <td>6800.0</td>\n",
       "      <td>2.0</td>\n",
       "      <td>84.0</td>\n",
       "      <td>3.0</td>\n",
       "      <td>234.0</td>\n",
       "      <td>424.0</td>\n",
       "    </tr>\n",
       "    <tr>\n",
       "      <th>4</th>\n",
       "      <td>2</td>\n",
       "      <td>10000000.0</td>\n",
       "      <td>100.0</td>\n",
       "      <td>2018-06-19T00:00:00</td>\n",
       "      <td>2</td>\n",
       "      <td>3.03</td>\n",
       "      <td>14.0</td>\n",
       "      <td>32.0</td>\n",
       "      <td>13</td>\n",
       "      <td>NaN</td>\n",
       "      <td>...</td>\n",
       "      <td>41.0</td>\n",
       "      <td>NaN</td>\n",
       "      <td>Санкт-Петербург</td>\n",
       "      <td>31856.0</td>\n",
       "      <td>8098.0</td>\n",
       "      <td>2.0</td>\n",
       "      <td>112.0</td>\n",
       "      <td>1.0</td>\n",
       "      <td>48.0</td>\n",
       "      <td>121.0</td>\n",
       "    </tr>\n",
       "  </tbody>\n",
       "</table>\n",
       "<p>5 rows × 22 columns</p>\n",
       "</div>"
      ],
      "text/plain": [
       "   total_images  last_price  total_area first_day_exposition  rooms  \\\n",
       "0            20  13000000.0       108.0  2019-03-07T00:00:00      3   \n",
       "1             7   3350000.0        40.4  2018-12-04T00:00:00      1   \n",
       "2            10   5196000.0        56.0  2015-08-20T00:00:00      2   \n",
       "3             0  64900000.0       159.0  2015-07-24T00:00:00      3   \n",
       "4             2  10000000.0       100.0  2018-06-19T00:00:00      2   \n",
       "\n",
       "   ceiling_height  floors_total  living_area  floor is_apartment  ...  \\\n",
       "0            2.70          16.0         51.0      8          NaN  ...   \n",
       "1             NaN          11.0         18.6      1          NaN  ...   \n",
       "2             NaN           5.0         34.3      4          NaN  ...   \n",
       "3             NaN          14.0          NaN      9          NaN  ...   \n",
       "4            3.03          14.0         32.0     13          NaN  ...   \n",
       "\n",
       "   kitchen_area  balcony    locality_name  airports_nearest  \\\n",
       "0          25.0      NaN  Санкт-Петербург           18863.0   \n",
       "1          11.0      2.0   посёлок Шушары           12817.0   \n",
       "2           8.3      0.0  Санкт-Петербург           21741.0   \n",
       "3           NaN      0.0  Санкт-Петербург           28098.0   \n",
       "4          41.0      NaN  Санкт-Петербург           31856.0   \n",
       "\n",
       "  cityCenters_nearest  parks_around3000  parks_nearest  ponds_around3000  \\\n",
       "0             16028.0               1.0          482.0               2.0   \n",
       "1             18603.0               0.0            NaN               0.0   \n",
       "2             13933.0               1.0           90.0               2.0   \n",
       "3              6800.0               2.0           84.0               3.0   \n",
       "4              8098.0               2.0          112.0               1.0   \n",
       "\n",
       "   ponds_nearest  days_exposition  \n",
       "0          755.0              NaN  \n",
       "1            NaN             81.0  \n",
       "2          574.0            558.0  \n",
       "3          234.0            424.0  \n",
       "4           48.0            121.0  \n",
       "\n",
       "[5 rows x 22 columns]"
      ]
     },
     "execution_count": 2,
     "metadata": {},
     "output_type": "execute_result"
    }
   ],
   "source": [
    "# Выводим первые 5 строчек датафрейма\n",
    "df.head()"
   ]
  },
  {
   "cell_type": "code",
   "execution_count": 3,
   "metadata": {},
   "outputs": [
    {
     "name": "stdout",
     "output_type": "stream",
     "text": [
      "<class 'pandas.core.frame.DataFrame'>\n",
      "RangeIndex: 23699 entries, 0 to 23698\n",
      "Data columns (total 22 columns):\n",
      " #   Column                Non-Null Count  Dtype  \n",
      "---  ------                --------------  -----  \n",
      " 0   total_images          23699 non-null  int64  \n",
      " 1   last_price            23699 non-null  float64\n",
      " 2   total_area            23699 non-null  float64\n",
      " 3   first_day_exposition  23699 non-null  object \n",
      " 4   rooms                 23699 non-null  int64  \n",
      " 5   ceiling_height        14504 non-null  float64\n",
      " 6   floors_total          23613 non-null  float64\n",
      " 7   living_area           21796 non-null  float64\n",
      " 8   floor                 23699 non-null  int64  \n",
      " 9   is_apartment          2775 non-null   object \n",
      " 10  studio                23699 non-null  bool   \n",
      " 11  open_plan             23699 non-null  bool   \n",
      " 12  kitchen_area          21421 non-null  float64\n",
      " 13  balcony               12180 non-null  float64\n",
      " 14  locality_name         23650 non-null  object \n",
      " 15  airports_nearest      18157 non-null  float64\n",
      " 16  cityCenters_nearest   18180 non-null  float64\n",
      " 17  parks_around3000      18181 non-null  float64\n",
      " 18  parks_nearest         8079 non-null   float64\n",
      " 19  ponds_around3000      18181 non-null  float64\n",
      " 20  ponds_nearest         9110 non-null   float64\n",
      " 21  days_exposition       20518 non-null  float64\n",
      "dtypes: bool(2), float64(14), int64(3), object(3)\n",
      "memory usage: 3.7+ MB\n"
     ]
    }
   ],
   "source": [
    "# Выводим основную информацию о датафрейме\n",
    "df.info()"
   ]
  },
  {
   "cell_type": "code",
   "execution_count": 4,
   "metadata": {},
   "outputs": [
    {
     "data": {
      "text/plain": [
       "0"
      ]
     },
     "execution_count": 4,
     "metadata": {},
     "output_type": "execute_result"
    }
   ],
   "source": [
    "# Уточняем количество явных дубликатов\n",
    "df.duplicated().sum()"
   ]
  },
  {
   "cell_type": "code",
   "execution_count": 5,
   "metadata": {},
   "outputs": [
    {
     "data": {
      "text/html": [
       "<div>\n",
       "<style scoped>\n",
       "    .dataframe tbody tr th:only-of-type {\n",
       "        vertical-align: middle;\n",
       "    }\n",
       "\n",
       "    .dataframe tbody tr th {\n",
       "        vertical-align: top;\n",
       "    }\n",
       "\n",
       "    .dataframe thead th {\n",
       "        text-align: right;\n",
       "    }\n",
       "</style>\n",
       "<table border=\"1\" class=\"dataframe\">\n",
       "  <thead>\n",
       "    <tr style=\"text-align: right;\">\n",
       "      <th></th>\n",
       "      <th>total_images</th>\n",
       "      <th>last_price</th>\n",
       "      <th>total_area</th>\n",
       "      <th>rooms</th>\n",
       "      <th>ceiling_height</th>\n",
       "      <th>floors_total</th>\n",
       "      <th>living_area</th>\n",
       "      <th>floor</th>\n",
       "      <th>kitchen_area</th>\n",
       "      <th>balcony</th>\n",
       "      <th>airports_nearest</th>\n",
       "      <th>cityCenters_nearest</th>\n",
       "      <th>parks_around3000</th>\n",
       "      <th>parks_nearest</th>\n",
       "      <th>ponds_around3000</th>\n",
       "      <th>ponds_nearest</th>\n",
       "      <th>days_exposition</th>\n",
       "    </tr>\n",
       "  </thead>\n",
       "  <tbody>\n",
       "    <tr>\n",
       "      <th>count</th>\n",
       "      <td>23699.000000</td>\n",
       "      <td>2.369900e+04</td>\n",
       "      <td>23699.000000</td>\n",
       "      <td>23699.000000</td>\n",
       "      <td>14504.000000</td>\n",
       "      <td>23613.000000</td>\n",
       "      <td>21796.000000</td>\n",
       "      <td>23699.000000</td>\n",
       "      <td>21421.000000</td>\n",
       "      <td>12180.000000</td>\n",
       "      <td>18157.000000</td>\n",
       "      <td>18180.000000</td>\n",
       "      <td>18181.000000</td>\n",
       "      <td>8079.000000</td>\n",
       "      <td>18181.000000</td>\n",
       "      <td>9110.000000</td>\n",
       "      <td>20518.000000</td>\n",
       "    </tr>\n",
       "    <tr>\n",
       "      <th>mean</th>\n",
       "      <td>9.858475</td>\n",
       "      <td>6.541549e+06</td>\n",
       "      <td>60.348651</td>\n",
       "      <td>2.070636</td>\n",
       "      <td>2.771499</td>\n",
       "      <td>10.673824</td>\n",
       "      <td>34.457852</td>\n",
       "      <td>5.892358</td>\n",
       "      <td>10.569807</td>\n",
       "      <td>1.150082</td>\n",
       "      <td>28793.672193</td>\n",
       "      <td>14191.277833</td>\n",
       "      <td>0.611408</td>\n",
       "      <td>490.804555</td>\n",
       "      <td>0.770255</td>\n",
       "      <td>517.980900</td>\n",
       "      <td>180.888634</td>\n",
       "    </tr>\n",
       "    <tr>\n",
       "      <th>std</th>\n",
       "      <td>5.682529</td>\n",
       "      <td>1.088701e+07</td>\n",
       "      <td>35.654083</td>\n",
       "      <td>1.078405</td>\n",
       "      <td>1.261056</td>\n",
       "      <td>6.597173</td>\n",
       "      <td>22.030445</td>\n",
       "      <td>4.885249</td>\n",
       "      <td>5.905438</td>\n",
       "      <td>1.071300</td>\n",
       "      <td>12630.880622</td>\n",
       "      <td>8608.386210</td>\n",
       "      <td>0.802074</td>\n",
       "      <td>342.317995</td>\n",
       "      <td>0.938346</td>\n",
       "      <td>277.720643</td>\n",
       "      <td>219.727988</td>\n",
       "    </tr>\n",
       "    <tr>\n",
       "      <th>min</th>\n",
       "      <td>0.000000</td>\n",
       "      <td>1.219000e+04</td>\n",
       "      <td>12.000000</td>\n",
       "      <td>0.000000</td>\n",
       "      <td>1.000000</td>\n",
       "      <td>1.000000</td>\n",
       "      <td>2.000000</td>\n",
       "      <td>1.000000</td>\n",
       "      <td>1.300000</td>\n",
       "      <td>0.000000</td>\n",
       "      <td>0.000000</td>\n",
       "      <td>181.000000</td>\n",
       "      <td>0.000000</td>\n",
       "      <td>1.000000</td>\n",
       "      <td>0.000000</td>\n",
       "      <td>13.000000</td>\n",
       "      <td>1.000000</td>\n",
       "    </tr>\n",
       "    <tr>\n",
       "      <th>25%</th>\n",
       "      <td>6.000000</td>\n",
       "      <td>3.400000e+06</td>\n",
       "      <td>40.000000</td>\n",
       "      <td>1.000000</td>\n",
       "      <td>2.520000</td>\n",
       "      <td>5.000000</td>\n",
       "      <td>18.600000</td>\n",
       "      <td>2.000000</td>\n",
       "      <td>7.000000</td>\n",
       "      <td>0.000000</td>\n",
       "      <td>18585.000000</td>\n",
       "      <td>9238.000000</td>\n",
       "      <td>0.000000</td>\n",
       "      <td>288.000000</td>\n",
       "      <td>0.000000</td>\n",
       "      <td>294.000000</td>\n",
       "      <td>45.000000</td>\n",
       "    </tr>\n",
       "    <tr>\n",
       "      <th>50%</th>\n",
       "      <td>9.000000</td>\n",
       "      <td>4.650000e+06</td>\n",
       "      <td>52.000000</td>\n",
       "      <td>2.000000</td>\n",
       "      <td>2.650000</td>\n",
       "      <td>9.000000</td>\n",
       "      <td>30.000000</td>\n",
       "      <td>4.000000</td>\n",
       "      <td>9.100000</td>\n",
       "      <td>1.000000</td>\n",
       "      <td>26726.000000</td>\n",
       "      <td>13098.500000</td>\n",
       "      <td>0.000000</td>\n",
       "      <td>455.000000</td>\n",
       "      <td>1.000000</td>\n",
       "      <td>502.000000</td>\n",
       "      <td>95.000000</td>\n",
       "    </tr>\n",
       "    <tr>\n",
       "      <th>75%</th>\n",
       "      <td>14.000000</td>\n",
       "      <td>6.800000e+06</td>\n",
       "      <td>69.900000</td>\n",
       "      <td>3.000000</td>\n",
       "      <td>2.800000</td>\n",
       "      <td>16.000000</td>\n",
       "      <td>42.300000</td>\n",
       "      <td>8.000000</td>\n",
       "      <td>12.000000</td>\n",
       "      <td>2.000000</td>\n",
       "      <td>37273.000000</td>\n",
       "      <td>16293.000000</td>\n",
       "      <td>1.000000</td>\n",
       "      <td>612.000000</td>\n",
       "      <td>1.000000</td>\n",
       "      <td>729.000000</td>\n",
       "      <td>232.000000</td>\n",
       "    </tr>\n",
       "    <tr>\n",
       "      <th>max</th>\n",
       "      <td>50.000000</td>\n",
       "      <td>7.630000e+08</td>\n",
       "      <td>900.000000</td>\n",
       "      <td>19.000000</td>\n",
       "      <td>100.000000</td>\n",
       "      <td>60.000000</td>\n",
       "      <td>409.700000</td>\n",
       "      <td>33.000000</td>\n",
       "      <td>112.000000</td>\n",
       "      <td>5.000000</td>\n",
       "      <td>84869.000000</td>\n",
       "      <td>65968.000000</td>\n",
       "      <td>3.000000</td>\n",
       "      <td>3190.000000</td>\n",
       "      <td>3.000000</td>\n",
       "      <td>1344.000000</td>\n",
       "      <td>1580.000000</td>\n",
       "    </tr>\n",
       "  </tbody>\n",
       "</table>\n",
       "</div>"
      ],
      "text/plain": [
       "       total_images    last_price    total_area         rooms  ceiling_height  \\\n",
       "count  23699.000000  2.369900e+04  23699.000000  23699.000000    14504.000000   \n",
       "mean       9.858475  6.541549e+06     60.348651      2.070636        2.771499   \n",
       "std        5.682529  1.088701e+07     35.654083      1.078405        1.261056   \n",
       "min        0.000000  1.219000e+04     12.000000      0.000000        1.000000   \n",
       "25%        6.000000  3.400000e+06     40.000000      1.000000        2.520000   \n",
       "50%        9.000000  4.650000e+06     52.000000      2.000000        2.650000   \n",
       "75%       14.000000  6.800000e+06     69.900000      3.000000        2.800000   \n",
       "max       50.000000  7.630000e+08    900.000000     19.000000      100.000000   \n",
       "\n",
       "       floors_total   living_area         floor  kitchen_area       balcony  \\\n",
       "count  23613.000000  21796.000000  23699.000000  21421.000000  12180.000000   \n",
       "mean      10.673824     34.457852      5.892358     10.569807      1.150082   \n",
       "std        6.597173     22.030445      4.885249      5.905438      1.071300   \n",
       "min        1.000000      2.000000      1.000000      1.300000      0.000000   \n",
       "25%        5.000000     18.600000      2.000000      7.000000      0.000000   \n",
       "50%        9.000000     30.000000      4.000000      9.100000      1.000000   \n",
       "75%       16.000000     42.300000      8.000000     12.000000      2.000000   \n",
       "max       60.000000    409.700000     33.000000    112.000000      5.000000   \n",
       "\n",
       "       airports_nearest  cityCenters_nearest  parks_around3000  parks_nearest  \\\n",
       "count      18157.000000         18180.000000      18181.000000    8079.000000   \n",
       "mean       28793.672193         14191.277833          0.611408     490.804555   \n",
       "std        12630.880622          8608.386210          0.802074     342.317995   \n",
       "min            0.000000           181.000000          0.000000       1.000000   \n",
       "25%        18585.000000          9238.000000          0.000000     288.000000   \n",
       "50%        26726.000000         13098.500000          0.000000     455.000000   \n",
       "75%        37273.000000         16293.000000          1.000000     612.000000   \n",
       "max        84869.000000         65968.000000          3.000000    3190.000000   \n",
       "\n",
       "       ponds_around3000  ponds_nearest  days_exposition  \n",
       "count      18181.000000    9110.000000     20518.000000  \n",
       "mean           0.770255     517.980900       180.888634  \n",
       "std            0.938346     277.720643       219.727988  \n",
       "min            0.000000      13.000000         1.000000  \n",
       "25%            0.000000     294.000000        45.000000  \n",
       "50%            1.000000     502.000000        95.000000  \n",
       "75%            1.000000     729.000000       232.000000  \n",
       "max            3.000000    1344.000000      1580.000000  "
      ]
     },
     "execution_count": 5,
     "metadata": {},
     "output_type": "execute_result"
    }
   ],
   "source": [
    "# Посмотрим статистические характеристики данных\n",
    "df.describe()"
   ]
  },
  {
   "cell_type": "code",
   "execution_count": 6,
   "metadata": {},
   "outputs": [
    {
     "data": {
      "image/png": "[encoded data removed]",
      "text/plain": [
       "<Figure size 1080x1440 with 20 Axes>"
      ]
     },
     "metadata": {
      "needs_background": "light"
     },
     "output_type": "display_data"
    }
   ],
   "source": [
    "# Построим гистограммы\n",
    "df.hist(figsize=(15, 20));"
   ]
  },
  {
   "cell_type": "markdown",
   "metadata": {},
   "source": [
    "# Вывод:\n",
    "В данных 23699 записи в 22 столбцах. Для целого ряда столбцов присутствуют пропущенные значения и некорректный тип данных. \n",
    "3 столбца - с целочисленными данными (тип < int >), 14 столбцов - с числовыми данными типа < float >, \n",
    "3 столбца типа < object > и 2 столбца с булевым типом (тип < bool >). \n",
    "Разберём, какие в таблице столбцы и какую информацию содержат:\n",
    "\n",
    "airports_nearest — расстояние до ближайшего аэропорта в метрах (м)\n",
    "\n",
    "balcony — число балконов\n",
    "\n",
    "ceiling_height — высота потолков (м)\n",
    "\n",
    "cityCenters_nearest — расстояние до центра города (м)\n",
    "\n",
    "days_exposition — сколько дней было размещено объявление (от публикации до снятия)\n",
    "first_day_exposition — дата публикации\n",
    "\n",
    "floor — этаж\n",
    "\n",
    "floors_total — всего этажей в доме\n",
    "\n",
    "is_apartment — апартаменты (булев тип)\n",
    "\n",
    "kitchen_area — площадь кухни в квадратных метрах (м²)\n",
    "\n",
    "last_price — цена на момент снятия с публикации\n",
    "\n",
    "living_area — жилая площадь в квадратных метрах (м²)\n",
    "\n",
    "locality_name — название населённого пункта\n",
    "\n",
    "open_plan — свободная планировка (булев тип)\n",
    "\n",
    "parks_around3000 — число парков в радиусе 3 км\n",
    "\n",
    "parks_nearest — расстояние до ближайшего парка (м)\n",
    "\n",
    "ponds_around3000 — число водоёмов в радиусе 3 км\n",
    "\n",
    "ponds_nearest — расстояние до ближайшего водоёма (м)\n",
    "\n",
    "rooms — число комнат\n",
    "\n",
    "studio — квартира-студия (булев тип)\n",
    "\n",
    "total_area — общая площадь квартиры в квадратных метрах (м²)\n",
    "\n",
    "total_images — число фотографий квартиры в объявлении\n",
    "\n",
    "В столбцах floors_total, balcony, parks_around3000, ponds_around3000 и days_exposition тип данных должны быть целочисленными, \n",
    "is_apartment - булевым, а first_day_exposition - тип даты и времени.\n",
    "По гисторгаммам видно, что в данных есть аномальные значения. Явные дубликаты отсутствуют.\n",
    "Данных достаточно для исследования."
   ]
  },
  {
   "cell_type": "markdown",
   "metadata": {
    "id": "-O5NtivEAwb9"
   },
   "source": [
    "### Выполните предобработку данных"
   ]
  },
  {
   "cell_type": "code",
   "execution_count": 7,
   "metadata": {},
   "outputs": [
    {
     "data": {
      "text/plain": [
       "total_images                0\n",
       "last_price                  0\n",
       "total_area                  0\n",
       "first_day_exposition        0\n",
       "rooms                       0\n",
       "ceiling_height           9195\n",
       "floors_total               86\n",
       "living_area              1903\n",
       "floor                       0\n",
       "is_apartment            20924\n",
       "studio                      0\n",
       "open_plan                   0\n",
       "kitchen_area             2278\n",
       "balcony                 11519\n",
       "locality_name              49\n",
       "airports_nearest         5542\n",
       "cityCenters_nearest      5519\n",
       "parks_around3000         5518\n",
       "parks_nearest           15620\n",
       "ponds_around3000         5518\n",
       "ponds_nearest           14589\n",
       "days_exposition          3181\n",
       "dtype: int64"
      ]
     },
     "execution_count": 7,
     "metadata": {},
     "output_type": "execute_result"
    }
   ],
   "source": [
    "# Смотрим пропущенные значения\n",
    "df.isna().sum()"
   ]
  },
  {
   "cell_type": "code",
   "execution_count": 8,
   "metadata": {},
   "outputs": [],
   "source": [
    "# Измененим формат вывода даты и времени по столбцу first_day_exposition\n",
    "df['first_day_exposition'] = pd.to_datetime(df['first_day_exposition'], format='%Y-%m-%dT%H:%M:%S')"
   ]
  },
  {
   "cell_type": "code",
   "execution_count": 9,
   "metadata": {},
   "outputs": [],
   "source": [
    "# Поменяем в целочисленный тип стоимость квартиры\n",
    "df['last_price'] = df['last_price'].astype(int)"
   ]
  },
  {
   "cell_type": "code",
   "execution_count": 10,
   "metadata": {},
   "outputs": [],
   "source": [
    "# Поменяем наименование столбцов в однотипный формат\n",
    "df.rename(columns = {'cityCenters_nearest':'city_centers_nearest', 'parks_around3000':'parks_around_threekm', 'ponds_around3000':'ponds_around_threekm'}, inplace=True)"
   ]
  },
  {
   "cell_type": "code",
   "execution_count": 11,
   "metadata": {},
   "outputs": [
    {
     "data": {
      "text/plain": [
       "0.018018018018018018"
      ]
     },
     "execution_count": 11,
     "metadata": {},
     "output_type": "execute_result"
    }
   ],
   "source": [
    "# Посмотрим среднее значение\n",
    "df['is_apartment'].mean()"
   ]
  },
  {
   "cell_type": "code",
   "execution_count": 12,
   "metadata": {},
   "outputs": [
    {
     "data": {
      "text/html": [
       "<div>\n",
       "<style scoped>\n",
       "    .dataframe tbody tr th:only-of-type {\n",
       "        vertical-align: middle;\n",
       "    }\n",
       "\n",
       "    .dataframe tbody tr th {\n",
       "        vertical-align: top;\n",
       "    }\n",
       "\n",
       "    .dataframe thead th {\n",
       "        text-align: right;\n",
       "    }\n",
       "</style>\n",
       "<table border=\"1\" class=\"dataframe\">\n",
       "  <thead>\n",
       "    <tr style=\"text-align: right;\">\n",
       "      <th></th>\n",
       "      <th>is_apartment</th>\n",
       "      <th>rooms</th>\n",
       "    </tr>\n",
       "  </thead>\n",
       "  <tbody>\n",
       "    <tr>\n",
       "      <th>0</th>\n",
       "      <td>False</td>\n",
       "      <td>2725</td>\n",
       "    </tr>\n",
       "    <tr>\n",
       "      <th>1</th>\n",
       "      <td>True</td>\n",
       "      <td>50</td>\n",
       "    </tr>\n",
       "  </tbody>\n",
       "</table>\n",
       "</div>"
      ],
      "text/plain": [
       "   is_apartment  rooms\n",
       "0         False   2725\n",
       "1          True     50"
      ]
     },
     "execution_count": 12,
     "metadata": {},
     "output_type": "execute_result"
    }
   ],
   "source": [
    "# Посмотрим соотношение аппартаментов и не аппартаментов\n",
    "df.groupby('is_apartment', as_index=False).agg({'rooms':'count'})"
   ]
  },
  {
   "cell_type": "code",
   "execution_count": 13,
   "metadata": {},
   "outputs": [],
   "source": [
    "# Заменим пропущенные значения на Нет, так как - тут скорее всего указывают студию/не для продажи\n",
    "df['is_apartment'] = df['is_apartment'].fillna(value=False)\n",
    "df['is_apartment'] = df['is_apartment'].astype(bool)"
   ]
  },
  {
   "cell_type": "code",
   "execution_count": 14,
   "metadata": {},
   "outputs": [],
   "source": [
    "# Поменяем в целочисленный тип количество балконов. Заменим пропущенные значения на 0\n",
    "df['balcony'] = df['balcony'].fillna(value=0).astype(int)"
   ]
  },
  {
   "cell_type": "code",
   "execution_count": 15,
   "metadata": {},
   "outputs": [
    {
     "data": {
      "text/html": [
       "<div>\n",
       "<style scoped>\n",
       "    .dataframe tbody tr th:only-of-type {\n",
       "        vertical-align: middle;\n",
       "    }\n",
       "\n",
       "    .dataframe tbody tr th {\n",
       "        vertical-align: top;\n",
       "    }\n",
       "\n",
       "    .dataframe thead th {\n",
       "        text-align: right;\n",
       "    }\n",
       "</style>\n",
       "<table border=\"1\" class=\"dataframe\">\n",
       "  <thead>\n",
       "    <tr style=\"text-align: right;\">\n",
       "      <th></th>\n",
       "      <th>total_images</th>\n",
       "      <th>last_price</th>\n",
       "      <th>total_area</th>\n",
       "      <th>first_day_exposition</th>\n",
       "      <th>rooms</th>\n",
       "      <th>ceiling_height</th>\n",
       "      <th>floors_total</th>\n",
       "      <th>living_area</th>\n",
       "      <th>floor</th>\n",
       "      <th>is_apartment</th>\n",
       "      <th>...</th>\n",
       "      <th>kitchen_area</th>\n",
       "      <th>balcony</th>\n",
       "      <th>locality_name</th>\n",
       "      <th>airports_nearest</th>\n",
       "      <th>city_centers_nearest</th>\n",
       "      <th>parks_around_threekm</th>\n",
       "      <th>parks_nearest</th>\n",
       "      <th>ponds_around_threekm</th>\n",
       "      <th>ponds_nearest</th>\n",
       "      <th>days_exposition</th>\n",
       "    </tr>\n",
       "  </thead>\n",
       "  <tbody>\n",
       "    <tr>\n",
       "      <th>0</th>\n",
       "      <td>20</td>\n",
       "      <td>13000000</td>\n",
       "      <td>108.0</td>\n",
       "      <td>2019-03-07</td>\n",
       "      <td>3</td>\n",
       "      <td>2.70</td>\n",
       "      <td>16.0</td>\n",
       "      <td>51.0</td>\n",
       "      <td>8</td>\n",
       "      <td>False</td>\n",
       "      <td>...</td>\n",
       "      <td>25.0</td>\n",
       "      <td>0</td>\n",
       "      <td>Санкт-Петербург</td>\n",
       "      <td>18863.0</td>\n",
       "      <td>16028.0</td>\n",
       "      <td>1.0</td>\n",
       "      <td>482.0</td>\n",
       "      <td>2.0</td>\n",
       "      <td>755.0</td>\n",
       "      <td>NaN</td>\n",
       "    </tr>\n",
       "    <tr>\n",
       "      <th>1</th>\n",
       "      <td>7</td>\n",
       "      <td>3350000</td>\n",
       "      <td>40.4</td>\n",
       "      <td>2018-12-04</td>\n",
       "      <td>1</td>\n",
       "      <td>NaN</td>\n",
       "      <td>11.0</td>\n",
       "      <td>18.6</td>\n",
       "      <td>1</td>\n",
       "      <td>False</td>\n",
       "      <td>...</td>\n",
       "      <td>11.0</td>\n",
       "      <td>2</td>\n",
       "      <td>посёлок Шушары</td>\n",
       "      <td>12817.0</td>\n",
       "      <td>18603.0</td>\n",
       "      <td>0.0</td>\n",
       "      <td>NaN</td>\n",
       "      <td>0.0</td>\n",
       "      <td>NaN</td>\n",
       "      <td>81.0</td>\n",
       "    </tr>\n",
       "    <tr>\n",
       "      <th>2</th>\n",
       "      <td>10</td>\n",
       "      <td>5196000</td>\n",
       "      <td>56.0</td>\n",
       "      <td>2015-08-20</td>\n",
       "      <td>2</td>\n",
       "      <td>NaN</td>\n",
       "      <td>5.0</td>\n",
       "      <td>34.3</td>\n",
       "      <td>4</td>\n",
       "      <td>False</td>\n",
       "      <td>...</td>\n",
       "      <td>8.3</td>\n",
       "      <td>0</td>\n",
       "      <td>Санкт-Петербург</td>\n",
       "      <td>21741.0</td>\n",
       "      <td>13933.0</td>\n",
       "      <td>1.0</td>\n",
       "      <td>90.0</td>\n",
       "      <td>2.0</td>\n",
       "      <td>574.0</td>\n",
       "      <td>558.0</td>\n",
       "    </tr>\n",
       "    <tr>\n",
       "      <th>3</th>\n",
       "      <td>0</td>\n",
       "      <td>64900000</td>\n",
       "      <td>159.0</td>\n",
       "      <td>2015-07-24</td>\n",
       "      <td>3</td>\n",
       "      <td>NaN</td>\n",
       "      <td>14.0</td>\n",
       "      <td>NaN</td>\n",
       "      <td>9</td>\n",
       "      <td>False</td>\n",
       "      <td>...</td>\n",
       "      <td>NaN</td>\n",
       "      <td>0</td>\n",
       "      <td>Санкт-Петербург</td>\n",
       "      <td>28098.0</td>\n",
       "      <td>6800.0</td>\n",
       "      <td>2.0</td>\n",
       "      <td>84.0</td>\n",
       "      <td>3.0</td>\n",
       "      <td>234.0</td>\n",
       "      <td>424.0</td>\n",
       "    </tr>\n",
       "    <tr>\n",
       "      <th>4</th>\n",
       "      <td>2</td>\n",
       "      <td>10000000</td>\n",
       "      <td>100.0</td>\n",
       "      <td>2018-06-19</td>\n",
       "      <td>2</td>\n",
       "      <td>3.03</td>\n",
       "      <td>14.0</td>\n",
       "      <td>32.0</td>\n",
       "      <td>13</td>\n",
       "      <td>False</td>\n",
       "      <td>...</td>\n",
       "      <td>41.0</td>\n",
       "      <td>0</td>\n",
       "      <td>Санкт-Петербург</td>\n",
       "      <td>31856.0</td>\n",
       "      <td>8098.0</td>\n",
       "      <td>2.0</td>\n",
       "      <td>112.0</td>\n",
       "      <td>1.0</td>\n",
       "      <td>48.0</td>\n",
       "      <td>121.0</td>\n",
       "    </tr>\n",
       "  </tbody>\n",
       "</table>\n",
       "<p>5 rows × 22 columns</p>\n",
       "</div>"
      ],
      "text/plain": [
       "   total_images  last_price  total_area first_day_exposition  rooms  \\\n",
       "0            20    13000000       108.0           2019-03-07      3   \n",
       "1             7     3350000        40.4           2018-12-04      1   \n",
       "2            10     5196000        56.0           2015-08-20      2   \n",
       "3             0    64900000       159.0           2015-07-24      3   \n",
       "4             2    10000000       100.0           2018-06-19      2   \n",
       "\n",
       "   ceiling_height  floors_total  living_area  floor  is_apartment  ...  \\\n",
       "0            2.70          16.0         51.0      8         False  ...   \n",
       "1             NaN          11.0         18.6      1         False  ...   \n",
       "2             NaN           5.0         34.3      4         False  ...   \n",
       "3             NaN          14.0          NaN      9         False  ...   \n",
       "4            3.03          14.0         32.0     13         False  ...   \n",
       "\n",
       "   kitchen_area  balcony    locality_name  airports_nearest  \\\n",
       "0          25.0        0  Санкт-Петербург           18863.0   \n",
       "1          11.0        2   посёлок Шушары           12817.0   \n",
       "2           8.3        0  Санкт-Петербург           21741.0   \n",
       "3           NaN        0  Санкт-Петербург           28098.0   \n",
       "4          41.0        0  Санкт-Петербург           31856.0   \n",
       "\n",
       "  city_centers_nearest  parks_around_threekm  parks_nearest  \\\n",
       "0              16028.0                   1.0          482.0   \n",
       "1              18603.0                   0.0            NaN   \n",
       "2              13933.0                   1.0           90.0   \n",
       "3               6800.0                   2.0           84.0   \n",
       "4               8098.0                   2.0          112.0   \n",
       "\n",
       "   ponds_around_threekm  ponds_nearest  days_exposition  \n",
       "0                   2.0          755.0              NaN  \n",
       "1                   0.0            NaN             81.0  \n",
       "2                   2.0          574.0            558.0  \n",
       "3                   3.0          234.0            424.0  \n",
       "4                   1.0           48.0            121.0  \n",
       "\n",
       "[5 rows x 22 columns]"
      ]
     },
     "execution_count": 15,
     "metadata": {},
     "output_type": "execute_result"
    }
   ],
   "source": [
    "df.head()"
   ]
  },
  {
   "cell_type": "code",
   "execution_count": 16,
   "metadata": {},
   "outputs": [],
   "source": [
    "# Удаляем записи, где отсутствует локация и этажность\n",
    "df.dropna(subset=['locality_name'], inplace=True)\n",
    "df.dropna(subset=['floors_total'], inplace=True)"
   ]
  },
  {
   "cell_type": "code",
   "execution_count": 17,
   "metadata": {},
   "outputs": [],
   "source": [
    "# Заменим пустые значения высоты потолков на средние значение\n",
    "df['ceiling_height'] = df['ceiling_height'].fillna(df['ceiling_height'].mean())"
   ]
  },
  {
   "cell_type": "code",
   "execution_count": 18,
   "metadata": {},
   "outputs": [
    {
     "data": {
      "text/plain": [
       "22869    100.0\n",
       "3148      32.0\n",
       "22336     32.0\n",
       "21377     27.5\n",
       "20478     27.0\n",
       "10773     27.0\n",
       "4876      27.0\n",
       "22938     27.0\n",
       "21824     27.0\n",
       "5246      27.0\n",
       "Name: ceiling_height, dtype: float64"
      ]
     },
     "execution_count": 18,
     "metadata": {},
     "output_type": "execute_result"
    }
   ],
   "source": [
    "df['ceiling_height'].sort_values(ascending=False).head(10)"
   ]
  },
  {
   "cell_type": "code",
   "execution_count": 19,
   "metadata": {},
   "outputs": [],
   "source": [
    "df.loc[df['ceiling_height'] >= 20.0, 'ceiling_height'] = df['ceiling_height']/10"
   ]
  },
  {
   "cell_type": "code",
   "execution_count": 20,
   "metadata": {},
   "outputs": [],
   "source": [
    "# Приводим этажность к целочисленному типу\n",
    "df['floors_total'] = df['floors_total'].astype(int)"
   ]
  },
  {
   "cell_type": "code",
   "execution_count": 21,
   "metadata": {
    "id": "7v3vAeTuAwb-"
   },
   "outputs": [],
   "source": [
    "# Заменим пустые значения жилой площади, площади кухни и общей площади, приведем к целочисленному типу\n",
    "living_ratio = df['living_area'].mean() / df['total_area'].mean()\n",
    "kitchen_ratio = df['kitchen_area'].mean() / df['total_area'].mean()\n",
    "df['living_area'].fillna(living_ratio * df['total_area'], inplace=True)\n",
    "df['kitchen_area'].fillna(kitchen_ratio * df['total_area'], inplace=True)\n",
    "df['living_area'] = df['living_area'].astype(int)\n",
    "df['kitchen_area'] = df['kitchen_area'].astype(int)\n",
    "df['total_area'] = df['total_area'].astype(int)"
   ]
  },
  {
   "cell_type": "code",
   "execution_count": 22,
   "metadata": {},
   "outputs": [
    {
     "data": {
      "text/plain": [
       "array(['Санкт-Петербург', 'посёлок Шушары', 'городской посёлок Янино-1',\n",
       "       'посёлок Парголово', 'посёлок Мурино', 'Ломоносов', 'Сертолово',\n",
       "       'Петергоф', 'Пушкин', 'деревня Кудрово', 'Коммунар', 'Колпино',\n",
       "       'поселок городского типа Красный Бор', 'Гатчина', 'поселок Мурино',\n",
       "       'деревня Фёдоровское', 'Выборг', 'Кронштадт', 'Кировск',\n",
       "       'деревня Новое Девяткино', 'посёлок Металлострой',\n",
       "       'посёлок городского типа Лебяжье',\n",
       "       'посёлок городского типа Сиверский', 'поселок Молодцово',\n",
       "       'поселок городского типа Кузьмоловский',\n",
       "       'садовое товарищество Новая Ропша', 'Павловск',\n",
       "       'деревня Пикколово', 'Всеволожск', 'Волхов', 'Кингисепп',\n",
       "       'Приозерск', 'Сестрорецк', 'деревня Куттузи', 'посёлок Аннино',\n",
       "       'поселок городского типа Ефимовский', 'посёлок Плодовое',\n",
       "       'деревня Заклинье', 'поселок Торковичи', 'поселок Первомайское',\n",
       "       'Красное Село', 'посёлок Понтонный', 'Сясьстрой', 'деревня Старая',\n",
       "       'деревня Лесколово', 'посёлок Новый Свет', 'Сланцы',\n",
       "       'село Путилово', 'Ивангород', 'Мурино', 'Шлиссельбург',\n",
       "       'Никольское', 'Зеленогорск', 'Сосновый Бор', 'поселок Новый Свет',\n",
       "       'деревня Оржицы', 'деревня Кальтино', 'Кудрово',\n",
       "       'поселок Романовка', 'посёлок Бугры', 'поселок Бугры',\n",
       "       'поселок городского типа Рощино', 'Кириши', 'Луга', 'Волосово',\n",
       "       'Отрадное', 'село Павлово', 'поселок Оредеж', 'село Копорье',\n",
       "       'посёлок городского типа Красный Бор', 'посёлок Молодёжное',\n",
       "       'Тихвин', 'посёлок Победа', 'деревня Нурма',\n",
       "       'поселок городского типа Синявино', 'Тосно',\n",
       "       'посёлок городского типа Кузьмоловский', 'посёлок Стрельна',\n",
       "       'Бокситогорск', 'посёлок Александровская', 'деревня Лопухинка',\n",
       "       'Пикалёво', 'поселок Терволово',\n",
       "       'поселок городского типа Советский', 'Подпорожье',\n",
       "       'посёлок Петровское', 'посёлок городского типа Токсово',\n",
       "       'поселок Сельцо', 'посёлок городского типа Вырица',\n",
       "       'деревня Кипень', 'деревня Келози', 'деревня Вартемяги',\n",
       "       'посёлок Тельмана', 'поселок Севастьяново',\n",
       "       'городской поселок Большая Ижора', 'городской посёлок Павлово',\n",
       "       'деревня Агалатово', 'посёлок Новогорелово',\n",
       "       'городской посёлок Лесогорский', 'деревня Лаголово',\n",
       "       'поселок Цвелодубово', 'поселок городского типа Рахья',\n",
       "       'поселок городского типа Вырица', 'деревня Белогорка',\n",
       "       'поселок Заводской', 'городской посёлок Новоселье',\n",
       "       'деревня Большие Колпаны', 'деревня Горбунки', 'деревня Батово',\n",
       "       'деревня Заневка', 'деревня Иссад', 'Приморск',\n",
       "       'городской посёлок Фёдоровское', 'деревня Мистолово',\n",
       "       'Новая Ладога', 'поселок Зимитицы', 'поселок Барышево',\n",
       "       'деревня Разметелево', 'поселок городского типа имени Свердлова',\n",
       "       'деревня Пеники', 'поселок Рябово', 'деревня Пудомяги',\n",
       "       'поселок станции Корнево', 'деревня Низино', 'деревня Бегуницы',\n",
       "       'посёлок Поляны', 'городской посёлок Мга', 'поселок Елизаветино',\n",
       "       'посёлок городского типа Кузнечное', 'деревня Колтуши',\n",
       "       'поселок Запорожское', 'посёлок городского типа Рощино',\n",
       "       'деревня Гостилицы', 'деревня Малое Карлино',\n",
       "       'посёлок Мичуринское', 'посёлок городского типа имени Морозова',\n",
       "       'посёлок Песочный', 'посёлок Сосново', 'деревня Аро',\n",
       "       'поселок Ильичёво', 'посёлок городского типа Тайцы',\n",
       "       'деревня Малое Верево', 'деревня Извара', 'поселок станции Вещево',\n",
       "       'село Паша', 'деревня Калитино',\n",
       "       'посёлок городского типа Ульяновка', 'деревня Чудской Бор',\n",
       "       'поселок городского типа Дубровка', 'деревня Мины',\n",
       "       'поселок Войсковицы', 'посёлок городского типа имени Свердлова',\n",
       "       'деревня Коркино', 'посёлок Ропша',\n",
       "       'поселок городского типа Приладожский', 'посёлок Щеглово',\n",
       "       'посёлок Гаврилово', 'Лодейное Поле', 'деревня Рабитицы',\n",
       "       'поселок городского типа Никольский', 'деревня Кузьмолово',\n",
       "       'деревня Малые Колпаны', 'поселок Тельмана',\n",
       "       'посёлок Петро-Славянка', 'городской посёлок Назия',\n",
       "       'посёлок Репино', 'посёлок Ильичёво', 'поселок Углово',\n",
       "       'поселок Старая Малукса', 'садовое товарищество Рахья',\n",
       "       'поселок Аннино', 'поселок Победа', 'деревня Меньково',\n",
       "       'деревня Старые Бегуницы', 'посёлок Сапёрный', 'поселок Семрино',\n",
       "       'поселок Гаврилово', 'поселок Глажево', 'поселок Кобринское',\n",
       "       'деревня Гарболово', 'деревня Юкки',\n",
       "       'поселок станции Приветнинское', 'деревня Мануйлово',\n",
       "       'деревня Пчева', 'поселок Поляны', 'поселок Цвылёво',\n",
       "       'поселок Мельниково', 'посёлок Пудость', 'посёлок Усть-Луга',\n",
       "       'Светогорск', 'Любань', 'поселок Селезнёво',\n",
       "       'поселок городского типа Рябово', 'Каменногорск', 'деревня Кривко',\n",
       "       'поселок Глебычево', 'деревня Парицы', 'поселок Жилпосёлок',\n",
       "       'посёлок городского типа Мга', 'городской поселок Янино-1',\n",
       "       'посёлок Войскорово', 'село Никольское', 'посёлок Терволово',\n",
       "       'поселок Стеклянный', 'посёлок городского типа Важины',\n",
       "       'посёлок Мыза-Ивановка', 'село Русско-Высоцкое',\n",
       "       'поселок городского типа Лебяжье',\n",
       "       'поселок городского типа Форносово', 'село Старая Ладога',\n",
       "       'поселок Житково', 'городской посёлок Виллози', 'деревня Лампово',\n",
       "       'деревня Шпаньково', 'деревня Лаврики', 'посёлок Сумино',\n",
       "       'посёлок Возрождение', 'деревня Старосиверская',\n",
       "       'посёлок Кикерино', 'поселок Возрождение',\n",
       "       'деревня Старое Хинколово', 'посёлок Пригородный',\n",
       "       'посёлок Торфяное', 'городской посёлок Будогощь',\n",
       "       'поселок Суходолье', 'поселок Красная Долина', 'деревня Хапо-Ое',\n",
       "       'поселок городского типа Дружная Горка', 'поселок Лисий Нос',\n",
       "       'деревня Яльгелево', 'посёлок Стеклянный', 'село Рождествено',\n",
       "       'деревня Старополье', 'посёлок Левашово', 'деревня Сяськелево',\n",
       "       'деревня Камышовка',\n",
       "       'садоводческое некоммерческое товарищество Лесная Поляна',\n",
       "       'деревня Хязельки', 'поселок Жилгородок',\n",
       "       'посёлок городского типа Павлово', 'деревня Ялгино',\n",
       "       'поселок Новый Учхоз', 'городской посёлок Рощино',\n",
       "       'поселок Гончарово', 'поселок Почап', 'посёлок Сапёрное',\n",
       "       'посёлок Платформа 69-й километр', 'поселок Каложицы',\n",
       "       'деревня Фалилеево', 'деревня Пельгора',\n",
       "       'поселок городского типа Лесогорский', 'деревня Торошковичи',\n",
       "       'посёлок Белоостров', 'посёлок Алексеевка', 'поселок Серебрянский',\n",
       "       'поселок Лукаши', 'поселок Петровское', 'деревня Щеглово',\n",
       "       'поселок Мичуринское', 'деревня Тарасово', 'поселок Кингисеппский',\n",
       "       'посёлок при железнодорожной станции Вещево', 'поселок Ушаки',\n",
       "       'деревня Котлы', 'деревня Сижно', 'деревня Торосово',\n",
       "       'посёлок Форт Красная Горка', 'деревня Новолисино',\n",
       "       'посёлок станции Громово', 'деревня Глинка', 'посёлок Мельниково',\n",
       "       'поселок городского типа Назия', 'деревня Старая Пустошь',\n",
       "       'поселок Коммунары', 'поселок Починок',\n",
       "       'посёлок городского типа Вознесенье', 'деревня Разбегаево',\n",
       "       'посёлок городского типа Рябово', 'поселок Гладкое',\n",
       "       'посёлок при железнодорожной станции Приветнинское',\n",
       "       'поселок Тёсово-4', 'посёлок Жилгородок', 'деревня Бор',\n",
       "       'посёлок Коробицыно', 'деревня Большая Вруда', 'деревня Курковицы',\n",
       "       'посёлок Лисий Нос', 'городской посёлок Советский',\n",
       "       'посёлок Кобралово', 'деревня Суоранда', 'поселок Кобралово',\n",
       "       'поселок городского типа Кондратьево',\n",
       "       'коттеджный поселок Счастье', 'поселок Любань', 'деревня Реброво',\n",
       "       'деревня Зимитицы', 'деревня Тойворово', 'поселок Семиозерье',\n",
       "       'поселок Лесное', 'поселок Совхозный', 'поселок Усть-Луга',\n",
       "       'посёлок Ленинское', 'посёлок Суйда',\n",
       "       'посёлок городского типа Форносово', 'деревня Нижние Осельки',\n",
       "       'посёлок станции Свирь', 'поселок Перово', 'Высоцк',\n",
       "       'поселок Гарболово', 'село Шум', 'поселок Котельский',\n",
       "       'поселок станции Лужайка', 'деревня Большая Пустомержа',\n",
       "       'поселок Красносельское', 'деревня Вахнова Кара', 'деревня Пижма',\n",
       "       'коттеджный поселок Кивеннапа Север', 'поселок Коробицыно',\n",
       "       'поселок Ромашки', 'посёлок Перово', 'деревня Каськово',\n",
       "       'деревня Куровицы', 'посёлок Плоское', 'поселок Сумино',\n",
       "       'поселок городского типа Большая Ижора', 'поселок Кирпичное',\n",
       "       'деревня Ям-Тесово', 'деревня Раздолье', 'деревня Терпилицы',\n",
       "       'поселок городского типа Токсово', 'посёлок Шугозеро',\n",
       "       'деревня Ваганово', 'поселок Пушное', 'садовое товарищество Садко',\n",
       "       'посёлок Усть-Ижора', 'деревня Выскатка',\n",
       "       'городской посёлок Свирьстрой', 'поселок Громово',\n",
       "       'деревня Кисельня', 'посёлок Старая Малукса',\n",
       "       'деревня Трубников Бор', 'поселок Калитино',\n",
       "       'посёлок Высокоключевой', 'садовое товарищество Приладожский',\n",
       "       'посёлок Пансионат Зелёный Бор', 'деревня Ненимяки',\n",
       "       'поселок Пансионат Зелёный Бор', 'деревня Снегирёвка',\n",
       "       'деревня Рапполово', 'деревня Пустынка', 'поселок Рабитицы',\n",
       "       'деревня Большой Сабск', 'деревня Русско', 'деревня Лупполово',\n",
       "       'деревня Большое Рейзино', 'деревня Малая Романовка',\n",
       "       'поселок Дружноселье', 'поселок Пчевжа', 'поселок Володарское',\n",
       "       'деревня Нижняя', 'коттеджный посёлок Лесное', 'деревня Тихковицы',\n",
       "       'деревня Борисова Грива', 'посёлок Дзержинского'], dtype=object)"
      ]
     },
     "execution_count": 22,
     "metadata": {},
     "output_type": "execute_result"
    }
   ],
   "source": [
    "# Проверим столбец \"locality_name\" на предмет уникальных значений\n",
    "df['locality_name'].unique()"
   ]
  },
  {
   "cell_type": "code",
   "execution_count": 23,
   "metadata": {},
   "outputs": [
    {
     "data": {
      "text/plain": [
       "23201"
      ]
     },
     "execution_count": 23,
     "metadata": {},
     "output_type": "execute_result"
    }
   ],
   "source": [
    "# Приведём значения к нижнему регистру для избавления от дубликатов\n",
    "df['locality_name'] = df['locality_name'].str.lower()\n",
    "df['locality_name'].duplicated().sum()"
   ]
  },
  {
   "cell_type": "code",
   "execution_count": 24,
   "metadata": {},
   "outputs": [
    {
     "data": {
      "text/plain": [
       "array(['санкт-петербург', 'посёлок шушары', 'городской посёлок янино-1',\n",
       "       'посёлок парголово', 'посёлок мурино', 'ломоносов', 'сертолово',\n",
       "       'петергоф', 'пушкин', 'деревня кудрово', 'коммунар', 'колпино',\n",
       "       'посёлок городского типа красный бор', 'гатчина',\n",
       "       'деревня фёдоровское', 'выборг', 'кронштадт', 'кировск',\n",
       "       'деревня новое девяткино', 'посёлок металлострой',\n",
       "       'посёлок городского типа лебяжье',\n",
       "       'посёлок городского типа сиверский', 'посёлок молодцово',\n",
       "       'посёлок городского типа кузьмоловский',\n",
       "       'садовое товарищество новая ропша', 'павловск',\n",
       "       'деревня пикколово', 'всеволожск', 'волхов', 'кингисепп',\n",
       "       'приозерск', 'сестрорецк', 'деревня куттузи', 'посёлок аннино',\n",
       "       'посёлок городского типа ефимовский', 'посёлок плодовое',\n",
       "       'деревня заклинье', 'посёлок торковичи', 'посёлок первомайское',\n",
       "       'красное село', 'посёлок понтонный', 'сясьстрой', 'деревня старая',\n",
       "       'деревня лесколово', 'посёлок новый свет', 'сланцы',\n",
       "       'село путилово', 'ивангород', 'мурино', 'шлиссельбург',\n",
       "       'никольское', 'зеленогорск', 'сосновый бор', 'деревня оржицы',\n",
       "       'деревня кальтино', 'кудрово', 'посёлок романовка',\n",
       "       'посёлок бугры', 'посёлок городского типа рощино', 'кириши',\n",
       "       'луга', 'волосово', 'отрадное', 'село павлово', 'посёлок оредеж',\n",
       "       'село копорье', 'посёлок молодёжное', 'тихвин', 'посёлок победа',\n",
       "       'деревня нурма', 'посёлок городского типа синявино', 'тосно',\n",
       "       'посёлок стрельна', 'бокситогорск', 'посёлок александровская',\n",
       "       'деревня лопухинка', 'пикалёво', 'посёлок терволово',\n",
       "       'посёлок городского типа советский', 'подпорожье',\n",
       "       'посёлок петровское', 'посёлок городского типа токсово',\n",
       "       'посёлок сельцо', 'посёлок городского типа вырица',\n",
       "       'деревня кипень', 'деревня келози', 'деревня вартемяги',\n",
       "       'посёлок тельмана', 'посёлок севастьяново',\n",
       "       'городской посёлок большая ижора', 'городской посёлок павлово',\n",
       "       'деревня агалатово', 'посёлок новогорелово',\n",
       "       'городской посёлок лесогорский', 'деревня лаголово',\n",
       "       'посёлок цвелодубово', 'посёлок городского типа рахья',\n",
       "       'деревня белогорка', 'посёлок заводской',\n",
       "       'городской посёлок новоселье', 'деревня большие колпаны',\n",
       "       'деревня горбунки', 'деревня батово', 'деревня заневка',\n",
       "       'деревня иссад', 'приморск', 'городской посёлок фёдоровское',\n",
       "       'деревня мистолово', 'новая ладога', 'посёлок зимитицы',\n",
       "       'посёлок барышево', 'деревня разметелево',\n",
       "       'посёлок городского типа имени свердлова', 'деревня пеники',\n",
       "       'посёлок рябово', 'деревня пудомяги', 'посёлок станции корнево',\n",
       "       'деревня низино', 'деревня бегуницы', 'посёлок поляны',\n",
       "       'городской посёлок мга', 'посёлок елизаветино',\n",
       "       'посёлок городского типа кузнечное', 'деревня колтуши',\n",
       "       'посёлок запорожское', 'деревня гостилицы',\n",
       "       'деревня малое карлино', 'посёлок мичуринское',\n",
       "       'посёлок городского типа имени морозова', 'посёлок песочный',\n",
       "       'посёлок сосново', 'деревня аро', 'посёлок ильичёво',\n",
       "       'посёлок городского типа тайцы', 'деревня малое верево',\n",
       "       'деревня извара', 'посёлок станции вещево', 'село паша',\n",
       "       'деревня калитино', 'посёлок городского типа ульяновка',\n",
       "       'деревня чудской бор', 'посёлок городского типа дубровка',\n",
       "       'деревня мины', 'посёлок войсковицы', 'деревня коркино',\n",
       "       'посёлок ропша', 'посёлок городского типа приладожский',\n",
       "       'посёлок щеглово', 'посёлок гаврилово', 'лодейное поле',\n",
       "       'деревня рабитицы', 'посёлок городского типа никольский',\n",
       "       'деревня кузьмолово', 'деревня малые колпаны',\n",
       "       'посёлок петро-славянка', 'городской посёлок назия',\n",
       "       'посёлок репино', 'посёлок углово', 'посёлок старая малукса',\n",
       "       'садовое товарищество рахья', 'деревня меньково',\n",
       "       'деревня старые бегуницы', 'посёлок сапёрный', 'посёлок семрино',\n",
       "       'посёлок глажево', 'посёлок кобринское', 'деревня гарболово',\n",
       "       'деревня юкки', 'посёлок станции приветнинское',\n",
       "       'деревня мануйлово', 'деревня пчева', 'посёлок цвылёво',\n",
       "       'посёлок мельниково', 'посёлок пудость', 'посёлок усть-луга',\n",
       "       'светогорск', 'любань', 'посёлок селезнёво',\n",
       "       'посёлок городского типа рябово', 'каменногорск', 'деревня кривко',\n",
       "       'посёлок глебычево', 'деревня парицы', 'посёлок жилпосёлок',\n",
       "       'посёлок городского типа мга', 'посёлок войскорово',\n",
       "       'село никольское', 'посёлок стеклянный',\n",
       "       'посёлок городского типа важины', 'посёлок мыза-ивановка',\n",
       "       'село русско-высоцкое', 'посёлок городского типа форносово',\n",
       "       'село старая ладога', 'посёлок житково',\n",
       "       'городской посёлок виллози', 'деревня лампово',\n",
       "       'деревня шпаньково', 'деревня лаврики', 'посёлок сумино',\n",
       "       'посёлок возрождение', 'деревня старосиверская',\n",
       "       'посёлок кикерино', 'деревня старое хинколово',\n",
       "       'посёлок пригородный', 'посёлок торфяное',\n",
       "       'городской посёлок будогощь', 'посёлок суходолье',\n",
       "       'посёлок красная долина', 'деревня хапо-ое',\n",
       "       'посёлок городского типа дружная горка', 'посёлок лисий нос',\n",
       "       'деревня яльгелево', 'село рождествено', 'деревня старополье',\n",
       "       'посёлок левашово', 'деревня сяськелево', 'деревня камышовка',\n",
       "       'садоводческое некоммерческое товарищество лесная поляна',\n",
       "       'деревня хязельки', 'посёлок жилгородок',\n",
       "       'посёлок городского типа павлово', 'деревня ялгино',\n",
       "       'посёлок новый учхоз', 'городской посёлок рощино',\n",
       "       'посёлок гончарово', 'посёлок почап', 'посёлок сапёрное',\n",
       "       'посёлок платформа 69-й километр', 'посёлок каложицы',\n",
       "       'деревня фалилеево', 'деревня пельгора',\n",
       "       'посёлок городского типа лесогорский', 'деревня торошковичи',\n",
       "       'посёлок белоостров', 'посёлок алексеевка', 'посёлок серебрянский',\n",
       "       'посёлок лукаши', 'деревня щеглово', 'деревня тарасово',\n",
       "       'посёлок кингисеппский',\n",
       "       'посёлок при железнодорожной станции вещево', 'посёлок ушаки',\n",
       "       'деревня котлы', 'деревня сижно', 'деревня торосово',\n",
       "       'посёлок форт красная горка', 'деревня новолисино',\n",
       "       'посёлок станции громово', 'деревня глинка',\n",
       "       'посёлок городского типа назия', 'деревня старая пустошь',\n",
       "       'посёлок коммунары', 'посёлок починок',\n",
       "       'посёлок городского типа вознесенье', 'деревня разбегаево',\n",
       "       'посёлок гладкое',\n",
       "       'посёлок при железнодорожной станции приветнинское',\n",
       "       'посёлок тёсово-4', 'деревня бор', 'посёлок коробицыно',\n",
       "       'деревня большая вруда', 'деревня курковицы',\n",
       "       'городской посёлок советский', 'посёлок кобралово',\n",
       "       'деревня суоранда', 'посёлок городского типа кондратьево',\n",
       "       'коттеджный посёлок счастье', 'посёлок любань', 'деревня реброво',\n",
       "       'деревня зимитицы', 'деревня тойворово', 'посёлок семиозерье',\n",
       "       'посёлок лесное', 'посёлок совхозный', 'посёлок ленинское',\n",
       "       'посёлок суйда', 'деревня нижние осельки', 'посёлок станции свирь',\n",
       "       'посёлок перово', 'высоцк', 'посёлок гарболово', 'село шум',\n",
       "       'посёлок котельский', 'посёлок станции лужайка',\n",
       "       'деревня большая пустомержа', 'посёлок красносельское',\n",
       "       'деревня вахнова кара', 'деревня пижма',\n",
       "       'коттеджный посёлок кивеннапа север', 'посёлок ромашки',\n",
       "       'деревня каськово', 'деревня куровицы', 'посёлок плоское',\n",
       "       'посёлок городского типа большая ижора', 'посёлок кирпичное',\n",
       "       'деревня ям-тесово', 'деревня раздолье', 'деревня терпилицы',\n",
       "       'посёлок шугозеро', 'деревня ваганово', 'посёлок пушное',\n",
       "       'садовое товарищество садко', 'посёлок усть-ижора',\n",
       "       'деревня выскатка', 'городской посёлок свирьстрой',\n",
       "       'посёлок громово', 'деревня кисельня', 'деревня трубников бор',\n",
       "       'посёлок калитино', 'посёлок высокоключевой',\n",
       "       'садовое товарищество приладожский',\n",
       "       'посёлок пансионат зелёный бор', 'деревня ненимяки',\n",
       "       'деревня снегирёвка', 'деревня рапполово', 'деревня пустынка',\n",
       "       'посёлок рабитицы', 'деревня большой сабск', 'деревня русско',\n",
       "       'деревня лупполово', 'деревня большое рейзино',\n",
       "       'деревня малая романовка', 'посёлок дружноселье', 'посёлок пчевжа',\n",
       "       'посёлок володарское', 'деревня нижняя',\n",
       "       'коттеджный посёлок лесное', 'деревня тихковицы',\n",
       "       'деревня борисова грива', 'посёлок дзержинского'], dtype=object)"
      ]
     },
     "execution_count": 24,
     "metadata": {},
     "output_type": "execute_result"
    }
   ],
   "source": [
    "# Избавимся от дубликатов и заменим поселок на посёлок\n",
    "df['locality_name'] = df['locality_name'].str.replace('поселок','посёлок')\n",
    "df['locality_name'].unique()"
   ]
  },
  {
   "cell_type": "code",
   "execution_count": 25,
   "metadata": {},
   "outputs": [
    {
     "data": {
      "text/plain": [
       "0        18863.0\n",
       "1        12817.0\n",
       "2        21741.0\n",
       "3        28098.0\n",
       "4        31856.0\n",
       "          ...   \n",
       "23694    24665.0\n",
       "23695        NaN\n",
       "23696        NaN\n",
       "23697    39140.0\n",
       "23698        NaN\n",
       "Name: airports_nearest, Length: 23565, dtype: float64"
      ]
     },
     "execution_count": 25,
     "metadata": {},
     "output_type": "execute_result"
    }
   ],
   "source": [
    "# расстояние до ближайшего аэропорта (м)\n",
    "df['airports_nearest'].round(2)"
   ]
  },
  {
   "cell_type": "markdown",
   "metadata": {},
   "source": [
    "Скорее всего незаполненные пропуски указывают, что аэропорта либо нет в данном городе, либо он находится далеко.\n",
    "Оставим как есть."
   ]
  },
  {
   "cell_type": "code",
   "execution_count": 26,
   "metadata": {},
   "outputs": [
    {
     "data": {
      "text/plain": [
       "0        16028.0\n",
       "1        18603.0\n",
       "2        13933.0\n",
       "3         6800.0\n",
       "4         8098.0\n",
       "          ...   \n",
       "23694     4232.0\n",
       "23695        NaN\n",
       "23696        NaN\n",
       "23697    10364.0\n",
       "23698        NaN\n",
       "Name: city_centers_nearest, Length: 23565, dtype: float64"
      ]
     },
     "execution_count": 26,
     "metadata": {},
     "output_type": "execute_result"
    }
   ],
   "source": [
    "# расстояние до центра города (м)\n",
    "df['city_centers_nearest'].round(2)"
   ]
  },
  {
   "cell_type": "markdown",
   "metadata": {},
   "source": [
    "Тут тоже скорее всего незаполненные пропуски указывают, что объект продажи находится за чертой города.\n",
    "Оставим как есть."
   ]
  },
  {
   "cell_type": "code",
   "execution_count": 27,
   "metadata": {},
   "outputs": [
    {
     "data": {
      "text/plain": [
       "0        1.0\n",
       "1        0.0\n",
       "2        1.0\n",
       "3        2.0\n",
       "4        2.0\n",
       "        ... \n",
       "23694    1.0\n",
       "23695    NaN\n",
       "23696    NaN\n",
       "23697    2.0\n",
       "23698    NaN\n",
       "Name: parks_around_threekm, Length: 23565, dtype: float64"
      ]
     },
     "execution_count": 27,
     "metadata": {},
     "output_type": "execute_result"
    }
   ],
   "source": [
    "# количество парков в радиусе 3 км\n",
    "df['parks_around_threekm'].round(1)"
   ]
  },
  {
   "cell_type": "markdown",
   "metadata": {},
   "source": [
    "В основном парки указаны.\n",
    "Незаполненные пропуски скорее всего указывают, что парков в радиусе 3км нет.\n",
    "Оставим как есть."
   ]
  },
  {
   "cell_type": "markdown",
   "metadata": {},
   "source": [
    "поправил"
   ]
  },
  {
   "cell_type": "code",
   "execution_count": 28,
   "metadata": {},
   "outputs": [],
   "source": [
    "# Поменяем в целочисленный тип количество парков. Заменим пропущенные значения на 0\n",
    "df['parks_around_threekm'] = df['parks_around_threekm'].fillna(value=0).astype(int)"
   ]
  },
  {
   "cell_type": "code",
   "execution_count": 29,
   "metadata": {},
   "outputs": [
    {
     "data": {
      "text/plain": [
       "0        2.0\n",
       "1        0.0\n",
       "2        2.0\n",
       "3        3.0\n",
       "4        1.0\n",
       "        ... \n",
       "23694    3.0\n",
       "23695    NaN\n",
       "23696    NaN\n",
       "23697    3.0\n",
       "23698    NaN\n",
       "Name: ponds_around_threekm, Length: 23565, dtype: float64"
      ]
     },
     "execution_count": 29,
     "metadata": {},
     "output_type": "execute_result"
    }
   ],
   "source": [
    "# количество водоемов в радиусе 3 км\n",
    "df['ponds_around_threekm'].round(2)"
   ]
  },
  {
   "cell_type": "markdown",
   "metadata": {},
   "source": [
    "Тут тоже скорее всего, указывают, что в основном объект продажи находится недалеко от водоема, а незаполненные пропуски скорее всего указывают, что водоемов в радиусе 3км нет.\n",
    "Оставим как есть."
   ]
  },
  {
   "cell_type": "code",
   "execution_count": 30,
   "metadata": {},
   "outputs": [],
   "source": [
    "# Поменяем в целочисленный тип количество прудов. Заменим пропущенные значения на 0\n",
    "df['ponds_around_threekm'] = df['ponds_around_threekm'].fillna(value=0).astype(int)"
   ]
  },
  {
   "cell_type": "code",
   "execution_count": 31,
   "metadata": {},
   "outputs": [
    {
     "data": {
      "text/plain": [
       "total_images                0\n",
       "last_price                  0\n",
       "total_area                  0\n",
       "first_day_exposition        0\n",
       "rooms                       0\n",
       "ceiling_height              0\n",
       "floors_total                0\n",
       "living_area                 0\n",
       "floor                       0\n",
       "is_apartment                0\n",
       "studio                      0\n",
       "open_plan                   0\n",
       "kitchen_area                0\n",
       "balcony                     0\n",
       "locality_name               0\n",
       "airports_nearest         5524\n",
       "city_centers_nearest     5501\n",
       "parks_around_threekm        0\n",
       "parks_nearest           15535\n",
       "ponds_around_threekm        0\n",
       "ponds_nearest           14529\n",
       "days_exposition          3171\n",
       "dtype: int64"
      ]
     },
     "execution_count": 31,
     "metadata": {},
     "output_type": "execute_result"
    }
   ],
   "source": [
    "# Смотрим пропущенные значения\n",
    "df.isna().sum()"
   ]
  },
  {
   "cell_type": "code",
   "execution_count": 32,
   "metadata": {},
   "outputs": [
    {
     "name": "stdout",
     "output_type": "stream",
     "text": [
      "<class 'pandas.core.frame.DataFrame'>\n",
      "Int64Index: 23565 entries, 0 to 23698\n",
      "Data columns (total 22 columns):\n",
      " #   Column                Non-Null Count  Dtype         \n",
      "---  ------                --------------  -----         \n",
      " 0   total_images          23565 non-null  int64         \n",
      " 1   last_price            23565 non-null  int64         \n",
      " 2   total_area            23565 non-null  int64         \n",
      " 3   first_day_exposition  23565 non-null  datetime64[ns]\n",
      " 4   rooms                 23565 non-null  int64         \n",
      " 5   ceiling_height        23565 non-null  float64       \n",
      " 6   floors_total          23565 non-null  int64         \n",
      " 7   living_area           23565 non-null  int64         \n",
      " 8   floor                 23565 non-null  int64         \n",
      " 9   is_apartment          23565 non-null  bool          \n",
      " 10  studio                23565 non-null  bool          \n",
      " 11  open_plan             23565 non-null  bool          \n",
      " 12  kitchen_area          23565 non-null  int64         \n",
      " 13  balcony               23565 non-null  int64         \n",
      " 14  locality_name         23565 non-null  object        \n",
      " 15  airports_nearest      18041 non-null  float64       \n",
      " 16  city_centers_nearest  18064 non-null  float64       \n",
      " 17  parks_around_threekm  23565 non-null  int64         \n",
      " 18  parks_nearest         8030 non-null   float64       \n",
      " 19  ponds_around_threekm  23565 non-null  int64         \n",
      " 20  ponds_nearest         9036 non-null   float64       \n",
      " 21  days_exposition       20394 non-null  float64       \n",
      "dtypes: bool(3), datetime64[ns](1), float64(6), int64(11), object(1)\n",
      "memory usage: 4.2+ MB\n"
     ]
    }
   ],
   "source": [
    "df.info()"
   ]
  },
  {
   "cell_type": "markdown",
   "metadata": {},
   "source": [
    "#### Вывод:\n",
    "\n",
    "В процессе предобработки данных:\n",
    "изменен формат даты на более удобный, в столбцах установлен корректный тип данных, устранены неявные дубликаты в названиях населенного пункта. \n",
    "Уменьшено количество пропусков в таблице. \n",
    "Возможные причины ввода некорректных данных: человеческий фактор (из за невнимательности забыл сохранить/добавить/перенести, а может просто скрыл информацию), возможно произошел сбой в программе или сломалась техника."
   ]
  },
  {
   "cell_type": "markdown",
   "metadata": {},
   "source": [
    "### Добавляем столбцы в таблицу"
   ]
  },
  {
   "cell_type": "code",
   "execution_count": 33,
   "metadata": {},
   "outputs": [],
   "source": [
    "# Добавляем столбец со стоимостью квадратного метра (square_meter_price) и приводим его в целочисленный тип\n",
    "df['square_meter_price'] = df['last_price'] / df['total_area']\n",
    "df['square_meter_price'] = df['square_meter_price'].astype(int)"
   ]
  },
  {
   "cell_type": "code",
   "execution_count": 34,
   "metadata": {},
   "outputs": [
    {
     "data": {
      "text/plain": [
       "99856.8"
      ]
     },
     "execution_count": 34,
     "metadata": {},
     "output_type": "execute_result"
    }
   ],
   "source": [
    "# Посмотрим результат\n",
    "df['square_meter_price'].mean().round(1)"
   ]
  },
  {
   "cell_type": "code",
   "execution_count": 35,
   "metadata": {
    "id": "Z8eJek3IAwb-"
   },
   "outputs": [],
   "source": [
    "# Добавляем столбец с соотношением жилой площади к общей в % (ratio_area) и приводим его в целочисленный тип\n",
    "df['ratio_area'] = df['living_area'] / df['total_area'] * 100\n",
    "df['ratio_area'] = df['ratio_area'].fillna(value=0).astype(int)"
   ]
  },
  {
   "cell_type": "code",
   "execution_count": 36,
   "metadata": {},
   "outputs": [
    {
     "data": {
      "text/plain": [
       "55.8"
      ]
     },
     "execution_count": 36,
     "metadata": {},
     "output_type": "execute_result"
    }
   ],
   "source": [
    "# Посмотрим результат\n",
    "df['ratio_area'].mean().round(1)"
   ]
  },
  {
   "cell_type": "code",
   "execution_count": 37,
   "metadata": {},
   "outputs": [],
   "source": [
    "# Добавляем столбцы дня недели, месяца и года\n",
    "df['weekday'] = df['first_day_exposition'].dt.weekday\n",
    "df['month'] = df['first_day_exposition'].dt.month\n",
    "df['year'] = df['first_day_exposition'].dt.year"
   ]
  },
  {
   "cell_type": "code",
   "execution_count": 38,
   "metadata": {},
   "outputs": [],
   "source": [
    "# Добавляем столбец с соотношением площади кухни к общей (kitchen_ratio), переводим в % и приводим его в целочисленный тип\n",
    "df['kitchen_ratio'] = df['kitchen_area'] / df['total_area'] * 100\n",
    "df['kitchen_ratio'] = df['kitchen_ratio'].fillna(value=0).astype(int)"
   ]
  },
  {
   "cell_type": "code",
   "execution_count": 39,
   "metadata": {},
   "outputs": [],
   "source": [
    "# Добавляем функцию для заполнения нового столбца с типом этажа\n",
    "def floor_group(row):\n",
    "    if row['floor'] == 1:\n",
    "        return 'первый'\n",
    "    elif row['floor'] == row['floors_total']:\n",
    "        return 'последний'\n",
    "    else:\n",
    "        return 'другой'\n",
    "df['floor_type'] = df.apply(floor_group, axis=1)"
   ]
  },
  {
   "cell_type": "code",
   "execution_count": 40,
   "metadata": {},
   "outputs": [
    {
     "data": {
      "text/plain": [
       "другой       17326\n",
       "последний     3330\n",
       "первый        2909\n",
       "Name: floor_type, dtype: int64"
      ]
     },
     "execution_count": 40,
     "metadata": {},
     "output_type": "execute_result"
    }
   ],
   "source": [
    "# Посмотрим предпочтения по этажам\n",
    "df['floor_type'].value_counts()"
   ]
  },
  {
   "cell_type": "code",
   "execution_count": 41,
   "metadata": {},
   "outputs": [
    {
     "name": "stdout",
     "output_type": "stream",
     "text": [
      "distance_city_center ok\n"
     ]
    }
   ],
   "source": [
    "# Расстояние до центра города в км\n",
    "df['distance_city_center'] = round(df['city_centers_nearest'] / 1000)\n",
    "try:\n",
    "    df['distance_city_center'] =  df['distance_city_center'].astype('Int32')\n",
    "    print('distance_city_center ok')\n",
    "except:\n",
    "    print('city_centers_nearest_km Int32 type conversion fail')"
   ]
  },
  {
   "cell_type": "code",
   "execution_count": 42,
   "metadata": {},
   "outputs": [
    {
     "data": {
      "text/html": [
       "<div>\n",
       "<style scoped>\n",
       "    .dataframe tbody tr th:only-of-type {\n",
       "        vertical-align: middle;\n",
       "    }\n",
       "\n",
       "    .dataframe tbody tr th {\n",
       "        vertical-align: top;\n",
       "    }\n",
       "\n",
       "    .dataframe thead th {\n",
       "        text-align: right;\n",
       "    }\n",
       "</style>\n",
       "<table border=\"1\" class=\"dataframe\">\n",
       "  <thead>\n",
       "    <tr style=\"text-align: right;\">\n",
       "      <th></th>\n",
       "      <th>total_images</th>\n",
       "      <th>last_price</th>\n",
       "      <th>total_area</th>\n",
       "      <th>first_day_exposition</th>\n",
       "      <th>rooms</th>\n",
       "      <th>ceiling_height</th>\n",
       "      <th>floors_total</th>\n",
       "      <th>living_area</th>\n",
       "      <th>floor</th>\n",
       "      <th>is_apartment</th>\n",
       "      <th>...</th>\n",
       "      <th>ponds_nearest</th>\n",
       "      <th>days_exposition</th>\n",
       "      <th>square_meter_price</th>\n",
       "      <th>ratio_area</th>\n",
       "      <th>weekday</th>\n",
       "      <th>month</th>\n",
       "      <th>year</th>\n",
       "      <th>kitchen_ratio</th>\n",
       "      <th>floor_type</th>\n",
       "      <th>distance_city_center</th>\n",
       "    </tr>\n",
       "  </thead>\n",
       "  <tbody>\n",
       "    <tr>\n",
       "      <th>0</th>\n",
       "      <td>20</td>\n",
       "      <td>13000000</td>\n",
       "      <td>108</td>\n",
       "      <td>2019-03-07</td>\n",
       "      <td>3</td>\n",
       "      <td>2.700000</td>\n",
       "      <td>16</td>\n",
       "      <td>51</td>\n",
       "      <td>8</td>\n",
       "      <td>False</td>\n",
       "      <td>...</td>\n",
       "      <td>755.0</td>\n",
       "      <td>NaN</td>\n",
       "      <td>120370</td>\n",
       "      <td>47</td>\n",
       "      <td>3</td>\n",
       "      <td>3</td>\n",
       "      <td>2019</td>\n",
       "      <td>23</td>\n",
       "      <td>другой</td>\n",
       "      <td>16</td>\n",
       "    </tr>\n",
       "    <tr>\n",
       "      <th>1</th>\n",
       "      <td>7</td>\n",
       "      <td>3350000</td>\n",
       "      <td>40</td>\n",
       "      <td>2018-12-04</td>\n",
       "      <td>1</td>\n",
       "      <td>2.771283</td>\n",
       "      <td>11</td>\n",
       "      <td>18</td>\n",
       "      <td>1</td>\n",
       "      <td>False</td>\n",
       "      <td>...</td>\n",
       "      <td>NaN</td>\n",
       "      <td>81.0</td>\n",
       "      <td>83750</td>\n",
       "      <td>45</td>\n",
       "      <td>1</td>\n",
       "      <td>12</td>\n",
       "      <td>2018</td>\n",
       "      <td>27</td>\n",
       "      <td>первый</td>\n",
       "      <td>19</td>\n",
       "    </tr>\n",
       "    <tr>\n",
       "      <th>2</th>\n",
       "      <td>10</td>\n",
       "      <td>5196000</td>\n",
       "      <td>56</td>\n",
       "      <td>2015-08-20</td>\n",
       "      <td>2</td>\n",
       "      <td>2.771283</td>\n",
       "      <td>5</td>\n",
       "      <td>34</td>\n",
       "      <td>4</td>\n",
       "      <td>False</td>\n",
       "      <td>...</td>\n",
       "      <td>574.0</td>\n",
       "      <td>558.0</td>\n",
       "      <td>92785</td>\n",
       "      <td>60</td>\n",
       "      <td>3</td>\n",
       "      <td>8</td>\n",
       "      <td>2015</td>\n",
       "      <td>14</td>\n",
       "      <td>другой</td>\n",
       "      <td>14</td>\n",
       "    </tr>\n",
       "    <tr>\n",
       "      <th>3</th>\n",
       "      <td>0</td>\n",
       "      <td>64900000</td>\n",
       "      <td>159</td>\n",
       "      <td>2015-07-24</td>\n",
       "      <td>3</td>\n",
       "      <td>2.771283</td>\n",
       "      <td>14</td>\n",
       "      <td>90</td>\n",
       "      <td>9</td>\n",
       "      <td>False</td>\n",
       "      <td>...</td>\n",
       "      <td>234.0</td>\n",
       "      <td>424.0</td>\n",
       "      <td>408176</td>\n",
       "      <td>56</td>\n",
       "      <td>4</td>\n",
       "      <td>7</td>\n",
       "      <td>2015</td>\n",
       "      <td>16</td>\n",
       "      <td>другой</td>\n",
       "      <td>7</td>\n",
       "    </tr>\n",
       "    <tr>\n",
       "      <th>4</th>\n",
       "      <td>2</td>\n",
       "      <td>10000000</td>\n",
       "      <td>100</td>\n",
       "      <td>2018-06-19</td>\n",
       "      <td>2</td>\n",
       "      <td>3.030000</td>\n",
       "      <td>14</td>\n",
       "      <td>32</td>\n",
       "      <td>13</td>\n",
       "      <td>False</td>\n",
       "      <td>...</td>\n",
       "      <td>48.0</td>\n",
       "      <td>121.0</td>\n",
       "      <td>100000</td>\n",
       "      <td>32</td>\n",
       "      <td>1</td>\n",
       "      <td>6</td>\n",
       "      <td>2018</td>\n",
       "      <td>41</td>\n",
       "      <td>другой</td>\n",
       "      <td>8</td>\n",
       "    </tr>\n",
       "    <tr>\n",
       "      <th>5</th>\n",
       "      <td>10</td>\n",
       "      <td>2890000</td>\n",
       "      <td>30</td>\n",
       "      <td>2018-09-10</td>\n",
       "      <td>1</td>\n",
       "      <td>2.771283</td>\n",
       "      <td>12</td>\n",
       "      <td>14</td>\n",
       "      <td>5</td>\n",
       "      <td>False</td>\n",
       "      <td>...</td>\n",
       "      <td>NaN</td>\n",
       "      <td>55.0</td>\n",
       "      <td>96333</td>\n",
       "      <td>46</td>\n",
       "      <td>0</td>\n",
       "      <td>9</td>\n",
       "      <td>2018</td>\n",
       "      <td>30</td>\n",
       "      <td>другой</td>\n",
       "      <td>&lt;NA&gt;</td>\n",
       "    </tr>\n",
       "    <tr>\n",
       "      <th>6</th>\n",
       "      <td>6</td>\n",
       "      <td>3700000</td>\n",
       "      <td>37</td>\n",
       "      <td>2017-11-02</td>\n",
       "      <td>1</td>\n",
       "      <td>2.771283</td>\n",
       "      <td>26</td>\n",
       "      <td>10</td>\n",
       "      <td>6</td>\n",
       "      <td>False</td>\n",
       "      <td>...</td>\n",
       "      <td>NaN</td>\n",
       "      <td>155.0</td>\n",
       "      <td>100000</td>\n",
       "      <td>27</td>\n",
       "      <td>3</td>\n",
       "      <td>11</td>\n",
       "      <td>2017</td>\n",
       "      <td>37</td>\n",
       "      <td>другой</td>\n",
       "      <td>19</td>\n",
       "    </tr>\n",
       "    <tr>\n",
       "      <th>7</th>\n",
       "      <td>5</td>\n",
       "      <td>7915000</td>\n",
       "      <td>71</td>\n",
       "      <td>2019-04-18</td>\n",
       "      <td>2</td>\n",
       "      <td>2.771283</td>\n",
       "      <td>24</td>\n",
       "      <td>40</td>\n",
       "      <td>22</td>\n",
       "      <td>False</td>\n",
       "      <td>...</td>\n",
       "      <td>NaN</td>\n",
       "      <td>NaN</td>\n",
       "      <td>111478</td>\n",
       "      <td>56</td>\n",
       "      <td>3</td>\n",
       "      <td>4</td>\n",
       "      <td>2019</td>\n",
       "      <td>25</td>\n",
       "      <td>другой</td>\n",
       "      <td>12</td>\n",
       "    </tr>\n",
       "    <tr>\n",
       "      <th>8</th>\n",
       "      <td>20</td>\n",
       "      <td>2900000</td>\n",
       "      <td>33</td>\n",
       "      <td>2018-05-23</td>\n",
       "      <td>1</td>\n",
       "      <td>2.771283</td>\n",
       "      <td>27</td>\n",
       "      <td>15</td>\n",
       "      <td>26</td>\n",
       "      <td>False</td>\n",
       "      <td>...</td>\n",
       "      <td>NaN</td>\n",
       "      <td>189.0</td>\n",
       "      <td>87878</td>\n",
       "      <td>45</td>\n",
       "      <td>2</td>\n",
       "      <td>5</td>\n",
       "      <td>2018</td>\n",
       "      <td>24</td>\n",
       "      <td>другой</td>\n",
       "      <td>&lt;NA&gt;</td>\n",
       "    </tr>\n",
       "    <tr>\n",
       "      <th>9</th>\n",
       "      <td>18</td>\n",
       "      <td>5400000</td>\n",
       "      <td>61</td>\n",
       "      <td>2017-02-26</td>\n",
       "      <td>3</td>\n",
       "      <td>2.500000</td>\n",
       "      <td>9</td>\n",
       "      <td>43</td>\n",
       "      <td>7</td>\n",
       "      <td>False</td>\n",
       "      <td>...</td>\n",
       "      <td>NaN</td>\n",
       "      <td>289.0</td>\n",
       "      <td>88524</td>\n",
       "      <td>70</td>\n",
       "      <td>6</td>\n",
       "      <td>2</td>\n",
       "      <td>2017</td>\n",
       "      <td>9</td>\n",
       "      <td>другой</td>\n",
       "      <td>15</td>\n",
       "    </tr>\n",
       "  </tbody>\n",
       "</table>\n",
       "<p>10 rows × 30 columns</p>\n",
       "</div>"
      ],
      "text/plain": [
       "   total_images  last_price  total_area first_day_exposition  rooms  \\\n",
       "0            20    13000000         108           2019-03-07      3   \n",
       "1             7     3350000          40           2018-12-04      1   \n",
       "2            10     5196000          56           2015-08-20      2   \n",
       "3             0    64900000         159           2015-07-24      3   \n",
       "4             2    10000000         100           2018-06-19      2   \n",
       "5            10     2890000          30           2018-09-10      1   \n",
       "6             6     3700000          37           2017-11-02      1   \n",
       "7             5     7915000          71           2019-04-18      2   \n",
       "8            20     2900000          33           2018-05-23      1   \n",
       "9            18     5400000          61           2017-02-26      3   \n",
       "\n",
       "   ceiling_height  floors_total  living_area  floor  is_apartment  ...  \\\n",
       "0        2.700000            16           51      8         False  ...   \n",
       "1        2.771283            11           18      1         False  ...   \n",
       "2        2.771283             5           34      4         False  ...   \n",
       "3        2.771283            14           90      9         False  ...   \n",
       "4        3.030000            14           32     13         False  ...   \n",
       "5        2.771283            12           14      5         False  ...   \n",
       "6        2.771283            26           10      6         False  ...   \n",
       "7        2.771283            24           40     22         False  ...   \n",
       "8        2.771283            27           15     26         False  ...   \n",
       "9        2.500000             9           43      7         False  ...   \n",
       "\n",
       "   ponds_nearest  days_exposition  square_meter_price  ratio_area weekday  \\\n",
       "0          755.0              NaN              120370          47       3   \n",
       "1            NaN             81.0               83750          45       1   \n",
       "2          574.0            558.0               92785          60       3   \n",
       "3          234.0            424.0              408176          56       4   \n",
       "4           48.0            121.0              100000          32       1   \n",
       "5            NaN             55.0               96333          46       0   \n",
       "6            NaN            155.0              100000          27       3   \n",
       "7            NaN              NaN              111478          56       3   \n",
       "8            NaN            189.0               87878          45       2   \n",
       "9            NaN            289.0               88524          70       6   \n",
       "\n",
       "   month  year  kitchen_ratio  floor_type  distance_city_center  \n",
       "0      3  2019             23      другой                    16  \n",
       "1     12  2018             27      первый                    19  \n",
       "2      8  2015             14      другой                    14  \n",
       "3      7  2015             16      другой                     7  \n",
       "4      6  2018             41      другой                     8  \n",
       "5      9  2018             30      другой                  <NA>  \n",
       "6     11  2017             37      другой                    19  \n",
       "7      4  2019             25      другой                    12  \n",
       "8      5  2018             24      другой                  <NA>  \n",
       "9      2  2017              9      другой                    15  \n",
       "\n",
       "[10 rows x 30 columns]"
      ]
     },
     "execution_count": 42,
     "metadata": {},
     "output_type": "execute_result"
    }
   ],
   "source": [
    "df.head(10)"
   ]
  },
  {
   "cell_type": "markdown",
   "metadata": {},
   "source": [
    "#### Вывод\n",
    "Добавил сболбцы для отображения корректных данных: square_meter_price (стоимость квадратного метра); ratio_area (соотношение жилой площади к общей площади); kitchen_ratio (соотношение площади кухни к общей площади); weekday, month, year (день недели, месяц, год); distance_city_center (Расстояние до центра города в км). \n",
    "Судя по количеству предложений, более актуальны квартиры на любом этаже кроме первого и последнего."
   ]
  },
  {
   "cell_type": "markdown",
   "metadata": {
    "id": "pPyxrKWTAwb-"
   },
   "source": [
    "### Проведите исследовательский анализ данных"
   ]
  },
  {
   "cell_type": "code",
   "execution_count": 43,
   "metadata": {},
   "outputs": [
    {
     "data": {
      "text/plain": [
       "count    23565.000000\n",
       "mean        60.095226\n",
       "std         35.668758\n",
       "min         12.000000\n",
       "25%         40.000000\n",
       "50%         52.000000\n",
       "75%         69.000000\n",
       "max        900.000000\n",
       "Name: total_area, dtype: float64"
      ]
     },
     "execution_count": 43,
     "metadata": {},
     "output_type": "execute_result"
    }
   ],
   "source": [
    "# Исследуем общую площадь\n",
    "df['total_area'].describe()"
   ]
  },
  {
   "cell_type": "code",
   "execution_count": 44,
   "metadata": {
    "id": "V2f0D3kLAwb-"
   },
   "outputs": [
    {
     "data": {
      "image/png": "[encoded data removed]",
      "text/plain": [
       "<Figure size 432x288 with 1 Axes>"
      ]
     },
     "metadata": {
      "needs_background": "light"
     },
     "output_type": "display_data"
    }
   ],
   "source": [
    "# Построим гистограмму\n",
    "plt.hist(df['total_area'], bins=100, range=(12,150))\n",
    "plt.title('Зависимость квартир в продаже от площади квартир')\n",
    "plt.xlabel('Квадратные метры')\n",
    "plt.ylabel('Количество квартир')\n",
    "plt.show()"
   ]
  },
  {
   "cell_type": "markdown",
   "metadata": {},
   "source": [
    "Большинство предложений квартир с общей площадью от 28 до 62 кв"
   ]
  },
  {
   "cell_type": "code",
   "execution_count": 45,
   "metadata": {},
   "outputs": [
    {
     "data": {
      "text/plain": [
       "count    23565.000000\n",
       "mean        34.323446\n",
       "std         22.374785\n",
       "min          2.000000\n",
       "25%         19.000000\n",
       "50%         30.000000\n",
       "75%         42.000000\n",
       "max        409.000000\n",
       "Name: living_area, dtype: float64"
      ]
     },
     "execution_count": 45,
     "metadata": {},
     "output_type": "execute_result"
    }
   ],
   "source": [
    "# Исследуем жилую площадь\n",
    "df['living_area'].describe()"
   ]
  },
  {
   "cell_type": "code",
   "execution_count": 46,
   "metadata": {},
   "outputs": [
    {
     "data": {
      "image/png": "[encoded data removed]",
      "text/plain": [
       "<Figure size 432x288 with 1 Axes>"
      ]
     },
     "metadata": {
      "needs_background": "light"
     },
     "output_type": "display_data"
    }
   ],
   "source": [
    "# Построим гистограмму\n",
    "plt.hist(df['living_area'], bins=50, range=(2,50))\n",
    "plt.title('Жилая площадь')\n",
    "plt.xlabel('Квадратные метры')\n",
    "plt.ylabel('Количество квартир')\n",
    "plt.show()"
   ]
  },
  {
   "cell_type": "markdown",
   "metadata": {},
   "source": [
    "В приоритете квартиры с жилой площадью 17-18 кв/м и 30 кв/м, при этом прослеживается спад предложений в средней зоне 26 кв/м."
   ]
  },
  {
   "cell_type": "code",
   "execution_count": 47,
   "metadata": {},
   "outputs": [
    {
     "data": {
      "text/plain": [
       "count    23565.000000\n",
       "mean        10.228390\n",
       "std          6.051268\n",
       "min          1.000000\n",
       "25%          7.000000\n",
       "50%          9.000000\n",
       "75%         12.000000\n",
       "max        112.000000\n",
       "Name: kitchen_area, dtype: float64"
      ]
     },
     "execution_count": 47,
     "metadata": {},
     "output_type": "execute_result"
    }
   ],
   "source": [
    "# Исследуем площадь кухни\n",
    "df['kitchen_area'].describe()"
   ]
  },
  {
   "cell_type": "code",
   "execution_count": 48,
   "metadata": {},
   "outputs": [
    {
     "data": {
      "image/png": "[encoded data removed]",
      "text/plain": [
       "<Figure size 432x288 with 1 Axes>"
      ]
     },
     "metadata": {
      "needs_background": "light"
     },
     "output_type": "display_data"
    }
   ],
   "source": [
    "# Построим гистограмму\n",
    "plt.hist(df['kitchen_area'], bins=30, range=(1,25))\n",
    "plt.title('Площадь кухни')\n",
    "plt.xlabel('Квадратные метры')\n",
    "plt.ylabel('Количество квартир')\n",
    "plt.show()"
   ]
  },
  {
   "cell_type": "markdown",
   "metadata": {},
   "source": [
    "Наблюдается тенденция, что самые распространённые квартиры с кухней - от 5 до 15 метров."
   ]
  },
  {
   "cell_type": "code",
   "execution_count": 49,
   "metadata": {},
   "outputs": [
    {
     "data": {
      "text/plain": [
       "count    2.356500e+04\n",
       "mean     6.540058e+06\n",
       "std      1.091093e+07\n",
       "min      1.219000e+04\n",
       "25%      3.400000e+06\n",
       "50%      4.646000e+06\n",
       "75%      6.790000e+06\n",
       "max      7.630000e+08\n",
       "Name: last_price, dtype: float64"
      ]
     },
     "execution_count": 49,
     "metadata": {},
     "output_type": "execute_result"
    }
   ],
   "source": [
    "# Исследуем цену\n",
    "df['last_price'].describe()"
   ]
  },
  {
   "cell_type": "code",
   "execution_count": 50,
   "metadata": {},
   "outputs": [
    {
     "data": {
      "image/png": "[encoded data removed]",
      "text/plain": [
       "<Figure size 432x288 with 1 Axes>"
      ]
     },
     "metadata": {
      "needs_background": "light"
     },
     "output_type": "display_data"
    }
   ],
   "source": [
    "# Построим гистограмму\n",
    "plt.hist(df['last_price'], bins=100, range=(1.219000e+04,10000000))\n",
    "plt.title('Зависимость квартир в продаже от цены')\n",
    "plt.xlabel('Цена в млн. руб.')\n",
    "plt.ylabel('Количество квартир')\n",
    "plt.show()"
   ]
  },
  {
   "cell_type": "markdown",
   "metadata": {},
   "source": [
    "По гисторгамме видно, наиболее частая цена квартиры от 3,5 - 4,5 миллниона."
   ]
  },
  {
   "cell_type": "code",
   "execution_count": 51,
   "metadata": {},
   "outputs": [
    {
     "data": {
      "image/png": "[encoded data removed]",
      "text/plain": [
       "<Figure size 432x288 with 1 Axes>"
      ]
     },
     "metadata": {
      "needs_background": "light"
     },
     "output_type": "display_data"
    }
   ],
   "source": [
    "# Исследуем количество комнат\n",
    "plt.hist(df['rooms'], bins=7, range=(1,7))\n",
    "plt.title('Комнаты')\n",
    "plt.xlabel('Количество комнат')\n",
    "plt.ylabel('Количество квартир')\n",
    "plt.show()"
   ]
  },
  {
   "cell_type": "markdown",
   "metadata": {},
   "source": [
    "В продаже преобладают однокомнатные и двухкомнатные квартиры, далее следуют трехкомнатные квартиры."
   ]
  },
  {
   "cell_type": "code",
   "execution_count": 52,
   "metadata": {},
   "outputs": [
    {
     "data": {
      "text/plain": [
       "count    23565.000000\n",
       "mean         2.745499\n",
       "std          0.251504\n",
       "min          1.000000\n",
       "25%          2.600000\n",
       "50%          2.771283\n",
       "75%          2.771283\n",
       "max         14.000000\n",
       "Name: ceiling_height, dtype: float64"
      ]
     },
     "execution_count": 52,
     "metadata": {},
     "output_type": "execute_result"
    }
   ],
   "source": [
    "# Исследуем высоту потолков\n",
    "df['ceiling_height'].describe()"
   ]
  },
  {
   "cell_type": "code",
   "execution_count": 53,
   "metadata": {},
   "outputs": [
    {
     "data": {
      "image/png": "[encoded data removed]",
      "text/plain": [
       "<Figure size 432x288 with 1 Axes>"
      ]
     },
     "metadata": {
      "needs_background": "light"
     },
     "output_type": "display_data"
    }
   ],
   "source": [
    "# Построим гистограмму\n",
    "plt.hist(df.query('(ceiling_height > 2) & (ceiling_height < 4)')['ceiling_height'], bins=15)\n",
    "plt.title('Высота потолков')\n",
    "plt.xlabel('Метры')\n",
    "plt.ylabel('Количество квартир')\n",
    "plt.show()"
   ]
  },
  {
   "cell_type": "markdown",
   "metadata": {},
   "source": [
    "Минимальной нормой в России считается высота потолка 2,4 метра. В новостройках обычно это значение находится в пределах 2,5-2,7 метра. Для элитного жилья показатель может превышать 3 метра."
   ]
  },
  {
   "cell_type": "code",
   "execution_count": 54,
   "metadata": {},
   "outputs": [
    {
     "data": {
      "image/png": "[encoded data removed]",
      "text/plain": [
       "<Figure size 576x576 with 1 Axes>"
      ]
     },
     "metadata": {},
     "output_type": "display_data"
    }
   ],
   "source": [
    "# Исследуем типы этажей\n",
    "df.pivot_table(index='floor_type',values='last_price',aggfunc='count') \\\n",
    "  .plot.pie(y='last_price', figsize=(8,8), label='', title='Этаж')\n",
    "plt.show()"
   ]
  },
  {
   "cell_type": "code",
   "execution_count": 55,
   "metadata": {},
   "outputs": [
    {
     "data": {
      "text/plain": [
       "count    23565.000000\n",
       "mean        10.675875\n",
       "std          6.594823\n",
       "min          1.000000\n",
       "25%          5.000000\n",
       "50%          9.000000\n",
       "75%         16.000000\n",
       "max         60.000000\n",
       "Name: floors_total, dtype: float64"
      ]
     },
     "execution_count": 55,
     "metadata": {},
     "output_type": "execute_result"
    }
   ],
   "source": [
    "# Исследуем общее количество этажей в доме\n",
    "df['floors_total'].describe()"
   ]
  },
  {
   "cell_type": "code",
   "execution_count": 56,
   "metadata": {},
   "outputs": [
    {
     "data": {
      "image/png": "[encoded data removed]",
      "text/plain": [
       "<Figure size 432x288 with 1 Axes>"
      ]
     },
     "metadata": {
      "needs_background": "light"
     },
     "output_type": "display_data"
    }
   ],
   "source": [
    "plt.hist(df['floors_total'], bins=100, range=(1,30))\n",
    "plt.title('Количество этажей в доме')\n",
    "plt.xlabel('Этаж')\n",
    "plt.ylabel('Количество квартир')\n",
    "plt.show()"
   ]
  },
  {
   "cell_type": "markdown",
   "metadata": {},
   "source": [
    "По гистограмме видно - преобладают пятиэтажные и девятитажные дома."
   ]
  },
  {
   "cell_type": "code",
   "execution_count": 57,
   "metadata": {},
   "outputs": [
    {
     "data": {
      "text/plain": [
       "count    18064.000000\n",
       "mean     14192.656056\n",
       "std       8613.348153\n",
       "min        181.000000\n",
       "25%       9238.000000\n",
       "50%      13096.500000\n",
       "75%      16285.000000\n",
       "max      65968.000000\n",
       "Name: city_centers_nearest, dtype: float64"
      ]
     },
     "execution_count": 57,
     "metadata": {},
     "output_type": "execute_result"
    }
   ],
   "source": [
    "# Исследум расстояние до центра города в метрах\n",
    "df['city_centers_nearest'].describe()"
   ]
  },
  {
   "cell_type": "code",
   "execution_count": 58,
   "metadata": {},
   "outputs": [
    {
     "data": {
      "image/png": "[encoded data removed]",
      "text/plain": [
       "<Figure size 432x288 with 1 Axes>"
      ]
     },
     "metadata": {
      "needs_background": "light"
     },
     "output_type": "display_data"
    }
   ],
   "source": [
    "plt.hist(df['city_centers_nearest'], bins=100, range=(0,20000))\n",
    "plt.title('Зависимость квартир в продаже от центра удаленности от центра города')\n",
    "plt.xlabel('Расстояние до центра города в метрах')\n",
    "plt.ylabel('Количество квартир')\n",
    "plt.show()"
   ]
  },
  {
   "cell_type": "markdown",
   "metadata": {},
   "source": [
    "Больше всего предложений о продаже на окраинах города: на расстоянии 12000 - 15000 метров и значительным всплеском на расстоянии в 4000 - 5000 метров от центра города."
   ]
  },
  {
   "cell_type": "code",
   "execution_count": 59,
   "metadata": {},
   "outputs": [
    {
     "data": {
      "text/plain": [
       "count    8030.000000\n",
       "mean      490.580448\n",
       "std       341.572956\n",
       "min         1.000000\n",
       "25%       288.000000\n",
       "50%       455.000000\n",
       "75%       612.000000\n",
       "max      3190.000000\n",
       "Name: parks_nearest, dtype: float64"
      ]
     },
     "execution_count": 59,
     "metadata": {},
     "output_type": "execute_result"
    }
   ],
   "source": [
    "# Исследуем расстояние до ближайшего парка\n",
    "df['parks_nearest'].describe()"
   ]
  },
  {
   "cell_type": "code",
   "execution_count": 60,
   "metadata": {},
   "outputs": [
    {
     "data": {
      "image/png": "[encoded data removed]",
      "text/plain": [
       "<Figure size 432x288 with 1 Axes>"
      ]
     },
     "metadata": {
      "needs_background": "light"
     },
     "output_type": "display_data"
    }
   ],
   "source": [
    "plt.hist(df['parks_nearest'], bins=100, range=(100,1000))\n",
    "plt.title('Зависимость квартир в продаже от удаленности от парка')\n",
    "plt.xlabel('Расстояние до ближайшего парка в метрах')\n",
    "plt.ylabel('Количество квартир')\n",
    "plt.show()"
   ]
  },
  {
   "cell_type": "markdown",
   "metadata": {},
   "source": [
    "Как видим, зависимость квартир в продаже от удаленности от парка присутствует, среднее расстояние до парка составляет 500м."
   ]
  },
  {
   "cell_type": "code",
   "execution_count": 61,
   "metadata": {
    "scrolled": true
   },
   "outputs": [
    {
     "data": {
      "text/plain": [
       "count    20394.000000\n",
       "mean       180.741395\n",
       "std        219.732782\n",
       "min          1.000000\n",
       "25%         45.000000\n",
       "50%         95.000000\n",
       "75%        231.000000\n",
       "max       1580.000000\n",
       "Name: days_exposition, dtype: float64"
      ]
     },
     "execution_count": 61,
     "metadata": {},
     "output_type": "execute_result"
    }
   ],
   "source": [
    "## Исследуем как быстро продавались квартиры  \n",
    "df['days_exposition'].describe()"
   ]
  },
  {
   "cell_type": "code",
   "execution_count": 62,
   "metadata": {},
   "outputs": [
    {
     "data": {
      "image/png": "[encoded data removed]",
      "text/plain": [
       "<Figure size 432x288 with 1 Axes>"
      ]
     },
     "metadata": {
      "needs_background": "light"
     },
     "output_type": "display_data"
    }
   ],
   "source": [
    "plt.hist(df['days_exposition'], bins=100, range=(0,250))\n",
    "plt.xlabel('Сколько дней было размещено объявление')\n",
    "plt.ylabel('Количество объявлений')\n",
    "plt.show()"
   ]
  },
  {
   "cell_type": "markdown",
   "metadata": {},
   "source": [
    "Среднее значение продажи составляет 180 дней, при этом медианное значение составляет 95 дней, оно более точно характеризует  время продажи, так как не зависит от выбрасов и нестандартных значений.\n",
    "\n",
    "Наиболее быстрыми продажами можно считать которые продались за 45 дней, а долгие продажи после 200 дней и более."
   ]
  },
  {
   "cell_type": "markdown",
   "metadata": {},
   "source": [
    "#### Определите факторы, которые больше всего влияют на общую (полную) стоимость объекта"
   ]
  },
  {
   "cell_type": "code",
   "execution_count": 63,
   "metadata": {},
   "outputs": [
    {
     "data": {
      "text/plain": [
       "Index(['total_images', 'last_price', 'total_area', 'first_day_exposition',\n",
       "       'rooms', 'ceiling_height', 'floors_total', 'living_area', 'floor',\n",
       "       'is_apartment', 'studio', 'open_plan', 'kitchen_area', 'balcony',\n",
       "       'locality_name', 'airports_nearest', 'city_centers_nearest',\n",
       "       'parks_around_threekm', 'parks_nearest', 'ponds_around_threekm',\n",
       "       'ponds_nearest', 'days_exposition', 'square_meter_price', 'ratio_area',\n",
       "       'weekday', 'month', 'year', 'kitchen_ratio', 'floor_type',\n",
       "       'distance_city_center'],\n",
       "      dtype='object')"
      ]
     },
     "execution_count": 63,
     "metadata": {},
     "output_type": "execute_result"
    }
   ],
   "source": [
    "df.columns"
   ]
  },
  {
   "cell_type": "code",
   "execution_count": 64,
   "metadata": {},
   "outputs": [
    {
     "data": {
      "text/html": [
       "<div>\n",
       "<style scoped>\n",
       "    .dataframe tbody tr th:only-of-type {\n",
       "        vertical-align: middle;\n",
       "    }\n",
       "\n",
       "    .dataframe tbody tr th {\n",
       "        vertical-align: top;\n",
       "    }\n",
       "\n",
       "    .dataframe thead th {\n",
       "        text-align: right;\n",
       "    }\n",
       "</style>\n",
       "<table border=\"1\" class=\"dataframe\">\n",
       "  <thead>\n",
       "    <tr style=\"text-align: right;\">\n",
       "      <th></th>\n",
       "      <th>kitchen_area</th>\n",
       "      <th>last_price</th>\n",
       "      <th>living_area</th>\n",
       "      <th>rooms</th>\n",
       "      <th>total_area</th>\n",
       "    </tr>\n",
       "  </thead>\n",
       "  <tbody>\n",
       "    <tr>\n",
       "      <th>kitchen_area</th>\n",
       "      <td>1.000000</td>\n",
       "      <td>0.316907</td>\n",
       "      <td>0.125290</td>\n",
       "      <td>0.137224</td>\n",
       "      <td>0.438929</td>\n",
       "    </tr>\n",
       "    <tr>\n",
       "      <th>last_price</th>\n",
       "      <td>0.316907</td>\n",
       "      <td>1.000000</td>\n",
       "      <td>0.626934</td>\n",
       "      <td>0.442934</td>\n",
       "      <td>0.738760</td>\n",
       "    </tr>\n",
       "    <tr>\n",
       "      <th>living_area</th>\n",
       "      <td>0.125290</td>\n",
       "      <td>0.626934</td>\n",
       "      <td>1.000000</td>\n",
       "      <td>0.896363</td>\n",
       "      <td>0.918880</td>\n",
       "    </tr>\n",
       "    <tr>\n",
       "      <th>rooms</th>\n",
       "      <td>0.137224</td>\n",
       "      <td>0.442934</td>\n",
       "      <td>0.896363</td>\n",
       "      <td>1.000000</td>\n",
       "      <td>0.810785</td>\n",
       "    </tr>\n",
       "    <tr>\n",
       "      <th>total_area</th>\n",
       "      <td>0.438929</td>\n",
       "      <td>0.738760</td>\n",
       "      <td>0.918880</td>\n",
       "      <td>0.810785</td>\n",
       "      <td>1.000000</td>\n",
       "    </tr>\n",
       "  </tbody>\n",
       "</table>\n",
       "</div>"
      ],
      "text/plain": [
       "              kitchen_area  last_price  living_area     rooms  total_area\n",
       "kitchen_area      1.000000    0.316907     0.125290  0.137224    0.438929\n",
       "last_price        0.316907    1.000000     0.626934  0.442934    0.738760\n",
       "living_area       0.125290    0.626934     1.000000  0.896363    0.918880\n",
       "rooms             0.137224    0.442934     0.896363  1.000000    0.810785\n",
       "total_area        0.438929    0.738760     0.918880  0.810785    1.000000"
      ]
     },
     "execution_count": 64,
     "metadata": {},
     "output_type": "execute_result"
    }
   ],
   "source": [
    "# Иccледуем зависимость цены last_price от столбцов с числовыми данными при помощи вычисления корреляции:\n",
    "df.pivot_table(index='floor', values=['last_price','total_area','living_area','kitchen_area','rooms']).corr()"
   ]
  },
  {
   "cell_type": "markdown",
   "metadata": {},
   "source": [
    "По корреляции наблюдаем прямой зависимости среди данных нет. Возможно повлияли редкие и выбивающиеся значения."
   ]
  },
  {
   "cell_type": "code",
   "execution_count": 65,
   "metadata": {},
   "outputs": [],
   "source": [
    "# Функция для подсчёта границ с учетом 1.5 размаха\n",
    "def quartile_range(df, column):\n",
    "    q1 = df[column].quantile(0.25)\n",
    "    q3 = df[column].quantile(0.75)\n",
    "    iqr = q3 - q1\n",
    "    dfq = df.loc[(df[column] < q3 + 1.5*iqr) & (df[column] > q1 - 1.5*iqr), column]\n",
    "    return dfq"
   ]
  },
  {
   "cell_type": "code",
   "execution_count": 66,
   "metadata": {},
   "outputs": [],
   "source": [
    "# Столбцы с выбросами\n",
    "new_list = ['last_price', 'total_area', 'living_area', 'kitchen_area', 'rooms', 'ceiling_height' ]\n",
    "for col in new_list:\n",
    "    df[col] = quartile_range(df, col)"
   ]
  },
  {
   "cell_type": "code",
   "execution_count": 67,
   "metadata": {},
   "outputs": [
    {
     "data": {
      "text/html": [
       "<div>\n",
       "<style scoped>\n",
       "    .dataframe tbody tr th:only-of-type {\n",
       "        vertical-align: middle;\n",
       "    }\n",
       "\n",
       "    .dataframe tbody tr th {\n",
       "        vertical-align: top;\n",
       "    }\n",
       "\n",
       "    .dataframe thead th {\n",
       "        text-align: right;\n",
       "    }\n",
       "</style>\n",
       "<table border=\"1\" class=\"dataframe\">\n",
       "  <thead>\n",
       "    <tr style=\"text-align: right;\">\n",
       "      <th></th>\n",
       "      <th>kitchen_area</th>\n",
       "      <th>last_price</th>\n",
       "      <th>living_area</th>\n",
       "      <th>rooms</th>\n",
       "      <th>total_area</th>\n",
       "    </tr>\n",
       "  </thead>\n",
       "  <tbody>\n",
       "    <tr>\n",
       "      <th>kitchen_area</th>\n",
       "      <td>1.000000</td>\n",
       "      <td>0.453201</td>\n",
       "      <td>-0.185414</td>\n",
       "      <td>-0.225620</td>\n",
       "      <td>0.275127</td>\n",
       "    </tr>\n",
       "    <tr>\n",
       "      <th>last_price</th>\n",
       "      <td>0.453201</td>\n",
       "      <td>1.000000</td>\n",
       "      <td>0.729873</td>\n",
       "      <td>0.550944</td>\n",
       "      <td>0.906611</td>\n",
       "    </tr>\n",
       "    <tr>\n",
       "      <th>living_area</th>\n",
       "      <td>-0.185414</td>\n",
       "      <td>0.729873</td>\n",
       "      <td>1.000000</td>\n",
       "      <td>0.892870</td>\n",
       "      <td>0.915240</td>\n",
       "    </tr>\n",
       "    <tr>\n",
       "      <th>rooms</th>\n",
       "      <td>-0.225620</td>\n",
       "      <td>0.550944</td>\n",
       "      <td>0.892870</td>\n",
       "      <td>1.000000</td>\n",
       "      <td>0.784065</td>\n",
       "    </tr>\n",
       "    <tr>\n",
       "      <th>total_area</th>\n",
       "      <td>0.275127</td>\n",
       "      <td>0.906611</td>\n",
       "      <td>0.915240</td>\n",
       "      <td>0.784065</td>\n",
       "      <td>1.000000</td>\n",
       "    </tr>\n",
       "  </tbody>\n",
       "</table>\n",
       "</div>"
      ],
      "text/plain": [
       "              kitchen_area  last_price  living_area     rooms  total_area\n",
       "kitchen_area      1.000000    0.453201    -0.185414 -0.225620    0.275127\n",
       "last_price        0.453201    1.000000     0.729873  0.550944    0.906611\n",
       "living_area      -0.185414    0.729873     1.000000  0.892870    0.915240\n",
       "rooms            -0.225620    0.550944     0.892870  1.000000    0.784065\n",
       "total_area        0.275127    0.906611     0.915240  0.784065    1.000000"
      ]
     },
     "execution_count": 67,
     "metadata": {},
     "output_type": "execute_result"
    }
   ],
   "source": [
    "df.pivot_table(index='floor', values=['last_price','total_area','living_area','kitchen_area','rooms']).corr()"
   ]
  },
  {
   "cell_type": "markdown",
   "metadata": {},
   "source": [
    "Значения c отброшенными значениями на основе 1.5 размаха стали лучше.\n",
    "\n",
    "Прослеживается почти прямая зависимость между: ценой и общей площадью, ценой и количеством комнат."
   ]
  },
  {
   "cell_type": "code",
   "execution_count": 68,
   "metadata": {},
   "outputs": [
    {
     "data": {
      "image/png": "[encoded data removed]",
      "text/plain": [
       "<Figure size 360x360 with 1 Axes>"
      ]
     },
     "metadata": {
      "needs_background": "light"
     },
     "output_type": "display_data"
    }
   ],
   "source": [
    "(df.pivot_table(index='total_area', values='last_price')\n",
    "    .plot(grid=True, style='o', figsize=(5, 5)))\n",
    "plt.title('Зависимость цены от общей площади')\n",
    "plt.show()"
   ]
  },
  {
   "cell_type": "code",
   "execution_count": 69,
   "metadata": {},
   "outputs": [
    {
     "data": {
      "image/png": "[encoded data removed]",
      "text/plain": [
       "<Figure size 360x360 with 1 Axes>"
      ]
     },
     "metadata": {
      "needs_background": "light"
     },
     "output_type": "display_data"
    }
   ],
   "source": [
    "(df.pivot_table(index='living_area', values='last_price')\n",
    "    .plot(grid=True, style='o', figsize=(5, 5)))\n",
    "plt.title('Зависимость цены от жилой площади')\n",
    "plt.show()"
   ]
  },
  {
   "cell_type": "code",
   "execution_count": 70,
   "metadata": {},
   "outputs": [
    {
     "data": {
      "image/png": "[encoded data removed]",
      "text/plain": [
       "<Figure size 360x360 with 1 Axes>"
      ]
     },
     "metadata": {
      "needs_background": "light"
     },
     "output_type": "display_data"
    }
   ],
   "source": [
    "(df.pivot_table(index='kitchen_area', values='last_price')\n",
    "    .plot(grid=True, style='o', figsize=(5, 5)))\n",
    "plt.title('Зависимость цены от площади кухни')\n",
    "plt.show()"
   ]
  },
  {
   "cell_type": "code",
   "execution_count": 71,
   "metadata": {},
   "outputs": [
    {
     "data": {
      "image/png": "[encoded data removed]",
      "text/plain": [
       "<Figure size 360x360 with 1 Axes>"
      ]
     },
     "metadata": {
      "needs_background": "light"
     },
     "output_type": "display_data"
    }
   ],
   "source": [
    "(df.pivot_table(index='rooms', values='last_price')\n",
    "    .plot(grid=True, style='o-', figsize=(5, 5)))\n",
    "plt.title('Зависимость цены от числа комнат')\n",
    "plt.show()"
   ]
  },
  {
   "cell_type": "code",
   "execution_count": 72,
   "metadata": {},
   "outputs": [
    {
     "data": {
      "image/png": "[encoded data removed]",
      "text/plain": [
       "<Figure size 360x360 with 1 Axes>"
      ]
     },
     "metadata": {
      "needs_background": "light"
     },
     "output_type": "display_data"
    }
   ],
   "source": [
    "(df.pivot_table(index='floor_type', values='last_price')\n",
    "    .plot(grid=True, style='o-', figsize=(5, 5)))\n",
    "plt.title('Зависимость цены типа этажа расположения')\n",
    "plt.show()"
   ]
  },
  {
   "cell_type": "code",
   "execution_count": 73,
   "metadata": {},
   "outputs": [
    {
     "data": {
      "image/png": "[encoded data removed]",
      "text/plain": [
       "<Figure size 720x720 with 1 Axes>"
      ]
     },
     "metadata": {
      "needs_background": "light"
     },
     "output_type": "display_data"
    }
   ],
   "source": [
    "(df.pivot_table(index=('weekday'), values='last_price')\n",
    "    .plot(grid=True, style='o-', figsize=(10, 10)))\n",
    "plt.title('Зависимость цены от дня публикации')\n",
    "plt.show()"
   ]
  },
  {
   "cell_type": "code",
   "execution_count": 74,
   "metadata": {},
   "outputs": [
    {
     "data": {
      "image/png": "[encoded data removed]",
      "text/plain": [
       "<Figure size 720x720 with 1 Axes>"
      ]
     },
     "metadata": {
      "needs_background": "light"
     },
     "output_type": "display_data"
    }
   ],
   "source": [
    "(df.pivot_table(index=('month'), values='last_price')\n",
    "    .plot(grid=True, style='o-', figsize=(10, 10)))\n",
    "plt.title('Зависимость цены от мясяца публикации')\n",
    "plt.show()"
   ]
  },
  {
   "cell_type": "code",
   "execution_count": 75,
   "metadata": {},
   "outputs": [
    {
     "data": {
      "image/png": "[encoded data removed]",
      "text/plain": [
       "<Figure size 720x720 with 1 Axes>"
      ]
     },
     "metadata": {
      "needs_background": "light"
     },
     "output_type": "display_data"
    }
   ],
   "source": [
    "(df.pivot_table(index=('year'), values='last_price')\n",
    "    .plot(grid=True, style='o-', figsize=(10, 10)))\n",
    "plt.title('Зависимость цены от года публикации')\n",
    "plt.show()"
   ]
  },
  {
   "cell_type": "markdown",
   "metadata": {},
   "source": [
    "Вывод:\n",
    "Чем больше общая площадь, тем выше стоимость.\n",
    "\n",
    "Число комнат тоже влияет на стоимость. Хоть и зависимость у них ниже, чем у площади, потому что бывают квартиры с большими по площади комнатами и квартиры в центре города \n",
    "которые стоят достаточно дорого.\n",
    "\n",
    "Первый этаж влияет на стоимость квартиры - в среднем, квартиры на первом этаже продаются дешевле.\n",
    "\n",
    "Чуть дороже последний этаж.\n",
    "\n",
    "Наибольшая стоимость квартир расположенных не на первом и не на последнем этаже.\n",
    "\n",
    "Объявления, размещённые до четверга имеют большую цену, чем в другие дни недели. \n",
    "\n",
    "На графике помесячного размещения объявлений хорошо просматриваются два падения - это середина и конец года,\n",
    "в эти месяцы лучше квартиры не продавать, т.к. средняя стоимость ранка будет ниже чем в другие месяцы.\n",
    "\n",
    "По годовой тенденции наблюдается падение в стоимости жилья в 2014-2016 годах и резкий взлёт стоимости начиная с 2018 года, \n",
    "скорей всего это вызвано большим спросом на рынке недвижимости."
   ]
  },
  {
   "cell_type": "markdown",
   "metadata": {},
   "source": [
    "#### Посчитайте среднюю цену одного квадратного метра в 10 населённых пунктах с наибольшим числом объявлений"
   ]
  },
  {
   "cell_type": "code",
   "execution_count": 76,
   "metadata": {},
   "outputs": [
    {
     "data": {
      "text/html": [
       "<div>\n",
       "<style scoped>\n",
       "    .dataframe tbody tr th:only-of-type {\n",
       "        vertical-align: middle;\n",
       "    }\n",
       "\n",
       "    .dataframe tbody tr th {\n",
       "        vertical-align: top;\n",
       "    }\n",
       "\n",
       "    .dataframe thead th {\n",
       "        text-align: right;\n",
       "    }\n",
       "</style>\n",
       "<table border=\"1\" class=\"dataframe\">\n",
       "  <thead>\n",
       "    <tr style=\"text-align: right;\">\n",
       "      <th></th>\n",
       "      <th>count</th>\n",
       "      <th>square_meter_price</th>\n",
       "    </tr>\n",
       "    <tr>\n",
       "      <th>locality_name</th>\n",
       "      <th></th>\n",
       "      <th></th>\n",
       "    </tr>\n",
       "  </thead>\n",
       "  <tbody>\n",
       "    <tr>\n",
       "      <th>санкт-петербург</th>\n",
       "      <td>13676</td>\n",
       "      <td>115365.71</td>\n",
       "    </tr>\n",
       "    <tr>\n",
       "      <th>пушкин</th>\n",
       "      <td>338</td>\n",
       "      <td>103610.95</td>\n",
       "    </tr>\n",
       "    <tr>\n",
       "      <th>деревня кудрово</th>\n",
       "      <td>298</td>\n",
       "      <td>93001.74</td>\n",
       "    </tr>\n",
       "    <tr>\n",
       "      <th>посёлок парголово</th>\n",
       "      <td>327</td>\n",
       "      <td>90675.24</td>\n",
       "    </tr>\n",
       "    <tr>\n",
       "      <th>посёлок мурино</th>\n",
       "      <td>552</td>\n",
       "      <td>86253.83</td>\n",
       "    </tr>\n",
       "    <tr>\n",
       "      <th>посёлок шушары</th>\n",
       "      <td>439</td>\n",
       "      <td>78943.06</td>\n",
       "    </tr>\n",
       "    <tr>\n",
       "      <th>колпино</th>\n",
       "      <td>336</td>\n",
       "      <td>75735.15</td>\n",
       "    </tr>\n",
       "    <tr>\n",
       "      <th>гатчина</th>\n",
       "      <td>305</td>\n",
       "      <td>69045.07</td>\n",
       "    </tr>\n",
       "    <tr>\n",
       "      <th>всеволожск</th>\n",
       "      <td>397</td>\n",
       "      <td>68984.80</td>\n",
       "    </tr>\n",
       "    <tr>\n",
       "      <th>выборг</th>\n",
       "      <td>236</td>\n",
       "      <td>58295.69</td>\n",
       "    </tr>\n",
       "  </tbody>\n",
       "</table>\n",
       "</div>"
      ],
      "text/plain": [
       "                   count  square_meter_price\n",
       "locality_name                               \n",
       "санкт-петербург    13676           115365.71\n",
       "пушкин               338           103610.95\n",
       "деревня кудрово      298            93001.74\n",
       "посёлок парголово    327            90675.24\n",
       "посёлок мурино       552            86253.83\n",
       "посёлок шушары       439            78943.06\n",
       "колпино              336            75735.15\n",
       "гатчина              305            69045.07\n",
       "всеволожск           397            68984.80\n",
       "выборг               236            58295.69"
      ]
     },
     "execution_count": 76,
     "metadata": {},
     "output_type": "execute_result"
    }
   ],
   "source": [
    "df_10 = df.pivot_table(index='locality_name', values='last_price', aggfunc=['count'])\n",
    "df_10.columns = ['count']\n",
    "df_10 = df_10.sort_values(by='count', ascending=False).head(10)\n",
    "df_10['square_meter_price'] = df.pivot_table(index='locality_name', values='square_meter_price').round(2)\n",
    "df_10.sort_values(by='square_meter_price', ascending=False)"
   ]
  },
  {
   "cell_type": "markdown",
   "metadata": {},
   "source": [
    "Ожидаемо самая дорогая недвижимость в Санкт-Петербурге, а сама низкая в Выборге из 10 по количеству объявлений.\n",
    "По средней стоимости за кв.м. жилья, можно сказать, что низкое количество объявлений не сильно влияет на цену кв.метра, например деревня кудрово и посёлок парголово имеют практически ту же цену в 90 т.р. за кв. метр."
   ]
  },
  {
   "cell_type": "code",
   "execution_count": 77,
   "metadata": {},
   "outputs": [
    {
     "data": {
      "text/plain": [
       "count    15591.000000\n",
       "mean        11.583414\n",
       "std          4.854068\n",
       "min          0.000000\n",
       "25%          8.000000\n",
       "50%         12.000000\n",
       "75%         15.000000\n",
       "max         29.000000\n",
       "Name: distance_city_center, dtype: float64"
      ]
     },
     "execution_count": 77,
     "metadata": {},
     "output_type": "execute_result"
    }
   ],
   "source": [
    "# Вычислим среднюю стоимость на разном удалении от центра\n",
    "df.query('locality_name == \"санкт-петербург\"')['distance_city_center'].describe()"
   ]
  },
  {
   "cell_type": "code",
   "execution_count": 78,
   "metadata": {},
   "outputs": [
    {
     "data": {
      "image/png": "[encoded data removed]",
      "text/plain": [
       "<Figure size 720x360 with 1 Axes>"
      ]
     },
     "metadata": {
      "needs_background": "light"
     },
     "output_type": "display_data"
    },
    {
     "data": {
      "text/html": [
       "<div>\n",
       "<style scoped>\n",
       "    .dataframe tbody tr th:only-of-type {\n",
       "        vertical-align: middle;\n",
       "    }\n",
       "\n",
       "    .dataframe tbody tr th {\n",
       "        vertical-align: top;\n",
       "    }\n",
       "\n",
       "    .dataframe thead th {\n",
       "        text-align: right;\n",
       "    }\n",
       "</style>\n",
       "<table border=\"1\" class=\"dataframe\">\n",
       "  <thead>\n",
       "    <tr style=\"text-align: right;\">\n",
       "      <th></th>\n",
       "      <th>last_price</th>\n",
       "    </tr>\n",
       "    <tr>\n",
       "      <th>distance_city_center</th>\n",
       "      <th></th>\n",
       "    </tr>\n",
       "  </thead>\n",
       "  <tbody>\n",
       "    <tr>\n",
       "      <th>0</th>\n",
       "      <td>8.398000e+06</td>\n",
       "    </tr>\n",
       "    <tr>\n",
       "      <th>1</th>\n",
       "      <td>8.145277e+06</td>\n",
       "    </tr>\n",
       "    <tr>\n",
       "      <th>2</th>\n",
       "      <td>7.970519e+06</td>\n",
       "    </tr>\n",
       "    <tr>\n",
       "      <th>3</th>\n",
       "      <td>7.350003e+06</td>\n",
       "    </tr>\n",
       "    <tr>\n",
       "      <th>4</th>\n",
       "      <td>7.606618e+06</td>\n",
       "    </tr>\n",
       "    <tr>\n",
       "      <th>5</th>\n",
       "      <td>7.661225e+06</td>\n",
       "    </tr>\n",
       "    <tr>\n",
       "      <th>6</th>\n",
       "      <td>7.096569e+06</td>\n",
       "    </tr>\n",
       "    <tr>\n",
       "      <th>7</th>\n",
       "      <td>6.635321e+06</td>\n",
       "    </tr>\n",
       "    <tr>\n",
       "      <th>8</th>\n",
       "      <td>6.591220e+06</td>\n",
       "    </tr>\n",
       "    <tr>\n",
       "      <th>9</th>\n",
       "      <td>5.517239e+06</td>\n",
       "    </tr>\n",
       "    <tr>\n",
       "      <th>10</th>\n",
       "      <td>5.420597e+06</td>\n",
       "    </tr>\n",
       "    <tr>\n",
       "      <th>11</th>\n",
       "      <td>5.305264e+06</td>\n",
       "    </tr>\n",
       "    <tr>\n",
       "      <th>12</th>\n",
       "      <td>5.291597e+06</td>\n",
       "    </tr>\n",
       "    <tr>\n",
       "      <th>13</th>\n",
       "      <td>5.507842e+06</td>\n",
       "    </tr>\n",
       "    <tr>\n",
       "      <th>14</th>\n",
       "      <td>5.270937e+06</td>\n",
       "    </tr>\n",
       "  </tbody>\n",
       "</table>\n",
       "</div>"
      ],
      "text/plain": [
       "                        last_price\n",
       "distance_city_center              \n",
       "0                     8.398000e+06\n",
       "1                     8.145277e+06\n",
       "2                     7.970519e+06\n",
       "3                     7.350003e+06\n",
       "4                     7.606618e+06\n",
       "5                     7.661225e+06\n",
       "6                     7.096569e+06\n",
       "7                     6.635321e+06\n",
       "8                     6.591220e+06\n",
       "9                     5.517239e+06\n",
       "10                    5.420597e+06\n",
       "11                    5.305264e+06\n",
       "12                    5.291597e+06\n",
       "13                    5.507842e+06\n",
       "14                    5.270937e+06"
      ]
     },
     "execution_count": 78,
     "metadata": {},
     "output_type": "execute_result"
    }
   ],
   "source": [
    "(df.query('locality_name == \"санкт-петербург\"')\n",
    "    .pivot_table(index='distance_city_center', values='last_price')\n",
    "    .plot(grid=True, style='o-', xlim=(0,15), figsize=(10, 5)))\n",
    "plt.title('Зависимость цены от удаления от центра города в Санкт-Петербурге')\n",
    "plt.xlabel('Расстояние от центра города (км)')\n",
    "plt.ylabel('Цена (млн. руб.)')\n",
    "plt.show()\n",
    "df.query('locality_name == \"санкт-петербург\" and distance_city_center<15').pivot_table(values='last_price', index='distance_city_center')"
   ]
  },
  {
   "cell_type": "markdown",
   "metadata": {},
   "source": [
    "Как видим, самые дорогие квартиры в центре города, далее стоимость уменьшается c увеличением расстояния от центра города до 8 км, далее стоимость не зависит от удаления."
   ]
  },
  {
   "cell_type": "markdown",
   "metadata": {
    "id": "h7VpzkIDAwb-"
   },
   "source": [
    "### Напишите общий вывод"
   ]
  },
  {
   "cell_type": "markdown",
   "metadata": {
    "id": "3H4lnp_KAwb-"
   },
   "source": [
    "В процессе исследования объявлений о продаже квартир были выполнены следующие этапы и сделаны выводы.\n",
    "\n",
    "#### Изучили общую информацию:\n",
    "\n",
    "В данных 23699 записи в 22 столбцах. Для целого ряда столбцов присутствуют пропущенные значения и некорректный тип данных.\n",
    "\n",
    "3 столбца - с целочисленными данными (тип < int >), 14 столбцов - с числовыми данными типа < float >, \n",
    "3 столбца типа < object > и 2 столбца с булевым типом (тип < bool >).\n",
    "\n",
    "В столбцах floors_total, balcony, parks_around3000, ponds_around3000 и days_exposition тип данных должны быть целочисленными, \n",
    "is_apartment - булевым, а first_day_exposition - тип даты и времени.\n",
    "\n",
    "По гисторгаммам видно, что в данных есть аномальные значения. Явные дубликаты отсутствуют.\n",
    "\n",
    "\n",
    "#### Выполнена предобработка данных:\n",
    "\n",
    "Изменен формат даты на более удобный, в столбцах установлен корректный тип данных, устранены неявные дубликаты в названиях населенного пункта. Уменьшено количество пропусков в таблице. \n",
    "\n",
    "Возможные причины ввода некорректных данных: человеческий фактор (из за невнимательности забыл сохранить/добавить/перенести, а может просто скрыл информацию), возможно произошел сбой в программе или сломалась техника.\n",
    "\n",
    "Добавили сболбцы для отображения корректных данных:\n",
    "\n",
    "square_meter_price (стоимость квадратного метра); \n",
    "\n",
    "ratio_area (соотношение жилой площади к общей площади); \n",
    "\n",
    "kitchen_ratio (соотношение площади кухни к общей площади);\n",
    "\n",
    "weekday, month, year (день недели, месяц, год);\n",
    "\n",
    "distance_city_center (Расстояние до центра города в км).\n",
    "\n",
    "Судя по количеству предложений, более актуальны квартиры на любом этаже кроме первого и последнего.\n",
    "\n",
    "\n",
    "#### Проведен исследовательский анализ данных:\n",
    "\n",
    "Большинство предложений квартир с общей площадью от 28 до 62 кв\n",
    "\n",
    "В приоритете квартиры с жилой площадью 17-18 кв/м и 30 кв/м, при этом прослеживается спад предложений в средней зоне 26 кв/м.\n",
    "\n",
    "Наблюдается тенденция, что самые распространённые квартиры с кухней - от 5 до 15 метров.\n",
    "\n",
    "Наиболее частая цена квартиры от 3,5 - 4,5 миллниона.\n",
    "\n",
    "В продаже преобладают однокомнатные и двухкомнатные квартиры, далее следуют трехкомнатные квартиры.\n",
    "\n",
    "Минимальной нормой в России считается высота потолка 2,4 метра. В новостройках обычно это значение находится в пределах 2,5-2,7 метра. Для элитного жилья показатель может превышать 3 метра.\n",
    "\n",
    "Преобладают пятиэтажные и девятитажные дома.\n",
    "\n",
    "Больше всего предложений о продаже на окраинах города: на расстоянии 12000 - 15000 метров и значительным всплеском на расстоянии в 4000 - 5000 метров от центра города.\n",
    "\n",
    "Как видим, зависимость квартир в продаже от удаленности от парка присутствует, среднее расстояние до парка составляет 500м.\n",
    "\n",
    "Среднее время продажи составляет 180 дней, при этом медианное значение составляет 95 дней, оно более точно характеризует время продажи, так как не зависит от выбрасов и нестандартных значений.\n",
    "\n",
    "Наиболее быстрыми продажами можно считать которые продались за 45 дней, а долгие продажи после 200 дней и более.\n",
    "\n",
    "\n",
    "Определили факторы, которые больше всего влияют на общую (полную) стоимость объекта:\n",
    "\n",
    "Чем больше общая площадь, тем выше стоимость.\n",
    "\n",
    "Число комнат тоже влияет на стоимость. Хоть и зависимость у них ниже, чем у площади, потому что бывают квартиры с большими по площади комнатами и квартиры в центре города которые стоят достаточно дорого.\n",
    "\n",
    "Первый этаж влияет на стоимость квартиры - в среднем, квартиры на первом этаже продаются дешевле. Чуть дороже последний этаж.\n",
    "\n",
    "Наибольшая стоимость квартир расположенных не на первом и не на последнем этаже.\n",
    "\n",
    "Объявления размещённые до четверга, имеют большую цену, чем в другие дни недели.\n",
    "\n",
    "На графике помесячного размещения объявлений хорошо просматриваются два падения - это середина и конец года, в эти месяцы лучше квартиры не продавать, т.к. средняя стоимость ранка будет ниже чем в другие месяцы.\n",
    "\n",
    "По годовой тенденции наблюдается падение в стоимости жилья в 2014-2016 годах и резкий взлёт стоимости начиная с 2018 года, скорей всего это вызвано большим спросом на рынке недвижимости.\n",
    "\n",
    "\n",
    "Посчитали среднюю цену одного квадратного метра в 10 населённых пунктах с наибольшим числом объявлений:\n",
    "\n",
    "Ожидаемо самая дорогая недвижимость в Санкт-Петербурге, а сама низкая в Выборге из 10 по количеству объявлений.\n",
    "По средней стоимости за кв.м. жилья, можно сказать, что низкое количество объявлений не сильно влияет на цену кв.метра, например деревня кудрово и посёлок парголово имеют практически ту же цену в 90 т.р. за кв. метр.\n",
    "\n",
    "Как видим, самые дорогие квартиры в центре города и их стоимость уменьшается c увеличением расстояния от центра города до 8 км, далее стоимость не зависит от удаления.\n",
    "\n",
    "\n",
    "\n",
    "\n",
    "\n"
   ]
  },
  {
   "cell_type": "code",
   "execution_count": null,
   "metadata": {},
   "outputs": [],
   "source": []
  }
 ],
 "metadata": {
  "ExecuteTimeLog": [
   {
    "duration": 1759,
    "start_time": "2024-03-29T08:50:30.160Z"
   },
   {
    "duration": 126,
    "start_time": "2024-03-29T08:50:48.115Z"
   },
   {
    "duration": 118,
    "start_time": "2024-03-29T08:50:57.506Z"
   },
   {
    "duration": 124,
    "start_time": "2024-03-29T08:51:18.988Z"
   },
   {
    "duration": 114,
    "start_time": "2024-03-29T08:51:52.922Z"
   },
   {
    "duration": 132,
    "start_time": "2024-03-29T08:52:03.729Z"
   },
   {
    "duration": 23,
    "start_time": "2024-03-29T08:52:15.108Z"
   },
   {
    "duration": 126,
    "start_time": "2024-03-29T08:52:24.712Z"
   },
   {
    "duration": 120,
    "start_time": "2024-03-29T08:52:43.507Z"
   },
   {
    "duration": 117,
    "start_time": "2024-03-29T08:53:45.136Z"
   },
   {
    "duration": 126,
    "start_time": "2024-03-29T08:53:50.848Z"
   },
   {
    "duration": 127,
    "start_time": "2024-03-29T08:53:56.529Z"
   },
   {
    "duration": 124,
    "start_time": "2024-03-29T08:54:07.090Z"
   },
   {
    "duration": 130,
    "start_time": "2024-03-29T08:54:19.702Z"
   },
   {
    "duration": 98,
    "start_time": "2024-03-29T08:55:27.071Z"
   },
   {
    "duration": 105,
    "start_time": "2024-03-29T08:55:36.666Z"
   },
   {
    "duration": 26,
    "start_time": "2024-03-29T08:55:55.395Z"
   },
   {
    "duration": 23,
    "start_time": "2024-03-29T08:57:19.696Z"
   },
   {
    "duration": 22,
    "start_time": "2024-03-29T08:57:26.938Z"
   },
   {
    "duration": 22,
    "start_time": "2024-03-29T08:57:30.346Z"
   },
   {
    "duration": 2266,
    "start_time": "2024-03-29T08:58:39.892Z"
   },
   {
    "duration": 40,
    "start_time": "2024-03-29T09:00:37.832Z"
   },
   {
    "duration": 22,
    "start_time": "2024-03-29T09:00:47.804Z"
   },
   {
    "duration": 22,
    "start_time": "2024-03-29T09:01:47.294Z"
   },
   {
    "duration": 128,
    "start_time": "2024-03-29T09:07:46.452Z"
   },
   {
    "duration": 23,
    "start_time": "2024-03-29T09:08:05.205Z"
   },
   {
    "duration": 112,
    "start_time": "2024-03-29T09:24:57.832Z"
   },
   {
    "duration": 23,
    "start_time": "2024-03-29T09:25:05.093Z"
   },
   {
    "duration": 23,
    "start_time": "2024-03-29T09:25:08.035Z"
   },
   {
    "duration": 12,
    "start_time": "2024-03-29T10:11:07.093Z"
   },
   {
    "duration": 5,
    "start_time": "2024-03-29T12:57:27.052Z"
   },
   {
    "duration": 13,
    "start_time": "2024-03-29T12:57:28.542Z"
   },
   {
    "duration": 10,
    "start_time": "2024-03-29T12:57:31.861Z"
   },
   {
    "duration": 60,
    "start_time": "2024-03-31T15:51:10.520Z"
   },
   {
    "duration": 1562,
    "start_time": "2024-03-31T15:51:23.549Z"
   },
   {
    "duration": 28,
    "start_time": "2024-03-31T15:51:25.113Z"
   },
   {
    "duration": 33,
    "start_time": "2024-03-31T15:51:25.143Z"
   },
   {
    "duration": 18,
    "start_time": "2024-03-31T15:51:25.178Z"
   },
   {
    "duration": 22,
    "start_time": "2024-03-31T15:51:25.198Z"
   },
   {
    "duration": 1863,
    "start_time": "2024-03-31T15:51:25.221Z"
   },
   {
    "duration": 3,
    "start_time": "2024-03-31T15:51:27.086Z"
   },
   {
    "duration": 9,
    "start_time": "2024-03-31T15:51:27.090Z"
   },
   {
    "duration": 8,
    "start_time": "2024-03-31T15:51:27.101Z"
   },
   {
    "duration": 25,
    "start_time": "2024-03-31T15:52:04.744Z"
   },
   {
    "duration": 1245,
    "start_time": "2024-03-31T16:10:54.543Z"
   },
   {
    "duration": 41,
    "start_time": "2024-03-31T16:10:55.791Z"
   },
   {
    "duration": 37,
    "start_time": "2024-03-31T16:10:55.834Z"
   },
   {
    "duration": 15,
    "start_time": "2024-03-31T16:10:55.873Z"
   },
   {
    "duration": 24,
    "start_time": "2024-03-31T16:10:55.890Z"
   },
   {
    "duration": 2000,
    "start_time": "2024-03-31T16:10:55.916Z"
   },
   {
    "duration": 8,
    "start_time": "2024-03-31T16:10:57.918Z"
   },
   {
    "duration": 30,
    "start_time": "2024-03-31T16:10:57.927Z"
   },
   {
    "duration": 8,
    "start_time": "2024-03-31T16:10:57.959Z"
   },
   {
    "duration": 8,
    "start_time": "2024-03-31T16:10:57.969Z"
   },
   {
    "duration": 22,
    "start_time": "2024-03-31T16:11:33.110Z"
   },
   {
    "duration": 8,
    "start_time": "2024-03-31T16:11:38.320Z"
   },
   {
    "duration": 1687,
    "start_time": "2024-03-31T16:12:04.936Z"
   },
   {
    "duration": 2156,
    "start_time": "2024-03-31T16:12:18.475Z"
   },
   {
    "duration": 109,
    "start_time": "2024-03-31T16:37:06.616Z"
   },
   {
    "duration": 3,
    "start_time": "2024-03-31T16:37:14.969Z"
   },
   {
    "duration": 9,
    "start_time": "2024-03-31T16:37:18.593Z"
   },
   {
    "duration": 9,
    "start_time": "2024-03-31T16:38:41.408Z"
   },
   {
    "duration": 44,
    "start_time": "2024-03-31T16:42:05.640Z"
   },
   {
    "duration": 23,
    "start_time": "2024-03-31T16:42:11.856Z"
   },
   {
    "duration": 63,
    "start_time": "2024-03-31T16:54:06.677Z"
   },
   {
    "duration": 57,
    "start_time": "2024-03-31T16:54:36.633Z"
   },
   {
    "duration": 58,
    "start_time": "2024-03-31T16:54:51.489Z"
   },
   {
    "duration": 24,
    "start_time": "2024-03-31T16:55:05.336Z"
   },
   {
    "duration": 9,
    "start_time": "2024-03-31T16:58:08.973Z"
   },
   {
    "duration": 1254,
    "start_time": "2024-03-31T16:58:16.143Z"
   },
   {
    "duration": 27,
    "start_time": "2024-03-31T16:58:17.399Z"
   },
   {
    "duration": 22,
    "start_time": "2024-03-31T16:58:17.427Z"
   },
   {
    "duration": 24,
    "start_time": "2024-03-31T16:58:17.451Z"
   },
   {
    "duration": 21,
    "start_time": "2024-03-31T16:58:17.478Z"
   },
   {
    "duration": 1908,
    "start_time": "2024-03-31T16:58:17.500Z"
   },
   {
    "duration": 8,
    "start_time": "2024-03-31T16:58:19.409Z"
   },
   {
    "duration": 22,
    "start_time": "2024-03-31T16:58:19.419Z"
   },
   {
    "duration": 8,
    "start_time": "2024-03-31T16:58:19.442Z"
   },
   {
    "duration": 9,
    "start_time": "2024-03-31T16:58:19.451Z"
   },
   {
    "duration": 94,
    "start_time": "2024-03-31T16:58:19.461Z"
   },
   {
    "duration": 11,
    "start_time": "2024-03-31T16:58:21.993Z"
   },
   {
    "duration": 8,
    "start_time": "2024-03-31T16:58:35.213Z"
   },
   {
    "duration": 7,
    "start_time": "2024-03-31T16:59:07.014Z"
   },
   {
    "duration": 8,
    "start_time": "2024-03-31T16:59:25.298Z"
   },
   {
    "duration": 11,
    "start_time": "2024-03-31T17:01:05.188Z"
   },
   {
    "duration": 5,
    "start_time": "2024-03-31T17:01:18.639Z"
   },
   {
    "duration": 5,
    "start_time": "2024-03-31T17:01:40.891Z"
   },
   {
    "duration": 5,
    "start_time": "2024-03-31T17:01:56.453Z"
   },
   {
    "duration": 8,
    "start_time": "2024-03-31T17:05:46.677Z"
   },
   {
    "duration": 12,
    "start_time": "2024-03-31T17:05:52.870Z"
   },
   {
    "duration": 8,
    "start_time": "2024-03-31T17:06:00.191Z"
   },
   {
    "duration": 11,
    "start_time": "2024-03-31T17:06:11.145Z"
   },
   {
    "duration": 1209,
    "start_time": "2024-03-31T17:06:17.159Z"
   },
   {
    "duration": 29,
    "start_time": "2024-03-31T17:06:18.369Z"
   },
   {
    "duration": 23,
    "start_time": "2024-03-31T17:06:18.399Z"
   },
   {
    "duration": 15,
    "start_time": "2024-03-31T17:06:18.423Z"
   },
   {
    "duration": 41,
    "start_time": "2024-03-31T17:06:18.440Z"
   },
   {
    "duration": 1942,
    "start_time": "2024-03-31T17:06:18.482Z"
   },
   {
    "duration": 8,
    "start_time": "2024-03-31T17:06:20.425Z"
   },
   {
    "duration": 24,
    "start_time": "2024-03-31T17:06:20.435Z"
   },
   {
    "duration": 4,
    "start_time": "2024-03-31T17:06:20.460Z"
   },
   {
    "duration": 18,
    "start_time": "2024-03-31T17:06:20.465Z"
   },
   {
    "duration": 4,
    "start_time": "2024-03-31T17:06:20.484Z"
   },
   {
    "duration": 13,
    "start_time": "2024-03-31T17:06:20.490Z"
   },
   {
    "duration": 100,
    "start_time": "2024-03-31T17:06:20.504Z"
   },
   {
    "duration": 5,
    "start_time": "2024-03-31T17:06:31.540Z"
   },
   {
    "duration": 11,
    "start_time": "2024-03-31T17:06:50.157Z"
   },
   {
    "duration": 11,
    "start_time": "2024-03-31T17:06:56.986Z"
   },
   {
    "duration": 5,
    "start_time": "2024-03-31T17:07:22.072Z"
   },
   {
    "duration": 8,
    "start_time": "2024-03-31T17:07:34.485Z"
   },
   {
    "duration": 8,
    "start_time": "2024-03-31T17:08:30.335Z"
   },
   {
    "duration": 4,
    "start_time": "2024-03-31T17:08:39.638Z"
   },
   {
    "duration": 14,
    "start_time": "2024-03-31T17:09:21.238Z"
   },
   {
    "duration": 24,
    "start_time": "2024-03-31T17:10:46.546Z"
   },
   {
    "duration": 5,
    "start_time": "2024-03-31T17:11:47.629Z"
   },
   {
    "duration": 9,
    "start_time": "2024-03-31T17:11:49.931Z"
   },
   {
    "duration": 4,
    "start_time": "2024-03-31T17:11:52.843Z"
   },
   {
    "duration": 14,
    "start_time": "2024-03-31T17:11:55.674Z"
   },
   {
    "duration": 181,
    "start_time": "2024-03-31T17:14:46.676Z"
   },
   {
    "duration": 187,
    "start_time": "2024-03-31T17:14:57.613Z"
   },
   {
    "duration": 201,
    "start_time": "2024-03-31T17:15:01.248Z"
   },
   {
    "duration": 165,
    "start_time": "2024-03-31T17:15:05.837Z"
   },
   {
    "duration": 204,
    "start_time": "2024-03-31T17:15:10.675Z"
   },
   {
    "duration": 152,
    "start_time": "2024-03-31T17:15:16.986Z"
   },
   {
    "duration": 156,
    "start_time": "2024-03-31T17:15:23.945Z"
   },
   {
    "duration": 175,
    "start_time": "2024-03-31T17:15:37.316Z"
   },
   {
    "duration": 6,
    "start_time": "2024-03-31T17:17:35.278Z"
   },
   {
    "duration": 8,
    "start_time": "2024-03-31T17:17:36.960Z"
   },
   {
    "duration": 18,
    "start_time": "2024-03-31T17:17:39.153Z"
   },
   {
    "duration": 13,
    "start_time": "2024-03-31T17:17:53.961Z"
   },
   {
    "duration": 6,
    "start_time": "2024-03-31T17:18:18.203Z"
   },
   {
    "duration": 12,
    "start_time": "2024-03-31T17:18:39.021Z"
   },
   {
    "duration": 23,
    "start_time": "2024-03-31T17:18:44.396Z"
   },
   {
    "duration": 9,
    "start_time": "2024-03-31T17:19:23.418Z"
   },
   {
    "duration": 5,
    "start_time": "2024-03-31T17:19:30.697Z"
   },
   {
    "duration": 8,
    "start_time": "2024-03-31T17:19:32.271Z"
   },
   {
    "duration": 14,
    "start_time": "2024-03-31T17:19:34.755Z"
   },
   {
    "duration": 24,
    "start_time": "2024-03-31T17:19:37.258Z"
   },
   {
    "duration": 5,
    "start_time": "2024-03-31T17:19:46.072Z"
   },
   {
    "duration": 29,
    "start_time": "2024-03-31T17:19:48.864Z"
   },
   {
    "duration": 3,
    "start_time": "2024-03-31T17:19:52.651Z"
   },
   {
    "duration": 13,
    "start_time": "2024-03-31T17:19:54.287Z"
   },
   {
    "duration": 117,
    "start_time": "2024-03-31T17:19:59.627Z"
   },
   {
    "duration": 185,
    "start_time": "2024-03-31T17:20:03.135Z"
   },
   {
    "duration": 7,
    "start_time": "2024-03-31T17:24:28.548Z"
   },
   {
    "duration": 7,
    "start_time": "2024-03-31T17:24:56.352Z"
   },
   {
    "duration": 2,
    "start_time": "2024-03-31T17:27:38.754Z"
   },
   {
    "duration": 7,
    "start_time": "2024-03-31T17:29:54.509Z"
   },
   {
    "duration": 8,
    "start_time": "2024-03-31T17:30:04.576Z"
   },
   {
    "duration": 30,
    "start_time": "2024-03-31T17:30:08.500Z"
   },
   {
    "duration": 534,
    "start_time": "2024-03-31T17:32:12.119Z"
   },
   {
    "duration": 224,
    "start_time": "2024-03-31T17:32:37.386Z"
   },
   {
    "duration": 14,
    "start_time": "2024-03-31T17:33:30.414Z"
   },
   {
    "duration": 6,
    "start_time": "2024-03-31T17:33:43.038Z"
   },
   {
    "duration": 14,
    "start_time": "2024-03-31T17:34:03.264Z"
   },
   {
    "duration": 19,
    "start_time": "2024-03-31T17:34:11.297Z"
   },
   {
    "duration": 32,
    "start_time": "2024-03-31T17:34:40.345Z"
   },
   {
    "duration": 11,
    "start_time": "2024-03-31T17:35:58.138Z"
   },
   {
    "duration": 9,
    "start_time": "2024-03-31T17:36:00.014Z"
   },
   {
    "duration": 6,
    "start_time": "2024-03-31T17:37:44.944Z"
   },
   {
    "duration": 7,
    "start_time": "2024-03-31T17:38:02.726Z"
   },
   {
    "duration": 25,
    "start_time": "2024-03-31T17:38:07.231Z"
   },
   {
    "duration": 4,
    "start_time": "2024-03-31T17:41:45.963Z"
   },
   {
    "duration": 4,
    "start_time": "2024-03-31T17:41:48.613Z"
   },
   {
    "duration": 5,
    "start_time": "2024-03-31T17:42:04.203Z"
   },
   {
    "duration": 15,
    "start_time": "2024-03-31T17:42:31.969Z"
   },
   {
    "duration": 9,
    "start_time": "2024-03-31T17:49:26.469Z"
   },
   {
    "duration": 37,
    "start_time": "2024-03-31T17:49:42.276Z"
   },
   {
    "duration": 4,
    "start_time": "2024-03-31T17:50:04.629Z"
   },
   {
    "duration": 3,
    "start_time": "2024-03-31T17:50:35.206Z"
   },
   {
    "duration": 319,
    "start_time": "2024-03-31T18:05:13.416Z"
   },
   {
    "duration": 3,
    "start_time": "2024-03-31T18:05:16.555Z"
   },
   {
    "duration": 13,
    "start_time": "2024-03-31T18:05:43.230Z"
   },
   {
    "duration": 13,
    "start_time": "2024-03-31T18:06:02.784Z"
   },
   {
    "duration": 66,
    "start_time": "2024-03-31T18:14:22.729Z"
   },
   {
    "duration": 4,
    "start_time": "2024-03-31T18:15:30.429Z"
   },
   {
    "duration": 4,
    "start_time": "2024-03-31T18:17:22.536Z"
   },
   {
    "duration": 8,
    "start_time": "2024-03-31T18:17:43.205Z"
   },
   {
    "duration": 5,
    "start_time": "2024-03-31T18:17:55.564Z"
   },
   {
    "duration": 3,
    "start_time": "2024-03-31T18:18:00.009Z"
   },
   {
    "duration": 4,
    "start_time": "2024-03-31T18:19:17.277Z"
   },
   {
    "duration": 9,
    "start_time": "2024-03-31T18:19:44.896Z"
   },
   {
    "duration": 5,
    "start_time": "2024-03-31T18:19:52.006Z"
   },
   {
    "duration": 8,
    "start_time": "2024-03-31T18:19:53.674Z"
   },
   {
    "duration": 7,
    "start_time": "2024-03-31T18:20:28.384Z"
   },
   {
    "duration": 3,
    "start_time": "2024-03-31T18:23:44.413Z"
   },
   {
    "duration": 8,
    "start_time": "2024-03-31T18:29:17.563Z"
   },
   {
    "duration": 8,
    "start_time": "2024-03-31T18:29:25.273Z"
   },
   {
    "duration": 9,
    "start_time": "2024-03-31T18:29:36.929Z"
   },
   {
    "duration": 11,
    "start_time": "2024-03-31T18:33:46.639Z"
   },
   {
    "duration": 8,
    "start_time": "2024-03-31T18:33:48.492Z"
   },
   {
    "duration": 317,
    "start_time": "2024-03-31T18:35:31.156Z"
   },
   {
    "duration": 324,
    "start_time": "2024-03-31T18:35:39.017Z"
   },
   {
    "duration": 314,
    "start_time": "2024-03-31T18:37:00.006Z"
   },
   {
    "duration": 7,
    "start_time": "2024-03-31T18:37:42.107Z"
   },
   {
    "duration": 8,
    "start_time": "2024-03-31T18:37:56.163Z"
   },
   {
    "duration": 9,
    "start_time": "2024-03-31T18:38:01.696Z"
   },
   {
    "duration": 8,
    "start_time": "2024-03-31T18:38:13.346Z"
   },
   {
    "duration": 4,
    "start_time": "2024-03-31T18:38:37.133Z"
   },
   {
    "duration": 9,
    "start_time": "2024-03-31T18:48:28.627Z"
   },
   {
    "duration": 947,
    "start_time": "2024-03-31T18:48:42.905Z"
   },
   {
    "duration": 5,
    "start_time": "2024-03-31T18:48:56.766Z"
   },
   {
    "duration": 5,
    "start_time": "2024-03-31T18:48:58.768Z"
   },
   {
    "duration": 6,
    "start_time": "2024-03-31T18:52:40.078Z"
   },
   {
    "duration": 12,
    "start_time": "2024-03-31T18:53:13.026Z"
   },
   {
    "duration": 5,
    "start_time": "2024-03-31T18:54:03.915Z"
   },
   {
    "duration": 417,
    "start_time": "2024-03-31T18:55:27.507Z"
   },
   {
    "duration": 19,
    "start_time": "2024-03-31T19:00:06.480Z"
   },
   {
    "duration": 32,
    "start_time": "2024-03-31T19:01:35.076Z"
   },
   {
    "duration": 9,
    "start_time": "2024-03-31T19:04:32.904Z"
   },
   {
    "duration": 9,
    "start_time": "2024-03-31T19:04:56.893Z"
   },
   {
    "duration": 21,
    "start_time": "2024-03-31T19:05:55.857Z"
   },
   {
    "duration": 23,
    "start_time": "2024-03-31T19:06:35.939Z"
   },
   {
    "duration": 20,
    "start_time": "2024-03-31T19:08:17.722Z"
   },
   {
    "duration": 26,
    "start_time": "2024-03-31T19:10:39.014Z"
   },
   {
    "duration": 28,
    "start_time": "2024-03-31T19:20:14.985Z"
   },
   {
    "duration": 16,
    "start_time": "2024-03-31T19:49:56.904Z"
   },
   {
    "duration": 3,
    "start_time": "2024-03-31T19:57:27.639Z"
   },
   {
    "duration": 1618,
    "start_time": "2024-04-01T05:32:38.462Z"
   },
   {
    "duration": 30,
    "start_time": "2024-04-01T05:32:40.082Z"
   },
   {
    "duration": 25,
    "start_time": "2024-04-01T05:32:40.114Z"
   },
   {
    "duration": 16,
    "start_time": "2024-04-01T05:32:40.140Z"
   },
   {
    "duration": 24,
    "start_time": "2024-04-01T05:32:40.158Z"
   },
   {
    "duration": 95,
    "start_time": "2024-04-01T05:32:40.184Z"
   },
   {
    "duration": 2078,
    "start_time": "2024-04-01T05:32:40.281Z"
   },
   {
    "duration": 8,
    "start_time": "2024-04-01T05:32:42.361Z"
   },
   {
    "duration": 6,
    "start_time": "2024-04-01T05:32:42.371Z"
   },
   {
    "duration": 3,
    "start_time": "2024-04-01T05:32:42.379Z"
   },
   {
    "duration": 6,
    "start_time": "2024-04-01T05:32:42.384Z"
   },
   {
    "duration": 6,
    "start_time": "2024-04-01T05:32:42.392Z"
   },
   {
    "duration": 13,
    "start_time": "2024-04-01T05:32:42.399Z"
   },
   {
    "duration": 4,
    "start_time": "2024-04-01T05:32:42.414Z"
   },
   {
    "duration": 120,
    "start_time": "2024-04-01T05:32:42.420Z"
   },
   {
    "duration": 0,
    "start_time": "2024-04-01T05:32:42.542Z"
   },
   {
    "duration": 0,
    "start_time": "2024-04-01T05:32:42.543Z"
   },
   {
    "duration": 0,
    "start_time": "2024-04-01T05:32:42.544Z"
   },
   {
    "duration": 0,
    "start_time": "2024-04-01T05:32:42.546Z"
   },
   {
    "duration": 0,
    "start_time": "2024-04-01T05:32:42.547Z"
   },
   {
    "duration": 0,
    "start_time": "2024-04-01T05:32:42.547Z"
   },
   {
    "duration": 0,
    "start_time": "2024-04-01T05:32:42.548Z"
   },
   {
    "duration": 0,
    "start_time": "2024-04-01T05:32:42.550Z"
   },
   {
    "duration": 0,
    "start_time": "2024-04-01T05:32:42.551Z"
   },
   {
    "duration": 0,
    "start_time": "2024-04-01T05:32:42.553Z"
   },
   {
    "duration": 0,
    "start_time": "2024-04-01T05:32:42.554Z"
   },
   {
    "duration": 0,
    "start_time": "2024-04-01T05:32:42.555Z"
   },
   {
    "duration": 0,
    "start_time": "2024-04-01T05:32:42.555Z"
   },
   {
    "duration": 0,
    "start_time": "2024-04-01T05:32:42.557Z"
   },
   {
    "duration": 0,
    "start_time": "2024-04-01T05:32:42.557Z"
   },
   {
    "duration": 0,
    "start_time": "2024-04-01T05:32:42.559Z"
   },
   {
    "duration": 974,
    "start_time": "2024-04-01T05:32:54.731Z"
   },
   {
    "duration": 8,
    "start_time": "2024-04-01T05:32:56.381Z"
   },
   {
    "duration": 1360,
    "start_time": "2024-04-01T05:33:12.003Z"
   },
   {
    "duration": 31,
    "start_time": "2024-04-01T05:33:13.365Z"
   },
   {
    "duration": 36,
    "start_time": "2024-04-01T05:33:13.398Z"
   },
   {
    "duration": 16,
    "start_time": "2024-04-01T05:33:13.436Z"
   },
   {
    "duration": 30,
    "start_time": "2024-04-01T05:33:13.456Z"
   },
   {
    "duration": 107,
    "start_time": "2024-04-01T05:33:13.488Z"
   },
   {
    "duration": 2202,
    "start_time": "2024-04-01T05:33:13.597Z"
   },
   {
    "duration": 10,
    "start_time": "2024-04-01T05:33:15.802Z"
   },
   {
    "duration": 8,
    "start_time": "2024-04-01T05:33:15.814Z"
   },
   {
    "duration": 5,
    "start_time": "2024-04-01T05:33:15.824Z"
   },
   {
    "duration": 11,
    "start_time": "2024-04-01T05:33:15.831Z"
   },
   {
    "duration": 8,
    "start_time": "2024-04-01T05:33:15.843Z"
   },
   {
    "duration": 10,
    "start_time": "2024-04-01T05:33:15.852Z"
   },
   {
    "duration": 4,
    "start_time": "2024-04-01T05:33:15.865Z"
   },
   {
    "duration": 139,
    "start_time": "2024-04-01T05:33:15.870Z"
   },
   {
    "duration": 0,
    "start_time": "2024-04-01T05:33:16.016Z"
   },
   {
    "duration": 0,
    "start_time": "2024-04-01T05:33:16.018Z"
   },
   {
    "duration": 0,
    "start_time": "2024-04-01T05:33:16.019Z"
   },
   {
    "duration": 0,
    "start_time": "2024-04-01T05:33:16.020Z"
   },
   {
    "duration": 0,
    "start_time": "2024-04-01T05:33:16.022Z"
   },
   {
    "duration": 0,
    "start_time": "2024-04-01T05:33:16.024Z"
   },
   {
    "duration": 0,
    "start_time": "2024-04-01T05:33:16.026Z"
   },
   {
    "duration": 0,
    "start_time": "2024-04-01T05:33:16.027Z"
   },
   {
    "duration": 0,
    "start_time": "2024-04-01T05:33:16.028Z"
   },
   {
    "duration": 0,
    "start_time": "2024-04-01T05:33:16.031Z"
   },
   {
    "duration": 0,
    "start_time": "2024-04-01T05:33:16.032Z"
   },
   {
    "duration": 0,
    "start_time": "2024-04-01T05:33:16.033Z"
   },
   {
    "duration": 0,
    "start_time": "2024-04-01T05:33:16.034Z"
   },
   {
    "duration": 0,
    "start_time": "2024-04-01T05:33:16.035Z"
   },
   {
    "duration": 0,
    "start_time": "2024-04-01T05:33:16.036Z"
   },
   {
    "duration": 0,
    "start_time": "2024-04-01T05:33:16.037Z"
   },
   {
    "duration": 45,
    "start_time": "2024-04-01T17:27:34.079Z"
   },
   {
    "duration": 1516,
    "start_time": "2024-04-01T17:27:43.164Z"
   },
   {
    "duration": 32,
    "start_time": "2024-04-01T17:27:44.682Z"
   },
   {
    "duration": 27,
    "start_time": "2024-04-01T17:27:44.716Z"
   },
   {
    "duration": 21,
    "start_time": "2024-04-01T17:27:44.745Z"
   },
   {
    "duration": 22,
    "start_time": "2024-04-01T17:27:44.767Z"
   },
   {
    "duration": 79,
    "start_time": "2024-04-01T17:27:44.790Z"
   },
   {
    "duration": 1907,
    "start_time": "2024-04-01T17:27:44.871Z"
   },
   {
    "duration": 7,
    "start_time": "2024-04-01T17:27:46.780Z"
   },
   {
    "duration": 7,
    "start_time": "2024-04-01T17:27:46.789Z"
   },
   {
    "duration": 3,
    "start_time": "2024-04-01T17:27:46.798Z"
   },
   {
    "duration": 16,
    "start_time": "2024-04-01T17:27:46.802Z"
   },
   {
    "duration": 7,
    "start_time": "2024-04-01T17:27:46.819Z"
   },
   {
    "duration": 5,
    "start_time": "2024-04-01T17:27:46.827Z"
   },
   {
    "duration": 5,
    "start_time": "2024-04-01T17:27:46.833Z"
   },
   {
    "duration": 14,
    "start_time": "2024-04-01T17:27:46.839Z"
   },
   {
    "duration": 3,
    "start_time": "2024-04-01T17:27:46.854Z"
   },
   {
    "duration": 20,
    "start_time": "2024-04-01T17:27:46.859Z"
   },
   {
    "duration": 427,
    "start_time": "2024-04-01T17:27:46.881Z"
   },
   {
    "duration": 7,
    "start_time": "2024-04-01T17:27:47.309Z"
   },
   {
    "duration": 6,
    "start_time": "2024-04-01T17:27:47.318Z"
   },
   {
    "duration": 29,
    "start_time": "2024-04-01T17:27:47.326Z"
   },
   {
    "duration": 17,
    "start_time": "2024-04-01T17:27:47.356Z"
   },
   {
    "duration": 25,
    "start_time": "2024-04-01T17:27:47.375Z"
   },
   {
    "duration": 20,
    "start_time": "2024-04-01T17:27:47.402Z"
   },
   {
    "duration": 5,
    "start_time": "2024-04-01T17:27:47.423Z"
   },
   {
    "duration": 19,
    "start_time": "2024-04-01T17:27:47.429Z"
   },
   {
    "duration": 5,
    "start_time": "2024-04-01T17:27:47.449Z"
   },
   {
    "duration": 322,
    "start_time": "2024-04-01T17:27:47.457Z"
   },
   {
    "duration": 6,
    "start_time": "2024-04-01T17:27:47.781Z"
   },
   {
    "duration": 9,
    "start_time": "2024-04-01T17:27:47.789Z"
   },
   {
    "duration": 20,
    "start_time": "2024-04-01T17:27:47.799Z"
   },
   {
    "duration": 299,
    "start_time": "2024-04-01T17:29:58.281Z"
   },
   {
    "duration": 6,
    "start_time": "2024-04-01T17:30:02.528Z"
   },
   {
    "duration": 9,
    "start_time": "2024-04-01T17:30:07.187Z"
   },
   {
    "duration": 3,
    "start_time": "2024-04-01T17:30:12.446Z"
   },
   {
    "duration": 376,
    "start_time": "2024-04-01T17:30:15.497Z"
   },
   {
    "duration": 7,
    "start_time": "2024-04-01T17:30:18.823Z"
   },
   {
    "duration": 9,
    "start_time": "2024-04-01T17:30:22.174Z"
   },
   {
    "duration": 21,
    "start_time": "2024-04-01T17:30:27.662Z"
   },
   {
    "duration": 4,
    "start_time": "2024-04-01T17:59:19.449Z"
   },
   {
    "duration": 5,
    "start_time": "2024-04-01T18:02:59.801Z"
   },
   {
    "duration": 4,
    "start_time": "2024-04-01T18:03:22.276Z"
   },
   {
    "duration": 5,
    "start_time": "2024-04-01T18:03:35.142Z"
   },
   {
    "duration": 4,
    "start_time": "2024-04-01T18:03:57.221Z"
   },
   {
    "duration": 5,
    "start_time": "2024-04-01T18:04:09.326Z"
   },
   {
    "duration": 4,
    "start_time": "2024-04-01T18:04:11.297Z"
   },
   {
    "duration": 4,
    "start_time": "2024-04-01T18:04:37.814Z"
   },
   {
    "duration": 21,
    "start_time": "2024-04-01T18:04:56.647Z"
   },
   {
    "duration": 21,
    "start_time": "2024-04-01T18:05:40.162Z"
   },
   {
    "duration": 21,
    "start_time": "2024-04-01T18:06:10.020Z"
   },
   {
    "duration": 4,
    "start_time": "2024-04-01T18:06:49.788Z"
   },
   {
    "duration": 5,
    "start_time": "2024-04-01T18:06:56.721Z"
   },
   {
    "duration": 4,
    "start_time": "2024-04-01T18:07:11.631Z"
   },
   {
    "duration": 4,
    "start_time": "2024-04-01T18:07:27.941Z"
   },
   {
    "duration": 4,
    "start_time": "2024-04-01T18:07:48.768Z"
   },
   {
    "duration": 5,
    "start_time": "2024-04-01T18:07:53.938Z"
   },
   {
    "duration": 4,
    "start_time": "2024-04-01T18:08:06.816Z"
   },
   {
    "duration": 5,
    "start_time": "2024-04-01T18:08:11.879Z"
   },
   {
    "duration": 4,
    "start_time": "2024-04-01T18:11:53.533Z"
   },
   {
    "duration": 4,
    "start_time": "2024-04-01T18:12:01.105Z"
   },
   {
    "duration": 5,
    "start_time": "2024-04-01T18:12:24.583Z"
   },
   {
    "duration": 4,
    "start_time": "2024-04-01T18:17:12.441Z"
   },
   {
    "duration": 281,
    "start_time": "2024-04-01T18:22:05.778Z"
   },
   {
    "duration": 5,
    "start_time": "2024-04-01T18:24:31.530Z"
   },
   {
    "duration": 2678,
    "start_time": "2024-04-01T18:48:59.714Z"
   },
   {
    "duration": 5,
    "start_time": "2024-04-01T18:50:39.280Z"
   },
   {
    "duration": 1720,
    "start_time": "2024-04-02T18:54:11.730Z"
   },
   {
    "duration": 31,
    "start_time": "2024-04-02T18:54:13.452Z"
   },
   {
    "duration": 26,
    "start_time": "2024-04-02T18:54:13.484Z"
   },
   {
    "duration": 15,
    "start_time": "2024-04-02T18:54:13.512Z"
   },
   {
    "duration": 26,
    "start_time": "2024-04-02T18:54:13.530Z"
   },
   {
    "duration": 103,
    "start_time": "2024-04-02T18:54:13.558Z"
   },
   {
    "duration": 2141,
    "start_time": "2024-04-02T18:54:13.663Z"
   },
   {
    "duration": 12,
    "start_time": "2024-04-02T18:54:15.806Z"
   },
   {
    "duration": 25,
    "start_time": "2024-04-02T18:54:15.820Z"
   },
   {
    "duration": 12,
    "start_time": "2024-04-02T18:54:15.846Z"
   },
   {
    "duration": 17,
    "start_time": "2024-04-02T18:54:15.860Z"
   },
   {
    "duration": 26,
    "start_time": "2024-04-02T18:54:15.879Z"
   },
   {
    "duration": 22,
    "start_time": "2024-04-02T18:54:15.908Z"
   },
   {
    "duration": 14,
    "start_time": "2024-04-02T18:54:15.933Z"
   },
   {
    "duration": 34,
    "start_time": "2024-04-02T18:54:15.949Z"
   },
   {
    "duration": 8,
    "start_time": "2024-04-02T18:54:15.985Z"
   },
   {
    "duration": 27,
    "start_time": "2024-04-02T18:54:15.995Z"
   },
   {
    "duration": 518,
    "start_time": "2024-04-02T18:54:16.024Z"
   },
   {
    "duration": 7,
    "start_time": "2024-04-02T18:54:16.544Z"
   },
   {
    "duration": 7,
    "start_time": "2024-04-02T18:54:16.553Z"
   },
   {
    "duration": 9,
    "start_time": "2024-04-02T18:54:16.561Z"
   },
   {
    "duration": 19,
    "start_time": "2024-04-02T18:54:16.592Z"
   },
   {
    "duration": 29,
    "start_time": "2024-04-02T18:54:16.613Z"
   },
   {
    "duration": 27,
    "start_time": "2024-04-02T18:54:16.644Z"
   },
   {
    "duration": 18,
    "start_time": "2024-04-02T18:54:16.673Z"
   },
   {
    "duration": 7,
    "start_time": "2024-04-02T18:54:16.693Z"
   },
   {
    "duration": 7,
    "start_time": "2024-04-02T18:54:16.702Z"
   },
   {
    "duration": 15,
    "start_time": "2024-04-02T18:54:16.711Z"
   },
   {
    "duration": 5,
    "start_time": "2024-04-02T18:54:16.728Z"
   },
   {
    "duration": 371,
    "start_time": "2024-04-02T18:54:16.735Z"
   },
   {
    "duration": 8,
    "start_time": "2024-04-02T18:54:17.108Z"
   },
   {
    "duration": 43,
    "start_time": "2024-04-02T18:54:17.117Z"
   },
   {
    "duration": 52,
    "start_time": "2024-04-02T18:54:17.162Z"
   },
   {
    "duration": 1335,
    "start_time": "2024-04-02T20:06:35.012Z"
   },
   {
    "duration": 90,
    "start_time": "2024-04-02T20:08:49.463Z"
   },
   {
    "duration": 4,
    "start_time": "2024-04-02T20:12:03.665Z"
   },
   {
    "duration": 13,
    "start_time": "2024-04-02T20:12:27.712Z"
   },
   {
    "duration": 6,
    "start_time": "2024-04-02T20:13:03.671Z"
   },
   {
    "duration": 12,
    "start_time": "2024-04-02T20:13:31.216Z"
   },
   {
    "duration": 28,
    "start_time": "2024-04-02T20:14:04.500Z"
   },
   {
    "duration": 34,
    "start_time": "2024-04-02T20:14:06.289Z"
   },
   {
    "duration": 12,
    "start_time": "2024-04-02T20:14:08.681Z"
   },
   {
    "duration": 20,
    "start_time": "2024-04-02T20:14:25.814Z"
   },
   {
    "duration": 6,
    "start_time": "2024-04-02T20:14:57.043Z"
   },
   {
    "duration": 6,
    "start_time": "2024-04-02T20:14:58.401Z"
   },
   {
    "duration": 1601,
    "start_time": "2024-04-02T20:16:17.881Z"
   },
   {
    "duration": 50,
    "start_time": "2024-04-02T20:16:19.485Z"
   },
   {
    "duration": 19,
    "start_time": "2024-04-02T20:16:19.537Z"
   },
   {
    "duration": 58,
    "start_time": "2024-04-02T20:16:19.559Z"
   },
   {
    "duration": 99,
    "start_time": "2024-04-02T20:16:19.619Z"
   },
   {
    "duration": 2491,
    "start_time": "2024-04-02T20:16:19.720Z"
   },
   {
    "duration": 10,
    "start_time": "2024-04-02T20:16:22.215Z"
   },
   {
    "duration": 26,
    "start_time": "2024-04-02T20:16:22.227Z"
   },
   {
    "duration": 8,
    "start_time": "2024-04-02T20:16:22.254Z"
   },
   {
    "duration": 17,
    "start_time": "2024-04-02T20:16:22.265Z"
   },
   {
    "duration": 16,
    "start_time": "2024-04-02T20:16:22.284Z"
   },
   {
    "duration": 21,
    "start_time": "2024-04-02T20:16:22.302Z"
   },
   {
    "duration": 12,
    "start_time": "2024-04-02T20:16:22.325Z"
   },
   {
    "duration": 5,
    "start_time": "2024-04-02T20:16:22.339Z"
   },
   {
    "duration": 46,
    "start_time": "2024-04-02T20:16:22.346Z"
   },
   {
    "duration": 12,
    "start_time": "2024-04-02T20:16:22.394Z"
   },
   {
    "duration": 15,
    "start_time": "2024-04-02T20:16:22.409Z"
   },
   {
    "duration": 10,
    "start_time": "2024-04-02T20:16:22.426Z"
   },
   {
    "duration": 10,
    "start_time": "2024-04-02T20:16:22.438Z"
   },
   {
    "duration": 9,
    "start_time": "2024-04-02T20:16:22.449Z"
   },
   {
    "duration": 67,
    "start_time": "2024-04-02T20:16:22.460Z"
   },
   {
    "duration": 29,
    "start_time": "2024-04-02T20:16:22.529Z"
   },
   {
    "duration": 27,
    "start_time": "2024-04-02T20:16:22.560Z"
   },
   {
    "duration": 15,
    "start_time": "2024-04-02T20:16:22.589Z"
   },
   {
    "duration": 15,
    "start_time": "2024-04-02T20:16:22.607Z"
   },
   {
    "duration": 18,
    "start_time": "2024-04-02T20:16:22.624Z"
   },
   {
    "duration": 16,
    "start_time": "2024-04-02T20:16:22.644Z"
   },
   {
    "duration": 24,
    "start_time": "2024-04-02T20:16:22.663Z"
   },
   {
    "duration": 15,
    "start_time": "2024-04-02T20:16:22.688Z"
   },
   {
    "duration": 440,
    "start_time": "2024-04-02T20:16:22.705Z"
   },
   {
    "duration": 8,
    "start_time": "2024-04-02T20:16:23.147Z"
   },
   {
    "duration": 25,
    "start_time": "2024-04-02T20:16:23.157Z"
   },
   {
    "duration": 56,
    "start_time": "2024-04-02T20:16:23.184Z"
   },
   {
    "duration": 312,
    "start_time": "2024-04-02T20:21:06.018Z"
   },
   {
    "duration": 197,
    "start_time": "2024-04-02T20:21:42.083Z"
   },
   {
    "duration": 201,
    "start_time": "2024-04-02T20:21:59.352Z"
   },
   {
    "duration": 213,
    "start_time": "2024-04-02T20:22:25.518Z"
   },
   {
    "duration": 200,
    "start_time": "2024-04-02T20:22:53.040Z"
   },
   {
    "duration": 190,
    "start_time": "2024-04-02T20:24:55.019Z"
   },
   {
    "duration": 311,
    "start_time": "2024-04-02T20:24:58.969Z"
   },
   {
    "duration": 4,
    "start_time": "2024-04-02T20:39:17.385Z"
   },
   {
    "duration": 11,
    "start_time": "2024-04-02T20:39:19.918Z"
   },
   {
    "duration": 11,
    "start_time": "2024-04-02T20:39:26.839Z"
   },
   {
    "duration": 1424,
    "start_time": "2024-04-02T20:39:45.799Z"
   },
   {
    "duration": 32,
    "start_time": "2024-04-02T20:39:47.226Z"
   },
   {
    "duration": 16,
    "start_time": "2024-04-02T20:39:47.260Z"
   },
   {
    "duration": 42,
    "start_time": "2024-04-02T20:39:47.277Z"
   },
   {
    "duration": 89,
    "start_time": "2024-04-02T20:39:47.321Z"
   },
   {
    "duration": 2283,
    "start_time": "2024-04-02T20:39:47.413Z"
   },
   {
    "duration": 11,
    "start_time": "2024-04-02T20:39:49.698Z"
   },
   {
    "duration": 12,
    "start_time": "2024-04-02T20:39:49.713Z"
   },
   {
    "duration": 3,
    "start_time": "2024-04-02T20:39:49.727Z"
   },
   {
    "duration": 13,
    "start_time": "2024-04-02T20:39:49.731Z"
   },
   {
    "duration": 7,
    "start_time": "2024-04-02T20:39:49.747Z"
   },
   {
    "duration": 38,
    "start_time": "2024-04-02T20:39:49.756Z"
   },
   {
    "duration": 1553,
    "start_time": "2024-04-02T20:39:49.797Z"
   },
   {
    "duration": 0,
    "start_time": "2024-04-02T20:39:51.353Z"
   },
   {
    "duration": 0,
    "start_time": "2024-04-02T20:39:51.354Z"
   },
   {
    "duration": 0,
    "start_time": "2024-04-02T20:39:51.355Z"
   },
   {
    "duration": 0,
    "start_time": "2024-04-02T20:39:51.356Z"
   },
   {
    "duration": 0,
    "start_time": "2024-04-02T20:39:51.357Z"
   },
   {
    "duration": 0,
    "start_time": "2024-04-02T20:39:51.359Z"
   },
   {
    "duration": 0,
    "start_time": "2024-04-02T20:39:51.360Z"
   },
   {
    "duration": 0,
    "start_time": "2024-04-02T20:39:51.360Z"
   },
   {
    "duration": 0,
    "start_time": "2024-04-02T20:39:51.362Z"
   },
   {
    "duration": 0,
    "start_time": "2024-04-02T20:39:51.363Z"
   },
   {
    "duration": 0,
    "start_time": "2024-04-02T20:39:51.364Z"
   },
   {
    "duration": 0,
    "start_time": "2024-04-02T20:39:51.365Z"
   },
   {
    "duration": 0,
    "start_time": "2024-04-02T20:39:51.367Z"
   },
   {
    "duration": 0,
    "start_time": "2024-04-02T20:39:51.368Z"
   },
   {
    "duration": 0,
    "start_time": "2024-04-02T20:39:51.369Z"
   },
   {
    "duration": 0,
    "start_time": "2024-04-02T20:39:51.370Z"
   },
   {
    "duration": 0,
    "start_time": "2024-04-02T20:39:51.372Z"
   },
   {
    "duration": 1,
    "start_time": "2024-04-02T20:39:51.372Z"
   },
   {
    "duration": 0,
    "start_time": "2024-04-02T20:39:51.374Z"
   },
   {
    "duration": 0,
    "start_time": "2024-04-02T20:39:51.375Z"
   },
   {
    "duration": 0,
    "start_time": "2024-04-02T20:39:51.376Z"
   },
   {
    "duration": 0,
    "start_time": "2024-04-02T20:39:51.377Z"
   },
   {
    "duration": 8,
    "start_time": "2024-04-02T20:40:11.507Z"
   },
   {
    "duration": 5,
    "start_time": "2024-04-02T20:40:31.886Z"
   },
   {
    "duration": 15,
    "start_time": "2024-04-02T20:40:33.329Z"
   },
   {
    "duration": 4,
    "start_time": "2024-04-02T20:40:33.872Z"
   },
   {
    "duration": 4,
    "start_time": "2024-04-02T20:40:34.262Z"
   },
   {
    "duration": 9,
    "start_time": "2024-04-02T20:40:34.578Z"
   },
   {
    "duration": 11,
    "start_time": "2024-04-02T20:40:34.913Z"
   },
   {
    "duration": 7,
    "start_time": "2024-04-02T20:40:35.523Z"
   },
   {
    "duration": 20,
    "start_time": "2024-04-02T20:40:36.017Z"
   },
   {
    "duration": 26,
    "start_time": "2024-04-02T20:40:36.523Z"
   },
   {
    "duration": 16,
    "start_time": "2024-04-02T20:40:36.837Z"
   },
   {
    "duration": 5,
    "start_time": "2024-04-02T20:40:41.435Z"
   },
   {
    "duration": 5,
    "start_time": "2024-04-02T20:40:41.641Z"
   },
   {
    "duration": 7,
    "start_time": "2024-04-02T20:40:42.126Z"
   },
   {
    "duration": 5,
    "start_time": "2024-04-02T20:40:42.315Z"
   },
   {
    "duration": 16,
    "start_time": "2024-04-02T20:40:42.505Z"
   },
   {
    "duration": 6,
    "start_time": "2024-04-02T20:40:42.684Z"
   },
   {
    "duration": 384,
    "start_time": "2024-04-02T20:40:42.877Z"
   },
   {
    "duration": 8,
    "start_time": "2024-04-02T20:40:43.263Z"
   },
   {
    "duration": 20,
    "start_time": "2024-04-02T20:40:43.272Z"
   },
   {
    "duration": 24,
    "start_time": "2024-04-02T20:40:43.432Z"
   },
   {
    "duration": 181,
    "start_time": "2024-04-02T20:40:44.439Z"
   },
   {
    "duration": 196,
    "start_time": "2024-04-02T20:40:44.862Z"
   },
   {
    "duration": 21,
    "start_time": "2024-04-02T20:41:15.364Z"
   },
   {
    "duration": 111,
    "start_time": "2024-04-02T20:41:50.812Z"
   },
   {
    "duration": 3198,
    "start_time": "2024-04-02T20:41:54.225Z"
   },
   {
    "duration": 79,
    "start_time": "2024-04-02T20:42:51.288Z"
   },
   {
    "duration": 22,
    "start_time": "2024-04-02T20:42:57.926Z"
   },
   {
    "duration": 77,
    "start_time": "2024-04-02T20:42:59.211Z"
   },
   {
    "duration": 1347,
    "start_time": "2024-04-02T20:43:13.847Z"
   },
   {
    "duration": 39,
    "start_time": "2024-04-02T20:43:15.197Z"
   },
   {
    "duration": 185,
    "start_time": "2024-04-02T20:43:15.237Z"
   },
   {
    "duration": 25,
    "start_time": "2024-04-02T20:43:15.424Z"
   },
   {
    "duration": 95,
    "start_time": "2024-04-02T20:43:15.452Z"
   },
   {
    "duration": 2367,
    "start_time": "2024-04-02T20:43:15.549Z"
   },
   {
    "duration": 15,
    "start_time": "2024-04-02T20:43:17.918Z"
   },
   {
    "duration": 19,
    "start_time": "2024-04-02T20:43:17.935Z"
   },
   {
    "duration": 22,
    "start_time": "2024-04-02T20:43:17.956Z"
   },
   {
    "duration": 39,
    "start_time": "2024-04-02T20:43:17.980Z"
   },
   {
    "duration": 6,
    "start_time": "2024-04-02T20:43:18.021Z"
   },
   {
    "duration": 52,
    "start_time": "2024-04-02T20:43:18.030Z"
   },
   {
    "duration": 6,
    "start_time": "2024-04-02T20:43:18.084Z"
   },
   {
    "duration": 7,
    "start_time": "2024-04-02T20:43:18.094Z"
   },
   {
    "duration": 21,
    "start_time": "2024-04-02T20:43:18.104Z"
   },
   {
    "duration": 5,
    "start_time": "2024-04-02T20:43:18.127Z"
   },
   {
    "duration": 16,
    "start_time": "2024-04-02T20:43:18.133Z"
   },
   {
    "duration": 18,
    "start_time": "2024-04-02T20:43:18.150Z"
   },
   {
    "duration": 25,
    "start_time": "2024-04-02T20:43:18.170Z"
   },
   {
    "duration": 10,
    "start_time": "2024-04-02T20:43:18.198Z"
   },
   {
    "duration": 24,
    "start_time": "2024-04-02T20:43:18.210Z"
   },
   {
    "duration": 27,
    "start_time": "2024-04-02T20:43:18.236Z"
   },
   {
    "duration": 83,
    "start_time": "2024-04-02T20:43:18.265Z"
   },
   {
    "duration": 0,
    "start_time": "2024-04-02T20:43:18.349Z"
   },
   {
    "duration": 0,
    "start_time": "2024-04-02T20:43:18.351Z"
   },
   {
    "duration": 0,
    "start_time": "2024-04-02T20:43:18.352Z"
   },
   {
    "duration": 0,
    "start_time": "2024-04-02T20:43:18.353Z"
   },
   {
    "duration": 0,
    "start_time": "2024-04-02T20:43:18.354Z"
   },
   {
    "duration": 0,
    "start_time": "2024-04-02T20:43:18.355Z"
   },
   {
    "duration": 0,
    "start_time": "2024-04-02T20:43:18.356Z"
   },
   {
    "duration": 0,
    "start_time": "2024-04-02T20:43:18.358Z"
   },
   {
    "duration": 0,
    "start_time": "2024-04-02T20:43:18.359Z"
   },
   {
    "duration": 0,
    "start_time": "2024-04-02T20:43:18.360Z"
   },
   {
    "duration": 0,
    "start_time": "2024-04-02T20:43:18.361Z"
   },
   {
    "duration": 0,
    "start_time": "2024-04-02T20:43:18.362Z"
   },
   {
    "duration": 76,
    "start_time": "2024-04-02T20:44:10.449Z"
   },
   {
    "duration": 1452,
    "start_time": "2024-04-02T20:45:00.511Z"
   },
   {
    "duration": 36,
    "start_time": "2024-04-02T20:45:01.965Z"
   },
   {
    "duration": 78,
    "start_time": "2024-04-02T20:45:02.004Z"
   },
   {
    "duration": 80,
    "start_time": "2024-04-02T20:45:02.084Z"
   },
   {
    "duration": 117,
    "start_time": "2024-04-02T20:45:02.168Z"
   },
   {
    "duration": 2354,
    "start_time": "2024-04-02T20:45:02.287Z"
   },
   {
    "duration": 9,
    "start_time": "2024-04-02T20:45:04.643Z"
   },
   {
    "duration": 36,
    "start_time": "2024-04-02T20:45:04.654Z"
   },
   {
    "duration": 31,
    "start_time": "2024-04-02T20:45:04.692Z"
   },
   {
    "duration": 35,
    "start_time": "2024-04-02T20:45:04.725Z"
   },
   {
    "duration": 23,
    "start_time": "2024-04-02T20:45:04.763Z"
   },
   {
    "duration": 27,
    "start_time": "2024-04-02T20:45:04.788Z"
   },
   {
    "duration": 5,
    "start_time": "2024-04-02T20:45:04.817Z"
   },
   {
    "duration": 15,
    "start_time": "2024-04-02T20:45:04.827Z"
   },
   {
    "duration": 30,
    "start_time": "2024-04-02T20:45:04.844Z"
   },
   {
    "duration": 15,
    "start_time": "2024-04-02T20:45:04.876Z"
   },
   {
    "duration": 25,
    "start_time": "2024-04-02T20:45:04.893Z"
   },
   {
    "duration": 33,
    "start_time": "2024-04-02T20:45:04.919Z"
   },
   {
    "duration": 20,
    "start_time": "2024-04-02T20:45:04.954Z"
   },
   {
    "duration": 47,
    "start_time": "2024-04-02T20:45:04.976Z"
   },
   {
    "duration": 29,
    "start_time": "2024-04-02T20:45:05.025Z"
   },
   {
    "duration": 42,
    "start_time": "2024-04-02T20:45:05.056Z"
   },
   {
    "duration": 85,
    "start_time": "2024-04-02T20:45:05.099Z"
   },
   {
    "duration": 0,
    "start_time": "2024-04-02T20:45:05.186Z"
   },
   {
    "duration": 0,
    "start_time": "2024-04-02T20:45:05.187Z"
   },
   {
    "duration": 0,
    "start_time": "2024-04-02T20:45:05.188Z"
   },
   {
    "duration": 0,
    "start_time": "2024-04-02T20:45:05.189Z"
   },
   {
    "duration": 0,
    "start_time": "2024-04-02T20:45:05.190Z"
   },
   {
    "duration": 0,
    "start_time": "2024-04-02T20:45:05.191Z"
   },
   {
    "duration": 0,
    "start_time": "2024-04-02T20:45:05.195Z"
   },
   {
    "duration": 0,
    "start_time": "2024-04-02T20:45:05.197Z"
   },
   {
    "duration": 0,
    "start_time": "2024-04-02T20:45:05.199Z"
   },
   {
    "duration": 0,
    "start_time": "2024-04-02T20:45:05.200Z"
   },
   {
    "duration": 0,
    "start_time": "2024-04-02T20:45:05.203Z"
   },
   {
    "duration": 0,
    "start_time": "2024-04-02T20:45:05.205Z"
   },
   {
    "duration": 1389,
    "start_time": "2024-04-02T20:45:22.378Z"
   },
   {
    "duration": 34,
    "start_time": "2024-04-02T20:45:23.769Z"
   },
   {
    "duration": 32,
    "start_time": "2024-04-02T20:45:23.805Z"
   },
   {
    "duration": 28,
    "start_time": "2024-04-02T20:45:23.839Z"
   },
   {
    "duration": 85,
    "start_time": "2024-04-02T20:45:23.869Z"
   },
   {
    "duration": 2206,
    "start_time": "2024-04-02T20:45:23.956Z"
   },
   {
    "duration": 9,
    "start_time": "2024-04-02T20:45:26.163Z"
   },
   {
    "duration": 28,
    "start_time": "2024-04-02T20:45:26.173Z"
   },
   {
    "duration": 5,
    "start_time": "2024-04-02T20:45:26.204Z"
   },
   {
    "duration": 15,
    "start_time": "2024-04-02T20:45:26.211Z"
   },
   {
    "duration": 13,
    "start_time": "2024-04-02T20:45:26.228Z"
   },
   {
    "duration": 19,
    "start_time": "2024-04-02T20:45:26.243Z"
   },
   {
    "duration": 12,
    "start_time": "2024-04-02T20:45:26.264Z"
   },
   {
    "duration": 5,
    "start_time": "2024-04-02T20:45:26.278Z"
   },
   {
    "duration": 21,
    "start_time": "2024-04-02T20:45:26.284Z"
   },
   {
    "duration": 5,
    "start_time": "2024-04-02T20:45:26.308Z"
   },
   {
    "duration": 32,
    "start_time": "2024-04-02T20:45:26.315Z"
   },
   {
    "duration": 9,
    "start_time": "2024-04-02T20:45:26.349Z"
   },
   {
    "duration": 10,
    "start_time": "2024-04-02T20:45:26.359Z"
   },
   {
    "duration": 8,
    "start_time": "2024-04-02T20:45:26.371Z"
   },
   {
    "duration": 39,
    "start_time": "2024-04-02T20:45:26.380Z"
   },
   {
    "duration": 25,
    "start_time": "2024-04-02T20:45:26.420Z"
   },
   {
    "duration": 8,
    "start_time": "2024-04-02T20:45:26.446Z"
   },
   {
    "duration": 12,
    "start_time": "2024-04-02T20:45:26.455Z"
   },
   {
    "duration": 32,
    "start_time": "2024-04-02T20:45:26.469Z"
   },
   {
    "duration": 7,
    "start_time": "2024-04-02T20:45:26.503Z"
   },
   {
    "duration": 14,
    "start_time": "2024-04-02T20:45:26.513Z"
   },
   {
    "duration": 5,
    "start_time": "2024-04-02T20:45:26.529Z"
   },
   {
    "duration": 372,
    "start_time": "2024-04-02T20:45:26.536Z"
   },
   {
    "duration": 10,
    "start_time": "2024-04-02T20:45:26.910Z"
   },
   {
    "duration": 7,
    "start_time": "2024-04-02T20:45:26.921Z"
   },
   {
    "duration": 21,
    "start_time": "2024-04-02T20:45:26.930Z"
   },
   {
    "duration": 220,
    "start_time": "2024-04-02T20:45:26.952Z"
   },
   {
    "duration": 219,
    "start_time": "2024-04-02T20:45:27.174Z"
   },
   {
    "duration": 4,
    "start_time": "2024-04-02T20:47:55.890Z"
   },
   {
    "duration": 1586,
    "start_time": "2024-04-02T20:47:59.247Z"
   },
   {
    "duration": 0,
    "start_time": "2024-04-02T20:48:00.835Z"
   },
   {
    "duration": 1408,
    "start_time": "2024-04-02T20:48:17.362Z"
   },
   {
    "duration": 1319,
    "start_time": "2024-04-02T20:48:26.827Z"
   },
   {
    "duration": 29,
    "start_time": "2024-04-02T20:48:28.148Z"
   },
   {
    "duration": 31,
    "start_time": "2024-04-02T20:48:28.178Z"
   },
   {
    "duration": 27,
    "start_time": "2024-04-02T20:48:28.213Z"
   },
   {
    "duration": 92,
    "start_time": "2024-04-02T20:48:28.243Z"
   },
   {
    "duration": 2443,
    "start_time": "2024-04-02T20:48:28.337Z"
   },
   {
    "duration": 17,
    "start_time": "2024-04-02T20:48:30.782Z"
   },
   {
    "duration": 70,
    "start_time": "2024-04-02T20:48:30.804Z"
   },
   {
    "duration": 37,
    "start_time": "2024-04-02T20:48:30.876Z"
   },
   {
    "duration": 82,
    "start_time": "2024-04-02T20:48:30.915Z"
   },
   {
    "duration": 58,
    "start_time": "2024-04-02T20:48:30.999Z"
   },
   {
    "duration": 117,
    "start_time": "2024-04-02T20:48:31.059Z"
   },
   {
    "duration": 81,
    "start_time": "2024-04-02T20:48:31.178Z"
   },
   {
    "duration": 301,
    "start_time": "2024-04-02T20:48:31.263Z"
   },
   {
    "duration": 162,
    "start_time": "2024-04-02T20:48:31.566Z"
   },
   {
    "duration": 32,
    "start_time": "2024-04-02T20:48:31.730Z"
   },
   {
    "duration": 93,
    "start_time": "2024-04-02T20:48:31.764Z"
   },
   {
    "duration": 95,
    "start_time": "2024-04-02T20:48:31.859Z"
   },
   {
    "duration": 16,
    "start_time": "2024-04-02T20:48:31.956Z"
   },
   {
    "duration": 17,
    "start_time": "2024-04-02T20:48:31.975Z"
   },
   {
    "duration": 34,
    "start_time": "2024-04-02T20:48:31.994Z"
   },
   {
    "duration": 27,
    "start_time": "2024-04-02T20:48:32.030Z"
   },
   {
    "duration": 5,
    "start_time": "2024-04-02T20:48:32.059Z"
   },
   {
    "duration": 26,
    "start_time": "2024-04-02T20:48:32.066Z"
   },
   {
    "duration": 8,
    "start_time": "2024-04-02T20:48:32.094Z"
   },
   {
    "duration": 21,
    "start_time": "2024-04-02T20:48:32.104Z"
   },
   {
    "duration": 18,
    "start_time": "2024-04-02T20:48:32.127Z"
   },
   {
    "duration": 14,
    "start_time": "2024-04-02T20:48:32.147Z"
   },
   {
    "duration": 399,
    "start_time": "2024-04-02T20:48:32.162Z"
   },
   {
    "duration": 7,
    "start_time": "2024-04-02T20:48:32.563Z"
   },
   {
    "duration": 39,
    "start_time": "2024-04-02T20:48:32.572Z"
   },
   {
    "duration": 20,
    "start_time": "2024-04-02T20:48:32.613Z"
   },
   {
    "duration": 196,
    "start_time": "2024-04-02T20:48:32.634Z"
   },
   {
    "duration": 205,
    "start_time": "2024-04-02T20:48:32.832Z"
   },
   {
    "duration": 19,
    "start_time": "2024-04-02T20:49:02.402Z"
   },
   {
    "duration": 4,
    "start_time": "2024-04-02T20:52:10.055Z"
   },
   {
    "duration": 4,
    "start_time": "2024-04-02T20:58:29.371Z"
   },
   {
    "duration": 4,
    "start_time": "2024-04-02T20:58:42.187Z"
   },
   {
    "duration": 30,
    "start_time": "2024-04-02T20:58:54.306Z"
   },
   {
    "duration": 4,
    "start_time": "2024-04-02T20:59:25.155Z"
   },
   {
    "duration": 4,
    "start_time": "2024-04-02T20:59:26.565Z"
   },
   {
    "duration": 16,
    "start_time": "2024-04-02T21:02:38.253Z"
   },
   {
    "duration": 1400,
    "start_time": "2024-04-03T17:00:34.976Z"
   },
   {
    "duration": 24,
    "start_time": "2024-04-03T17:00:36.378Z"
   },
   {
    "duration": 29,
    "start_time": "2024-04-03T17:00:36.403Z"
   },
   {
    "duration": 22,
    "start_time": "2024-04-03T17:00:36.434Z"
   },
   {
    "duration": 57,
    "start_time": "2024-04-03T17:00:36.457Z"
   },
   {
    "duration": 1557,
    "start_time": "2024-04-03T17:00:36.515Z"
   },
   {
    "duration": 7,
    "start_time": "2024-04-03T17:00:38.074Z"
   },
   {
    "duration": 7,
    "start_time": "2024-04-03T17:00:38.082Z"
   },
   {
    "duration": 3,
    "start_time": "2024-04-03T17:00:38.090Z"
   },
   {
    "duration": 8,
    "start_time": "2024-04-03T17:00:38.095Z"
   },
   {
    "duration": 10,
    "start_time": "2024-04-03T17:00:38.104Z"
   },
   {
    "duration": 4,
    "start_time": "2024-04-03T17:00:38.116Z"
   },
   {
    "duration": 23,
    "start_time": "2024-04-03T17:00:38.121Z"
   },
   {
    "duration": 14,
    "start_time": "2024-04-03T17:00:38.145Z"
   },
   {
    "duration": 12,
    "start_time": "2024-04-03T17:00:38.160Z"
   },
   {
    "duration": 50,
    "start_time": "2024-04-03T17:00:38.173Z"
   },
   {
    "duration": 14,
    "start_time": "2024-04-03T17:00:38.224Z"
   },
   {
    "duration": 3,
    "start_time": "2024-04-03T17:00:38.239Z"
   },
   {
    "duration": 10,
    "start_time": "2024-04-03T17:00:38.244Z"
   },
   {
    "duration": 7,
    "start_time": "2024-04-03T17:00:38.255Z"
   },
   {
    "duration": 7,
    "start_time": "2024-04-03T17:00:38.263Z"
   },
   {
    "duration": 18,
    "start_time": "2024-04-03T17:00:38.271Z"
   },
   {
    "duration": 27,
    "start_time": "2024-04-03T17:00:38.290Z"
   },
   {
    "duration": 32,
    "start_time": "2024-04-03T17:00:38.319Z"
   },
   {
    "duration": 45,
    "start_time": "2024-04-03T17:00:38.352Z"
   },
   {
    "duration": 7,
    "start_time": "2024-04-03T17:00:38.399Z"
   },
   {
    "duration": 42,
    "start_time": "2024-04-03T17:00:38.407Z"
   },
   {
    "duration": 7,
    "start_time": "2024-04-03T17:00:38.451Z"
   },
   {
    "duration": 15,
    "start_time": "2024-04-03T17:00:38.459Z"
   },
   {
    "duration": 31,
    "start_time": "2024-04-03T17:00:38.475Z"
   },
   {
    "duration": 4,
    "start_time": "2024-04-03T17:00:38.508Z"
   },
   {
    "duration": 306,
    "start_time": "2024-04-03T17:00:38.514Z"
   },
   {
    "duration": 5,
    "start_time": "2024-04-03T17:00:38.822Z"
   },
   {
    "duration": 13,
    "start_time": "2024-04-03T17:00:38.828Z"
   },
   {
    "duration": 14,
    "start_time": "2024-04-03T17:00:38.842Z"
   },
   {
    "duration": 146,
    "start_time": "2024-04-03T17:00:38.857Z"
   },
   {
    "duration": 135,
    "start_time": "2024-04-03T17:00:39.005Z"
   },
   {
    "duration": 11,
    "start_time": "2024-04-03T17:00:39.142Z"
   },
   {
    "duration": 1086,
    "start_time": "2024-04-03T17:01:00.543Z"
   },
   {
    "duration": 24,
    "start_time": "2024-04-03T17:01:01.630Z"
   },
   {
    "duration": 100,
    "start_time": "2024-04-03T17:01:01.656Z"
   },
   {
    "duration": 60,
    "start_time": "2024-04-03T17:01:01.757Z"
   },
   {
    "duration": 74,
    "start_time": "2024-04-03T17:01:01.820Z"
   },
   {
    "duration": 1556,
    "start_time": "2024-04-03T17:01:01.896Z"
   },
   {
    "duration": 6,
    "start_time": "2024-04-03T17:01:03.453Z"
   },
   {
    "duration": 11,
    "start_time": "2024-04-03T17:01:03.461Z"
   },
   {
    "duration": 26,
    "start_time": "2024-04-03T17:01:03.473Z"
   },
   {
    "duration": 8,
    "start_time": "2024-04-03T17:01:03.500Z"
   },
   {
    "duration": 11,
    "start_time": "2024-04-03T17:01:03.510Z"
   },
   {
    "duration": 5,
    "start_time": "2024-04-03T17:01:03.522Z"
   },
   {
    "duration": 10,
    "start_time": "2024-04-03T17:01:03.528Z"
   },
   {
    "duration": 3,
    "start_time": "2024-04-03T17:01:03.540Z"
   },
   {
    "duration": 5,
    "start_time": "2024-04-03T17:01:03.544Z"
   },
   {
    "duration": 21,
    "start_time": "2024-04-03T17:01:03.550Z"
   },
   {
    "duration": 17,
    "start_time": "2024-04-03T17:01:03.572Z"
   },
   {
    "duration": 11,
    "start_time": "2024-04-03T17:01:03.591Z"
   },
   {
    "duration": 5,
    "start_time": "2024-04-03T17:01:03.604Z"
   },
   {
    "duration": 7,
    "start_time": "2024-04-03T17:01:03.610Z"
   },
   {
    "duration": 6,
    "start_time": "2024-04-03T17:01:03.619Z"
   },
   {
    "duration": 7,
    "start_time": "2024-04-03T17:01:03.627Z"
   },
   {
    "duration": 21,
    "start_time": "2024-04-03T17:01:03.635Z"
   },
   {
    "duration": 19,
    "start_time": "2024-04-03T17:01:03.657Z"
   },
   {
    "duration": 27,
    "start_time": "2024-04-03T17:01:03.677Z"
   },
   {
    "duration": 4,
    "start_time": "2024-04-03T17:01:03.706Z"
   },
   {
    "duration": 17,
    "start_time": "2024-04-03T17:01:03.711Z"
   },
   {
    "duration": 9,
    "start_time": "2024-04-03T17:01:03.729Z"
   },
   {
    "duration": 13,
    "start_time": "2024-04-03T17:01:03.739Z"
   },
   {
    "duration": 9,
    "start_time": "2024-04-03T17:01:03.753Z"
   },
   {
    "duration": 10,
    "start_time": "2024-04-03T17:01:03.763Z"
   },
   {
    "duration": 299,
    "start_time": "2024-04-03T17:01:03.774Z"
   },
   {
    "duration": 6,
    "start_time": "2024-04-03T17:01:04.074Z"
   },
   {
    "duration": 7,
    "start_time": "2024-04-03T17:01:04.081Z"
   },
   {
    "duration": 35,
    "start_time": "2024-04-03T17:01:04.089Z"
   },
   {
    "duration": 176,
    "start_time": "2024-04-03T17:01:04.125Z"
   },
   {
    "duration": 140,
    "start_time": "2024-04-03T17:01:04.303Z"
   },
   {
    "duration": 12,
    "start_time": "2024-04-03T17:01:04.445Z"
   },
   {
    "duration": 18,
    "start_time": "2024-04-03T17:03:01.148Z"
   },
   {
    "duration": 3,
    "start_time": "2024-04-03T17:33:13.547Z"
   },
   {
    "duration": 8,
    "start_time": "2024-04-03T17:35:51.622Z"
   },
   {
    "duration": 1103,
    "start_time": "2024-04-03T17:39:32.914Z"
   },
   {
    "duration": 22,
    "start_time": "2024-04-03T17:39:34.019Z"
   },
   {
    "duration": 12,
    "start_time": "2024-04-03T17:39:34.042Z"
   },
   {
    "duration": 18,
    "start_time": "2024-04-03T17:39:34.056Z"
   },
   {
    "duration": 67,
    "start_time": "2024-04-03T17:39:34.075Z"
   },
   {
    "duration": 1565,
    "start_time": "2024-04-03T17:39:34.143Z"
   },
   {
    "duration": 9,
    "start_time": "2024-04-03T17:39:35.710Z"
   },
   {
    "duration": 27,
    "start_time": "2024-04-03T17:39:35.721Z"
   },
   {
    "duration": 7,
    "start_time": "2024-04-03T17:39:35.749Z"
   },
   {
    "duration": 38,
    "start_time": "2024-04-03T17:39:35.759Z"
   },
   {
    "duration": 32,
    "start_time": "2024-04-03T17:39:35.799Z"
   },
   {
    "duration": 11,
    "start_time": "2024-04-03T17:39:35.832Z"
   },
   {
    "duration": 4,
    "start_time": "2024-04-03T17:39:35.844Z"
   },
   {
    "duration": 4,
    "start_time": "2024-04-03T17:39:35.850Z"
   },
   {
    "duration": 19,
    "start_time": "2024-04-03T17:39:35.855Z"
   },
   {
    "duration": 15,
    "start_time": "2024-04-03T17:39:35.876Z"
   },
   {
    "duration": 13,
    "start_time": "2024-04-03T17:39:35.892Z"
   },
   {
    "duration": 18,
    "start_time": "2024-04-03T17:39:35.906Z"
   },
   {
    "duration": 10,
    "start_time": "2024-04-03T17:39:35.925Z"
   },
   {
    "duration": 13,
    "start_time": "2024-04-03T17:39:35.936Z"
   },
   {
    "duration": 14,
    "start_time": "2024-04-03T17:39:35.950Z"
   },
   {
    "duration": 21,
    "start_time": "2024-04-03T17:39:35.965Z"
   },
   {
    "duration": 21,
    "start_time": "2024-04-03T17:39:35.987Z"
   },
   {
    "duration": 4,
    "start_time": "2024-04-03T17:39:36.009Z"
   },
   {
    "duration": 18,
    "start_time": "2024-04-03T17:39:36.014Z"
   },
   {
    "duration": 6,
    "start_time": "2024-04-03T17:39:36.033Z"
   },
   {
    "duration": 6,
    "start_time": "2024-04-03T17:39:36.040Z"
   },
   {
    "duration": 7,
    "start_time": "2024-04-03T17:39:36.049Z"
   },
   {
    "duration": 12,
    "start_time": "2024-04-03T17:39:36.058Z"
   },
   {
    "duration": 306,
    "start_time": "2024-04-03T17:39:36.071Z"
   },
   {
    "duration": 6,
    "start_time": "2024-04-03T17:39:36.378Z"
   },
   {
    "duration": 20,
    "start_time": "2024-04-03T17:39:36.385Z"
   },
   {
    "duration": 28,
    "start_time": "2024-04-03T17:39:36.406Z"
   },
   {
    "duration": 129,
    "start_time": "2024-04-03T17:39:36.435Z"
   },
   {
    "duration": 136,
    "start_time": "2024-04-03T17:39:36.565Z"
   },
   {
    "duration": 11,
    "start_time": "2024-04-03T17:39:36.703Z"
   },
   {
    "duration": 9,
    "start_time": "2024-04-03T17:40:25.082Z"
   },
   {
    "duration": 1114,
    "start_time": "2024-04-03T17:40:49.910Z"
   },
   {
    "duration": 22,
    "start_time": "2024-04-03T17:40:51.025Z"
   },
   {
    "duration": 12,
    "start_time": "2024-04-03T17:40:51.048Z"
   },
   {
    "duration": 40,
    "start_time": "2024-04-03T17:40:51.062Z"
   },
   {
    "duration": 59,
    "start_time": "2024-04-03T17:40:51.103Z"
   },
   {
    "duration": 1577,
    "start_time": "2024-04-03T17:40:51.163Z"
   },
   {
    "duration": 7,
    "start_time": "2024-04-03T17:40:52.741Z"
   },
   {
    "duration": 11,
    "start_time": "2024-04-03T17:40:52.750Z"
   },
   {
    "duration": 9,
    "start_time": "2024-04-03T17:40:52.762Z"
   },
   {
    "duration": 13,
    "start_time": "2024-04-03T17:40:52.773Z"
   },
   {
    "duration": 24,
    "start_time": "2024-04-03T17:40:52.788Z"
   },
   {
    "duration": 21,
    "start_time": "2024-04-03T17:40:52.814Z"
   },
   {
    "duration": 21,
    "start_time": "2024-04-03T17:40:52.836Z"
   },
   {
    "duration": 19,
    "start_time": "2024-04-03T17:40:52.858Z"
   },
   {
    "duration": 15,
    "start_time": "2024-04-03T17:40:52.879Z"
   },
   {
    "duration": 14,
    "start_time": "2024-04-03T17:40:52.895Z"
   },
   {
    "duration": 12,
    "start_time": "2024-04-03T17:40:52.910Z"
   },
   {
    "duration": 25,
    "start_time": "2024-04-03T17:40:52.924Z"
   },
   {
    "duration": 25,
    "start_time": "2024-04-03T17:40:52.950Z"
   },
   {
    "duration": 13,
    "start_time": "2024-04-03T17:40:52.976Z"
   },
   {
    "duration": 16,
    "start_time": "2024-04-03T17:40:52.991Z"
   },
   {
    "duration": 16,
    "start_time": "2024-04-03T17:40:53.008Z"
   },
   {
    "duration": 28,
    "start_time": "2024-04-03T17:40:53.025Z"
   },
   {
    "duration": 26,
    "start_time": "2024-04-03T17:40:53.055Z"
   },
   {
    "duration": 29,
    "start_time": "2024-04-03T17:40:53.082Z"
   },
   {
    "duration": 19,
    "start_time": "2024-04-03T17:40:53.112Z"
   },
   {
    "duration": 10,
    "start_time": "2024-04-03T17:40:53.133Z"
   },
   {
    "duration": 10,
    "start_time": "2024-04-03T17:40:53.147Z"
   },
   {
    "duration": 12,
    "start_time": "2024-04-03T17:40:53.158Z"
   },
   {
    "duration": 14,
    "start_time": "2024-04-03T17:40:53.171Z"
   },
   {
    "duration": 17,
    "start_time": "2024-04-03T17:40:53.186Z"
   },
   {
    "duration": 5,
    "start_time": "2024-04-03T17:40:53.204Z"
   },
   {
    "duration": 310,
    "start_time": "2024-04-03T17:40:53.210Z"
   },
   {
    "duration": 6,
    "start_time": "2024-04-03T17:40:53.521Z"
   },
   {
    "duration": 33,
    "start_time": "2024-04-03T17:40:53.528Z"
   },
   {
    "duration": 24,
    "start_time": "2024-04-03T17:40:53.562Z"
   },
   {
    "duration": 132,
    "start_time": "2024-04-03T17:40:53.588Z"
   },
   {
    "duration": 133,
    "start_time": "2024-04-03T17:40:53.721Z"
   },
   {
    "duration": 11,
    "start_time": "2024-04-03T17:40:53.856Z"
   },
   {
    "duration": 6,
    "start_time": "2024-04-03T17:42:56.498Z"
   },
   {
    "duration": 11,
    "start_time": "2024-04-03T17:43:16.280Z"
   },
   {
    "duration": 17,
    "start_time": "2024-04-03T17:43:25.317Z"
   },
   {
    "duration": 4,
    "start_time": "2024-04-03T17:44:13.968Z"
   },
   {
    "duration": 24,
    "start_time": "2024-04-03T17:44:21.192Z"
   },
   {
    "duration": 1070,
    "start_time": "2024-04-03T17:44:31.549Z"
   },
   {
    "duration": 22,
    "start_time": "2024-04-03T17:44:32.621Z"
   },
   {
    "duration": 19,
    "start_time": "2024-04-03T17:44:32.644Z"
   },
   {
    "duration": 18,
    "start_time": "2024-04-03T17:44:32.665Z"
   },
   {
    "duration": 62,
    "start_time": "2024-04-03T17:44:32.685Z"
   },
   {
    "duration": 1556,
    "start_time": "2024-04-03T17:44:32.748Z"
   },
   {
    "duration": 8,
    "start_time": "2024-04-03T17:44:34.305Z"
   },
   {
    "duration": 19,
    "start_time": "2024-04-03T17:44:34.314Z"
   },
   {
    "duration": 11,
    "start_time": "2024-04-03T17:44:34.335Z"
   },
   {
    "duration": 14,
    "start_time": "2024-04-03T17:44:34.348Z"
   },
   {
    "duration": 8,
    "start_time": "2024-04-03T17:44:34.363Z"
   },
   {
    "duration": 7,
    "start_time": "2024-04-03T17:44:34.372Z"
   },
   {
    "duration": 10,
    "start_time": "2024-04-03T17:44:34.380Z"
   },
   {
    "duration": 10,
    "start_time": "2024-04-03T17:44:34.393Z"
   },
   {
    "duration": 5,
    "start_time": "2024-04-03T17:44:34.404Z"
   },
   {
    "duration": 8,
    "start_time": "2024-04-03T17:44:34.410Z"
   },
   {
    "duration": 24,
    "start_time": "2024-04-03T17:44:34.419Z"
   },
   {
    "duration": 24,
    "start_time": "2024-04-03T17:44:34.444Z"
   },
   {
    "duration": 13,
    "start_time": "2024-04-03T17:44:34.470Z"
   },
   {
    "duration": 3,
    "start_time": "2024-04-03T17:44:34.484Z"
   },
   {
    "duration": 20,
    "start_time": "2024-04-03T17:44:34.488Z"
   },
   {
    "duration": 9,
    "start_time": "2024-04-03T17:44:34.509Z"
   },
   {
    "duration": 7,
    "start_time": "2024-04-03T17:44:34.519Z"
   },
   {
    "duration": 8,
    "start_time": "2024-04-03T17:44:34.528Z"
   },
   {
    "duration": 17,
    "start_time": "2024-04-03T17:44:34.537Z"
   },
   {
    "duration": 14,
    "start_time": "2024-04-03T17:44:34.555Z"
   },
   {
    "duration": 29,
    "start_time": "2024-04-03T17:44:34.570Z"
   },
   {
    "duration": 11,
    "start_time": "2024-04-03T17:44:34.600Z"
   },
   {
    "duration": 10,
    "start_time": "2024-04-03T17:44:34.612Z"
   },
   {
    "duration": 6,
    "start_time": "2024-04-03T17:44:34.623Z"
   },
   {
    "duration": 12,
    "start_time": "2024-04-03T17:44:34.630Z"
   },
   {
    "duration": 25,
    "start_time": "2024-04-03T17:44:34.643Z"
   },
   {
    "duration": 13,
    "start_time": "2024-04-03T17:44:34.669Z"
   },
   {
    "duration": 21,
    "start_time": "2024-04-03T17:44:34.683Z"
   },
   {
    "duration": 309,
    "start_time": "2024-04-03T17:44:34.706Z"
   },
   {
    "duration": 6,
    "start_time": "2024-04-03T17:44:35.016Z"
   },
   {
    "duration": 12,
    "start_time": "2024-04-03T17:44:35.023Z"
   },
   {
    "duration": 32,
    "start_time": "2024-04-03T17:44:35.037Z"
   },
   {
    "duration": 142,
    "start_time": "2024-04-03T17:44:35.070Z"
   },
   {
    "duration": 136,
    "start_time": "2024-04-03T17:44:35.213Z"
   },
   {
    "duration": 11,
    "start_time": "2024-04-03T17:44:35.352Z"
   },
   {
    "duration": 3,
    "start_time": "2024-04-03T17:47:10.701Z"
   },
   {
    "duration": 6,
    "start_time": "2024-04-03T17:47:12.617Z"
   },
   {
    "duration": 4,
    "start_time": "2024-04-03T17:47:25.878Z"
   },
   {
    "duration": 12,
    "start_time": "2024-04-03T17:47:30.556Z"
   },
   {
    "duration": 18,
    "start_time": "2024-04-03T17:47:38.882Z"
   },
   {
    "duration": 1067,
    "start_time": "2024-04-03T17:47:45.347Z"
   },
   {
    "duration": 24,
    "start_time": "2024-04-03T17:47:46.415Z"
   },
   {
    "duration": 13,
    "start_time": "2024-04-03T17:47:46.440Z"
   },
   {
    "duration": 20,
    "start_time": "2024-04-03T17:47:46.454Z"
   },
   {
    "duration": 74,
    "start_time": "2024-04-03T17:47:46.475Z"
   },
   {
    "duration": 1542,
    "start_time": "2024-04-03T17:47:46.550Z"
   },
   {
    "duration": 8,
    "start_time": "2024-04-03T17:47:48.093Z"
   },
   {
    "duration": 7,
    "start_time": "2024-04-03T17:47:48.102Z"
   },
   {
    "duration": 5,
    "start_time": "2024-04-03T17:47:48.110Z"
   },
   {
    "duration": 3,
    "start_time": "2024-04-03T17:47:48.117Z"
   },
   {
    "duration": 5,
    "start_time": "2024-04-03T17:47:48.121Z"
   },
   {
    "duration": 10,
    "start_time": "2024-04-03T17:47:48.127Z"
   },
   {
    "duration": 8,
    "start_time": "2024-04-03T17:47:48.139Z"
   },
   {
    "duration": 16,
    "start_time": "2024-04-03T17:47:48.148Z"
   },
   {
    "duration": 18,
    "start_time": "2024-04-03T17:47:48.165Z"
   },
   {
    "duration": 3,
    "start_time": "2024-04-03T17:47:48.184Z"
   },
   {
    "duration": 3,
    "start_time": "2024-04-03T17:47:48.188Z"
   },
   {
    "duration": 19,
    "start_time": "2024-04-03T17:47:48.201Z"
   },
   {
    "duration": 12,
    "start_time": "2024-04-03T17:47:48.221Z"
   },
   {
    "duration": 16,
    "start_time": "2024-04-03T17:47:48.235Z"
   },
   {
    "duration": 10,
    "start_time": "2024-04-03T17:47:48.252Z"
   },
   {
    "duration": 3,
    "start_time": "2024-04-03T17:47:48.264Z"
   },
   {
    "duration": 9,
    "start_time": "2024-04-03T17:47:48.268Z"
   },
   {
    "duration": 8,
    "start_time": "2024-04-03T17:47:48.279Z"
   },
   {
    "duration": 14,
    "start_time": "2024-04-03T17:47:48.288Z"
   },
   {
    "duration": 14,
    "start_time": "2024-04-03T17:47:48.303Z"
   },
   {
    "duration": 21,
    "start_time": "2024-04-03T17:47:48.318Z"
   },
   {
    "duration": 10,
    "start_time": "2024-04-03T17:47:48.342Z"
   },
   {
    "duration": 7,
    "start_time": "2024-04-03T17:47:48.354Z"
   },
   {
    "duration": 5,
    "start_time": "2024-04-03T17:47:48.362Z"
   },
   {
    "duration": 10,
    "start_time": "2024-04-03T17:47:48.368Z"
   },
   {
    "duration": 7,
    "start_time": "2024-04-03T17:47:48.379Z"
   },
   {
    "duration": 7,
    "start_time": "2024-04-03T17:47:48.401Z"
   },
   {
    "duration": 4,
    "start_time": "2024-04-03T17:47:48.410Z"
   },
   {
    "duration": 289,
    "start_time": "2024-04-03T17:47:48.415Z"
   },
   {
    "duration": 5,
    "start_time": "2024-04-03T17:47:48.705Z"
   },
   {
    "duration": 12,
    "start_time": "2024-04-03T17:47:48.711Z"
   },
   {
    "duration": 31,
    "start_time": "2024-04-03T17:47:48.724Z"
   },
   {
    "duration": 127,
    "start_time": "2024-04-03T17:47:48.756Z"
   },
   {
    "duration": 155,
    "start_time": "2024-04-03T17:47:48.885Z"
   },
   {
    "duration": 11,
    "start_time": "2024-04-03T17:47:49.042Z"
   },
   {
    "duration": 4,
    "start_time": "2024-04-03T17:49:26.509Z"
   },
   {
    "duration": 2,
    "start_time": "2024-04-03T17:49:28.396Z"
   },
   {
    "duration": 7,
    "start_time": "2024-04-03T17:49:28.904Z"
   },
   {
    "duration": 6,
    "start_time": "2024-04-03T17:49:29.606Z"
   },
   {
    "duration": 16,
    "start_time": "2024-04-03T17:49:34.092Z"
   },
   {
    "duration": 19,
    "start_time": "2024-04-03T17:49:43.046Z"
   },
   {
    "duration": 5,
    "start_time": "2024-04-03T17:50:33.038Z"
   },
   {
    "duration": 18,
    "start_time": "2024-04-03T17:50:39.584Z"
   },
   {
    "duration": 3,
    "start_time": "2024-04-03T17:50:47.956Z"
   },
   {
    "duration": 1106,
    "start_time": "2024-04-03T17:50:51.194Z"
   },
   {
    "duration": 23,
    "start_time": "2024-04-03T17:50:52.301Z"
   },
   {
    "duration": 12,
    "start_time": "2024-04-03T17:50:52.325Z"
   },
   {
    "duration": 23,
    "start_time": "2024-04-03T17:50:52.338Z"
   },
   {
    "duration": 70,
    "start_time": "2024-04-03T17:50:52.363Z"
   },
   {
    "duration": 1546,
    "start_time": "2024-04-03T17:50:52.434Z"
   },
   {
    "duration": 9,
    "start_time": "2024-04-03T17:50:53.981Z"
   },
   {
    "duration": 13,
    "start_time": "2024-04-03T17:50:53.992Z"
   },
   {
    "duration": 5,
    "start_time": "2024-04-03T17:50:54.007Z"
   },
   {
    "duration": 4,
    "start_time": "2024-04-03T17:50:54.013Z"
   },
   {
    "duration": 6,
    "start_time": "2024-04-03T17:50:54.018Z"
   },
   {
    "duration": 5,
    "start_time": "2024-04-03T17:50:54.025Z"
   },
   {
    "duration": 10,
    "start_time": "2024-04-03T17:50:54.031Z"
   },
   {
    "duration": 5,
    "start_time": "2024-04-03T17:50:54.043Z"
   },
   {
    "duration": 6,
    "start_time": "2024-04-03T17:50:54.049Z"
   },
   {
    "duration": 6,
    "start_time": "2024-04-03T17:50:54.056Z"
   },
   {
    "duration": 4,
    "start_time": "2024-04-03T17:50:54.063Z"
   },
   {
    "duration": 46,
    "start_time": "2024-04-03T17:50:54.068Z"
   },
   {
    "duration": 13,
    "start_time": "2024-04-03T17:50:54.116Z"
   },
   {
    "duration": 3,
    "start_time": "2024-04-03T17:50:54.130Z"
   },
   {
    "duration": 8,
    "start_time": "2024-04-03T17:50:54.134Z"
   },
   {
    "duration": 4,
    "start_time": "2024-04-03T17:50:54.143Z"
   },
   {
    "duration": 3,
    "start_time": "2024-04-03T17:50:54.148Z"
   },
   {
    "duration": 10,
    "start_time": "2024-04-03T17:50:54.152Z"
   },
   {
    "duration": 7,
    "start_time": "2024-04-03T17:50:54.163Z"
   },
   {
    "duration": 36,
    "start_time": "2024-04-03T17:50:54.172Z"
   },
   {
    "duration": 19,
    "start_time": "2024-04-03T17:50:54.210Z"
   },
   {
    "duration": 10,
    "start_time": "2024-04-03T17:50:54.231Z"
   },
   {
    "duration": 4,
    "start_time": "2024-04-03T17:50:54.242Z"
   },
   {
    "duration": 3,
    "start_time": "2024-04-03T17:50:54.248Z"
   },
   {
    "duration": 4,
    "start_time": "2024-04-03T17:50:54.252Z"
   },
   {
    "duration": 14,
    "start_time": "2024-04-03T17:50:54.257Z"
   },
   {
    "duration": 34,
    "start_time": "2024-04-03T17:50:54.272Z"
   },
   {
    "duration": 4,
    "start_time": "2024-04-03T17:50:54.307Z"
   },
   {
    "duration": 277,
    "start_time": "2024-04-03T17:50:54.312Z"
   },
   {
    "duration": 6,
    "start_time": "2024-04-03T17:50:54.590Z"
   },
   {
    "duration": 7,
    "start_time": "2024-04-03T17:50:54.597Z"
   },
   {
    "duration": 27,
    "start_time": "2024-04-03T17:50:54.605Z"
   },
   {
    "duration": 148,
    "start_time": "2024-04-03T17:50:54.634Z"
   },
   {
    "duration": 144,
    "start_time": "2024-04-03T17:50:54.784Z"
   },
   {
    "duration": 11,
    "start_time": "2024-04-03T17:50:54.931Z"
   },
   {
    "duration": 235,
    "start_time": "2024-04-03T17:52:13.670Z"
   },
   {
    "duration": 147,
    "start_time": "2024-04-03T17:52:27.725Z"
   },
   {
    "duration": 109,
    "start_time": "2024-04-03T17:52:55.743Z"
   },
   {
    "duration": 114,
    "start_time": "2024-04-03T17:53:15.237Z"
   },
   {
    "duration": 193,
    "start_time": "2024-04-03T17:53:35.817Z"
   },
   {
    "duration": 132,
    "start_time": "2024-04-03T17:54:19.253Z"
   },
   {
    "duration": 134,
    "start_time": "2024-04-03T17:54:25.843Z"
   },
   {
    "duration": 138,
    "start_time": "2024-04-03T17:54:31.410Z"
   },
   {
    "duration": 132,
    "start_time": "2024-04-03T17:54:35.713Z"
   },
   {
    "duration": 1102,
    "start_time": "2024-04-03T17:58:03.450Z"
   },
   {
    "duration": 23,
    "start_time": "2024-04-03T17:58:04.554Z"
   },
   {
    "duration": 11,
    "start_time": "2024-04-03T17:58:04.579Z"
   },
   {
    "duration": 27,
    "start_time": "2024-04-03T17:58:04.591Z"
   },
   {
    "duration": 58,
    "start_time": "2024-04-03T17:58:04.620Z"
   },
   {
    "duration": 1557,
    "start_time": "2024-04-03T17:58:04.679Z"
   },
   {
    "duration": 8,
    "start_time": "2024-04-03T17:58:06.237Z"
   },
   {
    "duration": 11,
    "start_time": "2024-04-03T17:58:06.246Z"
   },
   {
    "duration": 6,
    "start_time": "2024-04-03T17:58:06.258Z"
   },
   {
    "duration": 17,
    "start_time": "2024-04-03T17:58:06.265Z"
   },
   {
    "duration": 4,
    "start_time": "2024-04-03T17:58:06.284Z"
   },
   {
    "duration": 8,
    "start_time": "2024-04-03T17:58:06.289Z"
   },
   {
    "duration": 21,
    "start_time": "2024-04-03T17:58:06.298Z"
   },
   {
    "duration": 15,
    "start_time": "2024-04-03T17:58:06.321Z"
   },
   {
    "duration": 27,
    "start_time": "2024-04-03T17:58:06.338Z"
   },
   {
    "duration": 5,
    "start_time": "2024-04-03T17:58:06.366Z"
   },
   {
    "duration": 14,
    "start_time": "2024-04-03T17:58:06.373Z"
   },
   {
    "duration": 30,
    "start_time": "2024-04-03T17:58:06.389Z"
   },
   {
    "duration": 4,
    "start_time": "2024-04-03T17:58:06.420Z"
   },
   {
    "duration": 14,
    "start_time": "2024-04-03T17:58:06.425Z"
   },
   {
    "duration": 4,
    "start_time": "2024-04-03T17:58:06.440Z"
   },
   {
    "duration": 101,
    "start_time": "2024-04-03T17:58:06.446Z"
   },
   {
    "duration": 0,
    "start_time": "2024-04-03T17:58:06.548Z"
   },
   {
    "duration": 0,
    "start_time": "2024-04-03T17:58:06.549Z"
   },
   {
    "duration": 0,
    "start_time": "2024-04-03T17:58:06.551Z"
   },
   {
    "duration": 0,
    "start_time": "2024-04-03T17:58:06.552Z"
   },
   {
    "duration": 0,
    "start_time": "2024-04-03T17:58:06.553Z"
   },
   {
    "duration": 0,
    "start_time": "2024-04-03T17:58:06.554Z"
   },
   {
    "duration": 0,
    "start_time": "2024-04-03T17:58:06.555Z"
   },
   {
    "duration": 0,
    "start_time": "2024-04-03T17:58:06.556Z"
   },
   {
    "duration": 0,
    "start_time": "2024-04-03T17:58:06.557Z"
   },
   {
    "duration": 0,
    "start_time": "2024-04-03T17:58:06.558Z"
   },
   {
    "duration": 0,
    "start_time": "2024-04-03T17:58:06.559Z"
   },
   {
    "duration": 0,
    "start_time": "2024-04-03T17:58:06.560Z"
   },
   {
    "duration": 0,
    "start_time": "2024-04-03T17:58:06.561Z"
   },
   {
    "duration": 0,
    "start_time": "2024-04-03T17:58:06.562Z"
   },
   {
    "duration": 0,
    "start_time": "2024-04-03T17:58:06.563Z"
   },
   {
    "duration": 0,
    "start_time": "2024-04-03T17:58:06.563Z"
   },
   {
    "duration": 0,
    "start_time": "2024-04-03T17:58:06.564Z"
   },
   {
    "duration": 0,
    "start_time": "2024-04-03T17:58:06.565Z"
   },
   {
    "duration": 13,
    "start_time": "2024-04-03T17:58:42.073Z"
   },
   {
    "duration": 1070,
    "start_time": "2024-04-03T17:58:47.147Z"
   },
   {
    "duration": 23,
    "start_time": "2024-04-03T17:58:48.218Z"
   },
   {
    "duration": 21,
    "start_time": "2024-04-03T17:58:48.242Z"
   },
   {
    "duration": 25,
    "start_time": "2024-04-03T17:58:48.265Z"
   },
   {
    "duration": 67,
    "start_time": "2024-04-03T17:58:48.292Z"
   },
   {
    "duration": 1556,
    "start_time": "2024-04-03T17:58:48.360Z"
   },
   {
    "duration": 8,
    "start_time": "2024-04-03T17:58:49.917Z"
   },
   {
    "duration": 11,
    "start_time": "2024-04-03T17:58:49.926Z"
   },
   {
    "duration": 5,
    "start_time": "2024-04-03T17:58:49.938Z"
   },
   {
    "duration": 8,
    "start_time": "2024-04-03T17:58:49.944Z"
   },
   {
    "duration": 9,
    "start_time": "2024-04-03T17:58:49.953Z"
   },
   {
    "duration": 9,
    "start_time": "2024-04-03T17:58:49.963Z"
   },
   {
    "duration": 9,
    "start_time": "2024-04-03T17:58:49.974Z"
   },
   {
    "duration": 7,
    "start_time": "2024-04-03T17:58:49.986Z"
   },
   {
    "duration": 9,
    "start_time": "2024-04-03T17:58:49.994Z"
   },
   {
    "duration": 13,
    "start_time": "2024-04-03T17:58:50.005Z"
   },
   {
    "duration": 17,
    "start_time": "2024-04-03T17:58:50.020Z"
   },
   {
    "duration": 43,
    "start_time": "2024-04-03T17:58:50.038Z"
   },
   {
    "duration": 13,
    "start_time": "2024-04-03T17:58:50.082Z"
   },
   {
    "duration": 13,
    "start_time": "2024-04-03T17:58:50.096Z"
   },
   {
    "duration": 7,
    "start_time": "2024-04-03T17:58:50.110Z"
   },
   {
    "duration": 6,
    "start_time": "2024-04-03T17:58:50.118Z"
   },
   {
    "duration": 7,
    "start_time": "2024-04-03T17:58:50.126Z"
   },
   {
    "duration": 8,
    "start_time": "2024-04-03T17:58:50.134Z"
   },
   {
    "duration": 6,
    "start_time": "2024-04-03T17:58:50.143Z"
   },
   {
    "duration": 15,
    "start_time": "2024-04-03T17:58:50.150Z"
   },
   {
    "duration": 31,
    "start_time": "2024-04-03T17:58:50.166Z"
   },
   {
    "duration": 13,
    "start_time": "2024-04-03T17:58:50.198Z"
   },
   {
    "duration": 6,
    "start_time": "2024-04-03T17:58:50.212Z"
   },
   {
    "duration": 5,
    "start_time": "2024-04-03T17:58:50.219Z"
   },
   {
    "duration": 12,
    "start_time": "2024-04-03T17:58:50.225Z"
   },
   {
    "duration": 5,
    "start_time": "2024-04-03T17:58:50.239Z"
   },
   {
    "duration": 11,
    "start_time": "2024-04-03T17:58:50.245Z"
   },
   {
    "duration": 4,
    "start_time": "2024-04-03T17:58:50.258Z"
   },
   {
    "duration": 332,
    "start_time": "2024-04-03T17:58:50.263Z"
   },
   {
    "duration": 8,
    "start_time": "2024-04-03T17:58:50.596Z"
   },
   {
    "duration": 21,
    "start_time": "2024-04-03T17:58:50.605Z"
   },
   {
    "duration": 24,
    "start_time": "2024-04-03T17:58:50.627Z"
   },
   {
    "duration": 137,
    "start_time": "2024-04-03T17:58:50.652Z"
   },
   {
    "duration": 138,
    "start_time": "2024-04-03T17:58:50.790Z"
   },
   {
    "duration": 11,
    "start_time": "2024-04-03T17:58:50.931Z"
   },
   {
    "duration": 6,
    "start_time": "2024-04-03T17:59:15.445Z"
   },
   {
    "duration": 5,
    "start_time": "2024-04-03T17:59:25.231Z"
   },
   {
    "duration": 4,
    "start_time": "2024-04-03T17:59:37.437Z"
   },
   {
    "duration": 7,
    "start_time": "2024-04-03T17:59:39.178Z"
   },
   {
    "duration": 13,
    "start_time": "2024-04-03T17:59:42.162Z"
   },
   {
    "duration": 1083,
    "start_time": "2024-04-03T18:50:38.558Z"
   },
   {
    "duration": 1100,
    "start_time": "2024-04-03T18:50:47.136Z"
   },
   {
    "duration": 23,
    "start_time": "2024-04-03T18:50:48.238Z"
   },
   {
    "duration": 12,
    "start_time": "2024-04-03T18:50:48.262Z"
   },
   {
    "duration": 31,
    "start_time": "2024-04-03T18:50:48.275Z"
   },
   {
    "duration": 58,
    "start_time": "2024-04-03T18:50:48.307Z"
   },
   {
    "duration": 1558,
    "start_time": "2024-04-03T18:50:48.366Z"
   },
   {
    "duration": 9,
    "start_time": "2024-04-03T18:50:49.925Z"
   },
   {
    "duration": 6,
    "start_time": "2024-04-03T18:50:49.935Z"
   },
   {
    "duration": 18,
    "start_time": "2024-04-03T18:50:49.942Z"
   },
   {
    "duration": 10,
    "start_time": "2024-04-03T18:50:49.962Z"
   },
   {
    "duration": 9,
    "start_time": "2024-04-03T18:50:49.973Z"
   },
   {
    "duration": 10,
    "start_time": "2024-04-03T18:50:49.983Z"
   },
   {
    "duration": 11,
    "start_time": "2024-04-03T18:50:49.994Z"
   },
   {
    "duration": 5,
    "start_time": "2024-04-03T18:50:50.007Z"
   },
   {
    "duration": 16,
    "start_time": "2024-04-03T18:50:50.013Z"
   },
   {
    "duration": 4,
    "start_time": "2024-04-03T18:50:50.030Z"
   },
   {
    "duration": 4,
    "start_time": "2024-04-03T18:50:50.035Z"
   },
   {
    "duration": 29,
    "start_time": "2024-04-03T18:50:50.040Z"
   },
   {
    "duration": 16,
    "start_time": "2024-04-03T18:50:50.070Z"
   },
   {
    "duration": 3,
    "start_time": "2024-04-03T18:50:50.088Z"
   },
   {
    "duration": 6,
    "start_time": "2024-04-03T18:50:50.102Z"
   },
   {
    "duration": 5,
    "start_time": "2024-04-03T18:50:50.109Z"
   },
   {
    "duration": 35,
    "start_time": "2024-04-03T18:50:50.115Z"
   },
   {
    "duration": 1196,
    "start_time": "2024-04-03T18:50:50.152Z"
   },
   {
    "duration": 0,
    "start_time": "2024-04-03T18:50:51.350Z"
   },
   {
    "duration": 0,
    "start_time": "2024-04-03T18:50:51.351Z"
   },
   {
    "duration": 0,
    "start_time": "2024-04-03T18:50:51.352Z"
   },
   {
    "duration": 0,
    "start_time": "2024-04-03T18:50:51.353Z"
   },
   {
    "duration": 0,
    "start_time": "2024-04-03T18:50:51.354Z"
   },
   {
    "duration": 0,
    "start_time": "2024-04-03T18:50:51.355Z"
   },
   {
    "duration": 0,
    "start_time": "2024-04-03T18:50:51.356Z"
   },
   {
    "duration": 0,
    "start_time": "2024-04-03T18:50:51.357Z"
   },
   {
    "duration": 0,
    "start_time": "2024-04-03T18:50:51.358Z"
   },
   {
    "duration": 0,
    "start_time": "2024-04-03T18:50:51.358Z"
   },
   {
    "duration": 0,
    "start_time": "2024-04-03T18:50:51.359Z"
   },
   {
    "duration": 0,
    "start_time": "2024-04-03T18:50:51.360Z"
   },
   {
    "duration": 0,
    "start_time": "2024-04-03T18:50:51.361Z"
   },
   {
    "duration": 0,
    "start_time": "2024-04-03T18:50:51.362Z"
   },
   {
    "duration": 0,
    "start_time": "2024-04-03T18:50:51.362Z"
   },
   {
    "duration": 0,
    "start_time": "2024-04-03T18:50:51.363Z"
   },
   {
    "duration": 0,
    "start_time": "2024-04-03T18:50:51.364Z"
   },
   {
    "duration": 703,
    "start_time": "2024-04-03T18:51:33.743Z"
   },
   {
    "duration": 6,
    "start_time": "2024-04-03T18:51:38.018Z"
   },
   {
    "duration": 11,
    "start_time": "2024-04-03T18:51:42.244Z"
   },
   {
    "duration": 6,
    "start_time": "2024-04-03T18:52:45.809Z"
   },
   {
    "duration": 5,
    "start_time": "2024-04-03T18:52:47.177Z"
   },
   {
    "duration": 14,
    "start_time": "2024-04-03T18:52:48.916Z"
   },
   {
    "duration": 19,
    "start_time": "2024-04-03T18:52:49.658Z"
   },
   {
    "duration": 12,
    "start_time": "2024-04-03T18:52:50.330Z"
   },
   {
    "duration": 4,
    "start_time": "2024-04-03T18:52:51.907Z"
   },
   {
    "duration": 4,
    "start_time": "2024-04-03T18:52:52.315Z"
   },
   {
    "duration": 4,
    "start_time": "2024-04-03T18:52:52.713Z"
   },
   {
    "duration": 4,
    "start_time": "2024-04-03T18:52:53.177Z"
   },
   {
    "duration": 8,
    "start_time": "2024-04-03T18:52:53.597Z"
   },
   {
    "duration": 4,
    "start_time": "2024-04-03T18:52:53.977Z"
   },
   {
    "duration": 287,
    "start_time": "2024-04-03T18:52:54.402Z"
   },
   {
    "duration": 6,
    "start_time": "2024-04-03T18:52:54.764Z"
   },
   {
    "duration": 5,
    "start_time": "2024-04-03T18:52:55.154Z"
   },
   {
    "duration": 17,
    "start_time": "2024-04-03T18:52:55.576Z"
   },
   {
    "duration": 130,
    "start_time": "2024-04-03T18:52:56.842Z"
   },
   {
    "duration": 130,
    "start_time": "2024-04-03T18:52:57.275Z"
   },
   {
    "duration": 15,
    "start_time": "2024-04-03T18:52:57.726Z"
   },
   {
    "duration": 51,
    "start_time": "2024-04-03T18:54:31.232Z"
   },
   {
    "duration": 4,
    "start_time": "2024-04-03T19:00:22.598Z"
   },
   {
    "duration": 7,
    "start_time": "2024-04-03T19:00:25.477Z"
   },
   {
    "duration": 1070,
    "start_time": "2024-04-03T19:00:35.743Z"
   },
   {
    "duration": 22,
    "start_time": "2024-04-03T19:00:36.815Z"
   },
   {
    "duration": 19,
    "start_time": "2024-04-03T19:00:36.838Z"
   },
   {
    "duration": 28,
    "start_time": "2024-04-03T19:00:36.859Z"
   },
   {
    "duration": 70,
    "start_time": "2024-04-03T19:00:36.888Z"
   },
   {
    "duration": 1580,
    "start_time": "2024-04-03T19:00:36.960Z"
   },
   {
    "duration": 7,
    "start_time": "2024-04-03T19:00:38.541Z"
   },
   {
    "duration": 25,
    "start_time": "2024-04-03T19:00:38.550Z"
   },
   {
    "duration": 5,
    "start_time": "2024-04-03T19:00:38.576Z"
   },
   {
    "duration": 16,
    "start_time": "2024-04-03T19:00:38.583Z"
   },
   {
    "duration": 7,
    "start_time": "2024-04-03T19:00:38.600Z"
   },
   {
    "duration": 10,
    "start_time": "2024-04-03T19:00:38.609Z"
   },
   {
    "duration": 6,
    "start_time": "2024-04-03T19:00:38.620Z"
   },
   {
    "duration": 7,
    "start_time": "2024-04-03T19:00:38.628Z"
   },
   {
    "duration": 27,
    "start_time": "2024-04-03T19:00:38.636Z"
   },
   {
    "duration": 8,
    "start_time": "2024-04-03T19:00:38.664Z"
   },
   {
    "duration": 28,
    "start_time": "2024-04-03T19:00:38.673Z"
   },
   {
    "duration": 13,
    "start_time": "2024-04-03T19:00:38.702Z"
   },
   {
    "duration": 54,
    "start_time": "2024-04-03T19:00:38.717Z"
   },
   {
    "duration": 84,
    "start_time": "2024-04-03T19:00:38.772Z"
   },
   {
    "duration": 70,
    "start_time": "2024-04-03T19:00:38.857Z"
   },
   {
    "duration": 20,
    "start_time": "2024-04-03T19:00:38.929Z"
   },
   {
    "duration": 16,
    "start_time": "2024-04-03T19:00:38.950Z"
   },
   {
    "duration": 7,
    "start_time": "2024-04-03T19:00:38.967Z"
   },
   {
    "duration": 14,
    "start_time": "2024-04-03T19:00:38.975Z"
   },
   {
    "duration": 18,
    "start_time": "2024-04-03T19:00:38.991Z"
   },
   {
    "duration": 31,
    "start_time": "2024-04-03T19:00:39.010Z"
   },
   {
    "duration": 3,
    "start_time": "2024-04-03T19:00:39.044Z"
   },
   {
    "duration": 12,
    "start_time": "2024-04-03T19:00:39.048Z"
   },
   {
    "duration": 9,
    "start_time": "2024-04-03T19:00:39.061Z"
   },
   {
    "duration": 17,
    "start_time": "2024-04-03T19:00:39.071Z"
   },
   {
    "duration": 17,
    "start_time": "2024-04-03T19:00:39.089Z"
   },
   {
    "duration": 5,
    "start_time": "2024-04-03T19:00:39.108Z"
   },
   {
    "duration": 301,
    "start_time": "2024-04-03T19:00:39.114Z"
   },
   {
    "duration": 6,
    "start_time": "2024-04-03T19:00:39.416Z"
   },
   {
    "duration": 16,
    "start_time": "2024-04-03T19:00:39.423Z"
   },
   {
    "duration": 25,
    "start_time": "2024-04-03T19:00:39.440Z"
   },
   {
    "duration": 130,
    "start_time": "2024-04-03T19:00:39.466Z"
   },
   {
    "duration": 138,
    "start_time": "2024-04-03T19:00:39.597Z"
   },
   {
    "duration": 11,
    "start_time": "2024-04-03T19:00:39.737Z"
   },
   {
    "duration": 12,
    "start_time": "2024-04-03T19:01:13.284Z"
   },
   {
    "duration": 11,
    "start_time": "2024-04-03T19:01:24.078Z"
   },
   {
    "duration": 5,
    "start_time": "2024-04-03T19:04:08.411Z"
   },
   {
    "duration": 6,
    "start_time": "2024-04-03T19:06:25.290Z"
   },
   {
    "duration": 5,
    "start_time": "2024-04-03T19:06:49.789Z"
   },
   {
    "duration": 66,
    "start_time": "2024-04-03T19:08:41.921Z"
   },
   {
    "duration": 5,
    "start_time": "2024-04-03T19:11:23.518Z"
   },
   {
    "duration": 5,
    "start_time": "2024-04-03T19:12:13.184Z"
   },
   {
    "duration": 1092,
    "start_time": "2024-04-03T19:12:30.757Z"
   },
   {
    "duration": 22,
    "start_time": "2024-04-03T19:12:31.851Z"
   },
   {
    "duration": 23,
    "start_time": "2024-04-03T19:12:31.875Z"
   },
   {
    "duration": 29,
    "start_time": "2024-04-03T19:12:31.900Z"
   },
   {
    "duration": 56,
    "start_time": "2024-04-03T19:12:31.931Z"
   },
   {
    "duration": 1620,
    "start_time": "2024-04-03T19:12:31.988Z"
   },
   {
    "duration": 8,
    "start_time": "2024-04-03T19:12:33.609Z"
   },
   {
    "duration": 6,
    "start_time": "2024-04-03T19:12:33.618Z"
   },
   {
    "duration": 5,
    "start_time": "2024-04-03T19:12:33.625Z"
   },
   {
    "duration": 4,
    "start_time": "2024-04-03T19:12:33.632Z"
   },
   {
    "duration": 7,
    "start_time": "2024-04-03T19:12:33.637Z"
   },
   {
    "duration": 8,
    "start_time": "2024-04-03T19:12:33.646Z"
   },
   {
    "duration": 5,
    "start_time": "2024-04-03T19:12:33.654Z"
   },
   {
    "duration": 6,
    "start_time": "2024-04-03T19:12:33.660Z"
   },
   {
    "duration": 38,
    "start_time": "2024-04-03T19:12:33.667Z"
   },
   {
    "duration": 12,
    "start_time": "2024-04-03T19:12:33.706Z"
   },
   {
    "duration": 3,
    "start_time": "2024-04-03T19:12:33.719Z"
   },
   {
    "duration": 6,
    "start_time": "2024-04-03T19:12:33.723Z"
   },
   {
    "duration": 4,
    "start_time": "2024-04-03T19:12:33.731Z"
   },
   {
    "duration": 3,
    "start_time": "2024-04-03T19:12:33.736Z"
   },
   {
    "duration": 7,
    "start_time": "2024-04-03T19:12:33.741Z"
   },
   {
    "duration": 5,
    "start_time": "2024-04-03T19:12:33.749Z"
   },
   {
    "duration": 48,
    "start_time": "2024-04-03T19:12:33.755Z"
   },
   {
    "duration": 20,
    "start_time": "2024-04-03T19:12:33.804Z"
   },
   {
    "duration": 4,
    "start_time": "2024-04-03T19:12:33.826Z"
   },
   {
    "duration": 5,
    "start_time": "2024-04-03T19:12:33.831Z"
   },
   {
    "duration": 5,
    "start_time": "2024-04-03T19:12:33.837Z"
   },
   {
    "duration": 3,
    "start_time": "2024-04-03T19:12:33.845Z"
   },
   {
    "duration": 4,
    "start_time": "2024-04-03T19:12:33.849Z"
   },
   {
    "duration": 3,
    "start_time": "2024-04-03T19:12:33.854Z"
   },
   {
    "duration": 7,
    "start_time": "2024-04-03T19:12:33.858Z"
   },
   {
    "duration": 42,
    "start_time": "2024-04-03T19:12:33.867Z"
   },
   {
    "duration": 4,
    "start_time": "2024-04-03T19:12:33.911Z"
   },
   {
    "duration": 7,
    "start_time": "2024-04-03T19:12:33.916Z"
   },
   {
    "duration": 5,
    "start_time": "2024-04-03T19:12:33.924Z"
   },
   {
    "duration": 3,
    "start_time": "2024-04-03T19:12:33.930Z"
   },
   {
    "duration": 8,
    "start_time": "2024-04-03T19:12:33.935Z"
   },
   {
    "duration": 4,
    "start_time": "2024-04-03T19:12:33.944Z"
   },
   {
    "duration": 300,
    "start_time": "2024-04-03T19:12:33.949Z"
   },
   {
    "duration": 5,
    "start_time": "2024-04-03T19:12:34.250Z"
   },
   {
    "duration": 10,
    "start_time": "2024-04-03T19:12:34.256Z"
   },
   {
    "duration": 34,
    "start_time": "2024-04-03T19:12:34.268Z"
   },
   {
    "duration": 129,
    "start_time": "2024-04-03T19:12:34.303Z"
   },
   {
    "duration": 140,
    "start_time": "2024-04-03T19:12:34.433Z"
   },
   {
    "duration": 11,
    "start_time": "2024-04-03T19:12:34.575Z"
   },
   {
    "duration": 4,
    "start_time": "2024-04-03T19:13:08.976Z"
   },
   {
    "duration": 1085,
    "start_time": "2024-04-03T19:17:22.657Z"
   },
   {
    "duration": 23,
    "start_time": "2024-04-03T19:17:23.743Z"
   },
   {
    "duration": 18,
    "start_time": "2024-04-03T19:17:23.767Z"
   },
   {
    "duration": 34,
    "start_time": "2024-04-03T19:17:23.786Z"
   },
   {
    "duration": 55,
    "start_time": "2024-04-03T19:17:23.822Z"
   },
   {
    "duration": 1549,
    "start_time": "2024-04-03T19:17:23.879Z"
   },
   {
    "duration": 8,
    "start_time": "2024-04-03T19:17:25.429Z"
   },
   {
    "duration": 26,
    "start_time": "2024-04-03T19:17:25.438Z"
   },
   {
    "duration": 6,
    "start_time": "2024-04-03T19:17:25.465Z"
   },
   {
    "duration": 11,
    "start_time": "2024-04-03T19:17:25.472Z"
   },
   {
    "duration": 8,
    "start_time": "2024-04-03T19:17:25.484Z"
   },
   {
    "duration": 12,
    "start_time": "2024-04-03T19:17:25.493Z"
   },
   {
    "duration": 5,
    "start_time": "2024-04-03T19:17:25.506Z"
   },
   {
    "duration": 13,
    "start_time": "2024-04-03T19:17:25.513Z"
   },
   {
    "duration": 18,
    "start_time": "2024-04-03T19:17:25.527Z"
   },
   {
    "duration": 12,
    "start_time": "2024-04-03T19:17:25.547Z"
   },
   {
    "duration": 7,
    "start_time": "2024-04-03T19:17:25.560Z"
   },
   {
    "duration": 10,
    "start_time": "2024-04-03T19:17:25.568Z"
   },
   {
    "duration": 4,
    "start_time": "2024-04-03T19:17:25.579Z"
   },
   {
    "duration": 6,
    "start_time": "2024-04-03T19:17:25.585Z"
   },
   {
    "duration": 8,
    "start_time": "2024-04-03T19:17:25.601Z"
   },
   {
    "duration": 10,
    "start_time": "2024-04-03T19:17:25.610Z"
   },
   {
    "duration": 25,
    "start_time": "2024-04-03T19:17:25.622Z"
   },
   {
    "duration": 18,
    "start_time": "2024-04-03T19:17:25.648Z"
   },
   {
    "duration": 4,
    "start_time": "2024-04-03T19:17:25.667Z"
   },
   {
    "duration": 6,
    "start_time": "2024-04-03T19:17:25.672Z"
   },
   {
    "duration": 6,
    "start_time": "2024-04-03T19:17:25.679Z"
   },
   {
    "duration": 15,
    "start_time": "2024-04-03T19:17:25.686Z"
   },
   {
    "duration": 6,
    "start_time": "2024-04-03T19:17:25.702Z"
   },
   {
    "duration": 4,
    "start_time": "2024-04-03T19:17:25.709Z"
   },
   {
    "duration": 8,
    "start_time": "2024-04-03T19:17:25.714Z"
   },
   {
    "duration": 11,
    "start_time": "2024-04-03T19:17:25.722Z"
   },
   {
    "duration": 3,
    "start_time": "2024-04-03T19:17:25.734Z"
   },
   {
    "duration": 9,
    "start_time": "2024-04-03T19:17:25.738Z"
   },
   {
    "duration": 5,
    "start_time": "2024-04-03T19:17:25.748Z"
   },
   {
    "duration": 11,
    "start_time": "2024-04-03T19:17:25.754Z"
   },
   {
    "duration": 10,
    "start_time": "2024-04-03T19:17:25.766Z"
   },
   {
    "duration": 4,
    "start_time": "2024-04-03T19:17:25.777Z"
   },
   {
    "duration": 303,
    "start_time": "2024-04-03T19:17:25.782Z"
   },
   {
    "duration": 6,
    "start_time": "2024-04-03T19:17:26.086Z"
   },
   {
    "duration": 4,
    "start_time": "2024-04-03T19:17:26.101Z"
   },
   {
    "duration": 19,
    "start_time": "2024-04-03T19:17:26.107Z"
   },
   {
    "duration": 153,
    "start_time": "2024-04-03T19:17:26.127Z"
   },
   {
    "duration": 138,
    "start_time": "2024-04-03T19:17:26.281Z"
   },
   {
    "duration": 12,
    "start_time": "2024-04-03T19:17:26.420Z"
   },
   {
    "duration": 7,
    "start_time": "2024-04-03T19:23:29.115Z"
   },
   {
    "duration": 6,
    "start_time": "2024-04-03T19:23:56.851Z"
   },
   {
    "duration": 131,
    "start_time": "2024-04-03T19:24:10.393Z"
   },
   {
    "duration": 129,
    "start_time": "2024-04-03T19:24:27.508Z"
   },
   {
    "duration": 193,
    "start_time": "2024-04-03T19:25:03.796Z"
   },
   {
    "duration": 256,
    "start_time": "2024-04-03T19:25:42.163Z"
   },
   {
    "duration": 194,
    "start_time": "2024-04-03T19:25:51.840Z"
   },
   {
    "duration": 6,
    "start_time": "2024-04-03T19:34:10.166Z"
   },
   {
    "duration": 86,
    "start_time": "2024-04-03T19:36:58.587Z"
   },
   {
    "duration": 168,
    "start_time": "2024-04-03T19:37:06.275Z"
   },
   {
    "duration": 165,
    "start_time": "2024-04-03T19:37:25.189Z"
   },
   {
    "duration": 144,
    "start_time": "2024-04-03T19:38:26.461Z"
   },
   {
    "duration": 8,
    "start_time": "2024-04-03T19:43:34.667Z"
   },
   {
    "duration": 144,
    "start_time": "2024-04-03T19:43:40.282Z"
   },
   {
    "duration": 9,
    "start_time": "2024-04-03T19:44:22.695Z"
   },
   {
    "duration": 127,
    "start_time": "2024-04-03T19:44:37.334Z"
   },
   {
    "duration": 124,
    "start_time": "2024-04-03T19:44:49.622Z"
   },
   {
    "duration": 196,
    "start_time": "2024-04-03T19:46:36.924Z"
   },
   {
    "duration": 126,
    "start_time": "2024-04-03T19:47:30.941Z"
   },
   {
    "duration": 7,
    "start_time": "2024-04-03T19:47:33.293Z"
   },
   {
    "duration": 124,
    "start_time": "2024-04-03T19:48:37.830Z"
   },
   {
    "duration": 7,
    "start_time": "2024-04-03T19:49:14.868Z"
   },
   {
    "duration": 113,
    "start_time": "2024-04-03T19:49:18.410Z"
   },
   {
    "duration": 120,
    "start_time": "2024-04-03T19:49:29.717Z"
   },
   {
    "duration": 192,
    "start_time": "2024-04-03T19:51:02.115Z"
   },
   {
    "duration": 184,
    "start_time": "2024-04-03T19:51:39.048Z"
   },
   {
    "duration": 205,
    "start_time": "2024-04-03T19:53:24.875Z"
   },
   {
    "duration": 216,
    "start_time": "2024-04-03T19:53:44.775Z"
   },
   {
    "duration": 191,
    "start_time": "2024-04-03T19:53:57.541Z"
   },
   {
    "duration": 186,
    "start_time": "2024-04-03T19:54:11.560Z"
   },
   {
    "duration": 208,
    "start_time": "2024-04-03T19:54:20.078Z"
   },
   {
    "duration": 273,
    "start_time": "2024-04-03T19:55:45.208Z"
   },
   {
    "duration": 179,
    "start_time": "2024-04-03T19:55:55.226Z"
   },
   {
    "duration": 242,
    "start_time": "2024-04-03T19:56:01.302Z"
   },
   {
    "duration": 249,
    "start_time": "2024-04-03T19:56:24.859Z"
   },
   {
    "duration": 189,
    "start_time": "2024-04-03T19:56:38.123Z"
   },
   {
    "duration": 189,
    "start_time": "2024-04-03T19:56:57.136Z"
   },
   {
    "duration": 113,
    "start_time": "2024-04-03T19:59:48.579Z"
   },
   {
    "duration": 8,
    "start_time": "2024-04-03T20:02:42.196Z"
   },
   {
    "duration": 125,
    "start_time": "2024-04-03T20:03:47.893Z"
   },
   {
    "duration": 138,
    "start_time": "2024-04-03T20:03:53.896Z"
   },
   {
    "duration": 13,
    "start_time": "2024-04-03T20:14:52.767Z"
   },
   {
    "duration": 1078,
    "start_time": "2024-04-03T20:17:13.375Z"
   },
   {
    "duration": 23,
    "start_time": "2024-04-03T20:17:14.455Z"
   },
   {
    "duration": 23,
    "start_time": "2024-04-03T20:17:14.479Z"
   },
   {
    "duration": 19,
    "start_time": "2024-04-03T20:17:14.504Z"
   },
   {
    "duration": 56,
    "start_time": "2024-04-03T20:17:14.524Z"
   },
   {
    "duration": 1575,
    "start_time": "2024-04-03T20:17:14.581Z"
   },
   {
    "duration": 7,
    "start_time": "2024-04-03T20:17:16.157Z"
   },
   {
    "duration": 17,
    "start_time": "2024-04-03T20:17:16.165Z"
   },
   {
    "duration": 5,
    "start_time": "2024-04-03T20:17:16.183Z"
   },
   {
    "duration": 2,
    "start_time": "2024-04-03T20:17:16.190Z"
   },
   {
    "duration": 6,
    "start_time": "2024-04-03T20:17:16.193Z"
   },
   {
    "duration": 8,
    "start_time": "2024-04-03T20:17:16.200Z"
   },
   {
    "duration": 7,
    "start_time": "2024-04-03T20:17:16.209Z"
   },
   {
    "duration": 5,
    "start_time": "2024-04-03T20:17:16.217Z"
   },
   {
    "duration": 24,
    "start_time": "2024-04-03T20:17:16.223Z"
   },
   {
    "duration": 12,
    "start_time": "2024-04-03T20:17:16.249Z"
   },
   {
    "duration": 3,
    "start_time": "2024-04-03T20:17:16.262Z"
   },
   {
    "duration": 8,
    "start_time": "2024-04-03T20:17:16.266Z"
   },
   {
    "duration": 4,
    "start_time": "2024-04-03T20:17:16.275Z"
   },
   {
    "duration": 3,
    "start_time": "2024-04-03T20:17:16.280Z"
   },
   {
    "duration": 7,
    "start_time": "2024-04-03T20:17:16.302Z"
   },
   {
    "duration": 6,
    "start_time": "2024-04-03T20:17:16.310Z"
   },
   {
    "duration": 16,
    "start_time": "2024-04-03T20:17:16.317Z"
   },
   {
    "duration": 22,
    "start_time": "2024-04-03T20:17:16.334Z"
   },
   {
    "duration": 4,
    "start_time": "2024-04-03T20:17:16.358Z"
   },
   {
    "duration": 15,
    "start_time": "2024-04-03T20:17:16.363Z"
   },
   {
    "duration": 10,
    "start_time": "2024-04-03T20:17:16.380Z"
   },
   {
    "duration": 3,
    "start_time": "2024-04-03T20:17:16.402Z"
   },
   {
    "duration": 6,
    "start_time": "2024-04-03T20:17:16.406Z"
   },
   {
    "duration": 32,
    "start_time": "2024-04-03T20:17:16.413Z"
   },
   {
    "duration": 7,
    "start_time": "2024-04-03T20:17:16.446Z"
   },
   {
    "duration": 30,
    "start_time": "2024-04-03T20:17:16.454Z"
   },
   {
    "duration": 4,
    "start_time": "2024-04-03T20:17:16.485Z"
   },
   {
    "duration": 17,
    "start_time": "2024-04-03T20:17:16.490Z"
   },
   {
    "duration": 4,
    "start_time": "2024-04-03T20:17:16.509Z"
   },
   {
    "duration": 4,
    "start_time": "2024-04-03T20:17:16.514Z"
   },
   {
    "duration": 22,
    "start_time": "2024-04-03T20:17:16.519Z"
   },
   {
    "duration": 5,
    "start_time": "2024-04-03T20:17:16.542Z"
   },
   {
    "duration": 301,
    "start_time": "2024-04-03T20:17:16.548Z"
   },
   {
    "duration": 5,
    "start_time": "2024-04-03T20:17:16.851Z"
   },
   {
    "duration": 6,
    "start_time": "2024-04-03T20:17:16.858Z"
   },
   {
    "duration": 18,
    "start_time": "2024-04-03T20:17:16.865Z"
   },
   {
    "duration": 17,
    "start_time": "2024-04-03T20:17:16.885Z"
   },
   {
    "duration": 202,
    "start_time": "2024-04-03T20:17:16.904Z"
   },
   {
    "duration": 7,
    "start_time": "2024-04-03T20:17:17.108Z"
   },
   {
    "duration": 157,
    "start_time": "2024-04-03T20:17:17.117Z"
   },
   {
    "duration": 7,
    "start_time": "2024-04-03T20:17:17.276Z"
   },
   {
    "duration": 135,
    "start_time": "2024-04-03T20:17:17.284Z"
   },
   {
    "duration": 7,
    "start_time": "2024-04-03T20:17:17.421Z"
   },
   {
    "duration": 205,
    "start_time": "2024-04-03T20:17:17.430Z"
   },
   {
    "duration": 179,
    "start_time": "2024-04-03T20:17:17.637Z"
   },
   {
    "duration": 8,
    "start_time": "2024-04-03T20:17:17.817Z"
   },
   {
    "duration": 130,
    "start_time": "2024-04-03T20:17:17.826Z"
   },
   {
    "duration": 103,
    "start_time": "2024-04-03T20:17:17.958Z"
   },
   {
    "duration": 0,
    "start_time": "2024-04-03T20:17:18.062Z"
   },
   {
    "duration": 125,
    "start_time": "2024-04-03T20:18:42.315Z"
   },
   {
    "duration": 124,
    "start_time": "2024-04-03T20:19:07.702Z"
   },
   {
    "duration": 136,
    "start_time": "2024-04-03T20:20:01.855Z"
   },
   {
    "duration": 2,
    "start_time": "2024-04-03T20:21:17.116Z"
   },
   {
    "duration": 133,
    "start_time": "2024-04-03T20:21:19.062Z"
   },
   {
    "duration": 128,
    "start_time": "2024-04-03T20:22:01.229Z"
   },
   {
    "duration": 115,
    "start_time": "2024-04-03T20:22:21.584Z"
   },
   {
    "duration": 109,
    "start_time": "2024-04-03T20:22:45.731Z"
   },
   {
    "duration": 139,
    "start_time": "2024-04-03T20:22:51.172Z"
   },
   {
    "duration": 109,
    "start_time": "2024-04-03T20:22:57.035Z"
   },
   {
    "duration": 128,
    "start_time": "2024-04-03T20:23:01.251Z"
   },
   {
    "duration": 129,
    "start_time": "2024-04-03T20:23:06.726Z"
   },
   {
    "duration": 6,
    "start_time": "2024-04-03T20:24:52.911Z"
   },
   {
    "duration": 181,
    "start_time": "2024-04-03T20:25:36.409Z"
   },
   {
    "duration": 7,
    "start_time": "2024-04-03T20:27:52.375Z"
   },
   {
    "duration": 272,
    "start_time": "2024-04-03T20:29:13.973Z"
   },
   {
    "duration": 48,
    "start_time": "2024-04-03T20:30:55.044Z"
   },
   {
    "duration": 8,
    "start_time": "2024-04-03T20:31:59.646Z"
   },
   {
    "duration": 215,
    "start_time": "2024-04-03T20:33:09.847Z"
   },
   {
    "duration": 187,
    "start_time": "2024-04-03T20:33:20.818Z"
   },
   {
    "duration": 203,
    "start_time": "2024-04-03T20:33:34.551Z"
   },
   {
    "duration": 195,
    "start_time": "2024-04-03T20:33:59.262Z"
   },
   {
    "duration": 299,
    "start_time": "2024-04-03T20:34:10.256Z"
   },
   {
    "duration": 199,
    "start_time": "2024-04-03T20:34:22.287Z"
   },
   {
    "duration": 11,
    "start_time": "2024-04-03T20:39:24.672Z"
   },
   {
    "duration": 11,
    "start_time": "2024-04-03T20:40:03.844Z"
   },
   {
    "duration": 12,
    "start_time": "2024-04-03T20:40:05.882Z"
   },
   {
    "duration": 149,
    "start_time": "2024-04-03T20:40:27.292Z"
   },
   {
    "duration": 49,
    "start_time": "2024-04-04T05:00:08.029Z"
   },
   {
    "duration": 7,
    "start_time": "2024-04-04T05:00:14.674Z"
   },
   {
    "duration": 7,
    "start_time": "2024-04-04T05:00:22.489Z"
   },
   {
    "duration": 50,
    "start_time": "2024-04-04T05:00:51.905Z"
   },
   {
    "duration": 1525,
    "start_time": "2024-04-04T05:00:56.974Z"
   },
   {
    "duration": 29,
    "start_time": "2024-04-04T05:00:58.501Z"
   },
   {
    "duration": 14,
    "start_time": "2024-04-04T05:00:58.532Z"
   },
   {
    "duration": 25,
    "start_time": "2024-04-04T05:00:58.548Z"
   },
   {
    "duration": 72,
    "start_time": "2024-04-04T05:00:58.574Z"
   },
   {
    "duration": 1940,
    "start_time": "2024-04-04T05:00:58.648Z"
   },
   {
    "duration": 9,
    "start_time": "2024-04-04T05:01:00.590Z"
   },
   {
    "duration": 83,
    "start_time": "2024-04-04T05:01:00.601Z"
   },
   {
    "duration": 56,
    "start_time": "2024-04-04T05:01:00.685Z"
   },
   {
    "duration": 16,
    "start_time": "2024-04-04T05:01:00.744Z"
   },
   {
    "duration": 41,
    "start_time": "2024-04-04T05:01:00.762Z"
   },
   {
    "duration": 36,
    "start_time": "2024-04-04T05:01:00.804Z"
   },
   {
    "duration": 34,
    "start_time": "2024-04-04T05:01:00.841Z"
   },
   {
    "duration": 38,
    "start_time": "2024-04-04T05:01:00.877Z"
   },
   {
    "duration": 44,
    "start_time": "2024-04-04T05:01:00.916Z"
   },
   {
    "duration": 91,
    "start_time": "2024-04-04T05:01:00.962Z"
   },
   {
    "duration": 88,
    "start_time": "2024-04-04T05:01:01.054Z"
   },
   {
    "duration": 137,
    "start_time": "2024-04-04T05:01:01.144Z"
   },
   {
    "duration": 146,
    "start_time": "2024-04-04T05:01:01.282Z"
   },
   {
    "duration": 27,
    "start_time": "2024-04-04T05:01:01.429Z"
   },
   {
    "duration": 30,
    "start_time": "2024-04-04T05:01:01.457Z"
   },
   {
    "duration": 33,
    "start_time": "2024-04-04T05:01:01.488Z"
   },
   {
    "duration": 73,
    "start_time": "2024-04-04T05:01:01.523Z"
   },
   {
    "duration": 31,
    "start_time": "2024-04-04T05:01:01.598Z"
   },
   {
    "duration": 35,
    "start_time": "2024-04-04T05:01:01.631Z"
   },
   {
    "duration": 36,
    "start_time": "2024-04-04T05:01:01.668Z"
   },
   {
    "duration": 23,
    "start_time": "2024-04-04T05:01:01.706Z"
   },
   {
    "duration": 45,
    "start_time": "2024-04-04T05:01:01.734Z"
   },
   {
    "duration": 36,
    "start_time": "2024-04-04T05:01:01.781Z"
   },
   {
    "duration": 32,
    "start_time": "2024-04-04T05:01:01.819Z"
   },
   {
    "duration": 85,
    "start_time": "2024-04-04T05:01:01.853Z"
   },
   {
    "duration": 55,
    "start_time": "2024-04-04T05:01:01.940Z"
   },
   {
    "duration": 42,
    "start_time": "2024-04-04T05:01:01.996Z"
   },
   {
    "duration": 95,
    "start_time": "2024-04-04T05:01:02.040Z"
   },
   {
    "duration": 128,
    "start_time": "2024-04-04T05:01:02.136Z"
   },
   {
    "duration": 65,
    "start_time": "2024-04-04T05:01:02.266Z"
   },
   {
    "duration": 38,
    "start_time": "2024-04-04T05:01:02.332Z"
   },
   {
    "duration": 25,
    "start_time": "2024-04-04T05:01:02.372Z"
   },
   {
    "duration": 358,
    "start_time": "2024-04-04T05:01:02.399Z"
   },
   {
    "duration": 9,
    "start_time": "2024-04-04T05:01:02.759Z"
   },
   {
    "duration": 25,
    "start_time": "2024-04-04T05:01:02.769Z"
   },
   {
    "duration": 21,
    "start_time": "2024-04-04T05:01:02.795Z"
   },
   {
    "duration": 9,
    "start_time": "2024-04-04T05:01:02.818Z"
   },
   {
    "duration": 234,
    "start_time": "2024-04-04T05:01:02.828Z"
   },
   {
    "duration": 8,
    "start_time": "2024-04-04T05:01:03.064Z"
   },
   {
    "duration": 198,
    "start_time": "2024-04-04T05:01:03.074Z"
   },
   {
    "duration": 9,
    "start_time": "2024-04-04T05:01:03.274Z"
   },
   {
    "duration": 174,
    "start_time": "2024-04-04T05:01:03.285Z"
   },
   {
    "duration": 9,
    "start_time": "2024-04-04T05:01:03.464Z"
   },
   {
    "duration": 249,
    "start_time": "2024-04-04T05:01:03.474Z"
   },
   {
    "duration": 253,
    "start_time": "2024-04-04T05:01:03.724Z"
   },
   {
    "duration": 8,
    "start_time": "2024-04-04T05:01:03.979Z"
   },
   {
    "duration": 164,
    "start_time": "2024-04-04T05:01:03.989Z"
   },
   {
    "duration": 158,
    "start_time": "2024-04-04T05:01:04.154Z"
   },
   {
    "duration": 8,
    "start_time": "2024-04-04T05:01:04.314Z"
   },
   {
    "duration": 252,
    "start_time": "2024-04-04T05:01:04.323Z"
   },
   {
    "duration": 9,
    "start_time": "2024-04-04T05:01:04.577Z"
   },
   {
    "duration": 292,
    "start_time": "2024-04-04T05:01:04.588Z"
   },
   {
    "duration": 10,
    "start_time": "2024-04-04T05:01:04.881Z"
   },
   {
    "duration": 262,
    "start_time": "2024-04-04T05:01:04.892Z"
   },
   {
    "duration": 58,
    "start_time": "2024-04-04T05:01:05.155Z"
   },
   {
    "duration": 0,
    "start_time": "2024-04-04T05:01:05.214Z"
   },
   {
    "duration": 66,
    "start_time": "2024-04-04T05:01:17.095Z"
   },
   {
    "duration": 10,
    "start_time": "2024-04-04T05:04:14.751Z"
   },
   {
    "duration": 247,
    "start_time": "2024-04-04T05:04:54.525Z"
   },
   {
    "duration": 10,
    "start_time": "2024-04-04T05:06:01.661Z"
   },
   {
    "duration": 335,
    "start_time": "2024-04-04T05:06:33.580Z"
   },
   {
    "duration": 58,
    "start_time": "2024-04-04T12:12:11.110Z"
   },
   {
    "duration": 7,
    "start_time": "2024-04-04T12:12:20.702Z"
   },
   {
    "duration": 6,
    "start_time": "2024-04-04T12:12:57.420Z"
   },
   {
    "duration": 1819,
    "start_time": "2024-04-04T12:13:06.881Z"
   },
   {
    "duration": 31,
    "start_time": "2024-04-04T12:13:08.702Z"
   },
   {
    "duration": 17,
    "start_time": "2024-04-04T12:13:08.734Z"
   },
   {
    "duration": 29,
    "start_time": "2024-04-04T12:13:08.753Z"
   },
   {
    "duration": 77,
    "start_time": "2024-04-04T12:13:08.784Z"
   },
   {
    "duration": 2240,
    "start_time": "2024-04-04T12:13:08.874Z"
   },
   {
    "duration": 13,
    "start_time": "2024-04-04T12:13:11.115Z"
   },
   {
    "duration": 17,
    "start_time": "2024-04-04T12:13:11.129Z"
   },
   {
    "duration": 25,
    "start_time": "2024-04-04T12:13:11.148Z"
   },
   {
    "duration": 4,
    "start_time": "2024-04-04T12:13:11.175Z"
   },
   {
    "duration": 12,
    "start_time": "2024-04-04T12:13:11.180Z"
   },
   {
    "duration": 15,
    "start_time": "2024-04-04T12:13:11.194Z"
   },
   {
    "duration": 7,
    "start_time": "2024-04-04T12:13:11.210Z"
   },
   {
    "duration": 11,
    "start_time": "2024-04-04T12:13:11.218Z"
   },
   {
    "duration": 53,
    "start_time": "2024-04-04T12:13:11.230Z"
   },
   {
    "duration": 23,
    "start_time": "2024-04-04T12:13:11.285Z"
   },
   {
    "duration": 5,
    "start_time": "2024-04-04T12:13:11.310Z"
   },
   {
    "duration": 10,
    "start_time": "2024-04-04T12:13:11.317Z"
   },
   {
    "duration": 7,
    "start_time": "2024-04-04T12:13:11.329Z"
   },
   {
    "duration": 4,
    "start_time": "2024-04-04T12:13:11.373Z"
   },
   {
    "duration": 11,
    "start_time": "2024-04-04T12:13:11.379Z"
   },
   {
    "duration": 7,
    "start_time": "2024-04-04T12:13:11.391Z"
   },
   {
    "duration": 20,
    "start_time": "2024-04-04T12:13:11.399Z"
   },
   {
    "duration": 53,
    "start_time": "2024-04-04T12:13:11.421Z"
   },
   {
    "duration": 8,
    "start_time": "2024-04-04T12:13:11.476Z"
   },
   {
    "duration": 7,
    "start_time": "2024-04-04T12:13:11.486Z"
   },
   {
    "duration": 27,
    "start_time": "2024-04-04T12:13:11.494Z"
   },
   {
    "duration": 5,
    "start_time": "2024-04-04T12:13:11.527Z"
   },
   {
    "duration": 24,
    "start_time": "2024-04-04T12:13:11.534Z"
   },
   {
    "duration": 16,
    "start_time": "2024-04-04T12:13:11.560Z"
   },
   {
    "duration": 13,
    "start_time": "2024-04-04T12:13:11.578Z"
   },
   {
    "duration": 19,
    "start_time": "2024-04-04T12:13:11.593Z"
   },
   {
    "duration": 5,
    "start_time": "2024-04-04T12:13:11.614Z"
   },
   {
    "duration": 11,
    "start_time": "2024-04-04T12:13:11.620Z"
   },
   {
    "duration": 18,
    "start_time": "2024-04-04T12:13:11.633Z"
   },
   {
    "duration": 20,
    "start_time": "2024-04-04T12:13:11.653Z"
   },
   {
    "duration": 16,
    "start_time": "2024-04-04T12:13:11.674Z"
   },
   {
    "duration": 6,
    "start_time": "2024-04-04T12:13:11.692Z"
   },
   {
    "duration": 366,
    "start_time": "2024-04-04T12:13:11.700Z"
   },
   {
    "duration": 8,
    "start_time": "2024-04-04T12:13:12.068Z"
   },
   {
    "duration": 12,
    "start_time": "2024-04-04T12:13:12.078Z"
   },
   {
    "duration": 28,
    "start_time": "2024-04-04T12:13:12.092Z"
   },
   {
    "duration": 10,
    "start_time": "2024-04-04T12:13:12.121Z"
   },
   {
    "duration": 353,
    "start_time": "2024-04-04T12:13:12.133Z"
   },
   {
    "duration": 8,
    "start_time": "2024-04-04T12:13:12.488Z"
   },
   {
    "duration": 232,
    "start_time": "2024-04-04T12:13:12.498Z"
   },
   {
    "duration": 8,
    "start_time": "2024-04-04T12:13:12.732Z"
   },
   {
    "duration": 187,
    "start_time": "2024-04-04T12:13:12.742Z"
   },
   {
    "duration": 10,
    "start_time": "2024-04-04T12:13:12.931Z"
   },
   {
    "duration": 287,
    "start_time": "2024-04-04T12:13:12.943Z"
   },
   {
    "duration": 309,
    "start_time": "2024-04-04T12:13:13.231Z"
   },
   {
    "duration": 9,
    "start_time": "2024-04-04T12:13:13.541Z"
   },
   {
    "duration": 182,
    "start_time": "2024-04-04T12:13:13.552Z"
   },
   {
    "duration": 191,
    "start_time": "2024-04-04T12:13:13.736Z"
   },
   {
    "duration": 9,
    "start_time": "2024-04-04T12:13:13.929Z"
   },
   {
    "duration": 299,
    "start_time": "2024-04-04T12:13:13.940Z"
   },
   {
    "duration": 10,
    "start_time": "2024-04-04T12:13:14.241Z"
   },
   {
    "duration": 313,
    "start_time": "2024-04-04T12:13:14.252Z"
   },
   {
    "duration": 12,
    "start_time": "2024-04-04T12:13:14.567Z"
   },
   {
    "duration": 282,
    "start_time": "2024-04-04T12:13:14.581Z"
   },
   {
    "duration": 10,
    "start_time": "2024-04-04T12:13:14.865Z"
   },
   {
    "duration": 288,
    "start_time": "2024-04-04T12:13:14.876Z"
   },
   {
    "duration": 108,
    "start_time": "2024-04-04T12:13:15.166Z"
   },
   {
    "duration": 0,
    "start_time": "2024-04-04T12:13:15.276Z"
   },
   {
    "duration": 0,
    "start_time": "2024-04-04T12:13:15.278Z"
   },
   {
    "duration": 9,
    "start_time": "2024-04-04T12:14:12.336Z"
   },
   {
    "duration": 5,
    "start_time": "2024-04-04T12:18:03.988Z"
   },
   {
    "duration": 38,
    "start_time": "2024-04-04T12:19:10.771Z"
   },
   {
    "duration": 30,
    "start_time": "2024-04-04T12:19:53.941Z"
   },
   {
    "duration": 22,
    "start_time": "2024-04-04T12:24:29.795Z"
   },
   {
    "duration": 4,
    "start_time": "2024-04-04T12:53:16.432Z"
   },
   {
    "duration": 32,
    "start_time": "2024-04-04T12:53:23.641Z"
   },
   {
    "duration": 28,
    "start_time": "2024-04-04T12:53:43.987Z"
   },
   {
    "duration": 82,
    "start_time": "2024-04-04T12:54:51.040Z"
   },
   {
    "duration": 135,
    "start_time": "2024-04-04T12:56:59.196Z"
   },
   {
    "duration": 141,
    "start_time": "2024-04-04T12:59:08.933Z"
   },
   {
    "duration": 138,
    "start_time": "2024-04-04T12:59:33.581Z"
   },
   {
    "duration": 147,
    "start_time": "2024-04-04T13:00:04.422Z"
   },
   {
    "duration": 174,
    "start_time": "2024-04-04T13:00:15.343Z"
   },
   {
    "duration": 184,
    "start_time": "2024-04-04T13:01:09.981Z"
   },
   {
    "duration": 148,
    "start_time": "2024-04-04T13:01:42.688Z"
   },
   {
    "duration": 23,
    "start_time": "2024-04-04T13:02:08.240Z"
   },
   {
    "duration": 168,
    "start_time": "2024-04-04T13:02:32.302Z"
   },
   {
    "duration": 164,
    "start_time": "2024-04-04T13:02:58.711Z"
   },
   {
    "duration": 176,
    "start_time": "2024-04-04T13:03:53.854Z"
   },
   {
    "duration": 1229,
    "start_time": "2024-04-04T13:04:05.582Z"
   },
   {
    "duration": 225,
    "start_time": "2024-04-04T13:04:16.104Z"
   },
   {
    "duration": 246,
    "start_time": "2024-04-04T13:04:32.162Z"
   },
   {
    "duration": 218,
    "start_time": "2024-04-04T13:04:56.879Z"
   },
   {
    "duration": 192,
    "start_time": "2024-04-04T13:05:16.339Z"
   },
   {
    "duration": 185,
    "start_time": "2024-04-04T13:08:11.655Z"
   },
   {
    "duration": 185,
    "start_time": "2024-04-04T13:08:17.150Z"
   },
   {
    "duration": 98,
    "start_time": "2024-04-04T13:20:41.097Z"
   },
   {
    "duration": 80,
    "start_time": "2024-04-04T13:20:58.587Z"
   },
   {
    "duration": 82,
    "start_time": "2024-04-04T13:21:22.574Z"
   },
   {
    "duration": 18,
    "start_time": "2024-04-04T13:25:42.300Z"
   },
   {
    "duration": 19,
    "start_time": "2024-04-04T13:31:02.706Z"
   },
   {
    "duration": 154,
    "start_time": "2024-04-04T13:33:25.941Z"
   },
   {
    "duration": 19,
    "start_time": "2024-04-04T13:33:42.504Z"
   },
   {
    "duration": 18,
    "start_time": "2024-04-04T13:33:46.288Z"
   },
   {
    "duration": 16,
    "start_time": "2024-04-04T13:34:08.485Z"
   },
   {
    "duration": 18,
    "start_time": "2024-04-04T13:34:35.019Z"
   },
   {
    "duration": 92,
    "start_time": "2024-04-04T13:36:22.511Z"
   },
   {
    "duration": 10,
    "start_time": "2024-04-04T13:39:18.296Z"
   },
   {
    "duration": 17,
    "start_time": "2024-04-04T13:40:42.627Z"
   },
   {
    "duration": 13,
    "start_time": "2024-04-04T13:43:58.706Z"
   },
   {
    "duration": 70,
    "start_time": "2024-04-04T13:44:08.142Z"
   },
   {
    "duration": 32,
    "start_time": "2024-04-04T13:49:10.287Z"
   },
   {
    "duration": 30,
    "start_time": "2024-04-04T13:49:32.995Z"
   },
   {
    "duration": 1394,
    "start_time": "2024-04-04T13:49:43.423Z"
   },
   {
    "duration": 31,
    "start_time": "2024-04-04T13:49:44.819Z"
   },
   {
    "duration": 27,
    "start_time": "2024-04-04T13:49:44.852Z"
   },
   {
    "duration": 37,
    "start_time": "2024-04-04T13:49:44.882Z"
   },
   {
    "duration": 100,
    "start_time": "2024-04-04T13:49:44.922Z"
   },
   {
    "duration": 2230,
    "start_time": "2024-04-04T13:49:45.024Z"
   },
   {
    "duration": 10,
    "start_time": "2024-04-04T13:49:47.255Z"
   },
   {
    "duration": 12,
    "start_time": "2024-04-04T13:49:47.267Z"
   },
   {
    "duration": 12,
    "start_time": "2024-04-04T13:49:47.280Z"
   },
   {
    "duration": 4,
    "start_time": "2024-04-04T13:49:47.295Z"
   },
   {
    "duration": 10,
    "start_time": "2024-04-04T13:49:47.301Z"
   },
   {
    "duration": 15,
    "start_time": "2024-04-04T13:49:47.312Z"
   },
   {
    "duration": 9,
    "start_time": "2024-04-04T13:49:47.328Z"
   },
   {
    "duration": 29,
    "start_time": "2024-04-04T13:49:47.338Z"
   },
   {
    "duration": 45,
    "start_time": "2024-04-04T13:49:47.369Z"
   },
   {
    "duration": 31,
    "start_time": "2024-04-04T13:49:47.416Z"
   },
   {
    "duration": 5,
    "start_time": "2024-04-04T13:49:47.449Z"
   },
   {
    "duration": 36,
    "start_time": "2024-04-04T13:49:47.456Z"
   },
   {
    "duration": 6,
    "start_time": "2024-04-04T13:49:47.495Z"
   },
   {
    "duration": 22,
    "start_time": "2024-04-04T13:49:47.503Z"
   },
   {
    "duration": 15,
    "start_time": "2024-04-04T13:49:47.526Z"
   },
   {
    "duration": 9,
    "start_time": "2024-04-04T13:49:47.543Z"
   },
   {
    "duration": 20,
    "start_time": "2024-04-04T13:49:47.553Z"
   },
   {
    "duration": 27,
    "start_time": "2024-04-04T13:49:47.575Z"
   },
   {
    "duration": 11,
    "start_time": "2024-04-04T13:49:47.604Z"
   },
   {
    "duration": 19,
    "start_time": "2024-04-04T13:49:47.616Z"
   },
   {
    "duration": 15,
    "start_time": "2024-04-04T13:49:47.637Z"
   },
   {
    "duration": 16,
    "start_time": "2024-04-04T13:49:47.657Z"
   },
   {
    "duration": 8,
    "start_time": "2024-04-04T13:49:47.675Z"
   },
   {
    "duration": 5,
    "start_time": "2024-04-04T13:49:47.685Z"
   },
   {
    "duration": 13,
    "start_time": "2024-04-04T13:49:47.692Z"
   },
   {
    "duration": 21,
    "start_time": "2024-04-04T13:49:47.707Z"
   },
   {
    "duration": 6,
    "start_time": "2024-04-04T13:49:47.730Z"
   },
   {
    "duration": 38,
    "start_time": "2024-04-04T13:49:47.738Z"
   },
   {
    "duration": 11,
    "start_time": "2024-04-04T13:49:47.778Z"
   },
   {
    "duration": 29,
    "start_time": "2024-04-04T13:49:47.791Z"
   },
   {
    "duration": 34,
    "start_time": "2024-04-04T13:49:47.822Z"
   },
   {
    "duration": 38,
    "start_time": "2024-04-04T13:49:47.858Z"
   },
   {
    "duration": 368,
    "start_time": "2024-04-04T13:49:47.898Z"
   },
   {
    "duration": 9,
    "start_time": "2024-04-04T13:49:48.268Z"
   },
   {
    "duration": 30,
    "start_time": "2024-04-04T13:49:48.278Z"
   },
   {
    "duration": 25,
    "start_time": "2024-04-04T13:49:48.310Z"
   },
   {
    "duration": 10,
    "start_time": "2024-04-04T13:49:48.338Z"
   },
   {
    "duration": 286,
    "start_time": "2024-04-04T13:49:48.350Z"
   },
   {
    "duration": 8,
    "start_time": "2024-04-04T13:49:48.638Z"
   },
   {
    "duration": 214,
    "start_time": "2024-04-04T13:49:48.648Z"
   },
   {
    "duration": 16,
    "start_time": "2024-04-04T13:49:48.864Z"
   },
   {
    "duration": 184,
    "start_time": "2024-04-04T13:49:48.881Z"
   },
   {
    "duration": 14,
    "start_time": "2024-04-04T13:49:49.067Z"
   },
   {
    "duration": 277,
    "start_time": "2024-04-04T13:49:49.083Z"
   },
   {
    "duration": 250,
    "start_time": "2024-04-04T13:49:49.362Z"
   },
   {
    "duration": 9,
    "start_time": "2024-04-04T13:49:49.614Z"
   },
   {
    "duration": 179,
    "start_time": "2024-04-04T13:49:49.625Z"
   },
   {
    "duration": 173,
    "start_time": "2024-04-04T13:49:49.806Z"
   },
   {
    "duration": 9,
    "start_time": "2024-04-04T13:49:49.980Z"
   },
   {
    "duration": 308,
    "start_time": "2024-04-04T13:49:49.990Z"
   },
   {
    "duration": 9,
    "start_time": "2024-04-04T13:49:50.300Z"
   },
   {
    "duration": 310,
    "start_time": "2024-04-04T13:49:50.311Z"
   },
   {
    "duration": 11,
    "start_time": "2024-04-04T13:49:50.623Z"
   },
   {
    "duration": 306,
    "start_time": "2024-04-04T13:49:50.636Z"
   },
   {
    "duration": 10,
    "start_time": "2024-04-04T13:49:50.944Z"
   },
   {
    "duration": 270,
    "start_time": "2024-04-04T13:49:50.955Z"
   },
   {
    "duration": 4,
    "start_time": "2024-04-04T13:49:51.226Z"
   },
   {
    "duration": 48,
    "start_time": "2024-04-04T13:49:51.232Z"
   },
   {
    "duration": 95,
    "start_time": "2024-04-04T13:49:51.282Z"
   },
   {
    "duration": 0,
    "start_time": "2024-04-04T13:49:51.379Z"
   },
   {
    "duration": 0,
    "start_time": "2024-04-04T13:49:51.380Z"
   },
   {
    "duration": 0,
    "start_time": "2024-04-04T13:49:51.382Z"
   },
   {
    "duration": 0,
    "start_time": "2024-04-04T13:49:51.383Z"
   },
   {
    "duration": 0,
    "start_time": "2024-04-04T13:49:51.385Z"
   },
   {
    "duration": 0,
    "start_time": "2024-04-04T13:49:51.387Z"
   },
   {
    "duration": 0,
    "start_time": "2024-04-04T13:49:51.388Z"
   },
   {
    "duration": 0,
    "start_time": "2024-04-04T13:49:51.390Z"
   },
   {
    "duration": 0,
    "start_time": "2024-04-04T13:49:51.392Z"
   },
   {
    "duration": 0,
    "start_time": "2024-04-04T13:49:51.393Z"
   },
   {
    "duration": 0,
    "start_time": "2024-04-04T13:49:51.395Z"
   },
   {
    "duration": 0,
    "start_time": "2024-04-04T13:49:51.396Z"
   },
   {
    "duration": 0,
    "start_time": "2024-04-04T13:49:51.398Z"
   },
   {
    "duration": 0,
    "start_time": "2024-04-04T13:49:51.399Z"
   },
   {
    "duration": 4,
    "start_time": "2024-04-04T13:50:05.659Z"
   },
   {
    "duration": 41,
    "start_time": "2024-04-04T13:50:06.068Z"
   },
   {
    "duration": 21,
    "start_time": "2024-04-04T13:50:06.841Z"
   },
   {
    "duration": 263,
    "start_time": "2024-04-04T13:50:08.047Z"
   },
   {
    "duration": 199,
    "start_time": "2024-04-04T13:50:08.467Z"
   },
   {
    "duration": 156,
    "start_time": "2024-04-04T13:50:09.043Z"
   },
   {
    "duration": 162,
    "start_time": "2024-04-04T13:50:09.507Z"
   },
   {
    "duration": 213,
    "start_time": "2024-04-04T13:50:09.970Z"
   },
   {
    "duration": 213,
    "start_time": "2024-04-04T13:50:10.989Z"
   },
   {
    "duration": 195,
    "start_time": "2024-04-04T13:50:11.204Z"
   },
   {
    "duration": 198,
    "start_time": "2024-04-04T13:50:11.937Z"
   },
   {
    "duration": 152,
    "start_time": "2024-04-04T13:50:17.969Z"
   },
   {
    "duration": 56,
    "start_time": "2024-04-04T13:50:20.076Z"
   },
   {
    "duration": 23,
    "start_time": "2024-04-04T13:51:16.825Z"
   },
   {
    "duration": 22,
    "start_time": "2024-04-04T13:51:31.144Z"
   },
   {
    "duration": 1328,
    "start_time": "2024-04-04T13:51:58.329Z"
   },
   {
    "duration": 30,
    "start_time": "2024-04-04T13:51:59.659Z"
   },
   {
    "duration": 40,
    "start_time": "2024-04-04T13:51:59.690Z"
   },
   {
    "duration": 36,
    "start_time": "2024-04-04T13:51:59.732Z"
   },
   {
    "duration": 90,
    "start_time": "2024-04-04T13:51:59.769Z"
   },
   {
    "duration": 2189,
    "start_time": "2024-04-04T13:51:59.861Z"
   },
   {
    "duration": 17,
    "start_time": "2024-04-04T13:52:02.052Z"
   },
   {
    "duration": 104,
    "start_time": "2024-04-04T13:52:02.071Z"
   },
   {
    "duration": 87,
    "start_time": "2024-04-04T13:52:02.178Z"
   },
   {
    "duration": 105,
    "start_time": "2024-04-04T13:52:02.268Z"
   },
   {
    "duration": 79,
    "start_time": "2024-04-04T13:52:02.375Z"
   },
   {
    "duration": 58,
    "start_time": "2024-04-04T13:52:02.455Z"
   },
   {
    "duration": 24,
    "start_time": "2024-04-04T13:52:02.515Z"
   },
   {
    "duration": 37,
    "start_time": "2024-04-04T13:52:02.542Z"
   },
   {
    "duration": 34,
    "start_time": "2024-04-04T13:52:02.581Z"
   },
   {
    "duration": 56,
    "start_time": "2024-04-04T13:52:02.617Z"
   },
   {
    "duration": 17,
    "start_time": "2024-04-04T13:52:02.674Z"
   },
   {
    "duration": 44,
    "start_time": "2024-04-04T13:52:02.693Z"
   },
   {
    "duration": 44,
    "start_time": "2024-04-04T13:52:02.739Z"
   },
   {
    "duration": 12,
    "start_time": "2024-04-04T13:52:02.785Z"
   },
   {
    "duration": 45,
    "start_time": "2024-04-04T13:52:02.799Z"
   },
   {
    "duration": 29,
    "start_time": "2024-04-04T13:52:02.846Z"
   },
   {
    "duration": 33,
    "start_time": "2024-04-04T13:52:02.877Z"
   },
   {
    "duration": 42,
    "start_time": "2024-04-04T13:52:02.911Z"
   },
   {
    "duration": 45,
    "start_time": "2024-04-04T13:52:02.955Z"
   },
   {
    "duration": 21,
    "start_time": "2024-04-04T13:52:03.002Z"
   },
   {
    "duration": 33,
    "start_time": "2024-04-04T13:52:03.025Z"
   },
   {
    "duration": 18,
    "start_time": "2024-04-04T13:52:03.064Z"
   },
   {
    "duration": 25,
    "start_time": "2024-04-04T13:52:03.084Z"
   },
   {
    "duration": 18,
    "start_time": "2024-04-04T13:52:03.111Z"
   },
   {
    "duration": 70,
    "start_time": "2024-04-04T13:52:03.131Z"
   },
   {
    "duration": 45,
    "start_time": "2024-04-04T13:52:03.203Z"
   },
   {
    "duration": 34,
    "start_time": "2024-04-04T13:52:03.250Z"
   },
   {
    "duration": 55,
    "start_time": "2024-04-04T13:52:03.286Z"
   },
   {
    "duration": 21,
    "start_time": "2024-04-04T13:52:03.343Z"
   },
   {
    "duration": 24,
    "start_time": "2024-04-04T13:52:03.365Z"
   },
   {
    "duration": 72,
    "start_time": "2024-04-04T13:52:03.391Z"
   },
   {
    "duration": 26,
    "start_time": "2024-04-04T13:52:03.465Z"
   },
   {
    "duration": 418,
    "start_time": "2024-04-04T13:52:03.493Z"
   },
   {
    "duration": 9,
    "start_time": "2024-04-04T13:52:03.913Z"
   },
   {
    "duration": 43,
    "start_time": "2024-04-04T13:52:03.924Z"
   },
   {
    "duration": 28,
    "start_time": "2024-04-04T13:52:03.969Z"
   },
   {
    "duration": 10,
    "start_time": "2024-04-04T13:52:03.999Z"
   },
   {
    "duration": 285,
    "start_time": "2024-04-04T13:52:04.011Z"
   },
   {
    "duration": 9,
    "start_time": "2024-04-04T13:52:04.298Z"
   },
   {
    "duration": 217,
    "start_time": "2024-04-04T13:52:04.309Z"
   },
   {
    "duration": 9,
    "start_time": "2024-04-04T13:52:04.528Z"
   },
   {
    "duration": 182,
    "start_time": "2024-04-04T13:52:04.539Z"
   },
   {
    "duration": 12,
    "start_time": "2024-04-04T13:52:04.723Z"
   },
   {
    "duration": 308,
    "start_time": "2024-04-04T13:52:04.737Z"
   },
   {
    "duration": 257,
    "start_time": "2024-04-04T13:52:05.047Z"
   },
   {
    "duration": 9,
    "start_time": "2024-04-04T13:52:05.306Z"
   },
   {
    "duration": 182,
    "start_time": "2024-04-04T13:52:05.317Z"
   },
   {
    "duration": 174,
    "start_time": "2024-04-04T13:52:05.501Z"
   },
   {
    "duration": 10,
    "start_time": "2024-04-04T13:52:05.677Z"
   },
   {
    "duration": 264,
    "start_time": "2024-04-04T13:52:05.689Z"
   },
   {
    "duration": 18,
    "start_time": "2024-04-04T13:52:05.955Z"
   },
   {
    "duration": 337,
    "start_time": "2024-04-04T13:52:05.975Z"
   },
   {
    "duration": 12,
    "start_time": "2024-04-04T13:52:06.314Z"
   },
   {
    "duration": 319,
    "start_time": "2024-04-04T13:52:06.328Z"
   },
   {
    "duration": 10,
    "start_time": "2024-04-04T13:52:06.648Z"
   },
   {
    "duration": 274,
    "start_time": "2024-04-04T13:52:06.659Z"
   },
   {
    "duration": 4,
    "start_time": "2024-04-04T13:52:06.935Z"
   },
   {
    "duration": 36,
    "start_time": "2024-04-04T13:52:06.941Z"
   },
   {
    "duration": 4,
    "start_time": "2024-04-04T13:52:06.979Z"
   },
   {
    "duration": 72,
    "start_time": "2024-04-04T13:52:06.984Z"
   },
   {
    "duration": 50,
    "start_time": "2024-04-04T13:52:07.058Z"
   },
   {
    "duration": 266,
    "start_time": "2024-04-04T13:52:07.110Z"
   },
   {
    "duration": 187,
    "start_time": "2024-04-04T13:52:07.378Z"
   },
   {
    "duration": 159,
    "start_time": "2024-04-04T13:52:07.573Z"
   },
   {
    "duration": 175,
    "start_time": "2024-04-04T13:52:07.734Z"
   },
   {
    "duration": 166,
    "start_time": "2024-04-04T13:52:07.911Z"
   },
   {
    "duration": 222,
    "start_time": "2024-04-04T13:52:08.079Z"
   },
   {
    "duration": 202,
    "start_time": "2024-04-04T13:52:08.303Z"
   },
   {
    "duration": 209,
    "start_time": "2024-04-04T13:52:08.507Z"
   },
   {
    "duration": 136,
    "start_time": "2024-04-04T13:52:08.718Z"
   },
   {
    "duration": 0,
    "start_time": "2024-04-04T13:52:08.857Z"
   },
   {
    "duration": 0,
    "start_time": "2024-04-04T13:52:08.858Z"
   },
   {
    "duration": 30,
    "start_time": "2024-04-04T13:53:38.193Z"
   },
   {
    "duration": 26,
    "start_time": "2024-04-04T13:54:50.118Z"
   },
   {
    "duration": 19,
    "start_time": "2024-04-04T13:55:48.329Z"
   },
   {
    "duration": 31,
    "start_time": "2024-04-04T13:56:06.306Z"
   },
   {
    "duration": 32,
    "start_time": "2024-04-04T14:00:21.887Z"
   },
   {
    "duration": 103,
    "start_time": "2024-04-04T14:10:59.056Z"
   },
   {
    "duration": 89,
    "start_time": "2024-04-04T14:11:07.839Z"
   },
   {
    "duration": 16,
    "start_time": "2024-04-04T14:11:19.875Z"
   },
   {
    "duration": 87,
    "start_time": "2024-04-04T14:12:09.062Z"
   },
   {
    "duration": 130,
    "start_time": "2024-04-04T14:12:19.723Z"
   },
   {
    "duration": 81,
    "start_time": "2024-04-04T14:12:34.776Z"
   },
   {
    "duration": 74,
    "start_time": "2024-04-04T14:12:49.809Z"
   },
   {
    "duration": 249,
    "start_time": "2024-04-04T14:13:24.183Z"
   },
   {
    "duration": 209,
    "start_time": "2024-04-04T14:14:08.631Z"
   },
   {
    "duration": 208,
    "start_time": "2024-04-04T14:14:19.738Z"
   },
   {
    "duration": 211,
    "start_time": "2024-04-04T14:18:52.020Z"
   },
   {
    "duration": 207,
    "start_time": "2024-04-04T14:19:04.389Z"
   },
   {
    "duration": 211,
    "start_time": "2024-04-04T14:19:42.536Z"
   },
   {
    "duration": 221,
    "start_time": "2024-04-04T14:20:11.466Z"
   },
   {
    "duration": 1454,
    "start_time": "2024-04-04T19:02:57.956Z"
   },
   {
    "duration": 28,
    "start_time": "2024-04-04T19:02:59.412Z"
   },
   {
    "duration": 14,
    "start_time": "2024-04-04T19:02:59.442Z"
   },
   {
    "duration": 30,
    "start_time": "2024-04-04T19:02:59.458Z"
   },
   {
    "duration": 69,
    "start_time": "2024-04-04T19:02:59.490Z"
   },
   {
    "duration": 1957,
    "start_time": "2024-04-04T19:02:59.560Z"
   },
   {
    "duration": 9,
    "start_time": "2024-04-04T19:03:01.519Z"
   },
   {
    "duration": 56,
    "start_time": "2024-04-04T19:03:01.530Z"
   },
   {
    "duration": 71,
    "start_time": "2024-04-04T19:03:01.588Z"
   },
   {
    "duration": 55,
    "start_time": "2024-04-04T19:03:01.660Z"
   },
   {
    "duration": 78,
    "start_time": "2024-04-04T19:03:01.717Z"
   },
   {
    "duration": 64,
    "start_time": "2024-04-04T19:03:01.797Z"
   },
   {
    "duration": 38,
    "start_time": "2024-04-04T19:03:01.863Z"
   },
   {
    "duration": 55,
    "start_time": "2024-04-04T19:03:01.905Z"
   },
   {
    "duration": 49,
    "start_time": "2024-04-04T19:03:01.962Z"
   },
   {
    "duration": 54,
    "start_time": "2024-04-04T19:03:02.013Z"
   },
   {
    "duration": 10,
    "start_time": "2024-04-04T19:03:02.069Z"
   },
   {
    "duration": 38,
    "start_time": "2024-04-04T19:03:02.081Z"
   },
   {
    "duration": 22,
    "start_time": "2024-04-04T19:03:02.120Z"
   },
   {
    "duration": 13,
    "start_time": "2024-04-04T19:03:02.144Z"
   },
   {
    "duration": 27,
    "start_time": "2024-04-04T19:03:02.159Z"
   },
   {
    "duration": 31,
    "start_time": "2024-04-04T19:03:02.188Z"
   },
   {
    "duration": 42,
    "start_time": "2024-04-04T19:03:02.221Z"
   },
   {
    "duration": 47,
    "start_time": "2024-04-04T19:03:02.264Z"
   },
   {
    "duration": 30,
    "start_time": "2024-04-04T19:03:02.313Z"
   },
   {
    "duration": 13,
    "start_time": "2024-04-04T19:03:02.344Z"
   },
   {
    "duration": 25,
    "start_time": "2024-04-04T19:03:02.359Z"
   },
   {
    "duration": 21,
    "start_time": "2024-04-04T19:03:02.387Z"
   },
   {
    "duration": 24,
    "start_time": "2024-04-04T19:03:02.410Z"
   },
   {
    "duration": 30,
    "start_time": "2024-04-04T19:03:02.435Z"
   },
   {
    "duration": 28,
    "start_time": "2024-04-04T19:03:02.467Z"
   },
   {
    "duration": 39,
    "start_time": "2024-04-04T19:03:02.498Z"
   },
   {
    "duration": 38,
    "start_time": "2024-04-04T19:03:02.539Z"
   },
   {
    "duration": 37,
    "start_time": "2024-04-04T19:03:02.579Z"
   },
   {
    "duration": 32,
    "start_time": "2024-04-04T19:03:02.618Z"
   },
   {
    "duration": 43,
    "start_time": "2024-04-04T19:03:02.651Z"
   },
   {
    "duration": 27,
    "start_time": "2024-04-04T19:03:02.695Z"
   },
   {
    "duration": 16,
    "start_time": "2024-04-04T19:03:02.723Z"
   },
   {
    "duration": 370,
    "start_time": "2024-04-04T19:03:02.740Z"
   },
   {
    "duration": 7,
    "start_time": "2024-04-04T19:03:03.112Z"
   },
   {
    "duration": 29,
    "start_time": "2024-04-04T19:03:03.123Z"
   },
   {
    "duration": 24,
    "start_time": "2024-04-04T19:03:03.154Z"
   },
   {
    "duration": 11,
    "start_time": "2024-04-04T19:03:03.180Z"
   },
   {
    "duration": 270,
    "start_time": "2024-04-04T19:03:03.192Z"
   },
   {
    "duration": 17,
    "start_time": "2024-04-04T19:03:03.464Z"
   },
   {
    "duration": 222,
    "start_time": "2024-04-04T19:03:03.483Z"
   },
   {
    "duration": 9,
    "start_time": "2024-04-04T19:03:03.707Z"
   },
   {
    "duration": 187,
    "start_time": "2024-04-04T19:03:03.717Z"
   },
   {
    "duration": 8,
    "start_time": "2024-04-04T19:03:03.906Z"
   },
   {
    "duration": 320,
    "start_time": "2024-04-04T19:03:03.916Z"
   },
   {
    "duration": 269,
    "start_time": "2024-04-04T19:03:04.238Z"
   },
   {
    "duration": 9,
    "start_time": "2024-04-04T19:03:04.509Z"
   },
   {
    "duration": 188,
    "start_time": "2024-04-04T19:03:04.519Z"
   },
   {
    "duration": 172,
    "start_time": "2024-04-04T19:03:04.708Z"
   },
   {
    "duration": 10,
    "start_time": "2024-04-04T19:03:04.882Z"
   },
   {
    "duration": 259,
    "start_time": "2024-04-04T19:03:04.893Z"
   },
   {
    "duration": 9,
    "start_time": "2024-04-04T19:03:05.154Z"
   },
   {
    "duration": 295,
    "start_time": "2024-04-04T19:03:05.165Z"
   },
   {
    "duration": 9,
    "start_time": "2024-04-04T19:03:05.462Z"
   },
   {
    "duration": 287,
    "start_time": "2024-04-04T19:03:05.480Z"
   },
   {
    "duration": 16,
    "start_time": "2024-04-04T19:03:05.768Z"
   },
   {
    "duration": 242,
    "start_time": "2024-04-04T19:03:05.786Z"
   },
   {
    "duration": 4,
    "start_time": "2024-04-04T19:03:06.030Z"
   },
   {
    "duration": 41,
    "start_time": "2024-04-04T19:03:06.036Z"
   },
   {
    "duration": 4,
    "start_time": "2024-04-04T19:03:06.078Z"
   },
   {
    "duration": 30,
    "start_time": "2024-04-04T19:03:06.084Z"
   },
   {
    "duration": 17,
    "start_time": "2024-04-04T19:03:06.116Z"
   },
   {
    "duration": 245,
    "start_time": "2024-04-04T19:03:06.135Z"
   },
   {
    "duration": 167,
    "start_time": "2024-04-04T19:03:06.382Z"
   },
   {
    "duration": 151,
    "start_time": "2024-04-04T19:03:06.551Z"
   },
   {
    "duration": 149,
    "start_time": "2024-04-04T19:03:06.703Z"
   },
   {
    "duration": 146,
    "start_time": "2024-04-04T19:03:06.853Z"
   },
   {
    "duration": 212,
    "start_time": "2024-04-04T19:03:07.002Z"
   },
   {
    "duration": 186,
    "start_time": "2024-04-04T19:03:07.216Z"
   },
   {
    "duration": 182,
    "start_time": "2024-04-04T19:03:07.403Z"
   },
   {
    "duration": 27,
    "start_time": "2024-04-04T19:03:07.587Z"
   },
   {
    "duration": 22,
    "start_time": "2024-04-04T19:03:07.615Z"
   },
   {
    "duration": 203,
    "start_time": "2024-04-04T19:03:07.638Z"
   },
   {
    "duration": 9,
    "start_time": "2024-04-04T19:08:40.215Z"
   },
   {
    "duration": 9,
    "start_time": "2024-04-04T19:09:03.835Z"
   },
   {
    "duration": 9,
    "start_time": "2024-04-04T19:09:24.755Z"
   },
   {
    "duration": 3,
    "start_time": "2024-04-04T19:10:43.840Z"
   },
   {
    "duration": 65,
    "start_time": "2024-04-04T19:29:20.725Z"
   },
   {
    "duration": 7,
    "start_time": "2024-04-04T19:32:33.022Z"
   },
   {
    "duration": 1607,
    "start_time": "2024-04-04T19:32:38.022Z"
   },
   {
    "duration": 28,
    "start_time": "2024-04-04T19:32:39.631Z"
   },
   {
    "duration": 15,
    "start_time": "2024-04-04T19:32:39.661Z"
   },
   {
    "duration": 27,
    "start_time": "2024-04-04T19:32:39.678Z"
   },
   {
    "duration": 89,
    "start_time": "2024-04-04T19:32:39.707Z"
   },
   {
    "duration": 2046,
    "start_time": "2024-04-04T19:32:39.798Z"
   },
   {
    "duration": 10,
    "start_time": "2024-04-04T19:32:41.846Z"
   },
   {
    "duration": 10,
    "start_time": "2024-04-04T19:32:41.857Z"
   },
   {
    "duration": 6,
    "start_time": "2024-04-04T19:32:41.868Z"
   },
   {
    "duration": 3,
    "start_time": "2024-04-04T19:32:41.875Z"
   },
   {
    "duration": 6,
    "start_time": "2024-04-04T19:32:41.880Z"
   },
   {
    "duration": 12,
    "start_time": "2024-04-04T19:32:41.888Z"
   },
   {
    "duration": 8,
    "start_time": "2024-04-04T19:32:41.902Z"
   },
   {
    "duration": 6,
    "start_time": "2024-04-04T19:32:41.914Z"
   },
   {
    "duration": 27,
    "start_time": "2024-04-04T19:32:41.922Z"
   },
   {
    "duration": 19,
    "start_time": "2024-04-04T19:32:41.983Z"
   },
   {
    "duration": 4,
    "start_time": "2024-04-04T19:32:42.003Z"
   },
   {
    "duration": 6,
    "start_time": "2024-04-04T19:32:42.009Z"
   },
   {
    "duration": 4,
    "start_time": "2024-04-04T19:32:42.017Z"
   },
   {
    "duration": 4,
    "start_time": "2024-04-04T19:32:42.023Z"
   },
   {
    "duration": 9,
    "start_time": "2024-04-04T19:32:42.028Z"
   },
   {
    "duration": 44,
    "start_time": "2024-04-04T19:32:42.039Z"
   },
   {
    "duration": 18,
    "start_time": "2024-04-04T19:32:42.085Z"
   },
   {
    "duration": 24,
    "start_time": "2024-04-04T19:32:42.104Z"
   },
   {
    "duration": 14,
    "start_time": "2024-04-04T19:32:42.130Z"
   },
   {
    "duration": 7,
    "start_time": "2024-04-04T19:32:42.145Z"
   },
   {
    "duration": 30,
    "start_time": "2024-04-04T19:32:42.153Z"
   },
   {
    "duration": 4,
    "start_time": "2024-04-04T19:32:42.184Z"
   },
   {
    "duration": 8,
    "start_time": "2024-04-04T19:32:42.189Z"
   },
   {
    "duration": 17,
    "start_time": "2024-04-04T19:32:42.198Z"
   },
   {
    "duration": 8,
    "start_time": "2024-04-04T19:32:42.217Z"
   },
   {
    "duration": 28,
    "start_time": "2024-04-04T19:32:42.227Z"
   },
   {
    "duration": 5,
    "start_time": "2024-04-04T19:32:42.256Z"
   },
   {
    "duration": 5,
    "start_time": "2024-04-04T19:32:42.263Z"
   },
   {
    "duration": 6,
    "start_time": "2024-04-04T19:32:42.282Z"
   },
   {
    "duration": 12,
    "start_time": "2024-04-04T19:32:42.290Z"
   },
   {
    "duration": 26,
    "start_time": "2024-04-04T19:32:42.304Z"
   },
   {
    "duration": 6,
    "start_time": "2024-04-04T19:32:42.333Z"
   },
   {
    "duration": 389,
    "start_time": "2024-04-04T19:32:42.341Z"
   },
   {
    "duration": 9,
    "start_time": "2024-04-04T19:32:42.731Z"
   },
   {
    "duration": 6,
    "start_time": "2024-04-04T19:32:42.746Z"
   },
   {
    "duration": 50,
    "start_time": "2024-04-04T19:32:42.754Z"
   },
   {
    "duration": 8,
    "start_time": "2024-04-04T19:32:42.806Z"
   },
   {
    "duration": 279,
    "start_time": "2024-04-04T19:32:42.816Z"
   },
   {
    "duration": 9,
    "start_time": "2024-04-04T19:32:43.096Z"
   },
   {
    "duration": 218,
    "start_time": "2024-04-04T19:32:43.107Z"
   },
   {
    "duration": 9,
    "start_time": "2024-04-04T19:32:43.326Z"
   },
   {
    "duration": 172,
    "start_time": "2024-04-04T19:32:43.336Z"
   },
   {
    "duration": 9,
    "start_time": "2024-04-04T19:32:43.510Z"
   },
   {
    "duration": 259,
    "start_time": "2024-04-04T19:32:43.520Z"
   },
   {
    "duration": 259,
    "start_time": "2024-04-04T19:32:43.781Z"
   },
   {
    "duration": 8,
    "start_time": "2024-04-04T19:32:44.042Z"
   },
   {
    "duration": 184,
    "start_time": "2024-04-04T19:32:44.052Z"
   },
   {
    "duration": 167,
    "start_time": "2024-04-04T19:32:44.237Z"
   },
   {
    "duration": 8,
    "start_time": "2024-04-04T19:32:44.406Z"
   },
   {
    "duration": 275,
    "start_time": "2024-04-04T19:32:44.415Z"
   },
   {
    "duration": 9,
    "start_time": "2024-04-04T19:32:44.691Z"
   },
   {
    "duration": 293,
    "start_time": "2024-04-04T19:32:44.701Z"
   },
   {
    "duration": 9,
    "start_time": "2024-04-04T19:32:44.995Z"
   },
   {
    "duration": 277,
    "start_time": "2024-04-04T19:32:45.006Z"
   },
   {
    "duration": 9,
    "start_time": "2024-04-04T19:32:45.284Z"
   },
   {
    "duration": 302,
    "start_time": "2024-04-04T19:32:45.294Z"
   },
   {
    "duration": 4,
    "start_time": "2024-04-04T19:32:45.598Z"
   },
   {
    "duration": 45,
    "start_time": "2024-04-04T19:32:45.604Z"
   },
   {
    "duration": 3,
    "start_time": "2024-04-04T19:32:45.651Z"
   },
   {
    "duration": 46,
    "start_time": "2024-04-04T19:32:45.656Z"
   },
   {
    "duration": 17,
    "start_time": "2024-04-04T19:32:45.704Z"
   },
   {
    "duration": 265,
    "start_time": "2024-04-04T19:32:45.723Z"
   },
   {
    "duration": 192,
    "start_time": "2024-04-04T19:32:45.990Z"
   },
   {
    "duration": 153,
    "start_time": "2024-04-04T19:32:46.183Z"
   },
   {
    "duration": 156,
    "start_time": "2024-04-04T19:32:46.338Z"
   },
   {
    "duration": 147,
    "start_time": "2024-04-04T19:32:46.495Z"
   },
   {
    "duration": 199,
    "start_time": "2024-04-04T19:32:46.644Z"
   },
   {
    "duration": 184,
    "start_time": "2024-04-04T19:32:46.845Z"
   },
   {
    "duration": 187,
    "start_time": "2024-04-04T19:32:47.031Z"
   },
   {
    "duration": 67,
    "start_time": "2024-04-04T19:32:47.220Z"
   },
   {
    "duration": 20,
    "start_time": "2024-04-04T19:32:47.288Z"
   },
   {
    "duration": 233,
    "start_time": "2024-04-04T19:32:47.309Z"
   },
   {
    "duration": 6,
    "start_time": "2024-04-04T19:32:57.228Z"
   },
   {
    "duration": 6,
    "start_time": "2024-04-04T19:33:01.897Z"
   },
   {
    "duration": 23,
    "start_time": "2024-04-04T19:34:19.521Z"
   },
   {
    "duration": 6,
    "start_time": "2024-04-04T19:38:20.919Z"
   },
   {
    "duration": 5,
    "start_time": "2024-04-04T19:38:32.277Z"
   },
   {
    "duration": 6,
    "start_time": "2024-04-04T19:38:51.108Z"
   },
   {
    "duration": 6,
    "start_time": "2024-04-04T19:40:23.062Z"
   },
   {
    "duration": 8,
    "start_time": "2024-04-04T19:43:06.900Z"
   },
   {
    "duration": 142,
    "start_time": "2024-04-04T19:43:39.616Z"
   },
   {
    "duration": 5,
    "start_time": "2024-04-04T19:43:45.624Z"
   },
   {
    "duration": 5,
    "start_time": "2024-04-04T19:44:40.773Z"
   },
   {
    "duration": 1247,
    "start_time": "2024-04-04T19:44:46.325Z"
   },
   {
    "duration": 28,
    "start_time": "2024-04-04T19:44:47.574Z"
   },
   {
    "duration": 15,
    "start_time": "2024-04-04T19:44:47.603Z"
   },
   {
    "duration": 22,
    "start_time": "2024-04-04T19:44:47.619Z"
   },
   {
    "duration": 75,
    "start_time": "2024-04-04T19:44:47.643Z"
   },
   {
    "duration": 2044,
    "start_time": "2024-04-04T19:44:47.720Z"
   },
   {
    "duration": 9,
    "start_time": "2024-04-04T19:44:49.766Z"
   },
   {
    "duration": 14,
    "start_time": "2024-04-04T19:44:49.777Z"
   },
   {
    "duration": 9,
    "start_time": "2024-04-04T19:44:49.792Z"
   },
   {
    "duration": 4,
    "start_time": "2024-04-04T19:44:49.803Z"
   },
   {
    "duration": 8,
    "start_time": "2024-04-04T19:44:49.809Z"
   },
   {
    "duration": 15,
    "start_time": "2024-04-04T19:44:49.819Z"
   },
   {
    "duration": 9,
    "start_time": "2024-04-04T19:44:49.836Z"
   },
   {
    "duration": 33,
    "start_time": "2024-04-04T19:44:49.849Z"
   },
   {
    "duration": 24,
    "start_time": "2024-04-04T19:44:49.884Z"
   },
   {
    "duration": 15,
    "start_time": "2024-04-04T19:44:49.909Z"
   },
   {
    "duration": 4,
    "start_time": "2024-04-04T19:44:49.926Z"
   },
   {
    "duration": 6,
    "start_time": "2024-04-04T19:44:49.931Z"
   },
   {
    "duration": 4,
    "start_time": "2024-04-04T19:44:49.939Z"
   },
   {
    "duration": 40,
    "start_time": "2024-04-04T19:44:49.944Z"
   },
   {
    "duration": 11,
    "start_time": "2024-04-04T19:44:49.986Z"
   },
   {
    "duration": 7,
    "start_time": "2024-04-04T19:44:49.998Z"
   },
   {
    "duration": 31,
    "start_time": "2024-04-04T19:44:50.006Z"
   },
   {
    "duration": 29,
    "start_time": "2024-04-04T19:44:50.039Z"
   },
   {
    "duration": 16,
    "start_time": "2024-04-04T19:44:50.069Z"
   },
   {
    "duration": 17,
    "start_time": "2024-04-04T19:44:50.086Z"
   },
   {
    "duration": 6,
    "start_time": "2024-04-04T19:44:50.104Z"
   },
   {
    "duration": 5,
    "start_time": "2024-04-04T19:44:50.112Z"
   },
   {
    "duration": 6,
    "start_time": "2024-04-04T19:44:50.118Z"
   },
   {
    "duration": 4,
    "start_time": "2024-04-04T19:44:50.125Z"
   },
   {
    "duration": 14,
    "start_time": "2024-04-04T19:44:50.130Z"
   },
   {
    "duration": 48,
    "start_time": "2024-04-04T19:44:50.145Z"
   },
   {
    "duration": 5,
    "start_time": "2024-04-04T19:44:50.194Z"
   },
   {
    "duration": 5,
    "start_time": "2024-04-04T19:44:50.200Z"
   },
   {
    "duration": 8,
    "start_time": "2024-04-04T19:44:50.206Z"
   },
   {
    "duration": 15,
    "start_time": "2024-04-04T19:44:50.216Z"
   },
   {
    "duration": 27,
    "start_time": "2024-04-04T19:44:50.233Z"
   },
   {
    "duration": 5,
    "start_time": "2024-04-04T19:44:50.261Z"
   },
   {
    "duration": 361,
    "start_time": "2024-04-04T19:44:50.268Z"
   },
   {
    "duration": 7,
    "start_time": "2024-04-04T19:44:50.631Z"
   },
   {
    "duration": 6,
    "start_time": "2024-04-04T19:44:50.642Z"
   },
   {
    "duration": 34,
    "start_time": "2024-04-04T19:44:50.649Z"
   },
   {
    "duration": 8,
    "start_time": "2024-04-04T19:44:50.684Z"
   },
   {
    "duration": 262,
    "start_time": "2024-04-04T19:44:50.693Z"
   },
   {
    "duration": 8,
    "start_time": "2024-04-04T19:44:50.956Z"
   },
   {
    "duration": 213,
    "start_time": "2024-04-04T19:44:50.965Z"
   },
   {
    "duration": 11,
    "start_time": "2024-04-04T19:44:51.181Z"
   },
   {
    "duration": 167,
    "start_time": "2024-04-04T19:44:51.194Z"
   },
   {
    "duration": 9,
    "start_time": "2024-04-04T19:44:51.362Z"
   },
   {
    "duration": 271,
    "start_time": "2024-04-04T19:44:51.373Z"
   },
   {
    "duration": 272,
    "start_time": "2024-04-04T19:44:51.646Z"
   },
   {
    "duration": 13,
    "start_time": "2024-04-04T19:44:51.920Z"
   },
   {
    "duration": 176,
    "start_time": "2024-04-04T19:44:51.936Z"
   },
   {
    "duration": 160,
    "start_time": "2024-04-04T19:44:52.113Z"
   },
   {
    "duration": 14,
    "start_time": "2024-04-04T19:44:52.275Z"
   },
   {
    "duration": 255,
    "start_time": "2024-04-04T19:44:52.290Z"
   },
   {
    "duration": 11,
    "start_time": "2024-04-04T19:44:52.547Z"
   },
   {
    "duration": 281,
    "start_time": "2024-04-04T19:44:52.560Z"
   },
   {
    "duration": 8,
    "start_time": "2024-04-04T19:44:52.843Z"
   },
   {
    "duration": 264,
    "start_time": "2024-04-04T19:44:52.853Z"
   },
   {
    "duration": 11,
    "start_time": "2024-04-04T19:44:53.119Z"
   },
   {
    "duration": 258,
    "start_time": "2024-04-04T19:44:53.132Z"
   },
   {
    "duration": 4,
    "start_time": "2024-04-04T19:44:53.392Z"
   },
   {
    "duration": 27,
    "start_time": "2024-04-04T19:44:53.397Z"
   },
   {
    "duration": 3,
    "start_time": "2024-04-04T19:44:53.426Z"
   },
   {
    "duration": 32,
    "start_time": "2024-04-04T19:44:53.430Z"
   },
   {
    "duration": 19,
    "start_time": "2024-04-04T19:44:53.483Z"
   },
   {
    "duration": 258,
    "start_time": "2024-04-04T19:44:53.504Z"
   },
   {
    "duration": 185,
    "start_time": "2024-04-04T19:44:53.764Z"
   },
   {
    "duration": 149,
    "start_time": "2024-04-04T19:44:53.950Z"
   },
   {
    "duration": 145,
    "start_time": "2024-04-04T19:44:54.101Z"
   },
   {
    "duration": 148,
    "start_time": "2024-04-04T19:44:54.247Z"
   },
   {
    "duration": 193,
    "start_time": "2024-04-04T19:44:54.396Z"
   },
   {
    "duration": 197,
    "start_time": "2024-04-04T19:44:54.591Z"
   },
   {
    "duration": 185,
    "start_time": "2024-04-04T19:44:54.789Z"
   },
   {
    "duration": 33,
    "start_time": "2024-04-04T19:44:54.976Z"
   },
   {
    "duration": 26,
    "start_time": "2024-04-04T19:44:55.011Z"
   },
   {
    "duration": 209,
    "start_time": "2024-04-04T19:44:55.038Z"
   },
   {
    "duration": 5,
    "start_time": "2024-04-04T19:51:02.960Z"
   },
   {
    "duration": 5,
    "start_time": "2024-04-04T19:51:17.762Z"
   },
   {
    "duration": 267,
    "start_time": "2024-04-04T20:07:04.587Z"
   },
   {
    "duration": 378,
    "start_time": "2024-04-04T20:07:41.835Z"
   },
   {
    "duration": 284,
    "start_time": "2024-04-04T20:09:58.929Z"
   },
   {
    "duration": 266,
    "start_time": "2024-04-04T20:10:14.014Z"
   },
   {
    "duration": 266,
    "start_time": "2024-04-04T20:10:20.482Z"
   },
   {
    "duration": 268,
    "start_time": "2024-04-04T20:10:49.480Z"
   },
   {
    "duration": 278,
    "start_time": "2024-04-04T20:12:54.824Z"
   },
   {
    "duration": 426,
    "start_time": "2024-04-04T20:13:01.525Z"
   },
   {
    "duration": 288,
    "start_time": "2024-04-04T20:19:37.778Z"
   },
   {
    "duration": 355,
    "start_time": "2024-04-04T20:19:46.434Z"
   },
   {
    "duration": 1303,
    "start_time": "2024-04-04T20:31:01.413Z"
   },
   {
    "duration": 28,
    "start_time": "2024-04-04T20:31:02.718Z"
   },
   {
    "duration": 15,
    "start_time": "2024-04-04T20:31:02.748Z"
   },
   {
    "duration": 50,
    "start_time": "2024-04-04T20:31:02.765Z"
   },
   {
    "duration": 87,
    "start_time": "2024-04-04T20:31:02.817Z"
   },
   {
    "duration": 2048,
    "start_time": "2024-04-04T20:31:02.905Z"
   },
   {
    "duration": 10,
    "start_time": "2024-04-04T20:31:04.954Z"
   },
   {
    "duration": 11,
    "start_time": "2024-04-04T20:31:04.966Z"
   },
   {
    "duration": 13,
    "start_time": "2024-04-04T20:31:04.978Z"
   },
   {
    "duration": 4,
    "start_time": "2024-04-04T20:31:04.992Z"
   },
   {
    "duration": 7,
    "start_time": "2024-04-04T20:31:04.997Z"
   },
   {
    "duration": 10,
    "start_time": "2024-04-04T20:31:05.005Z"
   },
   {
    "duration": 7,
    "start_time": "2024-04-04T20:31:05.016Z"
   },
   {
    "duration": 13,
    "start_time": "2024-04-04T20:31:05.025Z"
   },
   {
    "duration": 29,
    "start_time": "2024-04-04T20:31:05.039Z"
   },
   {
    "duration": 26,
    "start_time": "2024-04-04T20:31:05.070Z"
   },
   {
    "duration": 4,
    "start_time": "2024-04-04T20:31:05.098Z"
   },
   {
    "duration": 7,
    "start_time": "2024-04-04T20:31:05.103Z"
   },
   {
    "duration": 6,
    "start_time": "2024-04-04T20:31:05.112Z"
   },
   {
    "duration": 5,
    "start_time": "2024-04-04T20:31:05.120Z"
   },
   {
    "duration": 12,
    "start_time": "2024-04-04T20:31:05.127Z"
   },
   {
    "duration": 15,
    "start_time": "2024-04-04T20:31:05.140Z"
   },
   {
    "duration": 38,
    "start_time": "2024-04-04T20:31:05.157Z"
   },
   {
    "duration": 29,
    "start_time": "2024-04-04T20:31:05.197Z"
   },
   {
    "duration": 10,
    "start_time": "2024-04-04T20:31:05.228Z"
   },
   {
    "duration": 6,
    "start_time": "2024-04-04T20:31:05.239Z"
   },
   {
    "duration": 6,
    "start_time": "2024-04-04T20:31:05.247Z"
   },
   {
    "duration": 4,
    "start_time": "2024-04-04T20:31:05.282Z"
   },
   {
    "duration": 6,
    "start_time": "2024-04-04T20:31:05.287Z"
   },
   {
    "duration": 7,
    "start_time": "2024-04-04T20:31:05.294Z"
   },
   {
    "duration": 11,
    "start_time": "2024-04-04T20:31:05.303Z"
   },
   {
    "duration": 14,
    "start_time": "2024-04-04T20:31:05.316Z"
   },
   {
    "duration": 5,
    "start_time": "2024-04-04T20:31:05.332Z"
   },
   {
    "duration": 7,
    "start_time": "2024-04-04T20:31:05.339Z"
   },
   {
    "duration": 7,
    "start_time": "2024-04-04T20:31:05.383Z"
   },
   {
    "duration": 5,
    "start_time": "2024-04-04T20:31:05.392Z"
   },
   {
    "duration": 13,
    "start_time": "2024-04-04T20:31:05.399Z"
   },
   {
    "duration": 5,
    "start_time": "2024-04-04T20:31:05.414Z"
   },
   {
    "duration": 390,
    "start_time": "2024-04-04T20:31:05.420Z"
   },
   {
    "duration": 8,
    "start_time": "2024-04-04T20:31:05.811Z"
   },
   {
    "duration": 7,
    "start_time": "2024-04-04T20:31:05.824Z"
   },
   {
    "duration": 24,
    "start_time": "2024-04-04T20:31:05.832Z"
   },
   {
    "duration": 29,
    "start_time": "2024-04-04T20:31:05.858Z"
   },
   {
    "duration": 265,
    "start_time": "2024-04-04T20:31:05.888Z"
   },
   {
    "duration": 8,
    "start_time": "2024-04-04T20:31:06.155Z"
   },
   {
    "duration": 199,
    "start_time": "2024-04-04T20:31:06.165Z"
   },
   {
    "duration": 17,
    "start_time": "2024-04-04T20:31:06.366Z"
   },
   {
    "duration": 166,
    "start_time": "2024-04-04T20:31:06.384Z"
   },
   {
    "duration": 9,
    "start_time": "2024-04-04T20:31:06.551Z"
   },
   {
    "duration": 264,
    "start_time": "2024-04-04T20:31:06.561Z"
   },
   {
    "duration": 232,
    "start_time": "2024-04-04T20:31:06.826Z"
   },
   {
    "duration": 8,
    "start_time": "2024-04-04T20:31:07.059Z"
   },
   {
    "duration": 168,
    "start_time": "2024-04-04T20:31:07.069Z"
   },
   {
    "duration": 159,
    "start_time": "2024-04-04T20:31:07.238Z"
   },
   {
    "duration": 8,
    "start_time": "2024-04-04T20:31:07.399Z"
   },
   {
    "duration": 250,
    "start_time": "2024-04-04T20:31:07.408Z"
   },
   {
    "duration": 9,
    "start_time": "2024-04-04T20:31:07.660Z"
   },
   {
    "duration": 288,
    "start_time": "2024-04-04T20:31:07.670Z"
   },
   {
    "duration": 9,
    "start_time": "2024-04-04T20:31:07.960Z"
   },
   {
    "duration": 265,
    "start_time": "2024-04-04T20:31:07.970Z"
   },
   {
    "duration": 11,
    "start_time": "2024-04-04T20:31:08.236Z"
   },
   {
    "duration": 269,
    "start_time": "2024-04-04T20:31:08.249Z"
   },
   {
    "duration": 5,
    "start_time": "2024-04-04T20:31:08.519Z"
   },
   {
    "duration": 90,
    "start_time": "2024-04-04T20:31:08.525Z"
   },
   {
    "duration": 5,
    "start_time": "2024-04-04T20:31:08.617Z"
   },
   {
    "duration": 38,
    "start_time": "2024-04-04T20:31:08.623Z"
   },
   {
    "duration": 20,
    "start_time": "2024-04-04T20:31:08.662Z"
   },
   {
    "duration": 244,
    "start_time": "2024-04-04T20:31:08.684Z"
   },
   {
    "duration": 174,
    "start_time": "2024-04-04T20:31:08.929Z"
   },
   {
    "duration": 172,
    "start_time": "2024-04-04T20:31:09.104Z"
   },
   {
    "duration": 149,
    "start_time": "2024-04-04T20:31:09.277Z"
   },
   {
    "duration": 144,
    "start_time": "2024-04-04T20:31:09.427Z"
   },
   {
    "duration": 213,
    "start_time": "2024-04-04T20:31:09.572Z"
   },
   {
    "duration": 195,
    "start_time": "2024-04-04T20:31:09.788Z"
   },
   {
    "duration": 207,
    "start_time": "2024-04-04T20:31:09.986Z"
   },
   {
    "duration": 27,
    "start_time": "2024-04-04T20:31:10.195Z"
   },
   {
    "duration": 19,
    "start_time": "2024-04-04T20:31:10.224Z"
   },
   {
    "duration": 218,
    "start_time": "2024-04-04T20:31:10.245Z"
   },
   {
    "duration": 1259,
    "start_time": "2024-04-05T08:35:12.746Z"
   },
   {
    "duration": 28,
    "start_time": "2024-04-05T08:35:14.006Z"
   },
   {
    "duration": 15,
    "start_time": "2024-04-05T08:35:14.036Z"
   },
   {
    "duration": 35,
    "start_time": "2024-04-05T08:35:14.053Z"
   },
   {
    "duration": 71,
    "start_time": "2024-04-05T08:35:14.090Z"
   },
   {
    "duration": 2060,
    "start_time": "2024-04-05T08:35:14.163Z"
   },
   {
    "duration": 10,
    "start_time": "2024-04-05T08:35:16.225Z"
   },
   {
    "duration": 12,
    "start_time": "2024-04-05T08:35:16.236Z"
   },
   {
    "duration": 19,
    "start_time": "2024-04-05T08:35:16.250Z"
   },
   {
    "duration": 9,
    "start_time": "2024-04-05T08:35:16.271Z"
   },
   {
    "duration": 36,
    "start_time": "2024-04-05T08:35:16.282Z"
   },
   {
    "duration": 18,
    "start_time": "2024-04-05T08:35:16.319Z"
   },
   {
    "duration": 8,
    "start_time": "2024-04-05T08:35:16.338Z"
   },
   {
    "duration": 15,
    "start_time": "2024-04-05T08:35:16.347Z"
   },
   {
    "duration": 37,
    "start_time": "2024-04-05T08:35:16.363Z"
   },
   {
    "duration": 15,
    "start_time": "2024-04-05T08:35:16.402Z"
   },
   {
    "duration": 16,
    "start_time": "2024-04-05T08:35:16.418Z"
   },
   {
    "duration": 18,
    "start_time": "2024-04-05T08:35:16.435Z"
   },
   {
    "duration": 19,
    "start_time": "2024-04-05T08:35:16.454Z"
   },
   {
    "duration": 12,
    "start_time": "2024-04-05T08:35:16.474Z"
   },
   {
    "duration": 28,
    "start_time": "2024-04-05T08:35:16.487Z"
   },
   {
    "duration": 10,
    "start_time": "2024-04-05T08:35:16.516Z"
   },
   {
    "duration": 19,
    "start_time": "2024-04-05T08:35:16.528Z"
   },
   {
    "duration": 25,
    "start_time": "2024-04-05T08:35:16.548Z"
   },
   {
    "duration": 15,
    "start_time": "2024-04-05T08:35:16.574Z"
   },
   {
    "duration": 14,
    "start_time": "2024-04-05T08:35:16.591Z"
   },
   {
    "duration": 19,
    "start_time": "2024-04-05T08:35:16.607Z"
   },
   {
    "duration": 7,
    "start_time": "2024-04-05T08:35:16.631Z"
   },
   {
    "duration": 16,
    "start_time": "2024-04-05T08:35:16.640Z"
   },
   {
    "duration": 31,
    "start_time": "2024-04-05T08:35:16.658Z"
   },
   {
    "duration": 58,
    "start_time": "2024-04-05T08:35:16.691Z"
   },
   {
    "duration": 16,
    "start_time": "2024-04-05T08:35:16.751Z"
   },
   {
    "duration": 14,
    "start_time": "2024-04-05T08:35:16.769Z"
   },
   {
    "duration": 7,
    "start_time": "2024-04-05T08:35:16.785Z"
   },
   {
    "duration": 12,
    "start_time": "2024-04-05T08:35:16.794Z"
   },
   {
    "duration": 17,
    "start_time": "2024-04-05T08:35:16.808Z"
   },
   {
    "duration": 15,
    "start_time": "2024-04-05T08:35:16.826Z"
   },
   {
    "duration": 6,
    "start_time": "2024-04-05T08:35:16.842Z"
   },
   {
    "duration": 344,
    "start_time": "2024-04-05T08:35:16.849Z"
   },
   {
    "duration": 6,
    "start_time": "2024-04-05T08:35:17.195Z"
   },
   {
    "duration": 8,
    "start_time": "2024-04-05T08:35:17.203Z"
   },
   {
    "duration": 24,
    "start_time": "2024-04-05T08:35:17.212Z"
   },
   {
    "duration": 9,
    "start_time": "2024-04-05T08:35:17.237Z"
   },
   {
    "duration": 289,
    "start_time": "2024-04-05T08:35:17.247Z"
   },
   {
    "duration": 9,
    "start_time": "2024-04-05T08:35:17.538Z"
   },
   {
    "duration": 211,
    "start_time": "2024-04-05T08:35:17.549Z"
   },
   {
    "duration": 9,
    "start_time": "2024-04-05T08:35:17.762Z"
   },
   {
    "duration": 169,
    "start_time": "2024-04-05T08:35:17.786Z"
   },
   {
    "duration": 9,
    "start_time": "2024-04-05T08:35:17.957Z"
   },
   {
    "duration": 277,
    "start_time": "2024-04-05T08:35:17.968Z"
   },
   {
    "duration": 236,
    "start_time": "2024-04-05T08:35:18.247Z"
   },
   {
    "duration": 9,
    "start_time": "2024-04-05T08:35:18.487Z"
   },
   {
    "duration": 170,
    "start_time": "2024-04-05T08:35:18.498Z"
   },
   {
    "duration": 170,
    "start_time": "2024-04-05T08:35:18.670Z"
   },
   {
    "duration": 9,
    "start_time": "2024-04-05T08:35:18.842Z"
   },
   {
    "duration": 273,
    "start_time": "2024-04-05T08:35:18.853Z"
   },
   {
    "duration": 10,
    "start_time": "2024-04-05T08:35:19.128Z"
   },
   {
    "duration": 304,
    "start_time": "2024-04-05T08:35:19.140Z"
   },
   {
    "duration": 8,
    "start_time": "2024-04-05T08:35:19.446Z"
   },
   {
    "duration": 267,
    "start_time": "2024-04-05T08:35:19.456Z"
   },
   {
    "duration": 9,
    "start_time": "2024-04-05T08:35:19.725Z"
   },
   {
    "duration": 247,
    "start_time": "2024-04-05T08:35:19.736Z"
   },
   {
    "duration": 5,
    "start_time": "2024-04-05T08:35:19.988Z"
   },
   {
    "duration": 23,
    "start_time": "2024-04-05T08:35:19.994Z"
   },
   {
    "duration": 6,
    "start_time": "2024-04-05T08:35:20.019Z"
   },
   {
    "duration": 74,
    "start_time": "2024-04-05T08:35:20.027Z"
   },
   {
    "duration": 16,
    "start_time": "2024-04-05T08:35:20.103Z"
   },
   {
    "duration": 497,
    "start_time": "2024-04-05T08:35:20.121Z"
   },
   {
    "duration": 377,
    "start_time": "2024-04-05T08:35:20.620Z"
   },
   {
    "duration": 303,
    "start_time": "2024-04-05T08:35:20.998Z"
   },
   {
    "duration": 251,
    "start_time": "2024-04-05T08:35:21.302Z"
   },
   {
    "duration": 169,
    "start_time": "2024-04-05T08:35:21.555Z"
   },
   {
    "duration": 195,
    "start_time": "2024-04-05T08:35:21.725Z"
   },
   {
    "duration": 190,
    "start_time": "2024-04-05T08:35:21.922Z"
   },
   {
    "duration": 190,
    "start_time": "2024-04-05T08:35:22.114Z"
   },
   {
    "duration": 27,
    "start_time": "2024-04-05T08:35:22.305Z"
   },
   {
    "duration": 21,
    "start_time": "2024-04-05T08:35:22.333Z"
   },
   {
    "duration": 221,
    "start_time": "2024-04-05T08:35:22.355Z"
   },
   {
    "duration": 44,
    "start_time": "2024-04-07T03:40:04.883Z"
   },
   {
    "duration": 1616,
    "start_time": "2024-04-07T03:40:12.591Z"
   },
   {
    "duration": 27,
    "start_time": "2024-04-07T03:40:14.209Z"
   },
   {
    "duration": 14,
    "start_time": "2024-04-07T03:40:14.237Z"
   },
   {
    "duration": 25,
    "start_time": "2024-04-07T03:40:14.252Z"
   },
   {
    "duration": 71,
    "start_time": "2024-04-07T03:40:14.278Z"
   },
   {
    "duration": 1914,
    "start_time": "2024-04-07T03:40:14.351Z"
   },
   {
    "duration": 10,
    "start_time": "2024-04-07T03:40:16.267Z"
   },
   {
    "duration": 13,
    "start_time": "2024-04-07T03:40:16.278Z"
   },
   {
    "duration": 16,
    "start_time": "2024-04-07T03:40:16.292Z"
   },
   {
    "duration": 10,
    "start_time": "2024-04-07T03:40:16.310Z"
   },
   {
    "duration": 15,
    "start_time": "2024-04-07T03:40:16.321Z"
   },
   {
    "duration": 11,
    "start_time": "2024-04-07T03:40:16.337Z"
   },
   {
    "duration": 12,
    "start_time": "2024-04-07T03:40:16.350Z"
   },
   {
    "duration": 9,
    "start_time": "2024-04-07T03:40:16.368Z"
   },
   {
    "duration": 49,
    "start_time": "2024-04-07T03:40:16.379Z"
   },
   {
    "duration": 15,
    "start_time": "2024-04-07T03:40:16.430Z"
   },
   {
    "duration": 4,
    "start_time": "2024-04-07T03:40:16.446Z"
   },
   {
    "duration": 7,
    "start_time": "2024-04-07T03:40:16.451Z"
   },
   {
    "duration": 14,
    "start_time": "2024-04-07T03:40:16.460Z"
   },
   {
    "duration": 7,
    "start_time": "2024-04-07T03:40:16.476Z"
   },
   {
    "duration": 14,
    "start_time": "2024-04-07T03:40:16.484Z"
   },
   {
    "duration": 6,
    "start_time": "2024-04-07T03:40:16.499Z"
   },
   {
    "duration": 17,
    "start_time": "2024-04-07T03:40:16.506Z"
   },
   {
    "duration": 22,
    "start_time": "2024-04-07T03:40:16.524Z"
   },
   {
    "duration": 6,
    "start_time": "2024-04-07T03:40:16.569Z"
   },
   {
    "duration": 7,
    "start_time": "2024-04-07T03:40:16.576Z"
   },
   {
    "duration": 26,
    "start_time": "2024-04-07T03:40:16.584Z"
   },
   {
    "duration": 9,
    "start_time": "2024-04-07T03:40:16.611Z"
   },
   {
    "duration": 7,
    "start_time": "2024-04-07T03:40:16.621Z"
   },
   {
    "duration": 23,
    "start_time": "2024-04-07T03:40:16.629Z"
   },
   {
    "duration": 28,
    "start_time": "2024-04-07T03:40:16.653Z"
   },
   {
    "duration": 23,
    "start_time": "2024-04-07T03:40:16.683Z"
   },
   {
    "duration": 4,
    "start_time": "2024-04-07T03:40:16.708Z"
   },
   {
    "duration": 5,
    "start_time": "2024-04-07T03:40:16.713Z"
   },
   {
    "duration": 43,
    "start_time": "2024-04-07T03:40:16.719Z"
   },
   {
    "duration": 7,
    "start_time": "2024-04-07T03:40:16.764Z"
   },
   {
    "duration": 22,
    "start_time": "2024-04-07T03:40:16.773Z"
   },
   {
    "duration": 24,
    "start_time": "2024-04-07T03:40:16.797Z"
   },
   {
    "duration": 317,
    "start_time": "2024-04-07T03:40:16.823Z"
   },
   {
    "duration": 8,
    "start_time": "2024-04-07T03:40:17.141Z"
   },
   {
    "duration": 7,
    "start_time": "2024-04-07T03:40:17.153Z"
   },
   {
    "duration": 22,
    "start_time": "2024-04-07T03:40:17.170Z"
   },
   {
    "duration": 11,
    "start_time": "2024-04-07T03:40:17.193Z"
   },
   {
    "duration": 282,
    "start_time": "2024-04-07T03:40:17.205Z"
   },
   {
    "duration": 10,
    "start_time": "2024-04-07T03:40:17.489Z"
   },
   {
    "duration": 399,
    "start_time": "2024-04-07T03:40:17.501Z"
   },
   {
    "duration": 9,
    "start_time": "2024-04-07T03:40:17.901Z"
   },
   {
    "duration": 403,
    "start_time": "2024-04-07T03:40:17.969Z"
   },
   {
    "duration": 9,
    "start_time": "2024-04-07T03:40:18.374Z"
   },
   {
    "duration": 521,
    "start_time": "2024-04-07T03:40:18.386Z"
   },
   {
    "duration": 463,
    "start_time": "2024-04-07T03:40:18.910Z"
   },
   {
    "duration": 9,
    "start_time": "2024-04-07T03:40:19.375Z"
   },
   {
    "duration": 155,
    "start_time": "2024-04-07T03:40:19.386Z"
   },
   {
    "duration": 157,
    "start_time": "2024-04-07T03:40:19.543Z"
   },
   {
    "duration": 8,
    "start_time": "2024-04-07T03:40:19.702Z"
   },
   {
    "duration": 291,
    "start_time": "2024-04-07T03:40:19.711Z"
   },
   {
    "duration": 12,
    "start_time": "2024-04-07T03:40:20.004Z"
   },
   {
    "duration": 309,
    "start_time": "2024-04-07T03:40:20.018Z"
   },
   {
    "duration": 10,
    "start_time": "2024-04-07T03:40:20.329Z"
   },
   {
    "duration": 292,
    "start_time": "2024-04-07T03:40:20.340Z"
   },
   {
    "duration": 9,
    "start_time": "2024-04-07T03:40:20.633Z"
   },
   {
    "duration": 258,
    "start_time": "2024-04-07T03:40:20.644Z"
   },
   {
    "duration": 4,
    "start_time": "2024-04-07T03:40:20.904Z"
   },
   {
    "duration": 29,
    "start_time": "2024-04-07T03:40:20.909Z"
   },
   {
    "duration": 4,
    "start_time": "2024-04-07T03:40:20.940Z"
   },
   {
    "duration": 49,
    "start_time": "2024-04-07T03:40:20.945Z"
   },
   {
    "duration": 21,
    "start_time": "2024-04-07T03:40:20.995Z"
   },
   {
    "duration": 253,
    "start_time": "2024-04-07T03:40:21.018Z"
   },
   {
    "duration": 176,
    "start_time": "2024-04-07T03:40:21.273Z"
   },
   {
    "duration": 150,
    "start_time": "2024-04-07T03:40:21.451Z"
   },
   {
    "duration": 137,
    "start_time": "2024-04-07T03:40:21.603Z"
   },
   {
    "duration": 142,
    "start_time": "2024-04-07T03:40:21.742Z"
   },
   {
    "duration": 189,
    "start_time": "2024-04-07T03:40:21.886Z"
   },
   {
    "duration": 177,
    "start_time": "2024-04-07T03:40:22.077Z"
   },
   {
    "duration": 187,
    "start_time": "2024-04-07T03:40:22.256Z"
   },
   {
    "duration": 37,
    "start_time": "2024-04-07T03:40:22.445Z"
   },
   {
    "duration": 21,
    "start_time": "2024-04-07T03:40:22.483Z"
   },
   {
    "duration": 198,
    "start_time": "2024-04-07T03:40:22.505Z"
   },
   {
    "duration": 1161,
    "start_time": "2024-06-07T14:10:02.388Z"
   },
   {
    "duration": 22,
    "start_time": "2024-06-07T14:10:03.550Z"
   },
   {
    "duration": 15,
    "start_time": "2024-06-07T14:10:03.574Z"
   },
   {
    "duration": 32,
    "start_time": "2024-06-07T14:10:03.590Z"
   },
   {
    "duration": 64,
    "start_time": "2024-06-07T14:10:03.624Z"
   },
   {
    "duration": 1546,
    "start_time": "2024-06-07T14:10:03.689Z"
   },
   {
    "duration": 8,
    "start_time": "2024-06-07T14:10:05.236Z"
   },
   {
    "duration": 6,
    "start_time": "2024-06-07T14:10:05.245Z"
   },
   {
    "duration": 22,
    "start_time": "2024-06-07T14:10:05.252Z"
   },
   {
    "duration": 18,
    "start_time": "2024-06-07T14:10:05.275Z"
   },
   {
    "duration": 21,
    "start_time": "2024-06-07T14:10:05.294Z"
   },
   {
    "duration": 50,
    "start_time": "2024-06-07T14:10:05.316Z"
   },
   {
    "duration": 43,
    "start_time": "2024-06-07T14:10:05.367Z"
   },
   {
    "duration": 33,
    "start_time": "2024-06-07T14:10:05.413Z"
   },
   {
    "duration": 39,
    "start_time": "2024-06-07T14:10:05.448Z"
   },
   {
    "duration": 42,
    "start_time": "2024-06-07T14:10:05.489Z"
   },
   {
    "duration": 10,
    "start_time": "2024-06-07T14:10:05.532Z"
   },
   {
    "duration": 12,
    "start_time": "2024-06-07T14:10:05.544Z"
   },
   {
    "duration": 42,
    "start_time": "2024-06-07T14:10:05.557Z"
   },
   {
    "duration": 29,
    "start_time": "2024-06-07T14:10:05.600Z"
   },
   {
    "duration": 57,
    "start_time": "2024-06-07T14:10:05.630Z"
   },
   {
    "duration": 40,
    "start_time": "2024-06-07T14:10:05.688Z"
   },
   {
    "duration": 34,
    "start_time": "2024-06-07T14:10:05.729Z"
   },
   {
    "duration": 53,
    "start_time": "2024-06-07T14:10:05.765Z"
   },
   {
    "duration": 57,
    "start_time": "2024-06-07T14:10:05.819Z"
   },
   {
    "duration": 36,
    "start_time": "2024-06-07T14:10:05.877Z"
   },
   {
    "duration": 36,
    "start_time": "2024-06-07T14:10:05.914Z"
   },
   {
    "duration": 13,
    "start_time": "2024-06-07T14:10:05.951Z"
   },
   {
    "duration": 43,
    "start_time": "2024-06-07T14:10:05.965Z"
   },
   {
    "duration": 32,
    "start_time": "2024-06-07T14:10:06.011Z"
   },
   {
    "duration": 11,
    "start_time": "2024-06-07T14:10:06.044Z"
   },
   {
    "duration": 19,
    "start_time": "2024-06-07T14:10:06.056Z"
   },
   {
    "duration": 14,
    "start_time": "2024-06-07T14:10:06.076Z"
   },
   {
    "duration": 17,
    "start_time": "2024-06-07T14:10:06.092Z"
   },
   {
    "duration": 10,
    "start_time": "2024-06-07T14:10:06.110Z"
   },
   {
    "duration": 13,
    "start_time": "2024-06-07T14:10:06.122Z"
   },
   {
    "duration": 78,
    "start_time": "2024-06-07T14:10:06.136Z"
   },
   {
    "duration": 7,
    "start_time": "2024-06-07T14:10:06.216Z"
   },
   {
    "duration": 305,
    "start_time": "2024-06-07T14:10:06.224Z"
   },
   {
    "duration": 6,
    "start_time": "2024-06-07T14:10:06.530Z"
   },
   {
    "duration": 5,
    "start_time": "2024-06-07T14:10:06.540Z"
   },
   {
    "duration": 25,
    "start_time": "2024-06-07T14:10:06.546Z"
   },
   {
    "duration": 5,
    "start_time": "2024-06-07T14:10:06.573Z"
   },
   {
    "duration": 214,
    "start_time": "2024-06-07T14:10:06.579Z"
   },
   {
    "duration": 8,
    "start_time": "2024-06-07T14:10:06.795Z"
   },
   {
    "duration": 151,
    "start_time": "2024-06-07T14:10:06.805Z"
   },
   {
    "duration": 7,
    "start_time": "2024-06-07T14:10:06.957Z"
   },
   {
    "duration": 131,
    "start_time": "2024-06-07T14:10:06.965Z"
   },
   {
    "duration": 7,
    "start_time": "2024-06-07T14:10:07.101Z"
   },
   {
    "duration": 217,
    "start_time": "2024-06-07T14:10:07.109Z"
   },
   {
    "duration": 217,
    "start_time": "2024-06-07T14:10:07.328Z"
   },
   {
    "duration": 7,
    "start_time": "2024-06-07T14:10:07.546Z"
   },
   {
    "duration": 145,
    "start_time": "2024-06-07T14:10:07.554Z"
   },
   {
    "duration": 141,
    "start_time": "2024-06-07T14:10:07.701Z"
   },
   {
    "duration": 7,
    "start_time": "2024-06-07T14:10:07.844Z"
   },
   {
    "duration": 207,
    "start_time": "2024-06-07T14:10:07.852Z"
   },
   {
    "duration": 8,
    "start_time": "2024-06-07T14:10:08.061Z"
   },
   {
    "duration": 219,
    "start_time": "2024-06-07T14:10:08.070Z"
   },
   {
    "duration": 14,
    "start_time": "2024-06-07T14:10:08.291Z"
   },
   {
    "duration": 211,
    "start_time": "2024-06-07T14:10:08.306Z"
   },
   {
    "duration": 8,
    "start_time": "2024-06-07T14:10:08.518Z"
   },
   {
    "duration": 190,
    "start_time": "2024-06-07T14:10:08.527Z"
   },
   {
    "duration": 4,
    "start_time": "2024-06-07T14:10:08.719Z"
   },
   {
    "duration": 26,
    "start_time": "2024-06-07T14:10:08.725Z"
   },
   {
    "duration": 3,
    "start_time": "2024-06-07T14:10:08.752Z"
   },
   {
    "duration": 32,
    "start_time": "2024-06-07T14:10:08.757Z"
   },
   {
    "duration": 22,
    "start_time": "2024-06-07T14:10:08.791Z"
   },
   {
    "duration": 211,
    "start_time": "2024-06-07T14:10:08.814Z"
   },
   {
    "duration": 144,
    "start_time": "2024-06-07T14:10:09.026Z"
   },
   {
    "duration": 152,
    "start_time": "2024-06-07T14:10:09.172Z"
   },
   {
    "duration": 135,
    "start_time": "2024-06-07T14:10:09.326Z"
   },
   {
    "duration": 120,
    "start_time": "2024-06-07T14:10:09.462Z"
   },
   {
    "duration": 162,
    "start_time": "2024-06-07T14:10:09.584Z"
   },
   {
    "duration": 153,
    "start_time": "2024-06-07T14:10:09.748Z"
   },
   {
    "duration": 150,
    "start_time": "2024-06-07T14:10:09.903Z"
   },
   {
    "duration": 23,
    "start_time": "2024-06-07T14:10:10.054Z"
   },
   {
    "duration": 27,
    "start_time": "2024-06-07T14:10:10.078Z"
   },
   {
    "duration": 315,
    "start_time": "2024-06-07T14:10:10.106Z"
   },
   {
    "duration": 1260,
    "start_time": "2024-11-10T13:32:39.635Z"
   },
   {
    "duration": 31,
    "start_time": "2024-11-10T13:32:40.897Z"
   },
   {
    "duration": 13,
    "start_time": "2024-11-10T13:32:40.929Z"
   },
   {
    "duration": 20,
    "start_time": "2024-11-10T13:32:40.943Z"
   },
   {
    "duration": 83,
    "start_time": "2024-11-10T13:32:40.965Z"
   },
   {
    "duration": 1777,
    "start_time": "2024-11-10T13:32:41.049Z"
   },
   {
    "duration": 7,
    "start_time": "2024-11-10T13:32:42.828Z"
   },
   {
    "duration": 10,
    "start_time": "2024-11-10T13:32:42.837Z"
   },
   {
    "duration": 82,
    "start_time": "2024-11-10T13:32:42.848Z"
   },
   {
    "duration": 29,
    "start_time": "2024-11-10T13:32:42.931Z"
   },
   {
    "duration": 10,
    "start_time": "2024-11-10T13:32:42.961Z"
   },
   {
    "duration": 12,
    "start_time": "2024-11-10T13:32:42.972Z"
   },
   {
    "duration": 11,
    "start_time": "2024-11-10T13:32:42.986Z"
   },
   {
    "duration": 24,
    "start_time": "2024-11-10T13:32:43.001Z"
   },
   {
    "duration": 21,
    "start_time": "2024-11-10T13:32:43.027Z"
   },
   {
    "duration": 14,
    "start_time": "2024-11-10T13:32:43.049Z"
   },
   {
    "duration": 4,
    "start_time": "2024-11-10T13:32:43.064Z"
   },
   {
    "duration": 8,
    "start_time": "2024-11-10T13:32:43.069Z"
   },
   {
    "duration": 5,
    "start_time": "2024-11-10T13:32:43.079Z"
   },
   {
    "duration": 5,
    "start_time": "2024-11-10T13:32:43.085Z"
   },
   {
    "duration": 38,
    "start_time": "2024-11-10T13:32:43.091Z"
   },
   {
    "duration": 7,
    "start_time": "2024-11-10T13:32:43.131Z"
   },
   {
    "duration": 25,
    "start_time": "2024-11-10T13:32:43.139Z"
   },
   {
    "duration": 58,
    "start_time": "2024-11-10T13:32:43.166Z"
   },
   {
    "duration": 47,
    "start_time": "2024-11-10T13:32:43.226Z"
   },
   {
    "duration": 16,
    "start_time": "2024-11-10T13:32:43.275Z"
   },
   {
    "duration": 4,
    "start_time": "2024-11-10T13:32:43.293Z"
   },
   {
    "duration": 4,
    "start_time": "2024-11-10T13:32:43.300Z"
   },
   {
    "duration": 10,
    "start_time": "2024-11-10T13:32:43.305Z"
   },
   {
    "duration": 5,
    "start_time": "2024-11-10T13:32:43.316Z"
   },
   {
    "duration": 41,
    "start_time": "2024-11-10T13:32:43.322Z"
   },
   {
    "duration": 79,
    "start_time": "2024-11-10T13:32:43.365Z"
   },
   {
    "duration": 4,
    "start_time": "2024-11-10T13:32:43.446Z"
   },
   {
    "duration": 5,
    "start_time": "2024-11-10T13:32:43.451Z"
   },
   {
    "duration": 76,
    "start_time": "2024-11-10T13:32:43.458Z"
   },
   {
    "duration": 135,
    "start_time": "2024-11-10T13:32:43.536Z"
   },
   {
    "duration": 12,
    "start_time": "2024-11-10T13:32:43.672Z"
   },
   {
    "duration": 5,
    "start_time": "2024-11-10T13:32:43.686Z"
   },
   {
    "duration": 360,
    "start_time": "2024-11-10T13:32:43.692Z"
   },
   {
    "duration": 6,
    "start_time": "2024-11-10T13:32:44.054Z"
   },
   {
    "duration": 6,
    "start_time": "2024-11-10T13:32:44.064Z"
   },
   {
    "duration": 17,
    "start_time": "2024-11-10T13:32:44.071Z"
   },
   {
    "duration": 13,
    "start_time": "2024-11-10T13:32:44.113Z"
   },
   {
    "duration": 264,
    "start_time": "2024-11-10T13:32:44.127Z"
   },
   {
    "duration": 7,
    "start_time": "2024-11-10T13:32:44.392Z"
   },
   {
    "duration": 168,
    "start_time": "2024-11-10T13:32:44.400Z"
   },
   {
    "duration": 7,
    "start_time": "2024-11-10T13:32:44.570Z"
   },
   {
    "duration": 176,
    "start_time": "2024-11-10T13:32:44.578Z"
   },
   {
    "duration": 67,
    "start_time": "2024-11-10T13:32:44.755Z"
   },
   {
    "duration": 417,
    "start_time": "2024-11-10T13:32:44.823Z"
   },
   {
    "duration": 526,
    "start_time": "2024-11-10T13:32:45.242Z"
   },
   {
    "duration": 9,
    "start_time": "2024-11-10T13:32:45.770Z"
   },
   {
    "duration": 343,
    "start_time": "2024-11-10T13:32:45.781Z"
   },
   {
    "duration": 394,
    "start_time": "2024-11-10T13:32:46.126Z"
   },
   {
    "duration": 8,
    "start_time": "2024-11-10T13:32:46.523Z"
   },
   {
    "duration": 428,
    "start_time": "2024-11-10T13:32:46.532Z"
   },
   {
    "duration": 47,
    "start_time": "2024-11-10T13:32:46.962Z"
   },
   {
    "duration": 292,
    "start_time": "2024-11-10T13:32:47.011Z"
   },
   {
    "duration": 21,
    "start_time": "2024-11-10T13:32:47.305Z"
   },
   {
    "duration": 303,
    "start_time": "2024-11-10T13:32:47.327Z"
   },
   {
    "duration": 10,
    "start_time": "2024-11-10T13:32:47.633Z"
   },
   {
    "duration": 491,
    "start_time": "2024-11-10T13:32:47.645Z"
   },
   {
    "duration": 3,
    "start_time": "2024-11-10T13:32:48.138Z"
   },
   {
    "duration": 98,
    "start_time": "2024-11-10T13:32:48.142Z"
   },
   {
    "duration": 4,
    "start_time": "2024-11-10T13:32:48.242Z"
   },
   {
    "duration": 87,
    "start_time": "2024-11-10T13:32:48.248Z"
   },
   {
    "duration": 75,
    "start_time": "2024-11-10T13:32:48.337Z"
   },
   {
    "duration": 399,
    "start_time": "2024-11-10T13:32:48.413Z"
   },
   {
    "duration": 443,
    "start_time": "2024-11-10T13:32:48.813Z"
   },
   {
    "duration": 514,
    "start_time": "2024-11-10T13:32:49.308Z"
   },
   {
    "duration": 412,
    "start_time": "2024-11-10T13:32:49.823Z"
   },
   {
    "duration": 587,
    "start_time": "2024-11-10T13:32:50.238Z"
   },
   {
    "duration": 597,
    "start_time": "2024-11-10T13:32:50.826Z"
   },
   {
    "duration": 707,
    "start_time": "2024-11-10T13:32:51.425Z"
   },
   {
    "duration": 599,
    "start_time": "2024-11-10T13:32:52.134Z"
   },
   {
    "duration": 182,
    "start_time": "2024-11-10T13:32:52.735Z"
   },
   {
    "duration": 103,
    "start_time": "2024-11-10T13:32:52.919Z"
   },
   {
    "duration": 1200,
    "start_time": "2024-11-10T13:32:53.028Z"
   }
  ],
  "colab": {
   "provenance": []
  },
  "kernelspec": {
   "display_name": "Python 3 (ipykernel)",
   "language": "python",
   "name": "python3"
  },
  "language_info": {
   "codemirror_mode": {
    "name": "ipython",
    "version": 3
   },
   "file_extension": ".py",
   "mimetype": "text/x-python",
   "name": "python",
   "nbconvert_exporter": "python",
   "pygments_lexer": "ipython3",
   "version": "3.9.5"
  },
  "toc": {
   "base_numbering": 1,
   "nav_menu": {},
   "number_sections": true,
   "sideBar": true,
   "skip_h1_title": true,
   "title_cell": "Table of Contents",
   "title_sidebar": "Contents",
   "toc_cell": false,
   "toc_position": {
    "height": "calc(100% - 180px)",
    "left": "10px",
    "top": "150px",
    "width": "359.391px"
   },
   "toc_section_display": true,
   "toc_window_display": true
  }
 },
 "nbformat": 4,
 "nbformat_minor": 1
}
