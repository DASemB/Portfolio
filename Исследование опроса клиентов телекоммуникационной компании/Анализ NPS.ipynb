{
 "cells": [
  {
   "cell_type": "markdown",
   "id": "367ca1c7",
   "metadata": {},
   "source": [
    "# Проект: Анализ NPS\n",
    "Заказчик данного исследования — большая телекоммуникационная компания, которая оказывает услуги на территории всего СНГ. Перед компанией стоит задача определить текущий уровень потребительской лояльности, или NPS (от англ. Net Promoter Score), среди клиентов из России.\n",
    "\n",
    "Компания провела опрос и попросила вас подготовить дашборд с его итогами. Большую базу данных для такой задачи разворачивать не стали и выгрузили данные в SQLite.\n",
    "\n",
    "Чтобы оценить результаты опроса, оценки обычно делят на три группы:\n",
    "\n",
    "9-10 баллов — «cторонники» (англ. promoters);\n",
    "7-8 баллов — «нейтралы» (англ. passives);\n",
    "0-6 баллов — «критики» (англ. detractors).\n",
    "Итоговое значение NPS рассчитывается по формуле: % «сторонников» - % «критиков».\n",
    "\n",
    "Цель исследования — ответить на следующие вопросы:\n",
    "\n",
    "Как распределены участники опроса по возрасту, полу и возрасту? Каких пользователей больше: новых или старых? Пользователи из каких городов активнее участвовали в опросе?\n",
    "\n",
    "Какие группы пользователей наиболее лояльны к сервису? Какие менее?\n",
    "\n",
    "Какой общий NPS среди всех опрошенных?\n",
    "\n",
    "Как можно описать клиентов, которые относятся к группе cторонников (англ. promoters)?"
   ]
  },
  {
   "cell_type": "markdown",
   "id": "fbd8041c",
   "metadata": {},
   "source": [
    "В таблице 14 столбцов:\n",
    "    \n",
    "- user_id: Идентификатор клиента\n",
    "- lt_day: Количество дней «жизни» клиента\n",
    "- is_new: Поле хранит информацию о том, является ли клиент новым\n",
    "- age: Возраст\n",
    "- gender_segment: Пол (для удобства работы с полем преобразуйте значения в текстовый вид)\n",
    "- os_name: Тип операционной системы\n",
    "- cpe_type_name: Тип устройства\n",
    "- country: Страна проживания\n",
    "- city: Город проживания\n",
    "- age_segment: Возрастной сегмент\n",
    "- traffic_segment: Сегмент по объёму потребляемого трафика\n",
    "- lifetime_segment: Сегмент по количеству дней «жизни»\n",
    "- nps_score: Оценка клиента в NPS-опросе\n",
    "- nps_group: Поле хранит информацию о том, к какой группе относится оценка клиента в опросе"
   ]
  },
  {
   "cell_type": "code",
   "execution_count": 1,
   "id": "b388be82",
   "metadata": {},
   "outputs": [],
   "source": [
    "import os\n",
    "import pandas as pd\n",
    "import numpy as np\n",
    "\n",
    "from sqlalchemy import create_engine"
   ]
  },
  {
   "cell_type": "code",
   "execution_count": 2,
   "id": "0017f8e7",
   "metadata": {},
   "outputs": [],
   "source": [
    "path_to_db_local = 'telecomm_csi.db'\n",
    "path_to_db_platform = '/datasets/telecomm_csi.db'\n",
    "path_to_db = None\n",
    "\n",
    "if os.path.exists(path_to_db_local):\n",
    "    path_to_db = path_to_db_local\n",
    "elif os.path.exists(path_to_db_platform):\n",
    "    path_to_db = path_to_db_platform\n",
    "else:\n",
    "    raise Exception('Файл с базой данных SQLite не найден!')\n",
    "\n",
    "if path_to_db:\n",
    "    engine = create_engine(f'sqlite:///{path_to_db}', echo=False)"
   ]
  },
  {
   "cell_type": "code",
   "execution_count": 3,
   "id": "84ebad43",
   "metadata": {},
   "outputs": [],
   "source": [
    "query = \"\"\"\n",
    "SELECT u.user_id,\n",
    "       u.lt_day,\n",
    "       CASE \n",
    "           WHEN u.lt_day <= 365 THEN 'Новый'\n",
    "           ELSE 'Старый'\n",
    "           END AS is_new,\n",
    "       u.age,\n",
    "       CASE \n",
    "           WHEN u.gender_segment == 1 THEN 'Женщина'\n",
    "           WHEN u.gender_segment == 0 THEN 'Мужчина'\n",
    "           ELSE 'не указано'\n",
    "           END AS gender_segment,\n",
    "       u.os_name,\n",
    "       u.cpe_type_name,\n",
    "       l.country,\n",
    "       l.city,\n",
    "       SUBSTR(a.title, 4) AS age_segment,\n",
    "       SUBSTR(t.title, 4) AS traffic_segment,\n",
    "       SUBSTR(ls.title, 4) AS lifetime_segment,\n",
    "       u.nps_score,\n",
    "       CASE \n",
    "           WHEN u.nps_score >= 9 THEN 'Cторонник'\n",
    "           WHEN u.nps_score >= 7 THEN 'Нейтрал'\n",
    "           ELSE 'Критик'\n",
    "           END AS nps_group\n",
    "FROM user AS u\n",
    "JOIN location AS l ON u.location_id = l.location_id\n",
    "JOIN age_segment AS a ON u.age_gr_id = a.age_gr_id\n",
    "JOIN traffic_segment AS t ON u.tr_gr_id = t.tr_gr_id\n",
    "JOIN lifetime_segment AS ls ON u.lt_gr_id = ls.lt_gr_id;\n",
    "\"\"\""
   ]
  },
  {
   "cell_type": "code",
   "execution_count": 4,
   "id": "3965faf2",
   "metadata": {},
   "outputs": [
    {
     "data": {
      "text/html": [
       "<div>\n",
       "<style scoped>\n",
       "    .dataframe tbody tr th:only-of-type {\n",
       "        vertical-align: middle;\n",
       "    }\n",
       "\n",
       "    .dataframe tbody tr th {\n",
       "        vertical-align: top;\n",
       "    }\n",
       "\n",
       "    .dataframe thead th {\n",
       "        text-align: right;\n",
       "    }\n",
       "</style>\n",
       "<table border=\"1\" class=\"dataframe\">\n",
       "  <thead>\n",
       "    <tr style=\"text-align: right;\">\n",
       "      <th></th>\n",
       "      <th>user_id</th>\n",
       "      <th>lt_day</th>\n",
       "      <th>is_new</th>\n",
       "      <th>age</th>\n",
       "      <th>gender_segment</th>\n",
       "      <th>os_name</th>\n",
       "      <th>cpe_type_name</th>\n",
       "      <th>country</th>\n",
       "      <th>city</th>\n",
       "      <th>age_segment</th>\n",
       "      <th>traffic_segment</th>\n",
       "      <th>lifetime_segment</th>\n",
       "      <th>nps_score</th>\n",
       "      <th>nps_group</th>\n",
       "    </tr>\n",
       "  </thead>\n",
       "  <tbody>\n",
       "    <tr>\n",
       "      <th>0</th>\n",
       "      <td>A001A2</td>\n",
       "      <td>2320</td>\n",
       "      <td>Старый</td>\n",
       "      <td>45.0</td>\n",
       "      <td>Женщина</td>\n",
       "      <td>ANDROID</td>\n",
       "      <td>SMARTPHONE</td>\n",
       "      <td>Россия</td>\n",
       "      <td>Уфа</td>\n",
       "      <td>45-54</td>\n",
       "      <td>1-5</td>\n",
       "      <td>36+</td>\n",
       "      <td>10</td>\n",
       "      <td>Cторонник</td>\n",
       "    </tr>\n",
       "    <tr>\n",
       "      <th>1</th>\n",
       "      <td>A001WF</td>\n",
       "      <td>2344</td>\n",
       "      <td>Старый</td>\n",
       "      <td>53.0</td>\n",
       "      <td>Мужчина</td>\n",
       "      <td>ANDROID</td>\n",
       "      <td>SMARTPHONE</td>\n",
       "      <td>Россия</td>\n",
       "      <td>Киров</td>\n",
       "      <td>45-54</td>\n",
       "      <td>1-5</td>\n",
       "      <td>36+</td>\n",
       "      <td>10</td>\n",
       "      <td>Cторонник</td>\n",
       "    </tr>\n",
       "    <tr>\n",
       "      <th>2</th>\n",
       "      <td>A003Q7</td>\n",
       "      <td>467</td>\n",
       "      <td>Старый</td>\n",
       "      <td>57.0</td>\n",
       "      <td>Мужчина</td>\n",
       "      <td>ANDROID</td>\n",
       "      <td>SMARTPHONE</td>\n",
       "      <td>Россия</td>\n",
       "      <td>Москва</td>\n",
       "      <td>55-64</td>\n",
       "      <td>20-25</td>\n",
       "      <td>13-24</td>\n",
       "      <td>10</td>\n",
       "      <td>Cторонник</td>\n",
       "    </tr>\n",
       "    <tr>\n",
       "      <th>3</th>\n",
       "      <td>A004TB</td>\n",
       "      <td>4190</td>\n",
       "      <td>Старый</td>\n",
       "      <td>44.0</td>\n",
       "      <td>Женщина</td>\n",
       "      <td>IOS</td>\n",
       "      <td>SMARTPHONE</td>\n",
       "      <td>Россия</td>\n",
       "      <td>РостовнаДону</td>\n",
       "      <td>35-44</td>\n",
       "      <td>0.1-1</td>\n",
       "      <td>36+</td>\n",
       "      <td>10</td>\n",
       "      <td>Cторонник</td>\n",
       "    </tr>\n",
       "    <tr>\n",
       "      <th>4</th>\n",
       "      <td>A004XT</td>\n",
       "      <td>1163</td>\n",
       "      <td>Старый</td>\n",
       "      <td>24.0</td>\n",
       "      <td>Мужчина</td>\n",
       "      <td>ANDROID</td>\n",
       "      <td>SMARTPHONE</td>\n",
       "      <td>Россия</td>\n",
       "      <td>Рязань</td>\n",
       "      <td>16-24</td>\n",
       "      <td>5-10</td>\n",
       "      <td>36+</td>\n",
       "      <td>10</td>\n",
       "      <td>Cторонник</td>\n",
       "    </tr>\n",
       "    <tr>\n",
       "      <th>5</th>\n",
       "      <td>A005O0</td>\n",
       "      <td>5501</td>\n",
       "      <td>Старый</td>\n",
       "      <td>42.0</td>\n",
       "      <td>Женщина</td>\n",
       "      <td>ANDROID</td>\n",
       "      <td>SMARTPHONE</td>\n",
       "      <td>Россия</td>\n",
       "      <td>Омск</td>\n",
       "      <td>35-44</td>\n",
       "      <td>5-10</td>\n",
       "      <td>36+</td>\n",
       "      <td>6</td>\n",
       "      <td>Критик</td>\n",
       "    </tr>\n",
       "    <tr>\n",
       "      <th>6</th>\n",
       "      <td>A0061R</td>\n",
       "      <td>1236</td>\n",
       "      <td>Старый</td>\n",
       "      <td>45.0</td>\n",
       "      <td>Мужчина</td>\n",
       "      <td>ANDROID</td>\n",
       "      <td>SMARTPHONE</td>\n",
       "      <td>Россия</td>\n",
       "      <td>Уфа</td>\n",
       "      <td>45-54</td>\n",
       "      <td>10-15</td>\n",
       "      <td>36+</td>\n",
       "      <td>10</td>\n",
       "      <td>Cторонник</td>\n",
       "    </tr>\n",
       "    <tr>\n",
       "      <th>7</th>\n",
       "      <td>A009KS</td>\n",
       "      <td>313</td>\n",
       "      <td>Новый</td>\n",
       "      <td>35.0</td>\n",
       "      <td>Мужчина</td>\n",
       "      <td>ANDROID</td>\n",
       "      <td>SMARTPHONE</td>\n",
       "      <td>Россия</td>\n",
       "      <td>Москва</td>\n",
       "      <td>35-44</td>\n",
       "      <td>45-50</td>\n",
       "      <td>7-12</td>\n",
       "      <td>10</td>\n",
       "      <td>Cторонник</td>\n",
       "    </tr>\n",
       "    <tr>\n",
       "      <th>8</th>\n",
       "      <td>A00AES</td>\n",
       "      <td>3238</td>\n",
       "      <td>Старый</td>\n",
       "      <td>36.0</td>\n",
       "      <td>Женщина</td>\n",
       "      <td>ANDROID</td>\n",
       "      <td>SMARTPHONE</td>\n",
       "      <td>Россия</td>\n",
       "      <td>СанктПетербург</td>\n",
       "      <td>35-44</td>\n",
       "      <td>1-5</td>\n",
       "      <td>36+</td>\n",
       "      <td>10</td>\n",
       "      <td>Cторонник</td>\n",
       "    </tr>\n",
       "    <tr>\n",
       "      <th>9</th>\n",
       "      <td>A00F70</td>\n",
       "      <td>4479</td>\n",
       "      <td>Старый</td>\n",
       "      <td>54.0</td>\n",
       "      <td>Женщина</td>\n",
       "      <td>ANDROID</td>\n",
       "      <td>SMARTPHONE</td>\n",
       "      <td>Россия</td>\n",
       "      <td>Волгоград</td>\n",
       "      <td>45-54</td>\n",
       "      <td>15-20</td>\n",
       "      <td>36+</td>\n",
       "      <td>9</td>\n",
       "      <td>Cторонник</td>\n",
       "    </tr>\n",
       "    <tr>\n",
       "      <th>10</th>\n",
       "      <td>A00HL5</td>\n",
       "      <td>5297</td>\n",
       "      <td>Старый</td>\n",
       "      <td>39.0</td>\n",
       "      <td>Мужчина</td>\n",
       "      <td>ANDROID</td>\n",
       "      <td>SMARTPHONE</td>\n",
       "      <td>Россия</td>\n",
       "      <td>Тольятти</td>\n",
       "      <td>35-44</td>\n",
       "      <td>25-30</td>\n",
       "      <td>36+</td>\n",
       "      <td>10</td>\n",
       "      <td>Cторонник</td>\n",
       "    </tr>\n",
       "    <tr>\n",
       "      <th>11</th>\n",
       "      <td>A00NDN</td>\n",
       "      <td>1374</td>\n",
       "      <td>Старый</td>\n",
       "      <td>21.0</td>\n",
       "      <td>Мужчина</td>\n",
       "      <td>ANDROID</td>\n",
       "      <td>SMARTPHONE</td>\n",
       "      <td>Россия</td>\n",
       "      <td>Рязань</td>\n",
       "      <td>16-24</td>\n",
       "      <td>10-15</td>\n",
       "      <td>36+</td>\n",
       "      <td>2</td>\n",
       "      <td>Критик</td>\n",
       "    </tr>\n",
       "    <tr>\n",
       "      <th>12</th>\n",
       "      <td>A00P46</td>\n",
       "      <td>179</td>\n",
       "      <td>Новый</td>\n",
       "      <td>27.0</td>\n",
       "      <td>Мужчина</td>\n",
       "      <td>ANDROID</td>\n",
       "      <td>SMARTPHONE</td>\n",
       "      <td>Россия</td>\n",
       "      <td>Казань</td>\n",
       "      <td>25-34</td>\n",
       "      <td>45-50</td>\n",
       "      <td>4-6</td>\n",
       "      <td>10</td>\n",
       "      <td>Cторонник</td>\n",
       "    </tr>\n",
       "    <tr>\n",
       "      <th>13</th>\n",
       "      <td>A00SA7</td>\n",
       "      <td>667</td>\n",
       "      <td>Старый</td>\n",
       "      <td>60.0</td>\n",
       "      <td>Мужчина</td>\n",
       "      <td>ANDROID</td>\n",
       "      <td>TABLET</td>\n",
       "      <td>Россия</td>\n",
       "      <td>Казань</td>\n",
       "      <td>55-64</td>\n",
       "      <td>5-10</td>\n",
       "      <td>13-24</td>\n",
       "      <td>5</td>\n",
       "      <td>Критик</td>\n",
       "    </tr>\n",
       "    <tr>\n",
       "      <th>14</th>\n",
       "      <td>A00U8A</td>\n",
       "      <td>2908</td>\n",
       "      <td>Старый</td>\n",
       "      <td>44.0</td>\n",
       "      <td>Женщина</td>\n",
       "      <td>ANDROID</td>\n",
       "      <td>SMARTPHONE</td>\n",
       "      <td>Россия</td>\n",
       "      <td>СанктПетербург</td>\n",
       "      <td>35-44</td>\n",
       "      <td>5-10</td>\n",
       "      <td>36+</td>\n",
       "      <td>10</td>\n",
       "      <td>Cторонник</td>\n",
       "    </tr>\n",
       "  </tbody>\n",
       "</table>\n",
       "</div>"
      ],
      "text/plain": [
       "   user_id  lt_day  is_new   age gender_segment  os_name cpe_type_name  \\\n",
       "0   A001A2    2320  Старый  45.0        Женщина  ANDROID    SMARTPHONE   \n",
       "1   A001WF    2344  Старый  53.0        Мужчина  ANDROID    SMARTPHONE   \n",
       "2   A003Q7     467  Старый  57.0        Мужчина  ANDROID    SMARTPHONE   \n",
       "3   A004TB    4190  Старый  44.0        Женщина      IOS    SMARTPHONE   \n",
       "4   A004XT    1163  Старый  24.0        Мужчина  ANDROID    SMARTPHONE   \n",
       "5   A005O0    5501  Старый  42.0        Женщина  ANDROID    SMARTPHONE   \n",
       "6   A0061R    1236  Старый  45.0        Мужчина  ANDROID    SMARTPHONE   \n",
       "7   A009KS     313   Новый  35.0        Мужчина  ANDROID    SMARTPHONE   \n",
       "8   A00AES    3238  Старый  36.0        Женщина  ANDROID    SMARTPHONE   \n",
       "9   A00F70    4479  Старый  54.0        Женщина  ANDROID    SMARTPHONE   \n",
       "10  A00HL5    5297  Старый  39.0        Мужчина  ANDROID    SMARTPHONE   \n",
       "11  A00NDN    1374  Старый  21.0        Мужчина  ANDROID    SMARTPHONE   \n",
       "12  A00P46     179   Новый  27.0        Мужчина  ANDROID    SMARTPHONE   \n",
       "13  A00SA7     667  Старый  60.0        Мужчина  ANDROID        TABLET   \n",
       "14  A00U8A    2908  Старый  44.0        Женщина  ANDROID    SMARTPHONE   \n",
       "\n",
       "   country            city age_segment traffic_segment lifetime_segment  \\\n",
       "0   Россия             Уфа       45-54             1-5              36+   \n",
       "1   Россия           Киров       45-54             1-5              36+   \n",
       "2   Россия          Москва       55-64           20-25            13-24   \n",
       "3   Россия    РостовнаДону       35-44           0.1-1              36+   \n",
       "4   Россия          Рязань       16-24            5-10              36+   \n",
       "5   Россия            Омск       35-44            5-10              36+   \n",
       "6   Россия             Уфа       45-54           10-15              36+   \n",
       "7   Россия          Москва       35-44           45-50             7-12   \n",
       "8   Россия  СанктПетербург       35-44             1-5              36+   \n",
       "9   Россия       Волгоград       45-54           15-20              36+   \n",
       "10  Россия        Тольятти       35-44           25-30              36+   \n",
       "11  Россия          Рязань       16-24           10-15              36+   \n",
       "12  Россия          Казань       25-34           45-50              4-6   \n",
       "13  Россия          Казань       55-64            5-10            13-24   \n",
       "14  Россия  СанктПетербург       35-44            5-10              36+   \n",
       "\n",
       "    nps_score  nps_group  \n",
       "0          10  Cторонник  \n",
       "1          10  Cторонник  \n",
       "2          10  Cторонник  \n",
       "3          10  Cторонник  \n",
       "4          10  Cторонник  \n",
       "5           6     Критик  \n",
       "6          10  Cторонник  \n",
       "7          10  Cторонник  \n",
       "8          10  Cторонник  \n",
       "9           9  Cторонник  \n",
       "10         10  Cторонник  \n",
       "11          2     Критик  \n",
       "12         10  Cторонник  \n",
       "13          5     Критик  \n",
       "14         10  Cторонник  "
      ]
     },
     "execution_count": 4,
     "metadata": {},
     "output_type": "execute_result"
    }
   ],
   "source": [
    "df = pd.read_sql(query, engine)\n",
    "df.head(15)"
   ]
  },
  {
   "cell_type": "code",
   "execution_count": 5,
   "id": "0fe1d0e5",
   "metadata": {},
   "outputs": [
    {
     "data": {
      "text/html": [
       "<div>\n",
       "<style scoped>\n",
       "    .dataframe tbody tr th:only-of-type {\n",
       "        vertical-align: middle;\n",
       "    }\n",
       "\n",
       "    .dataframe tbody tr th {\n",
       "        vertical-align: top;\n",
       "    }\n",
       "\n",
       "    .dataframe thead th {\n",
       "        text-align: right;\n",
       "    }\n",
       "</style>\n",
       "<table border=\"1\" class=\"dataframe\">\n",
       "  <thead>\n",
       "    <tr style=\"text-align: right;\">\n",
       "      <th></th>\n",
       "      <th>lt_day</th>\n",
       "      <th>age</th>\n",
       "      <th>nps_score</th>\n",
       "    </tr>\n",
       "  </thead>\n",
       "  <tbody>\n",
       "    <tr>\n",
       "      <th>count</th>\n",
       "      <td>502493.000000</td>\n",
       "      <td>501939.000000</td>\n",
       "      <td>502493.000000</td>\n",
       "    </tr>\n",
       "    <tr>\n",
       "      <th>mean</th>\n",
       "      <td>1868.841439</td>\n",
       "      <td>39.621946</td>\n",
       "      <td>7.508562</td>\n",
       "    </tr>\n",
       "    <tr>\n",
       "      <th>std</th>\n",
       "      <td>1683.701762</td>\n",
       "      <td>11.188249</td>\n",
       "      <td>3.020378</td>\n",
       "    </tr>\n",
       "    <tr>\n",
       "      <th>min</th>\n",
       "      <td>-21.000000</td>\n",
       "      <td>10.000000</td>\n",
       "      <td>1.000000</td>\n",
       "    </tr>\n",
       "    <tr>\n",
       "      <th>25%</th>\n",
       "      <td>533.000000</td>\n",
       "      <td>31.000000</td>\n",
       "      <td>5.000000</td>\n",
       "    </tr>\n",
       "    <tr>\n",
       "      <th>50%</th>\n",
       "      <td>1239.000000</td>\n",
       "      <td>38.000000</td>\n",
       "      <td>9.000000</td>\n",
       "    </tr>\n",
       "    <tr>\n",
       "      <th>75%</th>\n",
       "      <td>3064.000000</td>\n",
       "      <td>47.000000</td>\n",
       "      <td>10.000000</td>\n",
       "    </tr>\n",
       "    <tr>\n",
       "      <th>max</th>\n",
       "      <td>9162.000000</td>\n",
       "      <td>89.000000</td>\n",
       "      <td>10.000000</td>\n",
       "    </tr>\n",
       "  </tbody>\n",
       "</table>\n",
       "</div>"
      ],
      "text/plain": [
       "              lt_day            age      nps_score\n",
       "count  502493.000000  501939.000000  502493.000000\n",
       "mean     1868.841439      39.621946       7.508562\n",
       "std      1683.701762      11.188249       3.020378\n",
       "min       -21.000000      10.000000       1.000000\n",
       "25%       533.000000      31.000000       5.000000\n",
       "50%      1239.000000      38.000000       9.000000\n",
       "75%      3064.000000      47.000000      10.000000\n",
       "max      9162.000000      89.000000      10.000000"
      ]
     },
     "execution_count": 5,
     "metadata": {},
     "output_type": "execute_result"
    }
   ],
   "source": [
    "df.describe()"
   ]
  },
  {
   "cell_type": "code",
   "execution_count": 6,
   "id": "9db04858",
   "metadata": {},
   "outputs": [],
   "source": [
    "df.to_csv('telecomm_csi_tableau.csv', index=False)"
   ]
  },
  {
   "cell_type": "markdown",
   "id": "c3e038e8",
   "metadata": {},
   "source": [
    "День добрый, Сборный проект: Анализ NPS: <https://public.tableau.com/views/sbor2_17216504081970/Dashboard3?:language=en-US&:sid=&:redirect=auth&:display_count=n&:origin=viz_share_link>"
   ]
  },
  {
   "cell_type": "code",
   "execution_count": null,
   "id": "558fee14",
   "metadata": {},
   "outputs": [],
   "source": []
  }
 ],
 "metadata": {
  "ExecuteTimeLog": [
   {
    "duration": 585,
    "start_time": "2024-07-16T04:31:28.194Z"
   },
   {
    "duration": 73,
    "start_time": "2024-07-16T04:31:28.781Z"
   },
   {
    "duration": 3,
    "start_time": "2024-07-16T04:31:30.667Z"
   },
   {
    "duration": 446,
    "start_time": "2024-07-16T04:31:31.444Z"
   },
   {
    "duration": 7,
    "start_time": "2024-07-16T04:31:32.406Z"
   },
   {
    "duration": 3,
    "start_time": "2024-07-16T04:34:05.117Z"
   },
   {
    "duration": 373,
    "start_time": "2024-07-16T04:34:06.281Z"
   },
   {
    "duration": 7,
    "start_time": "2024-07-16T04:34:09.600Z"
   },
   {
    "duration": 3,
    "start_time": "2024-07-16T04:34:14.680Z"
   },
   {
    "duration": 55,
    "start_time": "2024-07-16T04:34:15.244Z"
   },
   {
    "duration": 3,
    "start_time": "2024-07-16T04:34:17.425Z"
   },
   {
    "duration": 361,
    "start_time": "2024-07-16T04:34:18.525Z"
   },
   {
    "duration": 6,
    "start_time": "2024-07-16T04:34:19.871Z"
   },
   {
    "duration": 3,
    "start_time": "2024-07-16T04:39:54.110Z"
   },
   {
    "duration": 373,
    "start_time": "2024-07-16T04:39:54.768Z"
   },
   {
    "duration": 3,
    "start_time": "2024-07-16T04:40:14.781Z"
   },
   {
    "duration": 58,
    "start_time": "2024-07-16T04:40:16.523Z"
   },
   {
    "duration": 5,
    "start_time": "2024-07-16T04:40:24.566Z"
   },
   {
    "duration": 370,
    "start_time": "2024-07-16T04:40:27.857Z"
   },
   {
    "duration": 8,
    "start_time": "2024-07-16T04:40:34.191Z"
   },
   {
    "duration": 2,
    "start_time": "2024-07-16T04:41:42.346Z"
   },
   {
    "duration": 81,
    "start_time": "2024-07-16T04:41:42.769Z"
   },
   {
    "duration": 3,
    "start_time": "2024-07-16T04:41:44.283Z"
   },
   {
    "duration": 6096,
    "start_time": "2024-07-16T04:41:44.912Z"
   },
   {
    "duration": 4793,
    "start_time": "2024-07-16T04:41:51.010Z"
   },
   {
    "duration": 4,
    "start_time": "2024-07-16T04:41:58.624Z"
   },
   {
    "duration": 5758,
    "start_time": "2024-07-16T04:41:59.217Z"
   },
   {
    "duration": 4740,
    "start_time": "2024-07-16T04:42:04.977Z"
   },
   {
    "duration": 5818,
    "start_time": "2024-07-16T04:42:14.946Z"
   },
   {
    "duration": 3,
    "start_time": "2024-07-16T04:45:35.539Z"
   },
   {
    "duration": 5722,
    "start_time": "2024-07-16T04:45:36.561Z"
   },
   {
    "duration": 5,
    "start_time": "2024-07-16T04:45:56.777Z"
   },
   {
    "duration": 56,
    "start_time": "2024-07-16T04:45:57.351Z"
   },
   {
    "duration": 4,
    "start_time": "2024-07-16T04:45:57.938Z"
   },
   {
    "duration": 5721,
    "start_time": "2024-07-16T04:45:58.936Z"
   },
   {
    "duration": 4660,
    "start_time": "2024-07-16T04:46:26.747Z"
   },
   {
    "duration": 563,
    "start_time": "2024-07-16T04:50:19.513Z"
   },
   {
    "duration": 81,
    "start_time": "2024-07-16T04:50:20.079Z"
   },
   {
    "duration": 3,
    "start_time": "2024-07-16T04:50:20.164Z"
   },
   {
    "duration": 5913,
    "start_time": "2024-07-16T04:50:20.169Z"
   },
   {
    "duration": 5099,
    "start_time": "2024-07-16T04:50:26.084Z"
   },
   {
    "duration": 5027,
    "start_time": "2024-07-16T04:52:44.758Z"
   },
   {
    "duration": 4944,
    "start_time": "2024-07-16T05:11:22.033Z"
   },
   {
    "duration": 3,
    "start_time": "2024-07-16T05:18:52.298Z"
   },
   {
    "duration": 784,
    "start_time": "2024-07-16T05:18:52.735Z"
   },
   {
    "duration": 4,
    "start_time": "2024-07-16T05:18:53.522Z"
   },
   {
    "duration": 5843,
    "start_time": "2024-07-16T05:18:54.383Z"
   },
   {
    "duration": 5149,
    "start_time": "2024-07-16T05:19:00.228Z"
   },
   {
    "duration": 5301,
    "start_time": "2024-07-16T05:24:43.464Z"
   },
   {
    "duration": 5250,
    "start_time": "2024-07-16T05:24:48.801Z"
   },
   {
    "duration": 5263,
    "start_time": "2024-07-16T05:25:01.813Z"
   },
   {
    "duration": 5571,
    "start_time": "2024-07-16T05:25:07.078Z"
   },
   {
    "duration": 3,
    "start_time": "2024-07-16T05:27:05.590Z"
   },
   {
    "duration": 5917,
    "start_time": "2024-07-16T05:27:06.317Z"
   },
   {
    "duration": 5321,
    "start_time": "2024-07-16T05:27:12.236Z"
   },
   {
    "duration": 5692,
    "start_time": "2024-07-16T05:27:17.559Z"
   },
   {
    "duration": 48,
    "start_time": "2024-07-16T07:58:45.322Z"
   },
   {
    "duration": 607,
    "start_time": "2024-07-16T07:58:50.191Z"
   },
   {
    "duration": 96,
    "start_time": "2024-07-16T07:58:50.800Z"
   },
   {
    "duration": 4,
    "start_time": "2024-07-16T07:58:50.901Z"
   },
   {
    "duration": 6220,
    "start_time": "2024-07-16T07:58:50.907Z"
   },
   {
    "duration": 4831,
    "start_time": "2024-07-16T07:58:57.129Z"
   },
   {
    "duration": 5533,
    "start_time": "2024-07-16T07:59:01.961Z"
   },
   {
    "duration": 5107,
    "start_time": "2024-07-16T07:59:48.514Z"
   },
   {
    "duration": 4459,
    "start_time": "2024-07-16T08:00:36.371Z"
   },
   {
    "duration": 5060,
    "start_time": "2024-07-16T08:00:40.832Z"
   },
   {
    "duration": 4481,
    "start_time": "2024-07-16T08:01:27.589Z"
   },
   {
    "duration": 5076,
    "start_time": "2024-07-16T08:01:32.072Z"
   },
   {
    "duration": 4901,
    "start_time": "2024-07-16T09:13:37.519Z"
   },
   {
    "duration": 524,
    "start_time": "2024-07-16T09:13:45.649Z"
   },
   {
    "duration": 60,
    "start_time": "2024-07-16T09:13:46.176Z"
   },
   {
    "duration": 3,
    "start_time": "2024-07-16T09:13:46.239Z"
   },
   {
    "duration": 5901,
    "start_time": "2024-07-16T09:13:46.244Z"
   },
   {
    "duration": 4891,
    "start_time": "2024-07-16T09:13:52.147Z"
   },
   {
    "duration": 6361,
    "start_time": "2024-07-16T09:13:57.040Z"
   },
   {
    "duration": 522,
    "start_time": "2024-07-16T09:56:17.742Z"
   },
   {
    "duration": 58,
    "start_time": "2024-07-16T09:56:18.266Z"
   },
   {
    "duration": 37,
    "start_time": "2024-07-16T09:56:18.325Z"
   },
   {
    "duration": 5940,
    "start_time": "2024-07-16T09:56:18.364Z"
   },
   {
    "duration": 4843,
    "start_time": "2024-07-16T09:56:24.307Z"
   },
   {
    "duration": 5692,
    "start_time": "2024-07-16T09:56:29.151Z"
   },
   {
    "duration": 580,
    "start_time": "2024-07-16T09:57:46.181Z"
   },
   {
    "duration": 74,
    "start_time": "2024-07-16T09:57:46.763Z"
   },
   {
    "duration": 5,
    "start_time": "2024-07-16T09:57:46.839Z"
   },
   {
    "duration": 5869,
    "start_time": "2024-07-16T09:57:46.846Z"
   },
   {
    "duration": 4813,
    "start_time": "2024-07-16T09:57:52.717Z"
   },
   {
    "duration": 3,
    "start_time": "2024-07-16T09:57:57.532Z"
   },
   {
    "duration": 531,
    "start_time": "2024-07-16T16:40:12.717Z"
   },
   {
    "duration": 67,
    "start_time": "2024-07-16T16:40:13.250Z"
   },
   {
    "duration": 4,
    "start_time": "2024-07-16T16:40:13.321Z"
   },
   {
    "duration": 5815,
    "start_time": "2024-07-16T16:40:13.329Z"
   },
   {
    "duration": 4358,
    "start_time": "2024-07-16T16:40:19.145Z"
   },
   {
    "duration": 3,
    "start_time": "2024-07-16T16:40:23.505Z"
   },
   {
    "duration": 75,
    "start_time": "2024-07-23T18:19:01.328Z"
   },
   {
    "duration": 61,
    "start_time": "2024-07-23T18:19:02.906Z"
   },
   {
    "duration": 75,
    "start_time": "2024-07-23T18:20:23.420Z"
   },
   {
    "duration": 67,
    "start_time": "2024-07-23T18:20:31.464Z"
   },
   {
    "duration": 549,
    "start_time": "2024-07-23T18:23:30.999Z"
   },
   {
    "duration": 72,
    "start_time": "2024-07-23T18:23:31.550Z"
   },
   {
    "duration": 3,
    "start_time": "2024-07-23T18:23:31.624Z"
   },
   {
    "duration": 6351,
    "start_time": "2024-07-23T18:23:31.629Z"
   },
   {
    "duration": 4910,
    "start_time": "2024-07-23T18:23:37.983Z"
   },
   {
    "duration": 49,
    "start_time": "2024-07-25T11:02:46.613Z"
   },
   {
    "duration": 533,
    "start_time": "2024-07-25T11:02:51.583Z"
   },
   {
    "duration": 88,
    "start_time": "2024-07-25T11:02:52.118Z"
   },
   {
    "duration": 3,
    "start_time": "2024-07-25T11:02:52.208Z"
   },
   {
    "duration": 6069,
    "start_time": "2024-07-25T11:02:52.212Z"
   },
   {
    "duration": 73,
    "start_time": "2024-07-25T11:02:58.285Z"
   },
   {
    "duration": 4281,
    "start_time": "2024-07-25T11:02:58.359Z"
   },
   {
    "duration": 825,
    "start_time": "2024-11-10T13:32:46.009Z"
   },
   {
    "duration": 84,
    "start_time": "2024-11-10T13:32:46.837Z"
   },
   {
    "duration": 4,
    "start_time": "2024-11-10T13:32:46.923Z"
   },
   {
    "duration": 17903,
    "start_time": "2024-11-10T13:32:46.928Z"
   },
   {
    "duration": 323,
    "start_time": "2024-11-10T13:33:04.915Z"
   },
   {
    "duration": 19283,
    "start_time": "2024-11-10T13:33:05.241Z"
   }
  ],
  "kernelspec": {
   "display_name": "Python 3 (ipykernel)",
   "language": "python",
   "name": "python3"
  },
  "language_info": {
   "codemirror_mode": {
    "name": "ipython",
    "version": 3
   },
   "file_extension": ".py",
   "mimetype": "text/x-python",
   "name": "python",
   "nbconvert_exporter": "python",
   "pygments_lexer": "ipython3",
   "version": "3.9.5"
  },
  "toc": {
   "base_numbering": 1,
   "nav_menu": {},
   "number_sections": true,
   "sideBar": true,
   "skip_h1_title": true,
   "title_cell": "Table of Contents",
   "title_sidebar": "Contents",
   "toc_cell": false,
   "toc_position": {},
   "toc_section_display": true,
   "toc_window_display": false
  }
 },
 "nbformat": 4,
 "nbformat_minor": 5
}
