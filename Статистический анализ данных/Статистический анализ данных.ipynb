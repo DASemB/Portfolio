{
 "cells": [
  {
   "cell_type": "markdown",
   "id": "13296234",
   "metadata": {},
   "source": [
    "# Проект: Статистический анализ данных\n",
    "\n",
    "\n",
    "\n",
    "Данные предоставил сервис аренды самокатов GoFast.\n",
    "\n",
    "\n",
    "**Цель проекта:**\n",
    "\n",
    "Необходимо проанализировать данные и проверить некоторые гипотезы, которые могут помочь бизнесу вырасти.\n",
    "\n",
    "**Описание данных:**\n",
    "\n",
    "Сервисом можно пользоваться:\n",
    "\n",
    "**без подписки**\n",
    "\n",
    "абонентская плата отсутствует;\n",
    "\n",
    "стоимость одной минуты поездки — 8 рублей;\n",
    "\n",
    "стоимость старта (начала поездки) — 50 рублей;\n",
    "\n",
    "**с подпиской Ultra**\n",
    "\n",
    "абонентская плата — 199 рублей в месяц;\n",
    "\n",
    "стоимость одной минуты поездки — 6 рублей;\n",
    "\n",
    "стоимость старта — бесплатно.\n",
    "\n",
    "\n",
    "\n",
    "В основных данных есть информация о пользователях, их поездках и подписках.\n",
    "\n",
    "**Пользователи — users_go.csv**\n",
    "\n",
    "user_id\t- уникальный идентификатор пользователя\n",
    "\n",
    "name\t- имя пользователя\n",
    "\n",
    "age\t    - возраст\n",
    "\n",
    "city\t- город\n",
    "\n",
    "subscription_type\tтип подписки (free, ultra)\n",
    "\n",
    "**Поездки — rides_go.csv**\n",
    "\n",
    "user_id\t    - уникальный идентификатор пользователя\n",
    "\n",
    "distance\t- расстояние, которое пользователь проехал в текущей сессии (в метрах)\n",
    "\n",
    "duration\t- продолжительность сессии (в минутах) — время с того момента, как пользователь нажал кнопку «Начать поездку» до момента, как он нажал кнопку «Завершить поездку»\n",
    "\n",
    "date\t    - дата совершения поездки\n",
    "\n",
    "**Подписки — subscriptions_go.csv**\n",
    "\n",
    "subscription_type\t- тип подписки\n",
    "\n",
    "minute_price        - стоимость одной минуты поездки по данной подписке\n",
    "\n",
    "start_ride_price\t- стоимость начала поездки\n",
    "\n",
    "subscription_fee\t- стоимость ежемесячного платежа\n"
   ]
  },
  {
   "cell_type": "code",
   "execution_count": 1,
   "id": "7486bded",
   "metadata": {},
   "outputs": [],
   "source": [
    "# загружаем библиотеки\n",
    "import pandas as pd\n",
    "import numpy as np\n",
    "import matplotlib.pyplot as plt\n",
    "import seaborn as sbn\n",
    "from matplotlib import pyplot as plt \n",
    "from scipy import stats as st\n",
    "from scipy.stats import binom"
   ]
  },
  {
   "cell_type": "markdown",
   "id": "e7aab6c5",
   "metadata": {},
   "source": [
    "#### Шаг 1. Загрузка данных"
   ]
  },
  {
   "cell_type": "code",
   "execution_count": 2,
   "id": "b69cf899",
   "metadata": {},
   "outputs": [],
   "source": [
    "# загружаем данные\n",
    "#users = pd.read_csv('/datasets/users_go.csv')\n",
    "#rides_go = pd.read_csv('/datasets/rides_go.csv')\n",
    "#subscriptions_go = pd.read_csv('/datasets/subscriptions_go.csv')\n",
    "try:\n",
    "    users_go, rides_go, subscriptions_go = (\n",
    "        pd.read_csv('/datasets/users_go.csv'),\n",
    "        pd.read_csv('/datasets/rides_go.csv'),\n",
    "        pd.read_csv('/datasets/subscriptions_go.csv')\n",
    "    )\n",
    "\n",
    "\n",
    "except:\n",
    "    users_go, rides_go, subscriptions_go = (\n",
    "        pd.read_csv('users_go.csv'),\n",
    "        pd.read_csv('rides_go.csv'),\n",
    "        pd.read_csv('subscriptions_go.csv')\n",
    "    )"
   ]
  },
  {
   "cell_type": "code",
   "execution_count": 3,
   "id": "88cbb0de",
   "metadata": {},
   "outputs": [
    {
     "name": "stdout",
     "output_type": "stream",
     "text": [
      "<class 'pandas.core.frame.DataFrame'>\n",
      "RangeIndex: 1565 entries, 0 to 1564\n",
      "Data columns (total 5 columns):\n",
      " #   Column             Non-Null Count  Dtype \n",
      "---  ------             --------------  ----- \n",
      " 0   user_id            1565 non-null   int64 \n",
      " 1   name               1565 non-null   object\n",
      " 2   age                1565 non-null   int64 \n",
      " 3   city               1565 non-null   object\n",
      " 4   subscription_type  1565 non-null   object\n",
      "dtypes: int64(2), object(3)\n",
      "memory usage: 61.3+ KB\n"
     ]
    },
    {
     "data": {
      "text/plain": [
       "None"
      ]
     },
     "metadata": {},
     "output_type": "display_data"
    },
    {
     "name": "stdout",
     "output_type": "stream",
     "text": [
      "<class 'pandas.core.frame.DataFrame'>\n",
      "RangeIndex: 18068 entries, 0 to 18067\n",
      "Data columns (total 4 columns):\n",
      " #   Column    Non-Null Count  Dtype  \n",
      "---  ------    --------------  -----  \n",
      " 0   user_id   18068 non-null  int64  \n",
      " 1   distance  18068 non-null  float64\n",
      " 2   duration  18068 non-null  float64\n",
      " 3   date      18068 non-null  object \n",
      "dtypes: float64(2), int64(1), object(1)\n",
      "memory usage: 564.8+ KB\n"
     ]
    },
    {
     "data": {
      "text/plain": [
       "None"
      ]
     },
     "metadata": {},
     "output_type": "display_data"
    },
    {
     "name": "stdout",
     "output_type": "stream",
     "text": [
      "<class 'pandas.core.frame.DataFrame'>\n",
      "RangeIndex: 2 entries, 0 to 1\n",
      "Data columns (total 4 columns):\n",
      " #   Column             Non-Null Count  Dtype \n",
      "---  ------             --------------  ----- \n",
      " 0   subscription_type  2 non-null      object\n",
      " 1   minute_price       2 non-null      int64 \n",
      " 2   start_ride_price   2 non-null      int64 \n",
      " 3   subscription_fee   2 non-null      int64 \n",
      "dtypes: int64(3), object(1)\n",
      "memory usage: 192.0+ bytes\n"
     ]
    },
    {
     "data": {
      "text/plain": [
       "None"
      ]
     },
     "metadata": {},
     "output_type": "display_data"
    }
   ],
   "source": [
    "# посмотрим информацию\n",
    "display(users_go.info())\n",
    "display(rides_go.info()) \n",
    "display(subscriptions_go.info())"
   ]
  },
  {
   "cell_type": "code",
   "execution_count": 4,
   "id": "be71c9ee",
   "metadata": {},
   "outputs": [
    {
     "data": {
      "text/plain": [
       "user_id              0.0\n",
       "name                 0.0\n",
       "age                  0.0\n",
       "city                 0.0\n",
       "subscription_type    0.0\n",
       "dtype: float64"
      ]
     },
     "execution_count": 4,
     "metadata": {},
     "output_type": "execute_result"
    }
   ],
   "source": [
    "# посмотрим пропущенные значения\n",
    "users_go.isnull().sum()*100/len(users_go)"
   ]
  },
  {
   "cell_type": "code",
   "execution_count": 5,
   "id": "8c926a49",
   "metadata": {},
   "outputs": [
    {
     "data": {
      "text/plain": [
       "user_id     0.0\n",
       "distance    0.0\n",
       "duration    0.0\n",
       "date        0.0\n",
       "dtype: float64"
      ]
     },
     "execution_count": 5,
     "metadata": {},
     "output_type": "execute_result"
    }
   ],
   "source": [
    "rides_go.isnull().sum()*100/len(rides_go)"
   ]
  },
  {
   "cell_type": "code",
   "execution_count": 6,
   "id": "1342c164",
   "metadata": {},
   "outputs": [
    {
     "data": {
      "text/plain": [
       "subscription_type    0.0\n",
       "minute_price         0.0\n",
       "start_ride_price     0.0\n",
       "subscription_fee     0.0\n",
       "dtype: float64"
      ]
     },
     "execution_count": 6,
     "metadata": {},
     "output_type": "execute_result"
    }
   ],
   "source": [
    "subscriptions_go.isnull().sum()*100/len(subscriptions_go)"
   ]
  },
  {
   "cell_type": "code",
   "execution_count": 7,
   "id": "61dfdf50",
   "metadata": {},
   "outputs": [
    {
     "data": {
      "text/html": [
       "<div>\n",
       "<style scoped>\n",
       "    .dataframe tbody tr th:only-of-type {\n",
       "        vertical-align: middle;\n",
       "    }\n",
       "\n",
       "    .dataframe tbody tr th {\n",
       "        vertical-align: top;\n",
       "    }\n",
       "\n",
       "    .dataframe thead th {\n",
       "        text-align: right;\n",
       "    }\n",
       "</style>\n",
       "<table border=\"1\" class=\"dataframe\">\n",
       "  <thead>\n",
       "    <tr style=\"text-align: right;\">\n",
       "      <th></th>\n",
       "      <th>user_id</th>\n",
       "      <th>name</th>\n",
       "      <th>age</th>\n",
       "      <th>city</th>\n",
       "      <th>subscription_type</th>\n",
       "    </tr>\n",
       "  </thead>\n",
       "  <tbody>\n",
       "    <tr>\n",
       "      <th>0</th>\n",
       "      <td>1</td>\n",
       "      <td>Кира</td>\n",
       "      <td>22</td>\n",
       "      <td>Тюмень</td>\n",
       "      <td>ultra</td>\n",
       "    </tr>\n",
       "    <tr>\n",
       "      <th>1</th>\n",
       "      <td>2</td>\n",
       "      <td>Станислав</td>\n",
       "      <td>31</td>\n",
       "      <td>Омск</td>\n",
       "      <td>ultra</td>\n",
       "    </tr>\n",
       "    <tr>\n",
       "      <th>2</th>\n",
       "      <td>3</td>\n",
       "      <td>Алексей</td>\n",
       "      <td>20</td>\n",
       "      <td>Москва</td>\n",
       "      <td>ultra</td>\n",
       "    </tr>\n",
       "    <tr>\n",
       "      <th>3</th>\n",
       "      <td>4</td>\n",
       "      <td>Константин</td>\n",
       "      <td>26</td>\n",
       "      <td>Ростов-на-Дону</td>\n",
       "      <td>ultra</td>\n",
       "    </tr>\n",
       "    <tr>\n",
       "      <th>4</th>\n",
       "      <td>5</td>\n",
       "      <td>Адель</td>\n",
       "      <td>28</td>\n",
       "      <td>Омск</td>\n",
       "      <td>ultra</td>\n",
       "    </tr>\n",
       "  </tbody>\n",
       "</table>\n",
       "</div>"
      ],
      "text/plain": [
       "   user_id        name  age            city subscription_type\n",
       "0        1        Кира   22          Тюмень             ultra\n",
       "1        2   Станислав   31            Омск             ultra\n",
       "2        3     Алексей   20          Москва             ultra\n",
       "3        4  Константин   26  Ростов-на-Дону             ultra\n",
       "4        5       Адель   28            Омск             ultra"
      ]
     },
     "metadata": {},
     "output_type": "display_data"
    }
   ],
   "source": [
    "display(users_go.head(5))"
   ]
  },
  {
   "cell_type": "code",
   "execution_count": 8,
   "id": "2a4ed610",
   "metadata": {},
   "outputs": [
    {
     "data": {
      "text/html": [
       "<div>\n",
       "<style scoped>\n",
       "    .dataframe tbody tr th:only-of-type {\n",
       "        vertical-align: middle;\n",
       "    }\n",
       "\n",
       "    .dataframe tbody tr th {\n",
       "        vertical-align: top;\n",
       "    }\n",
       "\n",
       "    .dataframe thead th {\n",
       "        text-align: right;\n",
       "    }\n",
       "</style>\n",
       "<table border=\"1\" class=\"dataframe\">\n",
       "  <thead>\n",
       "    <tr style=\"text-align: right;\">\n",
       "      <th></th>\n",
       "      <th>user_id</th>\n",
       "      <th>distance</th>\n",
       "      <th>duration</th>\n",
       "      <th>date</th>\n",
       "    </tr>\n",
       "  </thead>\n",
       "  <tbody>\n",
       "    <tr>\n",
       "      <th>0</th>\n",
       "      <td>1</td>\n",
       "      <td>4409.919140</td>\n",
       "      <td>25.599769</td>\n",
       "      <td>2021-01-01</td>\n",
       "    </tr>\n",
       "    <tr>\n",
       "      <th>1</th>\n",
       "      <td>1</td>\n",
       "      <td>2617.592153</td>\n",
       "      <td>15.816871</td>\n",
       "      <td>2021-01-18</td>\n",
       "    </tr>\n",
       "    <tr>\n",
       "      <th>2</th>\n",
       "      <td>1</td>\n",
       "      <td>754.159807</td>\n",
       "      <td>6.232113</td>\n",
       "      <td>2021-04-20</td>\n",
       "    </tr>\n",
       "    <tr>\n",
       "      <th>3</th>\n",
       "      <td>1</td>\n",
       "      <td>2694.783254</td>\n",
       "      <td>18.511000</td>\n",
       "      <td>2021-08-11</td>\n",
       "    </tr>\n",
       "    <tr>\n",
       "      <th>4</th>\n",
       "      <td>1</td>\n",
       "      <td>4028.687306</td>\n",
       "      <td>26.265803</td>\n",
       "      <td>2021-08-28</td>\n",
       "    </tr>\n",
       "  </tbody>\n",
       "</table>\n",
       "</div>"
      ],
      "text/plain": [
       "   user_id     distance   duration        date\n",
       "0        1  4409.919140  25.599769  2021-01-01\n",
       "1        1  2617.592153  15.816871  2021-01-18\n",
       "2        1   754.159807   6.232113  2021-04-20\n",
       "3        1  2694.783254  18.511000  2021-08-11\n",
       "4        1  4028.687306  26.265803  2021-08-28"
      ]
     },
     "metadata": {},
     "output_type": "display_data"
    }
   ],
   "source": [
    "display(rides_go.head(5))"
   ]
  },
  {
   "cell_type": "code",
   "execution_count": 9,
   "id": "25665196",
   "metadata": {},
   "outputs": [
    {
     "data": {
      "text/html": [
       "<div>\n",
       "<style scoped>\n",
       "    .dataframe tbody tr th:only-of-type {\n",
       "        vertical-align: middle;\n",
       "    }\n",
       "\n",
       "    .dataframe tbody tr th {\n",
       "        vertical-align: top;\n",
       "    }\n",
       "\n",
       "    .dataframe thead th {\n",
       "        text-align: right;\n",
       "    }\n",
       "</style>\n",
       "<table border=\"1\" class=\"dataframe\">\n",
       "  <thead>\n",
       "    <tr style=\"text-align: right;\">\n",
       "      <th></th>\n",
       "      <th>subscription_type</th>\n",
       "      <th>minute_price</th>\n",
       "      <th>start_ride_price</th>\n",
       "      <th>subscription_fee</th>\n",
       "    </tr>\n",
       "  </thead>\n",
       "  <tbody>\n",
       "    <tr>\n",
       "      <th>0</th>\n",
       "      <td>free</td>\n",
       "      <td>8</td>\n",
       "      <td>50</td>\n",
       "      <td>0</td>\n",
       "    </tr>\n",
       "    <tr>\n",
       "      <th>1</th>\n",
       "      <td>ultra</td>\n",
       "      <td>6</td>\n",
       "      <td>0</td>\n",
       "      <td>199</td>\n",
       "    </tr>\n",
       "  </tbody>\n",
       "</table>\n",
       "</div>"
      ],
      "text/plain": [
       "  subscription_type  minute_price  start_ride_price  subscription_fee\n",
       "0              free             8                50                 0\n",
       "1             ultra             6                 0               199"
      ]
     },
     "metadata": {},
     "output_type": "display_data"
    }
   ],
   "source": [
    "display(subscriptions_go.head(5))"
   ]
  },
  {
   "cell_type": "code",
   "execution_count": 10,
   "id": "d353285f",
   "metadata": {},
   "outputs": [
    {
     "data": {
      "text/plain": [
       "31"
      ]
     },
     "execution_count": 10,
     "metadata": {},
     "output_type": "execute_result"
    }
   ],
   "source": [
    "users_go.duplicated().sum()"
   ]
  },
  {
   "cell_type": "code",
   "execution_count": 11,
   "id": "1f8bdec4",
   "metadata": {},
   "outputs": [
    {
     "data": {
      "text/plain": [
       "0"
      ]
     },
     "execution_count": 11,
     "metadata": {},
     "output_type": "execute_result"
    }
   ],
   "source": [
    "rides_go.duplicated().sum()"
   ]
  },
  {
   "cell_type": "code",
   "execution_count": 12,
   "id": "0714b65e",
   "metadata": {},
   "outputs": [
    {
     "data": {
      "text/plain": [
       "0"
      ]
     },
     "execution_count": 12,
     "metadata": {},
     "output_type": "execute_result"
    }
   ],
   "source": [
    "subscriptions_go.duplicated().sum()"
   ]
  },
  {
   "cell_type": "markdown",
   "id": "b857ca36",
   "metadata": {},
   "source": [
    "Промежуточный вывод:\n",
    "\n",
    "users -  1565 записи, пропуски отсутствуют, количество явных дубликатов 31.\n",
    "\n",
    "users_go -  18068 записи, пропуски отсутствуют, явных дубликатов нет.\n",
    "\n",
    "subscriptions_go - 2 записи, пропуски отсутствуют, явных дубликатов нет. \n",
    "\n",
    "Для нескольких столбцов некорректный тип данных.\n",
    "\n",
    "Данных достаточно для исследования."
   ]
  },
  {
   "cell_type": "markdown",
   "id": "f31441ea",
   "metadata": {},
   "source": [
    "#### Шаг 2. Предобработка данных"
   ]
  },
  {
   "cell_type": "markdown",
   "id": "2e16825c",
   "metadata": {},
   "source": [
    "\n",
    "\n",
    "Удалим дубликаты и пробелы, приведем к единому регистру ."
   ]
  },
  {
   "cell_type": "code",
   "execution_count": 13,
   "id": "2efdce78",
   "metadata": {},
   "outputs": [
    {
     "data": {
      "text/plain": [
       "0"
      ]
     },
     "execution_count": 13,
     "metadata": {},
     "output_type": "execute_result"
    }
   ],
   "source": [
    "users_go['name'] = users_go['name'].str.strip().str.lower()\n",
    "users_go = users_go.drop_duplicates()\n",
    "users_go.duplicated().sum()"
   ]
  },
  {
   "cell_type": "markdown",
   "id": "23a698cc",
   "metadata": {},
   "source": [
    "Приводим столбец 'date' к типу даты, создадим новый столбец и округлим значения"
   ]
  },
  {
   "cell_type": "code",
   "execution_count": 14,
   "id": "a6e18d16",
   "metadata": {},
   "outputs": [
    {
     "data": {
      "text/html": [
       "<div>\n",
       "<style scoped>\n",
       "    .dataframe tbody tr th:only-of-type {\n",
       "        vertical-align: middle;\n",
       "    }\n",
       "\n",
       "    .dataframe tbody tr th {\n",
       "        vertical-align: top;\n",
       "    }\n",
       "\n",
       "    .dataframe thead th {\n",
       "        text-align: right;\n",
       "    }\n",
       "</style>\n",
       "<table border=\"1\" class=\"dataframe\">\n",
       "  <thead>\n",
       "    <tr style=\"text-align: right;\">\n",
       "      <th></th>\n",
       "      <th>user_id</th>\n",
       "      <th>distance</th>\n",
       "      <th>duration</th>\n",
       "      <th>date</th>\n",
       "      <th>month</th>\n",
       "    </tr>\n",
       "  </thead>\n",
       "  <tbody>\n",
       "    <tr>\n",
       "      <th>0</th>\n",
       "      <td>1</td>\n",
       "      <td>4409.92</td>\n",
       "      <td>26</td>\n",
       "      <td>2021-01-01</td>\n",
       "      <td>1</td>\n",
       "    </tr>\n",
       "    <tr>\n",
       "      <th>1</th>\n",
       "      <td>1</td>\n",
       "      <td>2617.59</td>\n",
       "      <td>16</td>\n",
       "      <td>2021-01-18</td>\n",
       "      <td>1</td>\n",
       "    </tr>\n",
       "    <tr>\n",
       "      <th>2</th>\n",
       "      <td>1</td>\n",
       "      <td>754.16</td>\n",
       "      <td>7</td>\n",
       "      <td>2021-04-20</td>\n",
       "      <td>4</td>\n",
       "    </tr>\n",
       "    <tr>\n",
       "      <th>3</th>\n",
       "      <td>1</td>\n",
       "      <td>2694.78</td>\n",
       "      <td>19</td>\n",
       "      <td>2021-08-11</td>\n",
       "      <td>8</td>\n",
       "    </tr>\n",
       "    <tr>\n",
       "      <th>4</th>\n",
       "      <td>1</td>\n",
       "      <td>4028.69</td>\n",
       "      <td>27</td>\n",
       "      <td>2021-08-28</td>\n",
       "      <td>8</td>\n",
       "    </tr>\n",
       "  </tbody>\n",
       "</table>\n",
       "</div>"
      ],
      "text/plain": [
       "   user_id  distance  duration       date  month\n",
       "0        1   4409.92        26 2021-01-01      1\n",
       "1        1   2617.59        16 2021-01-18      1\n",
       "2        1    754.16         7 2021-04-20      4\n",
       "3        1   2694.78        19 2021-08-11      8\n",
       "4        1   4028.69        27 2021-08-28      8"
      ]
     },
     "execution_count": 14,
     "metadata": {},
     "output_type": "execute_result"
    }
   ],
   "source": [
    "# приводим столбец 'date' к типу даты\n",
    "rides_go['date'] = pd.to_datetime(rides_go['date'])\n",
    "# создадим новый столбец с номером месяца\n",
    "rides_go['month'] = rides_go['date'].dt.month\n",
    "# округлим значения до двух знаков после запятой \n",
    "rides_go['distance'] = rides_go['distance'].round(2)\n",
    "# округлим значения с помощью <потолка>\n",
    "rides_go['duration'] = (np.ceil(rides_go['duration'])).astype(int)\n",
    "rides_go.head(5)"
   ]
  },
  {
   "cell_type": "code",
   "execution_count": 15,
   "id": "9621aed8",
   "metadata": {},
   "outputs": [
    {
     "name": "stdout",
     "output_type": "stream",
     "text": [
      "Данные представлены за  2021-01-01 00:00:00 по 2021-12-30 00:00:00\n"
     ]
    }
   ],
   "source": [
    "print('Данные представлены за ', rides_go['date'].min(), 'по', rides_go['date'].max())"
   ]
  },
  {
   "cell_type": "markdown",
   "id": "43a981ef",
   "metadata": {},
   "source": [
    "Промежуточный вывод:\n",
    "\n",
    "Удалили дубликаты в датафрейме users_go. Привели к единому регистру и удалили пробелы.\n",
    "\n",
    "Привели столбец date к типу datetime64.\n",
    "\n",
    "Округлили distance в метрах до двух знаков после запятой\n",
    "\n",
    "Округлили каждое значение из столбца duration.\n",
    "\n",
    "Создали столбец month с номером месяца из date."
   ]
  },
  {
   "cell_type": "markdown",
   "id": "a3119f74",
   "metadata": {},
   "source": [
    "#### Шаг 3. Исследовательский анализ данных"
   ]
  },
  {
   "cell_type": "markdown",
   "id": "3b7d8880",
   "metadata": {},
   "source": [
    "##### Частота встречаемости городов"
   ]
  },
  {
   "cell_type": "code",
   "execution_count": 16,
   "id": "3129cd4e",
   "metadata": {},
   "outputs": [
    {
     "data": {
      "image/png": "[encoded data removed]",
      "text/plain": [
       "<Figure size 720x432 with 1 Axes>"
      ]
     },
     "metadata": {
      "needs_background": "light"
     },
     "output_type": "display_data"
    }
   ],
   "source": [
    "# создадим сводную таблицу и сортируем по количеству пользователей\n",
    "users_counts = users_go.pivot_table(index='city', \n",
    "                                     values='user_id', \n",
    "                                     aggfunc='count').sort_values(by='user_id', ascending=True)\n",
    "\n",
    "# построим горизонтальный барплот\n",
    "plt.figure(figsize=(10, 6))\n",
    "plt.barh(users_counts.index, users_counts['user_id'], color='lightblue')\n",
    "\n",
    "plt.xlabel('Количество пользователей')\n",
    "plt.ylabel('Города')\n",
    "plt.title('Количество пользователей по городам')\n",
    "\n",
    "plt.show()"
   ]
  },
  {
   "cell_type": "code",
   "execution_count": 17,
   "id": "c07adbc0",
   "metadata": {},
   "outputs": [
    {
     "data": {
      "text/html": [
       "<div>\n",
       "<style scoped>\n",
       "    .dataframe tbody tr th:only-of-type {\n",
       "        vertical-align: middle;\n",
       "    }\n",
       "\n",
       "    .dataframe tbody tr th {\n",
       "        vertical-align: top;\n",
       "    }\n",
       "\n",
       "    .dataframe thead th {\n",
       "        text-align: right;\n",
       "    }\n",
       "</style>\n",
       "<table border=\"1\" class=\"dataframe\">\n",
       "  <thead>\n",
       "    <tr style=\"text-align: right;\">\n",
       "      <th></th>\n",
       "      <th>user_id</th>\n",
       "      <th>percentage</th>\n",
       "    </tr>\n",
       "    <tr>\n",
       "      <th>city</th>\n",
       "      <th></th>\n",
       "      <th></th>\n",
       "    </tr>\n",
       "  </thead>\n",
       "  <tbody>\n",
       "    <tr>\n",
       "      <th>Пятигорск</th>\n",
       "      <td>219</td>\n",
       "      <td>14.3</td>\n",
       "    </tr>\n",
       "    <tr>\n",
       "      <th>Екатеринбург</th>\n",
       "      <td>204</td>\n",
       "      <td>13.3</td>\n",
       "    </tr>\n",
       "    <tr>\n",
       "      <th>Ростов-на-Дону</th>\n",
       "      <td>198</td>\n",
       "      <td>12.9</td>\n",
       "    </tr>\n",
       "    <tr>\n",
       "      <th>Краснодар</th>\n",
       "      <td>193</td>\n",
       "      <td>12.6</td>\n",
       "    </tr>\n",
       "    <tr>\n",
       "      <th>Сочи</th>\n",
       "      <td>189</td>\n",
       "      <td>12.3</td>\n",
       "    </tr>\n",
       "    <tr>\n",
       "      <th>Омск</th>\n",
       "      <td>183</td>\n",
       "      <td>11.9</td>\n",
       "    </tr>\n",
       "    <tr>\n",
       "      <th>Тюмень</th>\n",
       "      <td>180</td>\n",
       "      <td>11.7</td>\n",
       "    </tr>\n",
       "    <tr>\n",
       "      <th>Москва</th>\n",
       "      <td>168</td>\n",
       "      <td>11.0</td>\n",
       "    </tr>\n",
       "  </tbody>\n",
       "</table>\n",
       "</div>"
      ],
      "text/plain": [
       "                user_id  percentage\n",
       "city                               \n",
       "Пятигорск           219        14.3\n",
       "Екатеринбург        204        13.3\n",
       "Ростов-на-Дону      198        12.9\n",
       "Краснодар           193        12.6\n",
       "Сочи                189        12.3\n",
       "Омск                183        11.9\n",
       "Тюмень              180        11.7\n",
       "Москва              168        11.0"
      ]
     },
     "metadata": {},
     "output_type": "display_data"
    }
   ],
   "source": [
    "# создадим сводную таблицу\n",
    "users_counts = users_go.pivot_table(index='city', \n",
    "                                 values='user_id', \n",
    "                                 aggfunc='count')\n",
    "# сортируем значения \n",
    "sorted_users = users_counts.sort_values(by='user_id', ascending=False)\n",
    "# посчитаем проценты\n",
    "total_users = sorted_users['user_id'].sum()\n",
    "sorted_users['percentage'] = (sorted_users['user_id']/total_users) * 100\n",
    "sorted_users['percentage'] = sorted_users['percentage'].round(1)\n",
    "\n",
    "\n",
    "display(sorted_users)"
   ]
  },
  {
   "cell_type": "code",
   "execution_count": 18,
   "id": "eb7631ea",
   "metadata": {},
   "outputs": [
    {
     "data": {
      "text/plain": [
       "Пятигорск         14.3\n",
       "Екатеринбург      13.3\n",
       "Ростов-на-Дону    12.9\n",
       "Краснодар         12.6\n",
       "Сочи              12.3\n",
       "Омск              11.9\n",
       "Тюмень            11.7\n",
       "Москва            11.0\n",
       "Name: percentage, dtype: float64"
      ]
     },
     "metadata": {},
     "output_type": "display_data"
    }
   ],
   "source": [
    "# посчитаем количество пользователей по городам и отобразим доли\n",
    "sorted_users = (users_go['city'].value_counts(normalize=True) * 100).round(1)\n",
    "sorted_users = sorted_users.rename(\"percentage\")\n",
    "display(sorted_users)"
   ]
  },
  {
   "cell_type": "markdown",
   "id": "95896fba",
   "metadata": {},
   "source": [
    "Наблюдаем всего 8 городов. \n",
    "\n",
    "Больше всего пользователей в Пятигорске 14.3%, далее в Екатеринбурге 13.3%.\n",
    "\n",
    "Не отстают по количеству пользователей в Ростове 12.9%, Краснодаре 12.6% и Сочи 12.3%.\n",
    "\n",
    "Меньше всего пользователей из Москвы 11%."
   ]
  },
  {
   "cell_type": "markdown",
   "id": "20766c6c",
   "metadata": {},
   "source": [
    "##### Cоотношение пользователей с подпиской \"ultra\" и без подписки \"free\""
   ]
  },
  {
   "cell_type": "code",
   "execution_count": 19,
   "id": "807d6134",
   "metadata": {},
   "outputs": [
    {
     "data": {
      "text/html": [
       "<div>\n",
       "<style scoped>\n",
       "    .dataframe tbody tr th:only-of-type {\n",
       "        vertical-align: middle;\n",
       "    }\n",
       "\n",
       "    .dataframe tbody tr th {\n",
       "        vertical-align: top;\n",
       "    }\n",
       "\n",
       "    .dataframe thead th {\n",
       "        text-align: right;\n",
       "    }\n",
       "</style>\n",
       "<table border=\"1\" class=\"dataframe\">\n",
       "  <thead>\n",
       "    <tr style=\"text-align: right;\">\n",
       "      <th></th>\n",
       "      <th>user_id</th>\n",
       "      <th>percentage</th>\n",
       "    </tr>\n",
       "    <tr>\n",
       "      <th>subscription_type</th>\n",
       "      <th></th>\n",
       "      <th></th>\n",
       "    </tr>\n",
       "  </thead>\n",
       "  <tbody>\n",
       "    <tr>\n",
       "      <th>free</th>\n",
       "      <td>835</td>\n",
       "      <td>54.4</td>\n",
       "    </tr>\n",
       "    <tr>\n",
       "      <th>ultra</th>\n",
       "      <td>699</td>\n",
       "      <td>45.6</td>\n",
       "    </tr>\n",
       "  </tbody>\n",
       "</table>\n",
       "</div>"
      ],
      "text/plain": [
       "                   user_id  percentage\n",
       "subscription_type                     \n",
       "free                   835        54.4\n",
       "ultra                  699        45.6"
      ]
     },
     "metadata": {},
     "output_type": "display_data"
    }
   ],
   "source": [
    "# создадим сводную таблицу\n",
    "subscription_counts = users_go.pivot_table(index='subscription_type', \n",
    "                                         values='user_id', \n",
    "                                         aggfunc='count')\n",
    "sorted_subscription = subscription_counts.sort_values(by='user_id', ascending=False)\n",
    "# посчитаем проценты\n",
    "total_users = subscription_counts['user_id'].sum()\n",
    "subscription_counts['percentage'] = (subscription_counts['user_id'] / total_users) * 100\n",
    "subscription_counts['percentage'] = subscription_counts['percentage'].round(1)\n",
    "\n",
    "display(subscription_counts)"
   ]
  },
  {
   "cell_type": "code",
   "execution_count": 20,
   "id": "dbe2094a",
   "metadata": {},
   "outputs": [
    {
     "data": {
      "image/png": "[encoded data removed]",
      "text/plain": [
       "<Figure size 720x720 with 1 Axes>"
      ]
     },
     "metadata": {},
     "output_type": "display_data"
    }
   ],
   "source": [
    "# создаем сводную таблицу\n",
    "subscription_counts = users_go.pivot_table(index='subscription_type', \n",
    "                                         values='user_id', \n",
    "                                         aggfunc='count')\n",
    "# построим круговую диаграмму\n",
    "plt.figure(figsize=(10, 10))\n",
    "plt.pie(subscription_counts['user_id'], \n",
    "         labels=subscription_counts.index, \n",
    "         autopct='%1.1f%%', \n",
    "         startangle=40)\n",
    "\n",
    "plt.title('Соотношение пользователей с подпиской \"ultra\" и без подписки \"free\"')\n",
    "plt.axis('equal') \n",
    "#plt.legend()\n",
    "\n",
    "plt.show()"
   ]
  },
  {
   "cell_type": "code",
   "execution_count": 21,
   "id": "8320509c",
   "metadata": {},
   "outputs": [
    {
     "data": {
      "image/png": "[encoded data removed]",
      "text/plain": [
       "<Figure size 720x432 with 1 Axes>"
      ]
     },
     "metadata": {
      "needs_background": "light"
     },
     "output_type": "display_data"
    }
   ],
   "source": [
    "# создадим сводную таблицу\n",
    "subscription_counts = users_go.pivot_table(index='subscription_type', \n",
    "                                         values='user_id', \n",
    "                                         aggfunc='count')\n",
    "# построим столбчатую диаграмму\n",
    "plt.figure(figsize=(10, 6))\n",
    "plt.bar(subscription_counts.index, \n",
    "        subscription_counts['user_id'], \n",
    "        color=['lightblue', 'blue'])\n",
    "\n",
    "plt.title('Соотношение пользователей с подпиской \"ultra\" и без подписки \"free\"')\n",
    "plt.xlabel('Тип подписки')\n",
    "plt.ylabel('Количество пользователей')\n",
    "\n",
    "plt.xticks(rotation=45)\n",
    "plt.show()"
   ]
  },
  {
   "cell_type": "markdown",
   "id": "ee0675a8",
   "metadata": {},
   "source": [
    "54.4% пользователей предпочитают не покупать подписку, 45.6% пользователей покупают ежемесечную подписку."
   ]
  },
  {
   "cell_type": "markdown",
   "id": "bf8bc429",
   "metadata": {},
   "source": [
    "##### Количество пользователей по возрастам"
   ]
  },
  {
   "cell_type": "code",
   "execution_count": 22,
   "id": "12687439",
   "metadata": {},
   "outputs": [
    {
     "data": {
      "text/plain": [
       "count    1534.000000\n",
       "mean       24.903520\n",
       "std         4.572367\n",
       "min        12.000000\n",
       "25%        22.000000\n",
       "50%        25.000000\n",
       "75%        28.000000\n",
       "max        43.000000\n",
       "Name: age, dtype: float64"
      ]
     },
     "execution_count": 22,
     "metadata": {},
     "output_type": "execute_result"
    }
   ],
   "source": [
    "# посмотрим статистику\n",
    "users_go['age'].describe()"
   ]
  },
  {
   "cell_type": "code",
   "execution_count": 23,
   "id": "93234dc3",
   "metadata": {},
   "outputs": [
    {
     "data": {
      "image/png": "[encoded data removed]",
      "text/plain": [
       "<Figure size 1080x720 with 1 Axes>"
      ]
     },
     "metadata": {
      "needs_background": "light"
     },
     "output_type": "display_data"
    }
   ],
   "source": [
    "# создадим сводную таблицу и сортируем по возрасту\n",
    "age_counts = users_go.pivot_table(index='age', \n",
    "                                 values='user_id', \n",
    "                                 aggfunc='count').sort_values(by='age')\n",
    "# настроим график\n",
    "plt.figure(figsize=(15, 10))\n",
    "\n",
    "# построим столбчатую диаграмму\n",
    "plt.bar(age_counts.index, age_counts['user_id'], \n",
    "        color='skyblue', \n",
    "        label='Количество пользователей (столб.диаграмма)')\n",
    "\n",
    "# построим линейный график\n",
    "plt.plot(age_counts.index, age_counts['user_id'], \n",
    "         marker='o', \n",
    "         color='blue', \n",
    "         label='Количество пользователей (лин.диаграмма)')\n",
    "\n",
    "plt.title('Количество пользователей по возрастам')\n",
    "plt.xlabel('Возраст')\n",
    "plt.ylabel('Количество')\n",
    "\n",
    "plt.legend()\n",
    "plt.show()"
   ]
  },
  {
   "cell_type": "markdown",
   "id": "c29567ac",
   "metadata": {},
   "source": [
    "Средний возраст пользователей услуги с медианой в 25 лет. Так же отметим, что в возрасте от 22 до 28 лет больше всего предпочитают пользоваться услугой."
   ]
  },
  {
   "cell_type": "markdown",
   "id": "8e6c3b44",
   "metadata": {},
   "source": [
    "##### Расстояние, которое пользователь преодолел за одну поездку"
   ]
  },
  {
   "cell_type": "code",
   "execution_count": 24,
   "id": "2749be81",
   "metadata": {},
   "outputs": [
    {
     "data": {
      "text/plain": [
       "count    18068.000000\n",
       "mean      3070.659992\n",
       "std       1116.831222\n",
       "min          0.860000\n",
       "25%       2543.227500\n",
       "50%       3133.610000\n",
       "75%       3776.220000\n",
       "max       7211.010000\n",
       "Name: distance, dtype: float64"
      ]
     },
     "execution_count": 24,
     "metadata": {},
     "output_type": "execute_result"
    }
   ],
   "source": [
    "rides_go['distance'].describe()"
   ]
  },
  {
   "cell_type": "code",
   "execution_count": 25,
   "id": "27838265",
   "metadata": {
    "scrolled": true
   },
   "outputs": [
    {
     "data": {
      "image/png": "[encoded data removed]",
      "text/plain": [
       "<Figure size 1080x720 with 1 Axes>"
      ]
     },
     "metadata": {
      "needs_background": "light"
     },
     "output_type": "display_data"
    }
   ],
   "source": [
    "# пробовал построить линейный график - plt.plot, он не подходит - слишком шумный.\n",
    "# построим гистограмму\n",
    "plt.figure(figsize=(15, 10))\n",
    "plt.hist(rides_go['distance'], \n",
    "         bins=50, \n",
    "         color='blue',\n",
    "         edgecolor='black',\n",
    "         alpha=0.7)\n",
    "\n",
    "plt.title('Количество поездок в зависимости от расстояния')\n",
    "plt.xlabel('Расстояние в метрах')\n",
    "plt.ylabel('Количество поездок')\n",
    "\n",
    "plt.grid(axis='y')\n",
    "plt.show()"
   ]
  },
  {
   "cell_type": "code",
   "execution_count": 26,
   "id": "74ab99d5",
   "metadata": {},
   "outputs": [
    {
     "data": {
      "image/png": "[encoded data removed]",
      "text/plain": [
       "<Figure size 1080x720 with 1 Axes>"
      ]
     },
     "metadata": {
      "needs_background": "light"
     },
     "output_type": "display_data"
    }
   ],
   "source": [
    "# построим точечный график\n",
    "plt.figure(figsize=(15, 10))\n",
    "plt.scatter(range(len(rides_go)), rides_go['distance'], alpha=0.5, color='blue')\n",
    "\n",
    "plt.title('Количество поездок в зависимости от расстояния')\n",
    "plt.xlabel('Количество поездок')\n",
    "plt.ylabel('Расстояние в метрах')\n",
    "\n",
    "plt.grid(True)\n",
    "plt.show()"
   ]
  },
  {
   "cell_type": "markdown",
   "id": "8ea86062",
   "metadata": {},
   "source": [
    "На графиках видно, что большинство поездок варьируется в пределах от 2500м до 3700м.\n",
    "В среднем пользователь проезжает 3070м, по медиане они почти идентичны - 3133м."
   ]
  },
  {
   "cell_type": "markdown",
   "id": "9af22fb9",
   "metadata": {},
   "source": [
    "##### Продолжительность поездок"
   ]
  },
  {
   "cell_type": "code",
   "execution_count": 27,
   "id": "82ccf6e4",
   "metadata": {},
   "outputs": [
    {
     "data": {
      "text/plain": [
       "count    18068.000000\n",
       "mean        18.303520\n",
       "std          6.094928\n",
       "min          1.000000\n",
       "25%         14.000000\n",
       "50%         18.000000\n",
       "75%         22.000000\n",
       "max         41.000000\n",
       "Name: duration, dtype: float64"
      ]
     },
     "execution_count": 27,
     "metadata": {},
     "output_type": "execute_result"
    }
   ],
   "source": [
    "rides_go['duration'].describe()"
   ]
  },
  {
   "cell_type": "code",
   "execution_count": 28,
   "id": "223d7153",
   "metadata": {},
   "outputs": [
    {
     "data": {
      "image/png": "[encoded data removed]",
      "text/plain": [
       "<Figure size 720x432 with 1 Axes>"
      ]
     },
     "metadata": {
      "needs_background": "light"
     },
     "output_type": "display_data"
    }
   ],
   "source": [
    "# построим столбчатую диаграмму\n",
    "plt.figure(figsize=(10, 6))\n",
    "rides_go['duration'].value_counts(bins=range(1, 41, 5)).plot(kind='bar', color='blue')\n",
    "\n",
    "plt.title('Количество поездок по продолжительности', fontsize=15)\n",
    "plt.xlabel('Продолжительность поездки в мин (интервал 5 мин)', fontsize=10)\n",
    "plt.ylabel('Количество поездок', fontsize=10)\n",
    "\n",
    "plt.grid(axis='y')\n",
    "plt.xticks(rotation=45)\n",
    "\n",
    "plt.show()"
   ]
  },
  {
   "cell_type": "code",
   "execution_count": 29,
   "id": "7ef504f2",
   "metadata": {},
   "outputs": [
    {
     "data": {
      "image/png": "[encoded data removed]",
      "text/plain": [
       "<Figure size 720x432 with 1 Axes>"
      ]
     },
     "metadata": {
      "needs_background": "light"
     },
     "output_type": "display_data"
    }
   ],
   "source": [
    "# построим гистограмму\n",
    "plt.figure(figsize=(10, 6))\n",
    "plt.hist(rides_go['duration'], bins=41, range=(1, 41), color='blue', edgecolor='black', alpha=0.7)\n",
    "\n",
    "plt.title('Количество поездок по продолжительности', fontsize=15)\n",
    "plt.xlabel('Продолжительность поездки в мин', fontsize=10)\n",
    "plt.ylabel('Количество поездок', fontsize=10)\n",
    "\n",
    "plt.grid(axis='y')\n",
    "\n",
    "plt.show()"
   ]
  },
  {
   "cell_type": "markdown",
   "id": "b2bdc114",
   "metadata": {},
   "source": [
    "Продолжительность поездок чаще всего, в среднем, занимает от 16 до 21мин. Самая долгая поездка была 41мин."
   ]
  },
  {
   "cell_type": "markdown",
   "id": "cd9c3ea7",
   "metadata": {},
   "source": [
    "#### Шаг 4. Объединение данных"
   ]
  },
  {
   "cell_type": "markdown",
   "id": "9a94f399",
   "metadata": {},
   "source": [
    "##### Объединим данные о пользователях, поездках и подписках в один датафрейм. Для этого воспользуемся методом merge()"
   ]
  },
  {
   "cell_type": "code",
   "execution_count": 30,
   "id": "179bb1f6",
   "metadata": {},
   "outputs": [],
   "source": [
    "data = (users_go.merge(rides_go, on='user_id').merge(subscriptions_go, on='subscription_type'))"
   ]
  },
  {
   "cell_type": "code",
   "execution_count": 31,
   "id": "6daf82f0",
   "metadata": {},
   "outputs": [
    {
     "data": {
      "text/html": [
       "<div>\n",
       "<style scoped>\n",
       "    .dataframe tbody tr th:only-of-type {\n",
       "        vertical-align: middle;\n",
       "    }\n",
       "\n",
       "    .dataframe tbody tr th {\n",
       "        vertical-align: top;\n",
       "    }\n",
       "\n",
       "    .dataframe thead th {\n",
       "        text-align: right;\n",
       "    }\n",
       "</style>\n",
       "<table border=\"1\" class=\"dataframe\">\n",
       "  <thead>\n",
       "    <tr style=\"text-align: right;\">\n",
       "      <th></th>\n",
       "      <th>user_id</th>\n",
       "      <th>name</th>\n",
       "      <th>age</th>\n",
       "      <th>city</th>\n",
       "      <th>subscription_type</th>\n",
       "      <th>distance</th>\n",
       "      <th>duration</th>\n",
       "      <th>date</th>\n",
       "      <th>month</th>\n",
       "      <th>minute_price</th>\n",
       "      <th>start_ride_price</th>\n",
       "      <th>subscription_fee</th>\n",
       "    </tr>\n",
       "  </thead>\n",
       "  <tbody>\n",
       "    <tr>\n",
       "      <th>0</th>\n",
       "      <td>1</td>\n",
       "      <td>кира</td>\n",
       "      <td>22</td>\n",
       "      <td>Тюмень</td>\n",
       "      <td>ultra</td>\n",
       "      <td>4409.92</td>\n",
       "      <td>26</td>\n",
       "      <td>2021-01-01</td>\n",
       "      <td>1</td>\n",
       "      <td>6</td>\n",
       "      <td>0</td>\n",
       "      <td>199</td>\n",
       "    </tr>\n",
       "    <tr>\n",
       "      <th>1</th>\n",
       "      <td>1</td>\n",
       "      <td>кира</td>\n",
       "      <td>22</td>\n",
       "      <td>Тюмень</td>\n",
       "      <td>ultra</td>\n",
       "      <td>2617.59</td>\n",
       "      <td>16</td>\n",
       "      <td>2021-01-18</td>\n",
       "      <td>1</td>\n",
       "      <td>6</td>\n",
       "      <td>0</td>\n",
       "      <td>199</td>\n",
       "    </tr>\n",
       "    <tr>\n",
       "      <th>2</th>\n",
       "      <td>1</td>\n",
       "      <td>кира</td>\n",
       "      <td>22</td>\n",
       "      <td>Тюмень</td>\n",
       "      <td>ultra</td>\n",
       "      <td>754.16</td>\n",
       "      <td>7</td>\n",
       "      <td>2021-04-20</td>\n",
       "      <td>4</td>\n",
       "      <td>6</td>\n",
       "      <td>0</td>\n",
       "      <td>199</td>\n",
       "    </tr>\n",
       "    <tr>\n",
       "      <th>3</th>\n",
       "      <td>1</td>\n",
       "      <td>кира</td>\n",
       "      <td>22</td>\n",
       "      <td>Тюмень</td>\n",
       "      <td>ultra</td>\n",
       "      <td>2694.78</td>\n",
       "      <td>19</td>\n",
       "      <td>2021-08-11</td>\n",
       "      <td>8</td>\n",
       "      <td>6</td>\n",
       "      <td>0</td>\n",
       "      <td>199</td>\n",
       "    </tr>\n",
       "    <tr>\n",
       "      <th>4</th>\n",
       "      <td>1</td>\n",
       "      <td>кира</td>\n",
       "      <td>22</td>\n",
       "      <td>Тюмень</td>\n",
       "      <td>ultra</td>\n",
       "      <td>4028.69</td>\n",
       "      <td>27</td>\n",
       "      <td>2021-08-28</td>\n",
       "      <td>8</td>\n",
       "      <td>6</td>\n",
       "      <td>0</td>\n",
       "      <td>199</td>\n",
       "    </tr>\n",
       "  </tbody>\n",
       "</table>\n",
       "</div>"
      ],
      "text/plain": [
       "   user_id  name  age    city subscription_type  distance  duration  \\\n",
       "0        1  кира   22  Тюмень             ultra   4409.92        26   \n",
       "1        1  кира   22  Тюмень             ultra   2617.59        16   \n",
       "2        1  кира   22  Тюмень             ultra    754.16         7   \n",
       "3        1  кира   22  Тюмень             ultra   2694.78        19   \n",
       "4        1  кира   22  Тюмень             ultra   4028.69        27   \n",
       "\n",
       "        date  month  minute_price  start_ride_price  subscription_fee  \n",
       "0 2021-01-01      1             6                 0               199  \n",
       "1 2021-01-18      1             6                 0               199  \n",
       "2 2021-04-20      4             6                 0               199  \n",
       "3 2021-08-11      8             6                 0               199  \n",
       "4 2021-08-28      8             6                 0               199  "
      ]
     },
     "execution_count": 31,
     "metadata": {},
     "output_type": "execute_result"
    }
   ],
   "source": [
    "data.head(5)"
   ]
  },
  {
   "cell_type": "code",
   "execution_count": 32,
   "id": "aa01e7c4",
   "metadata": {},
   "outputs": [
    {
     "name": "stdout",
     "output_type": "stream",
     "text": [
      "<class 'pandas.core.frame.DataFrame'>\n",
      "Int64Index: 18068 entries, 0 to 18067\n",
      "Data columns (total 12 columns):\n",
      " #   Column             Non-Null Count  Dtype         \n",
      "---  ------             --------------  -----         \n",
      " 0   user_id            18068 non-null  int64         \n",
      " 1   name               18068 non-null  object        \n",
      " 2   age                18068 non-null  int64         \n",
      " 3   city               18068 non-null  object        \n",
      " 4   subscription_type  18068 non-null  object        \n",
      " 5   distance           18068 non-null  float64       \n",
      " 6   duration           18068 non-null  int64         \n",
      " 7   date               18068 non-null  datetime64[ns]\n",
      " 8   month              18068 non-null  int64         \n",
      " 9   minute_price       18068 non-null  int64         \n",
      " 10  start_ride_price   18068 non-null  int64         \n",
      " 11  subscription_fee   18068 non-null  int64         \n",
      "dtypes: datetime64[ns](1), float64(1), int64(7), object(3)\n",
      "memory usage: 1.8+ MB\n"
     ]
    }
   ],
   "source": [
    "data.info()"
   ]
  },
  {
   "cell_type": "markdown",
   "id": "6329b22e",
   "metadata": {},
   "source": [
    "Данные объеденены без потери данных."
   ]
  },
  {
   "cell_type": "markdown",
   "id": "751427a8",
   "metadata": {},
   "source": [
    "##### Создадим ещё два датафрейма из датафрейма, созданного на этапе 4.1: c данными о пользователях без подписки; с данными о пользователях с подпиской"
   ]
  },
  {
   "cell_type": "code",
   "execution_count": 33,
   "id": "eb8ffcc5",
   "metadata": {},
   "outputs": [],
   "source": [
    "data_free = data.query(\"subscription_type == 'free'\")\n",
    "data_ultra = data.query(\"subscription_type == 'ultra'\")"
   ]
  },
  {
   "cell_type": "code",
   "execution_count": 34,
   "id": "0ff812a4",
   "metadata": {},
   "outputs": [
    {
     "data": {
      "text/html": [
       "<div>\n",
       "<style scoped>\n",
       "    .dataframe tbody tr th:only-of-type {\n",
       "        vertical-align: middle;\n",
       "    }\n",
       "\n",
       "    .dataframe tbody tr th {\n",
       "        vertical-align: top;\n",
       "    }\n",
       "\n",
       "    .dataframe thead th {\n",
       "        text-align: right;\n",
       "    }\n",
       "</style>\n",
       "<table border=\"1\" class=\"dataframe\">\n",
       "  <thead>\n",
       "    <tr style=\"text-align: right;\">\n",
       "      <th></th>\n",
       "      <th>user_id</th>\n",
       "      <th>name</th>\n",
       "      <th>age</th>\n",
       "      <th>city</th>\n",
       "      <th>subscription_type</th>\n",
       "      <th>distance</th>\n",
       "      <th>duration</th>\n",
       "      <th>date</th>\n",
       "      <th>month</th>\n",
       "      <th>minute_price</th>\n",
       "      <th>start_ride_price</th>\n",
       "      <th>subscription_fee</th>\n",
       "    </tr>\n",
       "  </thead>\n",
       "  <tbody>\n",
       "    <tr>\n",
       "      <th>6500</th>\n",
       "      <td>700</td>\n",
       "      <td>айдар</td>\n",
       "      <td>22</td>\n",
       "      <td>Омск</td>\n",
       "      <td>free</td>\n",
       "      <td>2515.69</td>\n",
       "      <td>15</td>\n",
       "      <td>2021-01-02</td>\n",
       "      <td>1</td>\n",
       "      <td>8</td>\n",
       "      <td>50</td>\n",
       "      <td>0</td>\n",
       "    </tr>\n",
       "    <tr>\n",
       "      <th>6501</th>\n",
       "      <td>700</td>\n",
       "      <td>айдар</td>\n",
       "      <td>22</td>\n",
       "      <td>Омск</td>\n",
       "      <td>free</td>\n",
       "      <td>846.93</td>\n",
       "      <td>17</td>\n",
       "      <td>2021-02-01</td>\n",
       "      <td>2</td>\n",
       "      <td>8</td>\n",
       "      <td>50</td>\n",
       "      <td>0</td>\n",
       "    </tr>\n",
       "    <tr>\n",
       "      <th>6502</th>\n",
       "      <td>700</td>\n",
       "      <td>айдар</td>\n",
       "      <td>22</td>\n",
       "      <td>Омск</td>\n",
       "      <td>free</td>\n",
       "      <td>4004.43</td>\n",
       "      <td>21</td>\n",
       "      <td>2021-02-04</td>\n",
       "      <td>2</td>\n",
       "      <td>8</td>\n",
       "      <td>50</td>\n",
       "      <td>0</td>\n",
       "    </tr>\n",
       "    <tr>\n",
       "      <th>6503</th>\n",
       "      <td>700</td>\n",
       "      <td>айдар</td>\n",
       "      <td>22</td>\n",
       "      <td>Омск</td>\n",
       "      <td>free</td>\n",
       "      <td>1205.91</td>\n",
       "      <td>10</td>\n",
       "      <td>2021-02-10</td>\n",
       "      <td>2</td>\n",
       "      <td>8</td>\n",
       "      <td>50</td>\n",
       "      <td>0</td>\n",
       "    </tr>\n",
       "    <tr>\n",
       "      <th>6504</th>\n",
       "      <td>700</td>\n",
       "      <td>айдар</td>\n",
       "      <td>22</td>\n",
       "      <td>Омск</td>\n",
       "      <td>free</td>\n",
       "      <td>3047.38</td>\n",
       "      <td>18</td>\n",
       "      <td>2021-02-14</td>\n",
       "      <td>2</td>\n",
       "      <td>8</td>\n",
       "      <td>50</td>\n",
       "      <td>0</td>\n",
       "    </tr>\n",
       "  </tbody>\n",
       "</table>\n",
       "</div>"
      ],
      "text/plain": [
       "      user_id   name  age  city subscription_type  distance  duration  \\\n",
       "6500      700  айдар   22  Омск              free   2515.69        15   \n",
       "6501      700  айдар   22  Омск              free    846.93        17   \n",
       "6502      700  айдар   22  Омск              free   4004.43        21   \n",
       "6503      700  айдар   22  Омск              free   1205.91        10   \n",
       "6504      700  айдар   22  Омск              free   3047.38        18   \n",
       "\n",
       "           date  month  minute_price  start_ride_price  subscription_fee  \n",
       "6500 2021-01-02      1             8                50                 0  \n",
       "6501 2021-02-01      2             8                50                 0  \n",
       "6502 2021-02-04      2             8                50                 0  \n",
       "6503 2021-02-10      2             8                50                 0  \n",
       "6504 2021-02-14      2             8                50                 0  "
      ]
     },
     "execution_count": 34,
     "metadata": {},
     "output_type": "execute_result"
    }
   ],
   "source": [
    "data_free.head(5)"
   ]
  },
  {
   "cell_type": "code",
   "execution_count": 35,
   "id": "149a1459",
   "metadata": {},
   "outputs": [
    {
     "data": {
      "text/html": [
       "<div>\n",
       "<style scoped>\n",
       "    .dataframe tbody tr th:only-of-type {\n",
       "        vertical-align: middle;\n",
       "    }\n",
       "\n",
       "    .dataframe tbody tr th {\n",
       "        vertical-align: top;\n",
       "    }\n",
       "\n",
       "    .dataframe thead th {\n",
       "        text-align: right;\n",
       "    }\n",
       "</style>\n",
       "<table border=\"1\" class=\"dataframe\">\n",
       "  <thead>\n",
       "    <tr style=\"text-align: right;\">\n",
       "      <th></th>\n",
       "      <th>user_id</th>\n",
       "      <th>name</th>\n",
       "      <th>age</th>\n",
       "      <th>city</th>\n",
       "      <th>subscription_type</th>\n",
       "      <th>distance</th>\n",
       "      <th>duration</th>\n",
       "      <th>date</th>\n",
       "      <th>month</th>\n",
       "      <th>minute_price</th>\n",
       "      <th>start_ride_price</th>\n",
       "      <th>subscription_fee</th>\n",
       "    </tr>\n",
       "  </thead>\n",
       "  <tbody>\n",
       "    <tr>\n",
       "      <th>0</th>\n",
       "      <td>1</td>\n",
       "      <td>кира</td>\n",
       "      <td>22</td>\n",
       "      <td>Тюмень</td>\n",
       "      <td>ultra</td>\n",
       "      <td>4409.92</td>\n",
       "      <td>26</td>\n",
       "      <td>2021-01-01</td>\n",
       "      <td>1</td>\n",
       "      <td>6</td>\n",
       "      <td>0</td>\n",
       "      <td>199</td>\n",
       "    </tr>\n",
       "    <tr>\n",
       "      <th>1</th>\n",
       "      <td>1</td>\n",
       "      <td>кира</td>\n",
       "      <td>22</td>\n",
       "      <td>Тюмень</td>\n",
       "      <td>ultra</td>\n",
       "      <td>2617.59</td>\n",
       "      <td>16</td>\n",
       "      <td>2021-01-18</td>\n",
       "      <td>1</td>\n",
       "      <td>6</td>\n",
       "      <td>0</td>\n",
       "      <td>199</td>\n",
       "    </tr>\n",
       "    <tr>\n",
       "      <th>2</th>\n",
       "      <td>1</td>\n",
       "      <td>кира</td>\n",
       "      <td>22</td>\n",
       "      <td>Тюмень</td>\n",
       "      <td>ultra</td>\n",
       "      <td>754.16</td>\n",
       "      <td>7</td>\n",
       "      <td>2021-04-20</td>\n",
       "      <td>4</td>\n",
       "      <td>6</td>\n",
       "      <td>0</td>\n",
       "      <td>199</td>\n",
       "    </tr>\n",
       "    <tr>\n",
       "      <th>3</th>\n",
       "      <td>1</td>\n",
       "      <td>кира</td>\n",
       "      <td>22</td>\n",
       "      <td>Тюмень</td>\n",
       "      <td>ultra</td>\n",
       "      <td>2694.78</td>\n",
       "      <td>19</td>\n",
       "      <td>2021-08-11</td>\n",
       "      <td>8</td>\n",
       "      <td>6</td>\n",
       "      <td>0</td>\n",
       "      <td>199</td>\n",
       "    </tr>\n",
       "    <tr>\n",
       "      <th>4</th>\n",
       "      <td>1</td>\n",
       "      <td>кира</td>\n",
       "      <td>22</td>\n",
       "      <td>Тюмень</td>\n",
       "      <td>ultra</td>\n",
       "      <td>4028.69</td>\n",
       "      <td>27</td>\n",
       "      <td>2021-08-28</td>\n",
       "      <td>8</td>\n",
       "      <td>6</td>\n",
       "      <td>0</td>\n",
       "      <td>199</td>\n",
       "    </tr>\n",
       "  </tbody>\n",
       "</table>\n",
       "</div>"
      ],
      "text/plain": [
       "   user_id  name  age    city subscription_type  distance  duration  \\\n",
       "0        1  кира   22  Тюмень             ultra   4409.92        26   \n",
       "1        1  кира   22  Тюмень             ultra   2617.59        16   \n",
       "2        1  кира   22  Тюмень             ultra    754.16         7   \n",
       "3        1  кира   22  Тюмень             ultra   2694.78        19   \n",
       "4        1  кира   22  Тюмень             ultra   4028.69        27   \n",
       "\n",
       "        date  month  minute_price  start_ride_price  subscription_fee  \n",
       "0 2021-01-01      1             6                 0               199  \n",
       "1 2021-01-18      1             6                 0               199  \n",
       "2 2021-04-20      4             6                 0               199  \n",
       "3 2021-08-11      8             6                 0               199  \n",
       "4 2021-08-28      8             6                 0               199  "
      ]
     },
     "execution_count": 35,
     "metadata": {},
     "output_type": "execute_result"
    }
   ],
   "source": [
    "data_ultra.head(5)"
   ]
  },
  {
   "cell_type": "markdown",
   "id": "78ff31c7",
   "metadata": {},
   "source": [
    "#####  Визуализируем информацию о расстоянии и времени поездок для пользователей обеих категорий"
   ]
  },
  {
   "cell_type": "code",
   "execution_count": 36,
   "id": "f6a608e5",
   "metadata": {},
   "outputs": [
    {
     "data": {
      "text/plain": [
       "count    11568.000000\n",
       "mean      3045.495284\n",
       "std       1246.173810\n",
       "min          0.860000\n",
       "25%       2366.560000\n",
       "50%       3114.650000\n",
       "75%       3905.695000\n",
       "max       7211.010000\n",
       "Name: distance, dtype: float64"
      ]
     },
     "execution_count": 36,
     "metadata": {},
     "output_type": "execute_result"
    }
   ],
   "source": [
    "data_free['distance'].describe()"
   ]
  },
  {
   "cell_type": "code",
   "execution_count": 37,
   "id": "4c16a8a7",
   "metadata": {},
   "outputs": [
    {
     "data": {
      "text/plain": [
       "count    6500.000000\n",
       "mean     3115.445431\n",
       "std       836.895369\n",
       "min       244.210000\n",
       "25%      2785.447500\n",
       "50%      3148.640000\n",
       "75%      3560.577500\n",
       "max      5699.770000\n",
       "Name: distance, dtype: float64"
      ]
     },
     "execution_count": 37,
     "metadata": {},
     "output_type": "execute_result"
    }
   ],
   "source": [
    "data_ultra['distance'].describe()"
   ]
  },
  {
   "cell_type": "code",
   "execution_count": 38,
   "id": "b2c9070b",
   "metadata": {},
   "outputs": [
    {
     "data": {
      "image/png": "[encoded data removed]",
      "text/plain": [
       "<Figure size 720x432 with 1 Axes>"
      ]
     },
     "metadata": {
      "needs_background": "light"
     },
     "output_type": "display_data"
    }
   ],
   "source": [
    "# построим ящик с усами\n",
    "plt.figure(figsize=(10, 6))\n",
    "plt.boxplot([data_free['distance'], data_ultra['distance']], labels=['free', 'ultra'])\n",
    "\n",
    "plt.title('Количество поездок в зависимости от расстояния', fontsize=15)\n",
    "plt.xlabel('Тип подписки', fontsize=10)\n",
    "plt.ylabel('Расстояние в метрах', fontsize=10)\n",
    "\n",
    "plt.grid(axis='y', linestyle='--', alpha=0.7)\n",
    "plt.show()"
   ]
  },
  {
   "cell_type": "code",
   "execution_count": 39,
   "id": "d1bcab8b",
   "metadata": {},
   "outputs": [
    {
     "data": {
      "text/plain": [
       "count    11568.000000\n",
       "mean        17.890992\n",
       "std          6.330250\n",
       "min          1.000000\n",
       "25%         13.000000\n",
       "50%         18.000000\n",
       "75%         22.000000\n",
       "max         35.000000\n",
       "Name: duration, dtype: float64"
      ]
     },
     "execution_count": 39,
     "metadata": {},
     "output_type": "execute_result"
    }
   ],
   "source": [
    "data_free['duration'].describe()"
   ]
  },
  {
   "cell_type": "code",
   "execution_count": 40,
   "id": "fc18aa8a",
   "metadata": {},
   "outputs": [
    {
     "data": {
      "text/plain": [
       "count    6500.000000\n",
       "mean       19.037692\n",
       "std         5.577439\n",
       "min         4.000000\n",
       "25%        15.000000\n",
       "50%        19.000000\n",
       "75%        22.000000\n",
       "max        41.000000\n",
       "Name: duration, dtype: float64"
      ]
     },
     "execution_count": 40,
     "metadata": {},
     "output_type": "execute_result"
    }
   ],
   "source": [
    "data_ultra['duration'].describe()"
   ]
  },
  {
   "cell_type": "code",
   "execution_count": 41,
   "id": "19b568a4",
   "metadata": {},
   "outputs": [
    {
     "data": {
      "image/png": "[encoded data removed]",
      "text/plain": [
       "<Figure size 864x432 with 1 Axes>"
      ]
     },
     "metadata": {
      "needs_background": "light"
     },
     "output_type": "display_data"
    },
    {
     "data": {
      "image/png": "[encoded data removed]",
      "text/plain": [
       "<Figure size 864x432 with 1 Axes>"
      ]
     },
     "metadata": {
      "needs_background": "light"
     },
     "output_type": "display_data"
    }
   ],
   "source": [
    "# построим гистограмму для распределения продолжительности поездок\n",
    "plt.figure(figsize=(12, 6))\n",
    "plt.hist(data_free['duration'], bins=30, range=(0, 40), \n",
    "         color='lightblue', alpha=0.5, label='Free', edgecolor='black')\n",
    "plt.hist(data_ultra['duration'], bins=30, range=(0, 40), \n",
    "         color='blue', alpha=0.5, label='Ultra', edgecolor='black')\n",
    "\n",
    "plt.title('Распределение продолжительности поездок по типу подписки', fontsize=15)\n",
    "plt.xlabel('Время поездки(мин)', fontsize=10)\n",
    "plt.ylabel('Количество поездок', fontsize=10)\n",
    "plt.legend()\n",
    "plt.grid(axis='y')\n",
    "\n",
    "plt.show()\n",
    "\n",
    "# построим гистограмму для распределения расстояний поездок\n",
    "plt.figure(figsize=(12, 6))\n",
    "plt.hist(data_free['distance'], bins=100, range=(0, 5500), \n",
    "         color='lightblue', alpha=0.5, label='Free', edgecolor='black')\n",
    "plt.hist(data_ultra['distance'], bins=100, range=(0, 5500), \n",
    "         color='blue', alpha=0.5, label='Ultra', edgecolor='black')\n",
    "\n",
    "plt.title('Распределение расстояний поездок по типу подписки', fontsize=15)\n",
    "plt.xlabel('Расстояние поездки (км)', fontsize=10)\n",
    "plt.ylabel('Количество поездок', fontsize=10)\n",
    "plt.legend()\n",
    "plt.grid(axis='y')\n",
    "\n",
    "plt.show()"
   ]
  },
  {
   "cell_type": "code",
   "execution_count": 42,
   "id": "c892a916",
   "metadata": {},
   "outputs": [
    {
     "data": {
      "image/png": "[encoded data removed]",
      "text/plain": [
       "<Figure size 432x288 with 1 Axes>"
      ]
     },
     "metadata": {
      "needs_background": "light"
     },
     "output_type": "display_data"
    }
   ],
   "source": [
    "# построим столбчатый график\n",
    "plt.bar(['Free', 'Ultra'], [data_free['duration'].count(), data_ultra['duration'].count()], color=['lightblue', 'blue'])\n",
    "\n",
    "plt.title('Количество поездок по типу подписки')\n",
    "plt.xlabel('Тип подписки')\n",
    "plt.ylabel('Количество поездок')\n",
    "\n",
    "plt.show()"
   ]
  },
  {
   "cell_type": "markdown",
   "id": "ce7f6438",
   "metadata": {},
   "source": [
    "В зависимости от расстояния поездки: оба тарифа почти равны, по медианному значению free - 3114м, ultra - 3148м.\n",
    "\n",
    "В зависимости от времени поездки: поездки от 13м до 22м чаще совершаются по бесплатному тарифу, по платному тарифу пользователь предпочитает ездить как на более длинные расстояния от 2.9км до 3.4км, так и на короткие от 500м до 1.5км\n",
    "\n",
    "Видим пик около 0 - в основном были совершаны по бесплатному тарифу, возможно это сбой в программе или данные поездки были зарегистрированы и сразу отменены. \n",
    "\n",
    "Отметим, что пользователи по бесплатному тарифу, чаще, чем платному тарифу, совершают поездки на короткие расстояния до 1км.\n"
   ]
  },
  {
   "cell_type": "markdown",
   "id": "fdccced4",
   "metadata": {},
   "source": [
    "#### Шаг 5. Подсчёт выручки"
   ]
  },
  {
   "cell_type": "code",
   "execution_count": 43,
   "id": "e0f2f08b",
   "metadata": {},
   "outputs": [
    {
     "data": {
      "text/html": [
       "<div>\n",
       "<style scoped>\n",
       "    .dataframe tbody tr th:only-of-type {\n",
       "        vertical-align: middle;\n",
       "    }\n",
       "\n",
       "    .dataframe tbody tr th {\n",
       "        vertical-align: top;\n",
       "    }\n",
       "\n",
       "    .dataframe thead th {\n",
       "        text-align: right;\n",
       "    }\n",
       "</style>\n",
       "<table border=\"1\" class=\"dataframe\">\n",
       "  <thead>\n",
       "    <tr style=\"text-align: right;\">\n",
       "      <th></th>\n",
       "      <th>user_id</th>\n",
       "      <th>name</th>\n",
       "      <th>age</th>\n",
       "      <th>city</th>\n",
       "      <th>subscription_type</th>\n",
       "      <th>distance</th>\n",
       "      <th>duration</th>\n",
       "      <th>date</th>\n",
       "      <th>month</th>\n",
       "      <th>minute_price</th>\n",
       "      <th>start_ride_price</th>\n",
       "      <th>subscription_fee</th>\n",
       "    </tr>\n",
       "  </thead>\n",
       "  <tbody>\n",
       "    <tr>\n",
       "      <th>0</th>\n",
       "      <td>1</td>\n",
       "      <td>кира</td>\n",
       "      <td>22</td>\n",
       "      <td>Тюмень</td>\n",
       "      <td>ultra</td>\n",
       "      <td>4409.92</td>\n",
       "      <td>26</td>\n",
       "      <td>2021-01-01</td>\n",
       "      <td>1</td>\n",
       "      <td>6</td>\n",
       "      <td>0</td>\n",
       "      <td>199</td>\n",
       "    </tr>\n",
       "    <tr>\n",
       "      <th>1</th>\n",
       "      <td>1</td>\n",
       "      <td>кира</td>\n",
       "      <td>22</td>\n",
       "      <td>Тюмень</td>\n",
       "      <td>ultra</td>\n",
       "      <td>2617.59</td>\n",
       "      <td>16</td>\n",
       "      <td>2021-01-18</td>\n",
       "      <td>1</td>\n",
       "      <td>6</td>\n",
       "      <td>0</td>\n",
       "      <td>199</td>\n",
       "    </tr>\n",
       "    <tr>\n",
       "      <th>2</th>\n",
       "      <td>1</td>\n",
       "      <td>кира</td>\n",
       "      <td>22</td>\n",
       "      <td>Тюмень</td>\n",
       "      <td>ultra</td>\n",
       "      <td>754.16</td>\n",
       "      <td>7</td>\n",
       "      <td>2021-04-20</td>\n",
       "      <td>4</td>\n",
       "      <td>6</td>\n",
       "      <td>0</td>\n",
       "      <td>199</td>\n",
       "    </tr>\n",
       "    <tr>\n",
       "      <th>3</th>\n",
       "      <td>1</td>\n",
       "      <td>кира</td>\n",
       "      <td>22</td>\n",
       "      <td>Тюмень</td>\n",
       "      <td>ultra</td>\n",
       "      <td>2694.78</td>\n",
       "      <td>19</td>\n",
       "      <td>2021-08-11</td>\n",
       "      <td>8</td>\n",
       "      <td>6</td>\n",
       "      <td>0</td>\n",
       "      <td>199</td>\n",
       "    </tr>\n",
       "    <tr>\n",
       "      <th>4</th>\n",
       "      <td>1</td>\n",
       "      <td>кира</td>\n",
       "      <td>22</td>\n",
       "      <td>Тюмень</td>\n",
       "      <td>ultra</td>\n",
       "      <td>4028.69</td>\n",
       "      <td>27</td>\n",
       "      <td>2021-08-28</td>\n",
       "      <td>8</td>\n",
       "      <td>6</td>\n",
       "      <td>0</td>\n",
       "      <td>199</td>\n",
       "    </tr>\n",
       "  </tbody>\n",
       "</table>\n",
       "</div>"
      ],
      "text/plain": [
       "   user_id  name  age    city subscription_type  distance  duration  \\\n",
       "0        1  кира   22  Тюмень             ultra   4409.92        26   \n",
       "1        1  кира   22  Тюмень             ultra   2617.59        16   \n",
       "2        1  кира   22  Тюмень             ultra    754.16         7   \n",
       "3        1  кира   22  Тюмень             ultra   2694.78        19   \n",
       "4        1  кира   22  Тюмень             ultra   4028.69        27   \n",
       "\n",
       "        date  month  minute_price  start_ride_price  subscription_fee  \n",
       "0 2021-01-01      1             6                 0               199  \n",
       "1 2021-01-18      1             6                 0               199  \n",
       "2 2021-04-20      4             6                 0               199  \n",
       "3 2021-08-11      8             6                 0               199  \n",
       "4 2021-08-28      8             6                 0               199  "
      ]
     },
     "execution_count": 43,
     "metadata": {},
     "output_type": "execute_result"
    }
   ],
   "source": [
    "data.head()"
   ]
  },
  {
   "cell_type": "code",
   "execution_count": 44,
   "id": "674db81b",
   "metadata": {},
   "outputs": [
    {
     "data": {
      "text/html": [
       "<div>\n",
       "<style scoped>\n",
       "    .dataframe tbody tr th:only-of-type {\n",
       "        vertical-align: middle;\n",
       "    }\n",
       "\n",
       "    .dataframe tbody tr th {\n",
       "        vertical-align: top;\n",
       "    }\n",
       "\n",
       "    .dataframe thead th {\n",
       "        text-align: right;\n",
       "    }\n",
       "</style>\n",
       "<table border=\"1\" class=\"dataframe\">\n",
       "  <thead>\n",
       "    <tr style=\"text-align: right;\">\n",
       "      <th></th>\n",
       "      <th>user_id</th>\n",
       "      <th>month</th>\n",
       "      <th>subscription_type</th>\n",
       "      <th>count</th>\n",
       "      <th>distance</th>\n",
       "      <th>duration</th>\n",
       "      <th>minute_price</th>\n",
       "      <th>start_ride_price</th>\n",
       "      <th>subscription_fee</th>\n",
       "    </tr>\n",
       "  </thead>\n",
       "  <tbody>\n",
       "    <tr>\n",
       "      <th>0</th>\n",
       "      <td>1</td>\n",
       "      <td>1</td>\n",
       "      <td>ultra</td>\n",
       "      <td>2</td>\n",
       "      <td>7027.51</td>\n",
       "      <td>42</td>\n",
       "      <td>6</td>\n",
       "      <td>0</td>\n",
       "      <td>199</td>\n",
       "    </tr>\n",
       "    <tr>\n",
       "      <th>1</th>\n",
       "      <td>1</td>\n",
       "      <td>4</td>\n",
       "      <td>ultra</td>\n",
       "      <td>1</td>\n",
       "      <td>754.16</td>\n",
       "      <td>7</td>\n",
       "      <td>6</td>\n",
       "      <td>0</td>\n",
       "      <td>199</td>\n",
       "    </tr>\n",
       "    <tr>\n",
       "      <th>2</th>\n",
       "      <td>1</td>\n",
       "      <td>8</td>\n",
       "      <td>ultra</td>\n",
       "      <td>2</td>\n",
       "      <td>6723.47</td>\n",
       "      <td>46</td>\n",
       "      <td>6</td>\n",
       "      <td>0</td>\n",
       "      <td>199</td>\n",
       "    </tr>\n",
       "    <tr>\n",
       "      <th>3</th>\n",
       "      <td>1</td>\n",
       "      <td>10</td>\n",
       "      <td>ultra</td>\n",
       "      <td>2</td>\n",
       "      <td>5809.91</td>\n",
       "      <td>32</td>\n",
       "      <td>6</td>\n",
       "      <td>0</td>\n",
       "      <td>199</td>\n",
       "    </tr>\n",
       "    <tr>\n",
       "      <th>4</th>\n",
       "      <td>1</td>\n",
       "      <td>11</td>\n",
       "      <td>ultra</td>\n",
       "      <td>3</td>\n",
       "      <td>7003.50</td>\n",
       "      <td>56</td>\n",
       "      <td>6</td>\n",
       "      <td>0</td>\n",
       "      <td>199</td>\n",
       "    </tr>\n",
       "  </tbody>\n",
       "</table>\n",
       "</div>"
      ],
      "text/plain": [
       "   user_id  month subscription_type  count  distance  duration  minute_price  \\\n",
       "0        1      1             ultra      2   7027.51        42             6   \n",
       "1        1      4             ultra      1    754.16         7             6   \n",
       "2        1      8             ultra      2   6723.47        46             6   \n",
       "3        1     10             ultra      2   5809.91        32             6   \n",
       "4        1     11             ultra      3   7003.50        56             6   \n",
       "\n",
       "   start_ride_price  subscription_fee  \n",
       "0                 0               199  \n",
       "1                 0               199  \n",
       "2                 0               199  \n",
       "3                 0               199  \n",
       "4                 0               199  "
      ]
     },
     "execution_count": 44,
     "metadata": {},
     "output_type": "execute_result"
    }
   ],
   "source": [
    "data_revenue = (\n",
    "    data.groupby(['user_id', 'month', 'subscription_type'])\n",
    "    .agg(count=('distance', 'count'),\n",
    "         distance=('distance', 'sum'),\n",
    "         duration=('duration', 'sum'),\n",
    "         minute_price=('minute_price', 'mean'),\n",
    "         start_ride_price=('start_ride_price', 'mean'),\n",
    "         subscription_fee=('subscription_fee', 'mean'))\n",
    "    .reset_index())\n",
    "\n",
    "data_revenue.head()"
   ]
  },
  {
   "cell_type": "code",
   "execution_count": 45,
   "id": "9c39c920",
   "metadata": {},
   "outputs": [
    {
     "data": {
      "text/plain": [
       "3878641"
      ]
     },
     "execution_count": 45,
     "metadata": {},
     "output_type": "execute_result"
    }
   ],
   "source": [
    "# Создаем столбец с выручкой\n",
    "start_ride_revenue = data_revenue['start_ride_price'] * data_revenue['count']\n",
    "minute_revenue = data_revenue['minute_price'] * data_revenue['duration']\n",
    "subscription_revenue = data_revenue['subscription_fee']\n",
    "\n",
    "data_revenue['revenue'] = start_ride_revenue + minute_revenue + subscription_revenue\n",
    "\n",
    "data_revenue['revenue'].sum()"
   ]
  },
  {
   "cell_type": "code",
   "execution_count": 46,
   "id": "c549f369",
   "metadata": {},
   "outputs": [
    {
     "data": {
      "text/plain": [
       "Timestamp('2021-01-01 00:00:00')"
      ]
     },
     "execution_count": 46,
     "metadata": {},
     "output_type": "execute_result"
    }
   ],
   "source": [
    "data['date'].min()"
   ]
  },
  {
   "cell_type": "code",
   "execution_count": 47,
   "id": "127a9dd6",
   "metadata": {},
   "outputs": [
    {
     "data": {
      "text/plain": [
       "Timestamp('2021-12-30 00:00:00')"
      ]
     },
     "execution_count": 47,
     "metadata": {},
     "output_type": "execute_result"
    }
   ],
   "source": [
    "data['date'].max()"
   ]
  },
  {
   "cell_type": "markdown",
   "id": "80d5be94",
   "metadata": {},
   "source": [
    "Выручка за 2021г. составила: 3 878 641.0 руб."
   ]
  },
  {
   "cell_type": "markdown",
   "id": "06ff6ed7",
   "metadata": {},
   "source": [
    "#### Шаг 6. Проверка гипотез"
   ]
  },
  {
   "cell_type": "markdown",
   "id": "531c2142",
   "metadata": {},
   "source": [
    "Важно понять, тратят ли пользователи с подпиской больше времени на поездки? Если да, то пользователи с подпиской могут быть «выгоднее» для компании."
   ]
  },
  {
   "cell_type": "code",
   "execution_count": 48,
   "id": "7491567e",
   "metadata": {},
   "outputs": [
    {
     "name": "stdout",
     "output_type": "stream",
     "text": [
      "2.4959453720736625e-34\n",
      "Отвергаем нулевую гипотезу\n"
     ]
    }
   ],
   "source": [
    "# Нулевая гипотеза: пользователи с подпиской ездят одинаково или меньше пользователей без подписки.\n",
    "# Альтернативная гипотеза: пользователи с подпиской ездят дольше.\n",
    "\n",
    "alpha = 0.05 # уровень статической значимости\n",
    "\n",
    "results = st.ttest_ind(data_ultra['duration'], \n",
    "                       data_free['duration'], \n",
    "                       alternative='greater')\n",
    "\n",
    "print(results.pvalue)\n",
    "\n",
    "if results.pvalue < alpha:\n",
    "    print('Отвергаем нулевую гипотезу')\n",
    "else:\n",
    "    print('Не получилось отвергнуть нулевую гипотезу')"
   ]
  },
  {
   "cell_type": "code",
   "execution_count": 49,
   "id": "a84be71b",
   "metadata": {},
   "outputs": [
    {
     "data": {
      "image/png": "[encoded data removed]",
      "text/plain": [
       "<Figure size 720x432 with 1 Axes>"
      ]
     },
     "metadata": {
      "needs_background": "light"
     },
     "output_type": "display_data"
    }
   ],
   "source": [
    "# построим гистограмму\n",
    "plt.figure(figsize=(10, 6))\n",
    "\n",
    "# для пользователей с подпиской\n",
    "plt.hist(data_ultra['duration'], bins=10, alpha=0.5, label='С подпиской', color='blue')\n",
    "\n",
    "# для пользователей без подписки\n",
    "plt.hist(data_free['duration'], bins=10, alpha=0.5, label='Без подписки', color='lightblue')\n",
    "\n",
    "plt.title('Распределение длительности поездок пользователей с подпиской и без подписки')\n",
    "plt.xlabel('Длительность поездки (минуты)')\n",
    "plt.ylabel('Количество')\n",
    "plt.legend()\n",
    "plt.grid(axis='y')\n",
    "plt.show()"
   ]
  },
  {
   "cell_type": "markdown",
   "id": "a7f60708",
   "metadata": {},
   "source": [
    "Поскольку p-value значительно меньше уровня статической значимости, нулевая гипотеза отвергнута.\n",
    "Это означает, что есть достаточно статистических оснований полагать, что пользователи с подпиской действительно тратят больше времени на поездки, чем пользователи без подписки.\n",
    "\n",
    "Пользователи с подпиской являются более выгодными для компании, так как они проводят больше времени в поездках. "
   ]
  },
  {
   "cell_type": "code",
   "execution_count": 50,
   "id": "bbeb4b94",
   "metadata": {},
   "outputs": [
    {
     "name": "stdout",
     "output_type": "stream",
     "text": [
      "p-значение: 0.9195362605842414\n",
      "Не отвергаем нулевую гипотезу\n"
     ]
    }
   ],
   "source": [
    "# Нулевая гипотеза: среднее расстояние с подпиской за одну поездку = 3130 метров.\n",
    "# Альтернативная гипотеза: среднее расстояние с подпиской за одну поездку > 3130 метров.\n",
    "\n",
    "distance = 3130\n",
    "\n",
    "alpha = 0.05 # уровень статической значимости\n",
    "\n",
    "results = st.ttest_1samp(data_ultra['distance'], \n",
    "                         distance, \n",
    "                         alternative='greater')\n",
    "\n",
    "print('p-значение:', results.pvalue)\n",
    "\n",
    "if (results.pvalue < alpha):\n",
    "    print('Отвергаем нулевую гипотезу')\n",
    "else:\n",
    "    print('Не отвергаем нулевую гипотезу') "
   ]
  },
  {
   "cell_type": "code",
   "execution_count": 51,
   "id": "3b9be732",
   "metadata": {},
   "outputs": [
    {
     "data": {
      "image/png": "[encoded data removed]",
      "text/plain": [
       "<Figure size 720x432 with 1 Axes>"
      ]
     },
     "metadata": {
      "needs_background": "light"
     },
     "output_type": "display_data"
    }
   ],
   "source": [
    "# построим гистограмму\n",
    "plt.figure(figsize=(10, 6))\n",
    "plt.hist(data_ultra['distance'], bins=15, alpha=0.7, color='blue')\n",
    "\n",
    "# добавим линию для определения расстояния\n",
    "plt.axvline(distance, color='red', linewidth=3, label='Расстояние поездки (3130 м)')\n",
    "\n",
    "plt.title('Распределение расстояний поездок пользователей с подпиской')\n",
    "plt.xlabel('Расстояние (метры)')\n",
    "plt.ylabel('Частота')\n",
    "plt.legend()\n",
    "plt.grid(axis='y')\n",
    "plt.show()"
   ]
  },
  {
   "cell_type": "markdown",
   "id": "d5a74533",
   "metadata": {},
   "source": [
    "Поскольку p-value значительно больше уровня значимости, нулевая гипотеза не отвергнута.\n",
    "Это означает, что нет достаточных статистических оснований для утверждения, что среднее расстояние поездок с подпиской превышает 3130 метров.\n",
    "\n",
    "Пользователи с подпиской, в среднем, не ездят дальше 3130 метров за одну поездку."
   ]
  },
  {
   "cell_type": "code",
   "execution_count": 52,
   "id": "a650866a",
   "metadata": {},
   "outputs": [
    {
     "name": "stdout",
     "output_type": "stream",
     "text": [
      "1.8850394384715216e-31\n",
      "Отвергаем нулевую гипотезу\n"
     ]
    }
   ],
   "source": [
    "# Нулевая гипотеза: выручка от пользователей с подпиской меньше или равна выручке от пользователей без подписки\n",
    "# Альтернативная гипотеза: выручка от пользователей с подпиской выше, чем выручка от пользователей без подписки.\n",
    "\n",
    "alpha = 0.05 # уровень статической значимости\n",
    "\n",
    "results = st.ttest_ind(data_revenue.loc[data_revenue['subscription_fee'] > 0, 'revenue'], \n",
    "                       data_revenue.loc[data_revenue['subscription_fee'] == 0, 'revenue'], \n",
    "                       alternative='greater')\n",
    "print(results.pvalue)\n",
    "\n",
    "\n",
    "if results.pvalue < alpha:\n",
    "    print('Отвергаем нулевую гипотезу')\n",
    "else:\n",
    "    print('Не получилось отвергнуть нулевую гипотезу')\n"
   ]
  },
  {
   "cell_type": "code",
   "execution_count": 53,
   "id": "bccf2bb4",
   "metadata": {},
   "outputs": [
    {
     "data": {
      "text/plain": [
       "<Figure size 1080x576 with 0 Axes>"
      ]
     },
     "metadata": {},
     "output_type": "display_data"
    },
    {
     "data": {
      "image/png": "[encoded data removed]",
      "text/plain": [
       "<Figure size 720x432 with 1 Axes>"
      ]
     },
     "metadata": {
      "needs_background": "light"
     },
     "output_type": "display_data"
    }
   ],
   "source": [
    "plt.figure(figsize=(15, 8))\n",
    "\n",
    "# создадим ящик с усами\n",
    "plt.figure(figsize=(10, 6))\n",
    "sbn.boxplot(x='subscription_fee', y='revenue', data=data_revenue)\n",
    "\n",
    "plt.title('Сравнение выручки с подпиской и без подписки')\n",
    "plt.xlabel('Подписка')\n",
    "plt.xticks([0, 1], ['Без подписки', 'С подпиской'])\n",
    "plt.ylabel('Выручка')\n",
    "plt.grid(axis='y')\n",
    "plt.show()"
   ]
  },
  {
   "cell_type": "markdown",
   "id": "527b0a18",
   "metadata": {},
   "source": [
    "Поскольку p-value меньше уровня значимости, нулевая гипотеза отвергнута.\n",
    "Это указывает на то, что выручка от пользователей с подпиской статистически значимо выше, чем у пользователей без подписки.\n",
    "\n",
    "Пользователи с ежемесячной подпиской более активно используют сервис, так как медианное значение выше, что, в свою очередь, способствует увеличению выручки компании."
   ]
  },
  {
   "cell_type": "markdown",
   "id": "e7995c37",
   "metadata": {},
   "source": [
    "**Представьте такую ситуацию: техническая команда сервиса обновила сервера, с которыми взаимодействует мобильное приложение. Она надеется, что из-за этого количество обращений в техподдержку значимо снизилось. Некоторый файл содержит для каждого пользователя данные о количестве обращений до обновления и после него. Какой тест вам понадобился бы для проверки этой гипотезы?**"
   ]
  },
  {
   "cell_type": "markdown",
   "id": "773426b8",
   "metadata": {},
   "source": [
    "Получается так: у нас есть данные о количестве обращений в техподдержку для каждого пользователя до обновления и после него. То есть, есть две связанные выборки (одни и те же пользователи, но, в разные временные интервалы).\n",
    "\n",
    "Для проверки гипотезы можно использовать парный t-тест: st.ttest_rel (from scipy import stats as st)."
   ]
  },
  {
   "cell_type": "markdown",
   "id": "23de41f6",
   "metadata": {},
   "source": [
    "#### Шаг 7. Распределения"
   ]
  },
  {
   "cell_type": "markdown",
   "id": "e9bd9ae0",
   "metadata": {},
   "source": [
    "Отделу маркетинга GoFast поставили задачу: нужно провести акцию с раздачей промокодов на один бесплатный месяц подписки, в рамках которой как минимум \n",
    "100 существующих клиентов должны продлить эту подписку. То есть по завершении периода действия подписки пользователь может либо отказаться от неё, либо продлить, совершив соответствующий платёж. \n",
    "Эта акция уже проводилась ранее и по итогу выяснилось, что после бесплатного пробного периода подписку продлевают \n",
    "10 % пользователей. Выясните, какое минимальное количество промокодов нужно разослать, чтобы вероятность не выполнить план была примерно 5 %. Подберите параметры распределения, описывающего эту ситуацию, постройте график распределения и сформулируйте ответ на вопрос о количестве промокодов."
   ]
  },
  {
   "cell_type": "code",
   "execution_count": 54,
   "id": "1ed0d0b3",
   "metadata": {
    "scrolled": false
   },
   "outputs": [
    {
     "name": "stdout",
     "output_type": "stream",
     "text": [
      "Минимальное количество клиентов, которое нужно для достижения уровня значимости: 1161\n"
     ]
    },
    {
     "name": "stderr",
     "output_type": "stream",
     "text": [
      "/opt/conda/lib/python3.9/site-packages/scipy/stats/_discrete_distns.py:78: RuntimeWarning: divide by zero encountered in _binom_pdf\n",
      "  return _boost._binom_pdf(x, n, p)\n"
     ]
    },
    {
     "data": {
      "image/png": "[encoded data removed]",
      "text/plain": [
       "<Figure size 864x432 with 1 Axes>"
      ]
     },
     "metadata": {
      "needs_background": "light"
     },
     "output_type": "display_data"
    }
   ],
   "source": [
    "p = 0.1  # вероятность продления подписки\n",
    "k = 100   # требуемое количество продлений\n",
    "alpha = 0.05  # уровень значимости\n",
    "\n",
    "n = 100  # минимум существующих клиентов\n",
    "while True:\n",
    "    if binom.cdf(k - 1, n, p) < alpha:  # k - 1, ищем меньше 100\n",
    "        break\n",
    "    n += 1\n",
    "\n",
    "print(f\"Минимальное количество клиентов, которое нужно для достижения уровня значимости: {n}\")\n",
    "\n",
    "# создадим данные для распределения\n",
    "x = np.arange(0, n + 1)  # возможные значения\n",
    "pmf = binom.pmf(x, n, p)  # вероятность для каждого значения\n",
    "\n",
    "# построим график распределения\n",
    "plt.figure(figsize=(12, 6))\n",
    "plt.bar(x, pmf, color='lightblue', label='Вероятность продления подписки')\n",
    "plt.axvline(x=k, color='blue', linestyle='-', label='Требуемое количество продлений')\n",
    "plt.title('Распределение вероятностей продления подписок')\n",
    "plt.xlabel('Количество продлений')\n",
    "plt.ylabel('Вероятность')\n",
    "plt.legend()\n",
    "plt.grid()\n",
    "plt.show()"
   ]
  },
  {
   "cell_type": "markdown",
   "id": "b895702a",
   "metadata": {},
   "source": [
    "Минимальное количество промокодов, которое нужно разослать: 1161, чтобы достичь желаемого результата."
   ]
  },
  {
   "cell_type": "markdown",
   "id": "ea4340c1",
   "metadata": {},
   "source": [
    "#### Вывод:"
   ]
  },
  {
   "cell_type": "markdown",
   "id": "913979a2",
   "metadata": {},
   "source": [
    "**Загрузили данные:**\n",
    "\n",
    "users - 1565 записи, пропуски отсутствуют, количество явных дубликатов 31.\n",
    "\n",
    "users_go - 18068 записи, пропуски отсутствуют, явных дубликатов нет.\n",
    "\n",
    "subscriptions_go - 2 записи, пропуски отсутствуют, явных дубликатов нет.\n",
    "\n",
    "\n",
    "**Предобработка данных:**\n",
    "\n",
    "Удалили дубликаты в датафрейме users_go. Привели к единому регистру и удалили пробелы.\n",
    "\n",
    "Привели столбец date к типу datetime64.\n",
    "\n",
    "Округлили distance в метрах до двух знаков после запятой\n",
    "\n",
    "Округлили каждое значение из столбца duration.\n",
    "\n",
    "Создали столбец month с номером месяца из date.\n",
    "\n",
    "**Ислледовательский анализ данных:**\n",
    "\n",
    "Больше всего пользователей в Пятигорске 14.3%, далее в Екатеринбурге 13.3%.\n",
    "\n",
    "Не отстают по количеству пользователей в Ростове 12.9%, Краснодаре 12.6% и Сочи 12.3%.\n",
    "\n",
    "Меньше всего пользователей из Москвы 11%.\n",
    "\n",
    "54.4% предпочитают не покупать подписку, 45.6% покупают ежемесечную подписку.\n",
    "\n",
    "Средний возраст пользователей услуги с медианой в 25 лет. Так же отметим, что в возрасте от 22 до 28 лет больше всего предпочитают пользоваться услугой.\n",
    "\n",
    "На графиках видно, что большинство поездок варьируется в пределах от 2500м до 3700м.\n",
    "В среднем пользователь проезжает 3070м, по медиане они почти идентичны - 3133м.\n",
    "\n",
    "Продолжительность поездок чаще всего, в среднем, занимает от 16 до 21мин. Самая долгая поездка была 41мин.\n",
    "\n",
    "**Объединение данных (объединили данные о пользователях, поездках и подписках в один датафрейм):**\n",
    "\n",
    "В зависимости от расстояния поездки: оба тарифа почти равны, по медианному значению free - 3114м, ultra - 3148м.\n",
    "\n",
    "В зависимости от времени поездки: поездки от 13м до 22м чаще совершаются по бесплатному тарифу, по платному тарифу пользователь предпочитает ездить как на более длинные расстояния от 2.9км до 3.4км, так и на короткие от 500м до 1.5км\n",
    "\n",
    "Видим пик около 0 - в основном были совершаны по бесплатному тарифу, возможно это сбой в программе или данные поездки были зарегистрированы и сразу отменены. \n",
    "\n",
    "Отметим, что пользователи по бесплатному тарифу, чаще, чем платному тарифу, совершают поездки на короткие расстояния до 1км.\n",
    "\n",
    "\n",
    "**Подсчет выручки:**\n",
    "\n",
    "Выручка за 2021г. составила: 3 878 641.0 руб.\n",
    "\n",
    "**Проверка гипотез**\n",
    "\n",
    "Пользователи с подпиской являются более выгодными для компании, так как они проводят больше времени в поездках. \n",
    "\n",
    "Пользователи с подпиской, в среднем, не ездят дальше 3130 метров за одну поездку.\n",
    "\n",
    "Пользователи с ежемесячной подпиской более активно используют сервис, так как медианное значение выше, что, в свою очередь, способствует увеличению выручки компании.\n",
    "\n",
    "Данные результаты могут быть использованы для дальнейшей оптимизации услуг существующих клиентов с подпиской. \n"
   ]
  },
  {
   "cell_type": "code",
   "execution_count": null,
   "id": "4f1fe0b8",
   "metadata": {},
   "outputs": [],
   "source": []
  }
 ],
 "metadata": {
  "ExecuteTimeLog": [
   {
    "duration": 1459,
    "start_time": "2024-10-14T16:48:38.797Z"
   },
   {
    "duration": 279,
    "start_time": "2024-10-14T16:49:10.256Z"
   },
   {
    "duration": 23,
    "start_time": "2024-10-14T16:50:03.222Z"
   },
   {
    "duration": 23,
    "start_time": "2024-10-14T16:50:26.107Z"
   },
   {
    "duration": 69,
    "start_time": "2024-10-14T16:50:30.474Z"
   },
   {
    "duration": 25,
    "start_time": "2024-10-14T16:50:31.268Z"
   },
   {
    "duration": 28,
    "start_time": "2024-10-14T16:52:30.564Z"
   },
   {
    "duration": 70,
    "start_time": "2024-10-14T17:13:01.573Z"
   },
   {
    "duration": 38,
    "start_time": "2024-10-14T17:13:02.250Z"
   },
   {
    "duration": 13,
    "start_time": "2024-10-14T17:13:53.371Z"
   },
   {
    "duration": 7,
    "start_time": "2024-10-14T17:14:18.751Z"
   },
   {
    "duration": 8,
    "start_time": "2024-10-14T17:14:19.913Z"
   },
   {
    "duration": 7,
    "start_time": "2024-10-14T17:14:20.631Z"
   },
   {
    "duration": 10,
    "start_time": "2024-10-14T17:15:02.150Z"
   },
   {
    "duration": 12,
    "start_time": "2024-10-14T17:15:16.619Z"
   },
   {
    "duration": 8,
    "start_time": "2024-10-14T17:15:38.242Z"
   },
   {
    "duration": 9,
    "start_time": "2024-10-14T17:15:39.871Z"
   },
   {
    "duration": 11,
    "start_time": "2024-10-14T17:15:40.690Z"
   },
   {
    "duration": 7,
    "start_time": "2024-10-14T17:15:43.697Z"
   },
   {
    "duration": 3,
    "start_time": "2024-10-14T17:16:14.684Z"
   },
   {
    "duration": 105,
    "start_time": "2024-10-14T17:28:42.524Z"
   },
   {
    "duration": 7,
    "start_time": "2024-10-14T17:28:47.472Z"
   },
   {
    "duration": 9,
    "start_time": "2024-10-14T17:29:09.698Z"
   },
   {
    "duration": 6,
    "start_time": "2024-10-14T17:29:28.077Z"
   },
   {
    "duration": 12,
    "start_time": "2024-10-14T17:29:29.508Z"
   },
   {
    "duration": 6,
    "start_time": "2024-10-14T17:29:37.546Z"
   },
   {
    "duration": 9,
    "start_time": "2024-10-14T17:29:56.781Z"
   },
   {
    "duration": 5,
    "start_time": "2024-10-14T17:29:57.377Z"
   },
   {
    "duration": 17,
    "start_time": "2024-10-14T17:42:42.479Z"
   },
   {
    "duration": 8,
    "start_time": "2024-10-14T17:42:58.474Z"
   },
   {
    "duration": 19,
    "start_time": "2024-10-14T17:43:15.087Z"
   },
   {
    "duration": 6,
    "start_time": "2024-10-14T17:43:24.230Z"
   },
   {
    "duration": 9,
    "start_time": "2024-10-14T17:43:24.756Z"
   },
   {
    "duration": 5,
    "start_time": "2024-10-14T17:43:25.263Z"
   },
   {
    "duration": 2,
    "start_time": "2024-10-14T17:49:32.910Z"
   },
   {
    "duration": 6,
    "start_time": "2024-10-14T17:51:34.597Z"
   },
   {
    "duration": 9,
    "start_time": "2024-10-14T17:51:35.091Z"
   },
   {
    "duration": 6,
    "start_time": "2024-10-14T17:51:35.643Z"
   },
   {
    "duration": 9,
    "start_time": "2024-10-14T17:51:37.864Z"
   },
   {
    "duration": 7,
    "start_time": "2024-10-14T17:51:41.684Z"
   },
   {
    "duration": 11,
    "start_time": "2024-10-14T17:51:51.095Z"
   },
   {
    "duration": 13,
    "start_time": "2024-10-14T17:52:36.196Z"
   },
   {
    "duration": 22,
    "start_time": "2024-10-14T17:55:14.117Z"
   },
   {
    "duration": 25,
    "start_time": "2024-10-14T17:55:32.133Z"
   },
   {
    "duration": 12,
    "start_time": "2024-10-14T17:57:48.515Z"
   },
   {
    "duration": 26,
    "start_time": "2024-10-14T18:02:09.507Z"
   },
   {
    "duration": 25,
    "start_time": "2024-10-14T18:02:21.017Z"
   },
   {
    "duration": 258,
    "start_time": "2024-10-14T19:00:53.440Z"
   },
   {
    "duration": 223,
    "start_time": "2024-10-14T19:01:36.262Z"
   },
   {
    "duration": 18,
    "start_time": "2024-10-14T19:01:41.228Z"
   },
   {
    "duration": 14,
    "start_time": "2024-10-14T19:01:53.612Z"
   },
   {
    "duration": 180,
    "start_time": "2024-10-14T19:09:00.113Z"
   },
   {
    "duration": 210,
    "start_time": "2024-10-14T19:09:07.626Z"
   },
   {
    "duration": 291,
    "start_time": "2024-10-14T19:09:15.258Z"
   },
   {
    "duration": 13,
    "start_time": "2024-10-14T19:09:26.123Z"
   },
   {
    "duration": 215,
    "start_time": "2024-10-14T19:11:19.820Z"
   },
   {
    "duration": 193,
    "start_time": "2024-10-14T19:11:28.827Z"
   },
   {
    "duration": 194,
    "start_time": "2024-10-14T19:11:36.899Z"
   },
   {
    "duration": 175,
    "start_time": "2024-10-14T19:11:46.131Z"
   },
   {
    "duration": 182,
    "start_time": "2024-10-14T19:11:56.096Z"
   },
   {
    "duration": 355,
    "start_time": "2024-10-14T19:20:35.980Z"
   },
   {
    "duration": 393,
    "start_time": "2024-10-14T19:20:43.511Z"
   },
   {
    "duration": 11,
    "start_time": "2024-10-14T19:26:59.630Z"
   },
   {
    "duration": 1391,
    "start_time": "2024-10-15T15:54:56.681Z"
   },
   {
    "duration": 291,
    "start_time": "2024-10-15T15:54:58.074Z"
   },
   {
    "duration": 31,
    "start_time": "2024-10-15T15:54:58.367Z"
   },
   {
    "duration": 10,
    "start_time": "2024-10-15T15:54:58.401Z"
   },
   {
    "duration": 14,
    "start_time": "2024-10-15T15:54:58.412Z"
   },
   {
    "duration": 7,
    "start_time": "2024-10-15T15:54:58.428Z"
   },
   {
    "duration": 27,
    "start_time": "2024-10-15T15:54:58.436Z"
   },
   {
    "duration": 8,
    "start_time": "2024-10-15T15:54:58.465Z"
   },
   {
    "duration": 11,
    "start_time": "2024-10-15T15:54:58.475Z"
   },
   {
    "duration": 15,
    "start_time": "2024-10-15T15:54:58.488Z"
   },
   {
    "duration": 11,
    "start_time": "2024-10-15T15:54:58.505Z"
   },
   {
    "duration": 6,
    "start_time": "2024-10-15T15:54:58.517Z"
   },
   {
    "duration": 40,
    "start_time": "2024-10-15T15:54:58.525Z"
   },
   {
    "duration": 23,
    "start_time": "2024-10-15T15:54:58.567Z"
   },
   {
    "duration": 265,
    "start_time": "2024-10-15T15:54:58.592Z"
   },
   {
    "duration": 12,
    "start_time": "2024-10-15T15:54:58.859Z"
   },
   {
    "duration": 190,
    "start_time": "2024-10-15T15:54:58.873Z"
   },
   {
    "duration": 327,
    "start_time": "2024-10-15T15:54:59.064Z"
   },
   {
    "duration": 9,
    "start_time": "2024-10-15T15:54:59.393Z"
   },
   {
    "duration": 7,
    "start_time": "2024-10-15T15:55:58.325Z"
   },
   {
    "duration": 5,
    "start_time": "2024-10-15T16:06:33.178Z"
   },
   {
    "duration": 81,
    "start_time": "2024-10-15T16:08:40.324Z"
   },
   {
    "duration": 64,
    "start_time": "2024-10-15T16:08:47.871Z"
   },
   {
    "duration": 85,
    "start_time": "2024-10-15T16:08:59.932Z"
   },
   {
    "duration": 1207,
    "start_time": "2024-10-15T16:09:08.767Z"
   },
   {
    "duration": 72,
    "start_time": "2024-10-15T16:09:09.976Z"
   },
   {
    "duration": 28,
    "start_time": "2024-10-15T16:09:10.049Z"
   },
   {
    "duration": 7,
    "start_time": "2024-10-15T16:09:10.078Z"
   },
   {
    "duration": 14,
    "start_time": "2024-10-15T16:09:10.087Z"
   },
   {
    "duration": 6,
    "start_time": "2024-10-15T16:09:10.102Z"
   },
   {
    "duration": 14,
    "start_time": "2024-10-15T16:09:10.110Z"
   },
   {
    "duration": 30,
    "start_time": "2024-10-15T16:09:10.125Z"
   },
   {
    "duration": 8,
    "start_time": "2024-10-15T16:09:10.156Z"
   },
   {
    "duration": 8,
    "start_time": "2024-10-15T16:09:10.166Z"
   },
   {
    "duration": 11,
    "start_time": "2024-10-15T16:09:10.176Z"
   },
   {
    "duration": 6,
    "start_time": "2024-10-15T16:09:10.189Z"
   },
   {
    "duration": 19,
    "start_time": "2024-10-15T16:09:10.196Z"
   },
   {
    "duration": 49,
    "start_time": "2024-10-15T16:09:10.217Z"
   },
   {
    "duration": 233,
    "start_time": "2024-10-15T16:09:10.267Z"
   },
   {
    "duration": 60,
    "start_time": "2024-10-15T16:09:10.501Z"
   },
   {
    "duration": 0,
    "start_time": "2024-10-15T16:09:10.562Z"
   },
   {
    "duration": 0,
    "start_time": "2024-10-15T16:09:10.563Z"
   },
   {
    "duration": 0,
    "start_time": "2024-10-15T16:09:10.564Z"
   },
   {
    "duration": 0,
    "start_time": "2024-10-15T16:09:10.566Z"
   },
   {
    "duration": 13,
    "start_time": "2024-10-15T16:09:53.132Z"
   },
   {
    "duration": 167,
    "start_time": "2024-10-15T16:11:08.411Z"
   },
   {
    "duration": 5,
    "start_time": "2024-10-15T16:11:31.475Z"
   },
   {
    "duration": 360,
    "start_time": "2024-10-15T16:11:32.280Z"
   },
   {
    "duration": 329,
    "start_time": "2024-10-15T16:12:09.358Z"
   },
   {
    "duration": 336,
    "start_time": "2024-10-15T16:12:23.265Z"
   },
   {
    "duration": 5,
    "start_time": "2024-10-15T16:12:32.048Z"
   },
   {
    "duration": 8,
    "start_time": "2024-10-15T16:12:48.939Z"
   },
   {
    "duration": 9,
    "start_time": "2024-10-15T16:13:03.329Z"
   },
   {
    "duration": 901,
    "start_time": "2024-10-15T16:52:16.139Z"
   },
   {
    "duration": 967,
    "start_time": "2024-10-15T16:52:34.021Z"
   },
   {
    "duration": 893,
    "start_time": "2024-10-15T16:52:47.712Z"
   },
   {
    "duration": 987,
    "start_time": "2024-10-15T16:53:03.751Z"
   },
   {
    "duration": 879,
    "start_time": "2024-10-15T16:53:11.969Z"
   },
   {
    "duration": 1237,
    "start_time": "2024-10-15T16:56:35.103Z"
   },
   {
    "duration": 76,
    "start_time": "2024-10-15T16:56:36.341Z"
   },
   {
    "duration": 32,
    "start_time": "2024-10-15T16:56:36.419Z"
   },
   {
    "duration": 37,
    "start_time": "2024-10-15T16:56:36.452Z"
   },
   {
    "duration": 95,
    "start_time": "2024-10-15T16:56:36.493Z"
   },
   {
    "duration": 17,
    "start_time": "2024-10-15T16:56:36.590Z"
   },
   {
    "duration": 10,
    "start_time": "2024-10-15T16:56:36.609Z"
   },
   {
    "duration": 42,
    "start_time": "2024-10-15T16:56:36.621Z"
   },
   {
    "duration": 15,
    "start_time": "2024-10-15T16:56:36.664Z"
   },
   {
    "duration": 29,
    "start_time": "2024-10-15T16:56:36.680Z"
   },
   {
    "duration": 14,
    "start_time": "2024-10-15T16:56:36.711Z"
   },
   {
    "duration": 11,
    "start_time": "2024-10-15T16:56:36.727Z"
   },
   {
    "duration": 36,
    "start_time": "2024-10-15T16:56:36.741Z"
   },
   {
    "duration": 19,
    "start_time": "2024-10-15T16:56:36.780Z"
   },
   {
    "duration": 367,
    "start_time": "2024-10-15T16:56:36.802Z"
   },
   {
    "duration": 24,
    "start_time": "2024-10-15T16:56:37.171Z"
   },
   {
    "duration": 234,
    "start_time": "2024-10-15T16:56:37.198Z"
   },
   {
    "duration": 24,
    "start_time": "2024-10-15T16:56:37.434Z"
   },
   {
    "duration": 422,
    "start_time": "2024-10-15T16:56:37.463Z"
   },
   {
    "duration": 13,
    "start_time": "2024-10-15T16:56:37.887Z"
   },
   {
    "duration": 1637,
    "start_time": "2024-10-15T16:56:37.901Z"
   },
   {
    "duration": 56,
    "start_time": "2024-10-15T16:57:12.451Z"
   },
   {
    "duration": 1178,
    "start_time": "2024-10-15T16:57:17.604Z"
   },
   {
    "duration": 86,
    "start_time": "2024-10-15T16:57:18.785Z"
   },
   {
    "duration": 37,
    "start_time": "2024-10-15T16:57:18.877Z"
   },
   {
    "duration": 9,
    "start_time": "2024-10-15T16:57:18.915Z"
   },
   {
    "duration": 9,
    "start_time": "2024-10-15T16:57:18.927Z"
   },
   {
    "duration": 22,
    "start_time": "2024-10-15T16:57:18.937Z"
   },
   {
    "duration": 20,
    "start_time": "2024-10-15T16:57:18.962Z"
   },
   {
    "duration": 12,
    "start_time": "2024-10-15T16:57:18.984Z"
   },
   {
    "duration": 6,
    "start_time": "2024-10-15T16:57:18.998Z"
   },
   {
    "duration": 5,
    "start_time": "2024-10-15T16:57:19.006Z"
   },
   {
    "duration": 7,
    "start_time": "2024-10-15T16:57:19.013Z"
   },
   {
    "duration": 42,
    "start_time": "2024-10-15T16:57:19.022Z"
   },
   {
    "duration": 15,
    "start_time": "2024-10-15T16:57:19.065Z"
   },
   {
    "duration": 18,
    "start_time": "2024-10-15T16:57:19.082Z"
   },
   {
    "duration": 257,
    "start_time": "2024-10-15T16:57:19.101Z"
   },
   {
    "duration": 21,
    "start_time": "2024-10-15T16:57:19.359Z"
   },
   {
    "duration": 196,
    "start_time": "2024-10-15T16:57:19.382Z"
   },
   {
    "duration": 10,
    "start_time": "2024-10-15T16:57:19.581Z"
   },
   {
    "duration": 444,
    "start_time": "2024-10-15T16:57:19.593Z"
   },
   {
    "duration": 22,
    "start_time": "2024-10-15T16:57:20.040Z"
   },
   {
    "duration": 641,
    "start_time": "2024-10-15T16:57:20.064Z"
   },
   {
    "duration": 1245,
    "start_time": "2024-10-15T16:57:45.339Z"
   },
   {
    "duration": 76,
    "start_time": "2024-10-15T16:57:46.586Z"
   },
   {
    "duration": 47,
    "start_time": "2024-10-15T16:57:46.664Z"
   },
   {
    "duration": 9,
    "start_time": "2024-10-15T16:57:46.713Z"
   },
   {
    "duration": 36,
    "start_time": "2024-10-15T16:57:46.724Z"
   },
   {
    "duration": 17,
    "start_time": "2024-10-15T16:57:46.762Z"
   },
   {
    "duration": 11,
    "start_time": "2024-10-15T16:57:46.781Z"
   },
   {
    "duration": 8,
    "start_time": "2024-10-15T16:57:46.794Z"
   },
   {
    "duration": 9,
    "start_time": "2024-10-15T16:57:46.805Z"
   },
   {
    "duration": 8,
    "start_time": "2024-10-15T16:57:46.816Z"
   },
   {
    "duration": 14,
    "start_time": "2024-10-15T16:57:46.859Z"
   },
   {
    "duration": 6,
    "start_time": "2024-10-15T16:57:46.876Z"
   },
   {
    "duration": 12,
    "start_time": "2024-10-15T16:57:46.885Z"
   },
   {
    "duration": 18,
    "start_time": "2024-10-15T16:57:46.900Z"
   },
   {
    "duration": 275,
    "start_time": "2024-10-15T16:57:46.920Z"
   },
   {
    "duration": 12,
    "start_time": "2024-10-15T16:57:47.197Z"
   },
   {
    "duration": 223,
    "start_time": "2024-10-15T16:57:47.210Z"
   },
   {
    "duration": 8,
    "start_time": "2024-10-15T16:57:47.435Z"
   },
   {
    "duration": 429,
    "start_time": "2024-10-15T16:57:47.453Z"
   },
   {
    "duration": 10,
    "start_time": "2024-10-15T16:57:47.883Z"
   },
   {
    "duration": 1194,
    "start_time": "2024-10-15T16:57:47.895Z"
   },
   {
    "duration": 1278,
    "start_time": "2024-10-15T16:58:37.129Z"
   },
   {
    "duration": 78,
    "start_time": "2024-10-15T16:58:38.409Z"
   },
   {
    "duration": 30,
    "start_time": "2024-10-15T16:58:38.489Z"
   },
   {
    "duration": 8,
    "start_time": "2024-10-15T16:58:38.520Z"
   },
   {
    "duration": 33,
    "start_time": "2024-10-15T16:58:38.531Z"
   },
   {
    "duration": 38,
    "start_time": "2024-10-15T16:58:38.565Z"
   },
   {
    "duration": 17,
    "start_time": "2024-10-15T16:58:38.604Z"
   },
   {
    "duration": 10,
    "start_time": "2024-10-15T16:58:38.623Z"
   },
   {
    "duration": 13,
    "start_time": "2024-10-15T16:58:38.634Z"
   },
   {
    "duration": 7,
    "start_time": "2024-10-15T16:58:38.649Z"
   },
   {
    "duration": 32,
    "start_time": "2024-10-15T16:58:38.658Z"
   },
   {
    "duration": 11,
    "start_time": "2024-10-15T16:58:38.692Z"
   },
   {
    "duration": 12,
    "start_time": "2024-10-15T16:58:38.704Z"
   },
   {
    "duration": 20,
    "start_time": "2024-10-15T16:58:38.719Z"
   },
   {
    "duration": 262,
    "start_time": "2024-10-15T16:58:38.741Z"
   },
   {
    "duration": 15,
    "start_time": "2024-10-15T16:58:39.006Z"
   },
   {
    "duration": 235,
    "start_time": "2024-10-15T16:58:39.023Z"
   },
   {
    "duration": 16,
    "start_time": "2024-10-15T16:58:39.262Z"
   },
   {
    "duration": 362,
    "start_time": "2024-10-15T16:58:39.281Z"
   },
   {
    "duration": 21,
    "start_time": "2024-10-15T16:58:39.645Z"
   },
   {
    "duration": 866,
    "start_time": "2024-10-15T16:58:39.668Z"
   },
   {
    "duration": 1278,
    "start_time": "2024-10-15T17:00:05.236Z"
   },
   {
    "duration": 82,
    "start_time": "2024-10-15T17:00:06.516Z"
   },
   {
    "duration": 42,
    "start_time": "2024-10-15T17:00:06.600Z"
   },
   {
    "duration": 10,
    "start_time": "2024-10-15T17:00:06.644Z"
   },
   {
    "duration": 15,
    "start_time": "2024-10-15T17:00:06.656Z"
   },
   {
    "duration": 27,
    "start_time": "2024-10-15T17:00:06.673Z"
   },
   {
    "duration": 23,
    "start_time": "2024-10-15T17:00:06.701Z"
   },
   {
    "duration": 17,
    "start_time": "2024-10-15T17:00:06.726Z"
   },
   {
    "duration": 37,
    "start_time": "2024-10-15T17:00:06.745Z"
   },
   {
    "duration": 27,
    "start_time": "2024-10-15T17:00:06.784Z"
   },
   {
    "duration": 12,
    "start_time": "2024-10-15T17:00:06.813Z"
   },
   {
    "duration": 16,
    "start_time": "2024-10-15T17:00:06.827Z"
   },
   {
    "duration": 16,
    "start_time": "2024-10-15T17:00:06.845Z"
   },
   {
    "duration": 41,
    "start_time": "2024-10-15T17:00:06.864Z"
   },
   {
    "duration": 274,
    "start_time": "2024-10-15T17:00:06.908Z"
   },
   {
    "duration": 17,
    "start_time": "2024-10-15T17:00:07.183Z"
   },
   {
    "duration": 262,
    "start_time": "2024-10-15T17:00:07.202Z"
   },
   {
    "duration": 10,
    "start_time": "2024-10-15T17:00:07.466Z"
   },
   {
    "duration": 385,
    "start_time": "2024-10-15T17:00:07.478Z"
   },
   {
    "duration": 12,
    "start_time": "2024-10-15T17:00:07.865Z"
   },
   {
    "duration": 975,
    "start_time": "2024-10-15T17:00:07.880Z"
   },
   {
    "duration": 1150,
    "start_time": "2024-10-15T17:00:57.075Z"
   },
   {
    "duration": 1309,
    "start_time": "2024-10-15T17:01:12.083Z"
   },
   {
    "duration": 1165,
    "start_time": "2024-10-15T17:01:35.527Z"
   },
   {
    "duration": 405,
    "start_time": "2024-10-15T17:01:41.729Z"
   },
   {
    "duration": 430,
    "start_time": "2024-10-15T17:01:58.266Z"
   },
   {
    "duration": 911,
    "start_time": "2024-10-15T17:02:05.952Z"
   },
   {
    "duration": 807,
    "start_time": "2024-10-15T17:02:12.746Z"
   },
   {
    "duration": 582,
    "start_time": "2024-10-15T17:02:17.996Z"
   },
   {
    "duration": 200,
    "start_time": "2024-10-15T17:02:31.545Z"
   },
   {
    "duration": 205,
    "start_time": "2024-10-15T17:03:06.476Z"
   },
   {
    "duration": 572,
    "start_time": "2024-10-15T17:06:08.065Z"
   },
   {
    "duration": 787,
    "start_time": "2024-10-15T17:06:19.940Z"
   },
   {
    "duration": 2908,
    "start_time": "2024-10-15T17:06:33.031Z"
   },
   {
    "duration": 975,
    "start_time": "2024-10-15T17:06:48.859Z"
   },
   {
    "duration": 1610,
    "start_time": "2024-10-15T17:07:45.888Z"
   },
   {
    "duration": 297,
    "start_time": "2024-10-15T17:08:02.490Z"
   },
   {
    "duration": 1002,
    "start_time": "2024-10-15T17:08:17.763Z"
   },
   {
    "duration": 810,
    "start_time": "2024-10-15T17:10:38.894Z"
   },
   {
    "duration": 312,
    "start_time": "2024-10-15T17:10:50.562Z"
   },
   {
    "duration": 9,
    "start_time": "2024-10-15T17:12:49.380Z"
   },
   {
    "duration": 215,
    "start_time": "2024-10-15T17:13:07.483Z"
   },
   {
    "duration": 580,
    "start_time": "2024-10-15T17:15:05.408Z"
   },
   {
    "duration": 158,
    "start_time": "2024-10-15T17:15:16.582Z"
   },
   {
    "duration": 276,
    "start_time": "2024-10-15T17:15:21.987Z"
   },
   {
    "duration": 246,
    "start_time": "2024-10-15T17:17:33.113Z"
   },
   {
    "duration": 212,
    "start_time": "2024-10-15T17:17:50.593Z"
   },
   {
    "duration": 326,
    "start_time": "2024-10-15T17:18:03.222Z"
   },
   {
    "duration": 386,
    "start_time": "2024-10-15T17:22:34.614Z"
   },
   {
    "duration": 304,
    "start_time": "2024-10-15T17:25:17.212Z"
   },
   {
    "duration": 226,
    "start_time": "2024-10-15T17:25:22.818Z"
   },
   {
    "duration": 180,
    "start_time": "2024-10-15T17:25:42.148Z"
   },
   {
    "duration": 198,
    "start_time": "2024-10-15T17:25:49.627Z"
   },
   {
    "duration": 227,
    "start_time": "2024-10-15T17:25:58.170Z"
   },
   {
    "duration": 252,
    "start_time": "2024-10-15T17:26:04.171Z"
   },
   {
    "duration": 123,
    "start_time": "2024-10-15T17:28:17.899Z"
   },
   {
    "duration": 18,
    "start_time": "2024-10-15T17:28:24.295Z"
   },
   {
    "duration": 12,
    "start_time": "2024-10-15T17:28:36.902Z"
   },
   {
    "duration": 17,
    "start_time": "2024-10-15T17:30:11.847Z"
   },
   {
    "duration": 12,
    "start_time": "2024-10-15T17:30:27.583Z"
   },
   {
    "duration": 15,
    "start_time": "2024-10-15T17:30:39.744Z"
   },
   {
    "duration": 16,
    "start_time": "2024-10-15T17:31:10.820Z"
   },
   {
    "duration": 356,
    "start_time": "2024-10-15T17:35:52.636Z"
   },
   {
    "duration": 534,
    "start_time": "2024-10-15T17:36:23.234Z"
   },
   {
    "duration": 425,
    "start_time": "2024-10-15T17:37:22.223Z"
   },
   {
    "duration": 277,
    "start_time": "2024-10-15T17:38:19.267Z"
   },
   {
    "duration": 306,
    "start_time": "2024-10-15T17:38:32.796Z"
   },
   {
    "duration": 9,
    "start_time": "2024-10-15T17:39:27.205Z"
   },
   {
    "duration": 16,
    "start_time": "2024-10-15T17:39:28.363Z"
   },
   {
    "duration": 8,
    "start_time": "2024-10-15T17:40:20.212Z"
   },
   {
    "duration": 9,
    "start_time": "2024-10-15T17:40:22.010Z"
   },
   {
    "duration": 344,
    "start_time": "2024-10-15T17:40:34.130Z"
   },
   {
    "duration": 566,
    "start_time": "2024-10-15T17:41:06.114Z"
   },
   {
    "duration": 907,
    "start_time": "2024-10-15T17:41:39.063Z"
   },
   {
    "duration": 497,
    "start_time": "2024-10-15T17:41:46.929Z"
   },
   {
    "duration": 926,
    "start_time": "2024-10-15T17:41:52.888Z"
   },
   {
    "duration": 464,
    "start_time": "2024-10-15T17:42:09.983Z"
   },
   {
    "duration": 282,
    "start_time": "2024-10-15T18:19:19.250Z"
   },
   {
    "duration": 303,
    "start_time": "2024-10-15T18:19:44.582Z"
   },
   {
    "duration": 264,
    "start_time": "2024-10-15T18:19:50.284Z"
   },
   {
    "duration": 12,
    "start_time": "2024-10-15T18:33:36.190Z"
   },
   {
    "duration": 28,
    "start_time": "2024-10-15T18:33:48.985Z"
   },
   {
    "duration": 13,
    "start_time": "2024-10-15T18:33:50.770Z"
   },
   {
    "duration": 14,
    "start_time": "2024-10-15T18:34:28.716Z"
   },
   {
    "duration": 17,
    "start_time": "2024-10-15T18:34:38.659Z"
   },
   {
    "duration": 18,
    "start_time": "2024-10-15T18:34:39.521Z"
   },
   {
    "duration": 18,
    "start_time": "2024-10-15T18:34:40.677Z"
   },
   {
    "duration": 12,
    "start_time": "2024-10-15T18:34:59.179Z"
   },
   {
    "duration": 17,
    "start_time": "2024-10-15T18:35:02.279Z"
   },
   {
    "duration": 1331,
    "start_time": "2024-10-15T18:35:06.973Z"
   },
   {
    "duration": 77,
    "start_time": "2024-10-15T18:35:08.306Z"
   },
   {
    "duration": 34,
    "start_time": "2024-10-15T18:35:08.384Z"
   },
   {
    "duration": 9,
    "start_time": "2024-10-15T18:35:08.420Z"
   },
   {
    "duration": 23,
    "start_time": "2024-10-15T18:35:08.431Z"
   },
   {
    "duration": 10,
    "start_time": "2024-10-15T18:35:08.457Z"
   },
   {
    "duration": 18,
    "start_time": "2024-10-15T18:35:08.469Z"
   },
   {
    "duration": 8,
    "start_time": "2024-10-15T18:35:08.489Z"
   },
   {
    "duration": 6,
    "start_time": "2024-10-15T18:35:08.499Z"
   },
   {
    "duration": 6,
    "start_time": "2024-10-15T18:35:08.508Z"
   },
   {
    "duration": 54,
    "start_time": "2024-10-15T18:35:08.516Z"
   },
   {
    "duration": 4,
    "start_time": "2024-10-15T18:35:08.572Z"
   },
   {
    "duration": 18,
    "start_time": "2024-10-15T18:35:08.578Z"
   },
   {
    "duration": 27,
    "start_time": "2024-10-15T18:35:08.599Z"
   },
   {
    "duration": 293,
    "start_time": "2024-10-15T18:35:08.628Z"
   },
   {
    "duration": 14,
    "start_time": "2024-10-15T18:35:08.923Z"
   },
   {
    "duration": 226,
    "start_time": "2024-10-15T18:35:08.939Z"
   },
   {
    "duration": 11,
    "start_time": "2024-10-15T18:35:09.167Z"
   },
   {
    "duration": 404,
    "start_time": "2024-10-15T18:35:09.180Z"
   },
   {
    "duration": 9,
    "start_time": "2024-10-15T18:35:09.586Z"
   },
   {
    "duration": 287,
    "start_time": "2024-10-15T18:35:09.597Z"
   },
   {
    "duration": 9,
    "start_time": "2024-10-15T18:35:09.885Z"
   },
   {
    "duration": 219,
    "start_time": "2024-10-15T18:35:09.895Z"
   },
   {
    "duration": 16,
    "start_time": "2024-10-15T18:35:10.115Z"
   },
   {
    "duration": 38,
    "start_time": "2024-10-15T18:35:10.133Z"
   },
   {
    "duration": 15,
    "start_time": "2024-10-15T18:35:10.173Z"
   },
   {
    "duration": 17,
    "start_time": "2024-10-15T18:35:10.190Z"
   },
   {
    "duration": 13,
    "start_time": "2024-10-15T18:35:10.211Z"
   },
   {
    "duration": 38,
    "start_time": "2024-10-15T18:35:10.226Z"
   },
   {
    "duration": 16,
    "start_time": "2024-10-15T18:35:10.267Z"
   },
   {
    "duration": 11,
    "start_time": "2024-10-15T18:35:10.284Z"
   },
   {
    "duration": 431,
    "start_time": "2024-10-15T18:35:10.297Z"
   },
   {
    "duration": 11,
    "start_time": "2024-10-15T18:35:10.730Z"
   },
   {
    "duration": 61,
    "start_time": "2024-10-15T18:35:10.759Z"
   },
   {
    "duration": 307,
    "start_time": "2024-10-15T18:35:10.822Z"
   },
   {
    "duration": 17,
    "start_time": "2024-10-15T18:35:43.074Z"
   },
   {
    "duration": 13,
    "start_time": "2024-10-15T18:35:43.715Z"
   },
   {
    "duration": 24,
    "start_time": "2024-10-15T18:35:45.026Z"
   },
   {
    "duration": 24,
    "start_time": "2024-10-15T18:35:53.201Z"
   },
   {
    "duration": 21,
    "start_time": "2024-10-15T18:36:06.060Z"
   },
   {
    "duration": 28,
    "start_time": "2024-10-15T18:36:13.321Z"
   },
   {
    "duration": 17,
    "start_time": "2024-10-15T18:36:18.653Z"
   },
   {
    "duration": 13,
    "start_time": "2024-10-15T18:36:23.332Z"
   },
   {
    "duration": 16,
    "start_time": "2024-10-15T18:36:26.083Z"
   },
   {
    "duration": 17,
    "start_time": "2024-10-15T18:36:29.263Z"
   },
   {
    "duration": 12,
    "start_time": "2024-10-15T18:36:30.195Z"
   },
   {
    "duration": 20,
    "start_time": "2024-10-15T18:36:31.484Z"
   },
   {
    "duration": 9,
    "start_time": "2024-10-15T18:36:34.042Z"
   },
   {
    "duration": 9,
    "start_time": "2024-10-15T18:36:35.239Z"
   },
   {
    "duration": 324,
    "start_time": "2024-10-15T18:36:36.212Z"
   },
   {
    "duration": 9,
    "start_time": "2024-10-15T18:36:37.800Z"
   },
   {
    "duration": 9,
    "start_time": "2024-10-15T18:36:39.224Z"
   },
   {
    "duration": 290,
    "start_time": "2024-10-15T18:37:01.463Z"
   },
   {
    "duration": 1268,
    "start_time": "2024-10-15T18:37:07.442Z"
   },
   {
    "duration": 94,
    "start_time": "2024-10-15T18:37:08.712Z"
   },
   {
    "duration": 53,
    "start_time": "2024-10-15T18:37:08.808Z"
   },
   {
    "duration": 14,
    "start_time": "2024-10-15T18:37:08.864Z"
   },
   {
    "duration": 19,
    "start_time": "2024-10-15T18:37:08.880Z"
   },
   {
    "duration": 7,
    "start_time": "2024-10-15T18:37:08.901Z"
   },
   {
    "duration": 13,
    "start_time": "2024-10-15T18:37:08.910Z"
   },
   {
    "duration": 9,
    "start_time": "2024-10-15T18:37:08.924Z"
   },
   {
    "duration": 21,
    "start_time": "2024-10-15T18:37:08.952Z"
   },
   {
    "duration": 11,
    "start_time": "2024-10-15T18:37:08.978Z"
   },
   {
    "duration": 11,
    "start_time": "2024-10-15T18:37:08.991Z"
   },
   {
    "duration": 5,
    "start_time": "2024-10-15T18:37:09.004Z"
   },
   {
    "duration": 30,
    "start_time": "2024-10-15T18:37:09.011Z"
   },
   {
    "duration": 39,
    "start_time": "2024-10-15T18:37:09.043Z"
   },
   {
    "duration": 256,
    "start_time": "2024-10-15T18:37:09.084Z"
   },
   {
    "duration": 34,
    "start_time": "2024-10-15T18:37:09.342Z"
   },
   {
    "duration": 202,
    "start_time": "2024-10-15T18:37:09.379Z"
   },
   {
    "duration": 9,
    "start_time": "2024-10-15T18:37:09.583Z"
   },
   {
    "duration": 403,
    "start_time": "2024-10-15T18:37:09.594Z"
   },
   {
    "duration": 11,
    "start_time": "2024-10-15T18:37:09.999Z"
   },
   {
    "duration": 334,
    "start_time": "2024-10-15T18:37:10.011Z"
   },
   {
    "duration": 22,
    "start_time": "2024-10-15T18:37:10.347Z"
   },
   {
    "duration": 202,
    "start_time": "2024-10-15T18:37:10.370Z"
   },
   {
    "duration": 16,
    "start_time": "2024-10-15T18:37:10.573Z"
   },
   {
    "duration": 12,
    "start_time": "2024-10-15T18:37:10.590Z"
   },
   {
    "duration": 13,
    "start_time": "2024-10-15T18:37:10.604Z"
   },
   {
    "duration": 44,
    "start_time": "2024-10-15T18:37:10.619Z"
   },
   {
    "duration": 17,
    "start_time": "2024-10-15T18:37:10.673Z"
   },
   {
    "duration": 65,
    "start_time": "2024-10-15T18:37:10.691Z"
   },
   {
    "duration": 82,
    "start_time": "2024-10-15T18:37:10.757Z"
   },
   {
    "duration": 8,
    "start_time": "2024-10-15T18:37:10.841Z"
   },
   {
    "duration": 416,
    "start_time": "2024-10-15T18:37:10.851Z"
   },
   {
    "duration": 13,
    "start_time": "2024-10-15T18:37:11.269Z"
   },
   {
    "duration": 12,
    "start_time": "2024-10-15T18:37:11.288Z"
   },
   {
    "duration": 402,
    "start_time": "2024-10-15T18:37:11.302Z"
   },
   {
    "duration": 63,
    "start_time": "2024-10-15T18:53:41.303Z"
   },
   {
    "duration": 80,
    "start_time": "2024-10-15T18:54:03.896Z"
   },
   {
    "duration": 434,
    "start_time": "2024-10-15T18:57:34.999Z"
   },
   {
    "duration": 28,
    "start_time": "2024-10-15T18:57:45.407Z"
   },
   {
    "duration": 33,
    "start_time": "2024-10-15T18:58:11.352Z"
   },
   {
    "duration": 92,
    "start_time": "2024-10-15T18:59:06.975Z"
   },
   {
    "duration": 33,
    "start_time": "2024-10-15T18:59:23.139Z"
   },
   {
    "duration": 28,
    "start_time": "2024-10-15T19:00:22.719Z"
   },
   {
    "duration": 1227,
    "start_time": "2024-10-15T19:00:39.648Z"
   },
   {
    "duration": 85,
    "start_time": "2024-10-15T19:00:40.877Z"
   },
   {
    "duration": 36,
    "start_time": "2024-10-15T19:00:40.964Z"
   },
   {
    "duration": 9,
    "start_time": "2024-10-15T19:00:41.003Z"
   },
   {
    "duration": 7,
    "start_time": "2024-10-15T19:00:41.014Z"
   },
   {
    "duration": 37,
    "start_time": "2024-10-15T19:00:41.023Z"
   },
   {
    "duration": 29,
    "start_time": "2024-10-15T19:00:41.062Z"
   },
   {
    "duration": 11,
    "start_time": "2024-10-15T19:00:41.093Z"
   },
   {
    "duration": 15,
    "start_time": "2024-10-15T19:00:41.106Z"
   },
   {
    "duration": 14,
    "start_time": "2024-10-15T19:00:41.123Z"
   },
   {
    "duration": 16,
    "start_time": "2024-10-15T19:00:41.138Z"
   },
   {
    "duration": 8,
    "start_time": "2024-10-15T19:00:41.158Z"
   },
   {
    "duration": 18,
    "start_time": "2024-10-15T19:00:41.170Z"
   },
   {
    "duration": 19,
    "start_time": "2024-10-15T19:00:41.189Z"
   },
   {
    "duration": 306,
    "start_time": "2024-10-15T19:00:41.210Z"
   },
   {
    "duration": 16,
    "start_time": "2024-10-15T19:00:41.517Z"
   },
   {
    "duration": 208,
    "start_time": "2024-10-15T19:00:41.536Z"
   },
   {
    "duration": 19,
    "start_time": "2024-10-15T19:00:41.745Z"
   },
   {
    "duration": 356,
    "start_time": "2024-10-15T19:00:41.770Z"
   },
   {
    "duration": 9,
    "start_time": "2024-10-15T19:00:42.127Z"
   },
   {
    "duration": 364,
    "start_time": "2024-10-15T19:00:42.138Z"
   },
   {
    "duration": 10,
    "start_time": "2024-10-15T19:00:42.504Z"
   },
   {
    "duration": 263,
    "start_time": "2024-10-15T19:00:42.516Z"
   },
   {
    "duration": 24,
    "start_time": "2024-10-15T19:00:42.781Z"
   },
   {
    "duration": 18,
    "start_time": "2024-10-15T19:00:42.807Z"
   },
   {
    "duration": 87,
    "start_time": "2024-10-15T19:00:42.827Z"
   },
   {
    "duration": 9,
    "start_time": "2024-10-15T19:00:42.915Z"
   },
   {
    "duration": 11,
    "start_time": "2024-10-15T19:00:42.927Z"
   },
   {
    "duration": 30,
    "start_time": "2024-10-15T19:00:42.940Z"
   },
   {
    "duration": 10,
    "start_time": "2024-10-15T19:00:42.972Z"
   },
   {
    "duration": 13,
    "start_time": "2024-10-15T19:00:42.984Z"
   },
   {
    "duration": 393,
    "start_time": "2024-10-15T19:00:42.999Z"
   },
   {
    "duration": 10,
    "start_time": "2024-10-15T19:00:43.394Z"
   },
   {
    "duration": 7,
    "start_time": "2024-10-15T19:00:43.406Z"
   },
   {
    "duration": 299,
    "start_time": "2024-10-15T19:00:43.415Z"
   },
   {
    "duration": 26,
    "start_time": "2024-10-15T19:00:43.715Z"
   },
   {
    "duration": 57,
    "start_time": "2024-10-15T19:01:08.214Z"
   },
   {
    "duration": 27,
    "start_time": "2024-10-15T19:01:27.400Z"
   },
   {
    "duration": 42,
    "start_time": "2024-10-15T19:15:22.226Z"
   },
   {
    "duration": 27,
    "start_time": "2024-10-15T19:15:33.798Z"
   },
   {
    "duration": 38,
    "start_time": "2024-10-15T19:17:17.438Z"
   },
   {
    "duration": 48,
    "start_time": "2024-10-15T19:17:24.351Z"
   },
   {
    "duration": 37,
    "start_time": "2024-10-15T19:17:28.371Z"
   },
   {
    "duration": 1236,
    "start_time": "2024-10-15T19:17:43.434Z"
   },
   {
    "duration": 72,
    "start_time": "2024-10-15T19:17:44.676Z"
   },
   {
    "duration": 54,
    "start_time": "2024-10-15T19:17:44.751Z"
   },
   {
    "duration": 11,
    "start_time": "2024-10-15T19:17:44.808Z"
   },
   {
    "duration": 17,
    "start_time": "2024-10-15T19:17:44.821Z"
   },
   {
    "duration": 10,
    "start_time": "2024-10-15T19:17:44.860Z"
   },
   {
    "duration": 71,
    "start_time": "2024-10-15T19:17:44.871Z"
   },
   {
    "duration": 9,
    "start_time": "2024-10-15T19:17:44.944Z"
   },
   {
    "duration": 30,
    "start_time": "2024-10-15T19:17:44.954Z"
   },
   {
    "duration": 10,
    "start_time": "2024-10-15T19:17:44.986Z"
   },
   {
    "duration": 11,
    "start_time": "2024-10-15T19:17:44.997Z"
   },
   {
    "duration": 45,
    "start_time": "2024-10-15T19:17:45.010Z"
   },
   {
    "duration": 73,
    "start_time": "2024-10-15T19:17:45.057Z"
   },
   {
    "duration": 55,
    "start_time": "2024-10-15T19:17:45.132Z"
   },
   {
    "duration": 276,
    "start_time": "2024-10-15T19:17:45.189Z"
   },
   {
    "duration": 18,
    "start_time": "2024-10-15T19:17:45.472Z"
   },
   {
    "duration": 195,
    "start_time": "2024-10-15T19:17:45.492Z"
   },
   {
    "duration": 8,
    "start_time": "2024-10-15T19:17:45.688Z"
   },
   {
    "duration": 367,
    "start_time": "2024-10-15T19:17:45.698Z"
   },
   {
    "duration": 10,
    "start_time": "2024-10-15T19:17:46.072Z"
   },
   {
    "duration": 380,
    "start_time": "2024-10-15T19:17:46.084Z"
   },
   {
    "duration": 13,
    "start_time": "2024-10-15T19:17:46.467Z"
   },
   {
    "duration": 247,
    "start_time": "2024-10-15T19:17:46.482Z"
   },
   {
    "duration": 31,
    "start_time": "2024-10-15T19:17:46.731Z"
   },
   {
    "duration": 16,
    "start_time": "2024-10-15T19:17:46.769Z"
   },
   {
    "duration": 22,
    "start_time": "2024-10-15T19:17:46.787Z"
   },
   {
    "duration": 10,
    "start_time": "2024-10-15T19:17:46.811Z"
   },
   {
    "duration": 14,
    "start_time": "2024-10-15T19:17:46.824Z"
   },
   {
    "duration": 35,
    "start_time": "2024-10-15T19:17:46.839Z"
   },
   {
    "duration": 56,
    "start_time": "2024-10-15T19:17:46.875Z"
   },
   {
    "duration": 8,
    "start_time": "2024-10-15T19:17:46.933Z"
   },
   {
    "duration": 385,
    "start_time": "2024-10-15T19:17:46.943Z"
   },
   {
    "duration": 9,
    "start_time": "2024-10-15T19:17:47.330Z"
   },
   {
    "duration": 28,
    "start_time": "2024-10-15T19:17:47.341Z"
   },
   {
    "duration": 275,
    "start_time": "2024-10-15T19:17:47.371Z"
   },
   {
    "duration": 44,
    "start_time": "2024-10-15T19:17:47.648Z"
   },
   {
    "duration": 46,
    "start_time": "2024-10-15T19:17:56.481Z"
   },
   {
    "duration": 42,
    "start_time": "2024-10-15T19:18:10.734Z"
   },
   {
    "duration": 1418,
    "start_time": "2024-10-16T15:46:33.867Z"
   },
   {
    "duration": 286,
    "start_time": "2024-10-16T15:46:35.287Z"
   },
   {
    "duration": 28,
    "start_time": "2024-10-16T15:46:35.575Z"
   },
   {
    "duration": 9,
    "start_time": "2024-10-16T15:46:35.605Z"
   },
   {
    "duration": 9,
    "start_time": "2024-10-16T15:46:35.617Z"
   },
   {
    "duration": 23,
    "start_time": "2024-10-16T15:46:35.628Z"
   },
   {
    "duration": 13,
    "start_time": "2024-10-16T15:46:35.653Z"
   },
   {
    "duration": 42,
    "start_time": "2024-10-16T15:46:35.667Z"
   },
   {
    "duration": 25,
    "start_time": "2024-10-16T15:46:35.710Z"
   },
   {
    "duration": 146,
    "start_time": "2024-10-16T15:46:35.737Z"
   },
   {
    "duration": 78,
    "start_time": "2024-10-16T15:46:35.885Z"
   },
   {
    "duration": 95,
    "start_time": "2024-10-16T15:46:35.965Z"
   },
   {
    "duration": 16,
    "start_time": "2024-10-16T15:46:36.062Z"
   },
   {
    "duration": 33,
    "start_time": "2024-10-16T15:46:36.081Z"
   },
   {
    "duration": 286,
    "start_time": "2024-10-16T15:46:36.116Z"
   },
   {
    "duration": 17,
    "start_time": "2024-10-16T15:46:36.404Z"
   },
   {
    "duration": 192,
    "start_time": "2024-10-16T15:46:36.423Z"
   },
   {
    "duration": 9,
    "start_time": "2024-10-16T15:46:36.617Z"
   },
   {
    "duration": 358,
    "start_time": "2024-10-16T15:46:36.628Z"
   },
   {
    "duration": 9,
    "start_time": "2024-10-16T15:46:36.987Z"
   },
   {
    "duration": 325,
    "start_time": "2024-10-16T15:46:36.997Z"
   },
   {
    "duration": 10,
    "start_time": "2024-10-16T15:46:37.324Z"
   },
   {
    "duration": 193,
    "start_time": "2024-10-16T15:46:37.343Z"
   },
   {
    "duration": 20,
    "start_time": "2024-10-16T15:46:37.542Z"
   },
   {
    "duration": 11,
    "start_time": "2024-10-16T15:46:37.564Z"
   },
   {
    "duration": 37,
    "start_time": "2024-10-16T15:46:37.576Z"
   },
   {
    "duration": 9,
    "start_time": "2024-10-16T15:46:37.614Z"
   },
   {
    "duration": 21,
    "start_time": "2024-10-16T15:46:37.624Z"
   },
   {
    "duration": 16,
    "start_time": "2024-10-16T15:46:37.647Z"
   },
   {
    "duration": 19,
    "start_time": "2024-10-16T15:46:37.665Z"
   },
   {
    "duration": 8,
    "start_time": "2024-10-16T15:46:37.686Z"
   },
   {
    "duration": 397,
    "start_time": "2024-10-16T15:46:37.696Z"
   },
   {
    "duration": 8,
    "start_time": "2024-10-16T15:46:38.094Z"
   },
   {
    "duration": 51,
    "start_time": "2024-10-16T15:46:38.104Z"
   },
   {
    "duration": 258,
    "start_time": "2024-10-16T15:46:38.157Z"
   },
   {
    "duration": 43,
    "start_time": "2024-10-16T15:46:38.417Z"
   },
   {
    "duration": 2217,
    "start_time": "2024-10-16T15:46:38.462Z"
   },
   {
    "duration": 18,
    "start_time": "2024-10-16T17:12:49.549Z"
   },
   {
    "duration": 4,
    "start_time": "2024-10-16T17:13:02.744Z"
   },
   {
    "duration": 14,
    "start_time": "2024-10-16T17:13:39.516Z"
   },
   {
    "duration": 10,
    "start_time": "2024-10-16T17:14:21.172Z"
   },
   {
    "duration": 1165,
    "start_time": "2024-10-16T17:14:33.199Z"
   },
   {
    "duration": 70,
    "start_time": "2024-10-16T17:14:34.366Z"
   },
   {
    "duration": 35,
    "start_time": "2024-10-16T17:14:34.438Z"
   },
   {
    "duration": 10,
    "start_time": "2024-10-16T17:14:34.475Z"
   },
   {
    "duration": 12,
    "start_time": "2024-10-16T17:14:34.488Z"
   },
   {
    "duration": 7,
    "start_time": "2024-10-16T17:14:34.502Z"
   },
   {
    "duration": 39,
    "start_time": "2024-10-16T17:14:34.511Z"
   },
   {
    "duration": 11,
    "start_time": "2024-10-16T17:14:34.551Z"
   },
   {
    "duration": 20,
    "start_time": "2024-10-16T17:14:34.564Z"
   },
   {
    "duration": 11,
    "start_time": "2024-10-16T17:14:34.586Z"
   },
   {
    "duration": 10,
    "start_time": "2024-10-16T17:14:34.598Z"
   },
   {
    "duration": 5,
    "start_time": "2024-10-16T17:14:34.609Z"
   },
   {
    "duration": 38,
    "start_time": "2024-10-16T17:14:34.616Z"
   },
   {
    "duration": 17,
    "start_time": "2024-10-16T17:14:34.657Z"
   },
   {
    "duration": 254,
    "start_time": "2024-10-16T17:14:34.676Z"
   },
   {
    "duration": 18,
    "start_time": "2024-10-16T17:14:34.931Z"
   },
   {
    "duration": 180,
    "start_time": "2024-10-16T17:14:34.950Z"
   },
   {
    "duration": 16,
    "start_time": "2024-10-16T17:14:35.132Z"
   },
   {
    "duration": 337,
    "start_time": "2024-10-16T17:14:35.149Z"
   },
   {
    "duration": 9,
    "start_time": "2024-10-16T17:14:35.488Z"
   },
   {
    "duration": 304,
    "start_time": "2024-10-16T17:14:35.499Z"
   },
   {
    "duration": 8,
    "start_time": "2024-10-16T17:14:35.805Z"
   },
   {
    "duration": 202,
    "start_time": "2024-10-16T17:14:35.815Z"
   },
   {
    "duration": 24,
    "start_time": "2024-10-16T17:14:36.019Z"
   },
   {
    "duration": 26,
    "start_time": "2024-10-16T17:14:36.045Z"
   },
   {
    "duration": 59,
    "start_time": "2024-10-16T17:14:36.073Z"
   },
   {
    "duration": 117,
    "start_time": "2024-10-16T17:14:36.133Z"
   },
   {
    "duration": 39,
    "start_time": "2024-10-16T17:14:36.251Z"
   },
   {
    "duration": 105,
    "start_time": "2024-10-16T17:14:36.292Z"
   },
   {
    "duration": 60,
    "start_time": "2024-10-16T17:14:36.399Z"
   },
   {
    "duration": 36,
    "start_time": "2024-10-16T17:14:36.460Z"
   },
   {
    "duration": 365,
    "start_time": "2024-10-16T17:14:36.497Z"
   },
   {
    "duration": 10,
    "start_time": "2024-10-16T17:14:36.864Z"
   },
   {
    "duration": 37,
    "start_time": "2024-10-16T17:14:36.876Z"
   },
   {
    "duration": 269,
    "start_time": "2024-10-16T17:14:36.915Z"
   },
   {
    "duration": 22,
    "start_time": "2024-10-16T17:14:37.186Z"
   },
   {
    "duration": 6,
    "start_time": "2024-10-16T17:14:37.216Z"
   },
   {
    "duration": 130,
    "start_time": "2024-10-16T17:14:37.224Z"
   },
   {
    "duration": 0,
    "start_time": "2024-10-16T17:14:37.357Z"
   },
   {
    "duration": 0,
    "start_time": "2024-10-16T17:14:37.358Z"
   },
   {
    "duration": 13,
    "start_time": "2024-10-16T17:16:15.963Z"
   },
   {
    "duration": 26,
    "start_time": "2024-10-16T17:20:36.486Z"
   },
   {
    "duration": 14,
    "start_time": "2024-10-16T17:21:00.441Z"
   },
   {
    "duration": 25,
    "start_time": "2024-10-16T17:21:02.558Z"
   },
   {
    "duration": 1207,
    "start_time": "2024-10-16T17:21:13.782Z"
   },
   {
    "duration": 70,
    "start_time": "2024-10-16T17:21:14.991Z"
   },
   {
    "duration": 36,
    "start_time": "2024-10-16T17:21:15.063Z"
   },
   {
    "duration": 48,
    "start_time": "2024-10-16T17:21:15.102Z"
   },
   {
    "duration": 30,
    "start_time": "2024-10-16T17:21:15.152Z"
   },
   {
    "duration": 70,
    "start_time": "2024-10-16T17:21:15.184Z"
   },
   {
    "duration": 50,
    "start_time": "2024-10-16T17:21:15.256Z"
   },
   {
    "duration": 124,
    "start_time": "2024-10-16T17:21:15.307Z"
   },
   {
    "duration": 35,
    "start_time": "2024-10-16T17:21:15.433Z"
   },
   {
    "duration": 11,
    "start_time": "2024-10-16T17:21:15.472Z"
   },
   {
    "duration": 10,
    "start_time": "2024-10-16T17:21:15.485Z"
   },
   {
    "duration": 5,
    "start_time": "2024-10-16T17:21:15.497Z"
   },
   {
    "duration": 13,
    "start_time": "2024-10-16T17:21:15.503Z"
   },
   {
    "duration": 26,
    "start_time": "2024-10-16T17:21:15.517Z"
   },
   {
    "duration": 244,
    "start_time": "2024-10-16T17:21:15.544Z"
   },
   {
    "duration": 13,
    "start_time": "2024-10-16T17:21:15.790Z"
   },
   {
    "duration": 194,
    "start_time": "2024-10-16T17:21:15.804Z"
   },
   {
    "duration": 11,
    "start_time": "2024-10-16T17:21:15.999Z"
   },
   {
    "duration": 410,
    "start_time": "2024-10-16T17:21:16.012Z"
   },
   {
    "duration": 22,
    "start_time": "2024-10-16T17:21:16.423Z"
   },
   {
    "duration": 329,
    "start_time": "2024-10-16T17:21:16.447Z"
   },
   {
    "duration": 10,
    "start_time": "2024-10-16T17:21:16.778Z"
   },
   {
    "duration": 253,
    "start_time": "2024-10-16T17:21:16.790Z"
   },
   {
    "duration": 15,
    "start_time": "2024-10-16T17:21:17.045Z"
   },
   {
    "duration": 13,
    "start_time": "2024-10-16T17:21:17.062Z"
   },
   {
    "duration": 17,
    "start_time": "2024-10-16T17:21:17.076Z"
   },
   {
    "duration": 10,
    "start_time": "2024-10-16T17:21:17.095Z"
   },
   {
    "duration": 44,
    "start_time": "2024-10-16T17:21:17.109Z"
   },
   {
    "duration": 14,
    "start_time": "2024-10-16T17:21:17.154Z"
   },
   {
    "duration": 11,
    "start_time": "2024-10-16T17:21:17.169Z"
   },
   {
    "duration": 9,
    "start_time": "2024-10-16T17:21:17.182Z"
   },
   {
    "duration": 390,
    "start_time": "2024-10-16T17:21:17.193Z"
   },
   {
    "duration": 10,
    "start_time": "2024-10-16T17:21:17.585Z"
   },
   {
    "duration": 35,
    "start_time": "2024-10-16T17:21:17.596Z"
   },
   {
    "duration": 268,
    "start_time": "2024-10-16T17:21:17.633Z"
   },
   {
    "duration": 13,
    "start_time": "2024-10-16T17:21:17.903Z"
   },
   {
    "duration": 200,
    "start_time": "2024-10-16T17:21:17.919Z"
   },
   {
    "duration": 0,
    "start_time": "2024-10-16T17:21:18.121Z"
   },
   {
    "duration": 0,
    "start_time": "2024-10-16T17:21:18.122Z"
   },
   {
    "duration": 22,
    "start_time": "2024-10-16T17:23:02.638Z"
   },
   {
    "duration": 49,
    "start_time": "2024-10-16T17:24:13.470Z"
   },
   {
    "duration": 5,
    "start_time": "2024-10-16T17:24:57.633Z"
   },
   {
    "duration": 8,
    "start_time": "2024-10-16T17:25:43.456Z"
   },
   {
    "duration": 46,
    "start_time": "2024-10-16T17:26:42.743Z"
   },
   {
    "duration": 7,
    "start_time": "2024-10-16T17:26:59.848Z"
   },
   {
    "duration": 8,
    "start_time": "2024-10-16T17:27:40.212Z"
   },
   {
    "duration": 9,
    "start_time": "2024-10-16T17:29:16.866Z"
   },
   {
    "duration": 169,
    "start_time": "2024-10-16T17:33:15.198Z"
   },
   {
    "duration": 44,
    "start_time": "2024-10-16T17:34:40.274Z"
   },
   {
    "duration": 41,
    "start_time": "2024-10-16T17:34:57.500Z"
   },
   {
    "duration": 1151,
    "start_time": "2024-10-16T17:35:05.188Z"
   },
   {
    "duration": 69,
    "start_time": "2024-10-16T17:35:06.340Z"
   },
   {
    "duration": 31,
    "start_time": "2024-10-16T17:35:06.411Z"
   },
   {
    "duration": 9,
    "start_time": "2024-10-16T17:35:06.444Z"
   },
   {
    "duration": 20,
    "start_time": "2024-10-16T17:35:06.455Z"
   },
   {
    "duration": 56,
    "start_time": "2024-10-16T17:35:06.477Z"
   },
   {
    "duration": 25,
    "start_time": "2024-10-16T17:35:06.535Z"
   },
   {
    "duration": 8,
    "start_time": "2024-10-16T17:35:06.561Z"
   },
   {
    "duration": 17,
    "start_time": "2024-10-16T17:35:06.570Z"
   },
   {
    "duration": 17,
    "start_time": "2024-10-16T17:35:06.589Z"
   },
   {
    "duration": 10,
    "start_time": "2024-10-16T17:35:06.607Z"
   },
   {
    "duration": 6,
    "start_time": "2024-10-16T17:35:06.618Z"
   },
   {
    "duration": 23,
    "start_time": "2024-10-16T17:35:06.626Z"
   },
   {
    "duration": 24,
    "start_time": "2024-10-16T17:35:06.652Z"
   },
   {
    "duration": 242,
    "start_time": "2024-10-16T17:35:06.677Z"
   },
   {
    "duration": 24,
    "start_time": "2024-10-16T17:35:06.921Z"
   },
   {
    "duration": 176,
    "start_time": "2024-10-16T17:35:06.947Z"
   },
   {
    "duration": 19,
    "start_time": "2024-10-16T17:35:07.125Z"
   },
   {
    "duration": 362,
    "start_time": "2024-10-16T17:35:07.145Z"
   },
   {
    "duration": 10,
    "start_time": "2024-10-16T17:35:07.509Z"
   },
   {
    "duration": 251,
    "start_time": "2024-10-16T17:35:07.520Z"
   },
   {
    "duration": 8,
    "start_time": "2024-10-16T17:35:07.772Z"
   },
   {
    "duration": 239,
    "start_time": "2024-10-16T17:35:07.782Z"
   },
   {
    "duration": 25,
    "start_time": "2024-10-16T17:35:08.023Z"
   },
   {
    "duration": 13,
    "start_time": "2024-10-16T17:35:08.049Z"
   },
   {
    "duration": 22,
    "start_time": "2024-10-16T17:35:08.063Z"
   },
   {
    "duration": 14,
    "start_time": "2024-10-16T17:35:08.087Z"
   },
   {
    "duration": 12,
    "start_time": "2024-10-16T17:35:08.103Z"
   },
   {
    "duration": 31,
    "start_time": "2024-10-16T17:35:08.117Z"
   },
   {
    "duration": 11,
    "start_time": "2024-10-16T17:35:08.149Z"
   },
   {
    "duration": 9,
    "start_time": "2024-10-16T17:35:08.161Z"
   },
   {
    "duration": 448,
    "start_time": "2024-10-16T17:35:08.171Z"
   },
   {
    "duration": 11,
    "start_time": "2024-10-16T17:35:08.620Z"
   },
   {
    "duration": 68,
    "start_time": "2024-10-16T17:35:08.643Z"
   },
   {
    "duration": 303,
    "start_time": "2024-10-16T17:35:08.713Z"
   },
   {
    "duration": 13,
    "start_time": "2024-10-16T17:35:09.018Z"
   },
   {
    "duration": 57,
    "start_time": "2024-10-16T17:35:09.033Z"
   },
   {
    "duration": 8,
    "start_time": "2024-10-16T17:35:09.092Z"
   },
   {
    "duration": 50,
    "start_time": "2024-10-16T17:35:31.659Z"
   },
   {
    "duration": 1167,
    "start_time": "2024-10-16T17:35:40.069Z"
   },
   {
    "duration": 68,
    "start_time": "2024-10-16T17:35:41.237Z"
   },
   {
    "duration": 31,
    "start_time": "2024-10-16T17:35:41.306Z"
   },
   {
    "duration": 8,
    "start_time": "2024-10-16T17:35:41.339Z"
   },
   {
    "duration": 26,
    "start_time": "2024-10-16T17:35:41.348Z"
   },
   {
    "duration": 6,
    "start_time": "2024-10-16T17:35:41.376Z"
   },
   {
    "duration": 11,
    "start_time": "2024-10-16T17:35:41.383Z"
   },
   {
    "duration": 11,
    "start_time": "2024-10-16T17:35:41.396Z"
   },
   {
    "duration": 24,
    "start_time": "2024-10-16T17:35:41.408Z"
   },
   {
    "duration": 16,
    "start_time": "2024-10-16T17:35:41.435Z"
   },
   {
    "duration": 8,
    "start_time": "2024-10-16T17:35:41.453Z"
   },
   {
    "duration": 5,
    "start_time": "2024-10-16T17:35:41.463Z"
   },
   {
    "duration": 11,
    "start_time": "2024-10-16T17:35:41.469Z"
   },
   {
    "duration": 33,
    "start_time": "2024-10-16T17:35:41.481Z"
   },
   {
    "duration": 220,
    "start_time": "2024-10-16T17:35:41.515Z"
   },
   {
    "duration": 14,
    "start_time": "2024-10-16T17:35:41.737Z"
   },
   {
    "duration": 200,
    "start_time": "2024-10-16T17:35:41.753Z"
   },
   {
    "duration": 8,
    "start_time": "2024-10-16T17:35:41.955Z"
   },
   {
    "duration": 343,
    "start_time": "2024-10-16T17:35:41.965Z"
   },
   {
    "duration": 9,
    "start_time": "2024-10-16T17:35:42.310Z"
   },
   {
    "duration": 269,
    "start_time": "2024-10-16T17:35:42.321Z"
   },
   {
    "duration": 8,
    "start_time": "2024-10-16T17:35:42.592Z"
   },
   {
    "duration": 195,
    "start_time": "2024-10-16T17:35:42.601Z"
   },
   {
    "duration": 15,
    "start_time": "2024-10-16T17:35:42.798Z"
   },
   {
    "duration": 28,
    "start_time": "2024-10-16T17:35:42.815Z"
   },
   {
    "duration": 14,
    "start_time": "2024-10-16T17:35:42.845Z"
   },
   {
    "duration": 8,
    "start_time": "2024-10-16T17:35:42.861Z"
   },
   {
    "duration": 12,
    "start_time": "2024-10-16T17:35:42.872Z"
   },
   {
    "duration": 12,
    "start_time": "2024-10-16T17:35:42.886Z"
   },
   {
    "duration": 46,
    "start_time": "2024-10-16T17:35:42.900Z"
   },
   {
    "duration": 8,
    "start_time": "2024-10-16T17:35:42.948Z"
   },
   {
    "duration": 347,
    "start_time": "2024-10-16T17:35:42.957Z"
   },
   {
    "duration": 8,
    "start_time": "2024-10-16T17:35:43.306Z"
   },
   {
    "duration": 8,
    "start_time": "2024-10-16T17:35:43.315Z"
   },
   {
    "duration": 273,
    "start_time": "2024-10-16T17:35:43.324Z"
   },
   {
    "duration": 11,
    "start_time": "2024-10-16T17:35:43.598Z"
   },
   {
    "duration": 62,
    "start_time": "2024-10-16T17:35:43.611Z"
   },
   {
    "duration": 8,
    "start_time": "2024-10-16T17:35:43.674Z"
   },
   {
    "duration": 4,
    "start_time": "2024-10-16T17:36:29.627Z"
   },
   {
    "duration": 48,
    "start_time": "2024-10-16T17:36:30.474Z"
   },
   {
    "duration": 52,
    "start_time": "2024-10-16T17:36:39.543Z"
   },
   {
    "duration": 7,
    "start_time": "2024-10-16T17:36:43.429Z"
   },
   {
    "duration": 8,
    "start_time": "2024-10-16T17:37:38.164Z"
   },
   {
    "duration": 2319,
    "start_time": "2024-10-16T17:39:40.822Z"
   },
   {
    "duration": 6,
    "start_time": "2024-10-16T17:39:48.817Z"
   },
   {
    "duration": 5,
    "start_time": "2024-10-16T17:40:01.239Z"
   },
   {
    "duration": 8,
    "start_time": "2024-10-16T18:33:59.931Z"
   },
   {
    "duration": 6,
    "start_time": "2024-10-16T18:58:45.323Z"
   },
   {
    "duration": 7,
    "start_time": "2024-10-16T19:01:17.133Z"
   },
   {
    "duration": 6,
    "start_time": "2024-10-16T19:04:40.556Z"
   },
   {
    "duration": 5,
    "start_time": "2024-10-16T19:05:01.530Z"
   },
   {
    "duration": 5,
    "start_time": "2024-10-16T19:05:07.120Z"
   },
   {
    "duration": 1847,
    "start_time": "2024-10-16T19:08:09.009Z"
   },
   {
    "duration": 7,
    "start_time": "2024-10-16T19:09:58.231Z"
   },
   {
    "duration": 1746,
    "start_time": "2024-10-16T19:12:32.826Z"
   },
   {
    "duration": 11,
    "start_time": "2024-10-16T19:14:05.941Z"
   },
   {
    "duration": 1370,
    "start_time": "2024-10-17T17:13:52.721Z"
   },
   {
    "duration": 280,
    "start_time": "2024-10-17T17:13:54.093Z"
   },
   {
    "duration": 31,
    "start_time": "2024-10-17T17:13:54.375Z"
   },
   {
    "duration": 8,
    "start_time": "2024-10-17T17:13:54.408Z"
   },
   {
    "duration": 8,
    "start_time": "2024-10-17T17:13:54.418Z"
   },
   {
    "duration": 6,
    "start_time": "2024-10-17T17:13:54.428Z"
   },
   {
    "duration": 37,
    "start_time": "2024-10-17T17:13:54.435Z"
   },
   {
    "duration": 8,
    "start_time": "2024-10-17T17:13:54.473Z"
   },
   {
    "duration": 15,
    "start_time": "2024-10-17T17:13:54.482Z"
   },
   {
    "duration": 6,
    "start_time": "2024-10-17T17:13:54.498Z"
   },
   {
    "duration": 7,
    "start_time": "2024-10-17T17:13:54.506Z"
   },
   {
    "duration": 4,
    "start_time": "2024-10-17T17:13:54.515Z"
   },
   {
    "duration": 10,
    "start_time": "2024-10-17T17:13:54.520Z"
   },
   {
    "duration": 49,
    "start_time": "2024-10-17T17:13:54.533Z"
   },
   {
    "duration": 244,
    "start_time": "2024-10-17T17:13:54.584Z"
   },
   {
    "duration": 11,
    "start_time": "2024-10-17T17:13:54.831Z"
   },
   {
    "duration": 190,
    "start_time": "2024-10-17T17:13:54.844Z"
   },
   {
    "duration": 9,
    "start_time": "2024-10-17T17:13:55.036Z"
   },
   {
    "duration": 357,
    "start_time": "2024-10-17T17:13:55.046Z"
   },
   {
    "duration": 9,
    "start_time": "2024-10-17T17:13:55.405Z"
   },
   {
    "duration": 262,
    "start_time": "2024-10-17T17:13:55.416Z"
   },
   {
    "duration": 7,
    "start_time": "2024-10-17T17:13:55.680Z"
   },
   {
    "duration": 281,
    "start_time": "2024-10-17T17:13:55.689Z"
   },
   {
    "duration": 15,
    "start_time": "2024-10-17T17:13:55.972Z"
   },
   {
    "duration": 11,
    "start_time": "2024-10-17T17:13:55.988Z"
   },
   {
    "duration": 14,
    "start_time": "2024-10-17T17:13:56.000Z"
   },
   {
    "duration": 8,
    "start_time": "2024-10-17T17:13:56.015Z"
   },
   {
    "duration": 11,
    "start_time": "2024-10-17T17:13:56.024Z"
   },
   {
    "duration": 36,
    "start_time": "2024-10-17T17:13:56.037Z"
   },
   {
    "duration": 16,
    "start_time": "2024-10-17T17:13:56.075Z"
   },
   {
    "duration": 7,
    "start_time": "2024-10-17T17:13:56.092Z"
   },
   {
    "duration": 351,
    "start_time": "2024-10-17T17:13:56.101Z"
   },
   {
    "duration": 16,
    "start_time": "2024-10-17T17:13:56.453Z"
   },
   {
    "duration": 9,
    "start_time": "2024-10-17T17:13:56.470Z"
   },
   {
    "duration": 290,
    "start_time": "2024-10-17T17:13:56.481Z"
   },
   {
    "duration": 11,
    "start_time": "2024-10-17T17:13:56.773Z"
   },
   {
    "duration": 9,
    "start_time": "2024-10-17T17:13:56.785Z"
   },
   {
    "duration": 45,
    "start_time": "2024-10-17T17:13:56.795Z"
   },
   {
    "duration": 26,
    "start_time": "2024-10-17T17:13:56.842Z"
   },
   {
    "duration": 7,
    "start_time": "2024-10-17T17:13:56.869Z"
   },
   {
    "duration": 4,
    "start_time": "2024-10-17T17:13:56.879Z"
   },
   {
    "duration": 5,
    "start_time": "2024-10-17T17:13:56.884Z"
   },
   {
    "duration": 20,
    "start_time": "2024-10-17T17:13:56.890Z"
   },
   {
    "duration": 18,
    "start_time": "2024-10-17T17:13:56.911Z"
   },
   {
    "duration": 5,
    "start_time": "2024-10-17T17:56:19.587Z"
   },
   {
    "duration": 71,
    "start_time": "2024-10-17T17:56:20.612Z"
   },
   {
    "duration": 2399,
    "start_time": "2024-10-17T18:04:48.062Z"
   },
   {
    "duration": 1834,
    "start_time": "2024-10-17T18:05:14.868Z"
   },
   {
    "duration": 1864,
    "start_time": "2024-10-17T18:06:58.195Z"
   },
   {
    "duration": 254,
    "start_time": "2024-10-17T18:07:03.087Z"
   },
   {
    "duration": 376,
    "start_time": "2024-10-17T18:09:03.251Z"
   },
   {
    "duration": 1884,
    "start_time": "2024-10-17T18:15:17.365Z"
   },
   {
    "duration": 1859,
    "start_time": "2024-10-17T18:15:40.327Z"
   },
   {
    "duration": 289,
    "start_time": "2024-10-17T18:17:11.487Z"
   },
   {
    "duration": 346,
    "start_time": "2024-10-17T18:17:35.422Z"
   },
   {
    "duration": 1997,
    "start_time": "2024-10-17T18:17:48.590Z"
   },
   {
    "duration": 335,
    "start_time": "2024-10-17T18:18:06.873Z"
   },
   {
    "duration": 1863,
    "start_time": "2024-10-17T18:18:17.468Z"
   },
   {
    "duration": 378,
    "start_time": "2024-10-17T18:18:28.722Z"
   },
   {
    "duration": 1809,
    "start_time": "2024-10-17T18:18:34.175Z"
   },
   {
    "duration": 364,
    "start_time": "2024-10-17T18:19:40.039Z"
   },
   {
    "duration": 348,
    "start_time": "2024-10-17T18:19:44.786Z"
   },
   {
    "duration": 363,
    "start_time": "2024-10-17T18:20:47.402Z"
   },
   {
    "duration": 338,
    "start_time": "2024-10-17T18:21:22.380Z"
   },
   {
    "duration": 566,
    "start_time": "2024-10-17T18:23:40.461Z"
   },
   {
    "duration": 1227,
    "start_time": "2024-10-18T06:43:10.534Z"
   },
   {
    "duration": 284,
    "start_time": "2024-10-18T06:43:11.763Z"
   },
   {
    "duration": 27,
    "start_time": "2024-10-18T06:43:12.048Z"
   },
   {
    "duration": 8,
    "start_time": "2024-10-18T06:43:12.077Z"
   },
   {
    "duration": 8,
    "start_time": "2024-10-18T06:43:12.086Z"
   },
   {
    "duration": 7,
    "start_time": "2024-10-18T06:43:12.095Z"
   },
   {
    "duration": 11,
    "start_time": "2024-10-18T06:43:12.104Z"
   },
   {
    "duration": 8,
    "start_time": "2024-10-18T06:43:12.117Z"
   },
   {
    "duration": 7,
    "start_time": "2024-10-18T06:43:12.127Z"
   },
   {
    "duration": 4,
    "start_time": "2024-10-18T06:43:12.137Z"
   },
   {
    "duration": 7,
    "start_time": "2024-10-18T06:43:12.143Z"
   },
   {
    "duration": 4,
    "start_time": "2024-10-18T06:43:12.151Z"
   },
   {
    "duration": 8,
    "start_time": "2024-10-18T06:43:12.156Z"
   },
   {
    "duration": 50,
    "start_time": "2024-10-18T06:43:12.166Z"
   },
   {
    "duration": 206,
    "start_time": "2024-10-18T06:43:12.218Z"
   },
   {
    "duration": 11,
    "start_time": "2024-10-18T06:43:12.425Z"
   },
   {
    "duration": 164,
    "start_time": "2024-10-18T06:43:12.437Z"
   },
   {
    "duration": 13,
    "start_time": "2024-10-18T06:43:12.603Z"
   },
   {
    "duration": 288,
    "start_time": "2024-10-18T06:43:12.617Z"
   },
   {
    "duration": 10,
    "start_time": "2024-10-18T06:43:12.906Z"
   },
   {
    "duration": 241,
    "start_time": "2024-10-18T06:43:12.917Z"
   },
   {
    "duration": 7,
    "start_time": "2024-10-18T06:43:13.160Z"
   },
   {
    "duration": 166,
    "start_time": "2024-10-18T06:43:13.168Z"
   },
   {
    "duration": 13,
    "start_time": "2024-10-18T06:43:13.335Z"
   },
   {
    "duration": 10,
    "start_time": "2024-10-18T06:43:13.350Z"
   },
   {
    "duration": 16,
    "start_time": "2024-10-18T06:43:13.362Z"
   },
   {
    "duration": 8,
    "start_time": "2024-10-18T06:43:13.379Z"
   },
   {
    "duration": 10,
    "start_time": "2024-10-18T06:43:13.411Z"
   },
   {
    "duration": 69,
    "start_time": "2024-10-18T06:43:13.422Z"
   },
   {
    "duration": 13,
    "start_time": "2024-10-18T06:43:13.492Z"
   },
   {
    "duration": 7,
    "start_time": "2024-10-18T06:43:13.506Z"
   },
   {
    "duration": 289,
    "start_time": "2024-10-18T06:43:13.515Z"
   },
   {
    "duration": 10,
    "start_time": "2024-10-18T06:43:13.806Z"
   },
   {
    "duration": 13,
    "start_time": "2024-10-18T06:43:13.818Z"
   },
   {
    "duration": 220,
    "start_time": "2024-10-18T06:43:13.833Z"
   },
   {
    "duration": 10,
    "start_time": "2024-10-18T06:43:14.055Z"
   },
   {
    "duration": 8,
    "start_time": "2024-10-18T06:43:14.067Z"
   },
   {
    "duration": 60,
    "start_time": "2024-10-18T06:43:14.076Z"
   },
   {
    "duration": 6,
    "start_time": "2024-10-18T06:43:14.138Z"
   },
   {
    "duration": 12,
    "start_time": "2024-10-18T06:43:14.145Z"
   },
   {
    "duration": 4,
    "start_time": "2024-10-18T06:43:14.158Z"
   },
   {
    "duration": 13,
    "start_time": "2024-10-18T06:43:14.164Z"
   },
   {
    "duration": 9,
    "start_time": "2024-10-18T06:43:14.179Z"
   },
   {
    "duration": 23,
    "start_time": "2024-10-18T06:43:14.189Z"
   },
   {
    "duration": 455,
    "start_time": "2024-10-18T06:43:14.214Z"
   },
   {
    "duration": 54,
    "start_time": "2024-10-18T15:54:52.863Z"
   },
   {
    "duration": 1470,
    "start_time": "2024-10-18T15:55:02.414Z"
   },
   {
    "duration": 295,
    "start_time": "2024-10-18T15:55:03.886Z"
   },
   {
    "duration": 33,
    "start_time": "2024-10-18T15:55:04.183Z"
   },
   {
    "duration": 10,
    "start_time": "2024-10-18T15:55:04.664Z"
   },
   {
    "duration": 8,
    "start_time": "2024-10-18T15:55:05.151Z"
   },
   {
    "duration": 6,
    "start_time": "2024-10-18T15:55:05.597Z"
   },
   {
    "duration": 15,
    "start_time": "2024-10-18T15:55:06.131Z"
   },
   {
    "duration": 9,
    "start_time": "2024-10-18T15:55:06.657Z"
   },
   {
    "duration": 7,
    "start_time": "2024-10-18T15:55:07.217Z"
   },
   {
    "duration": 8,
    "start_time": "2024-10-18T15:55:07.693Z"
   },
   {
    "duration": 9,
    "start_time": "2024-10-18T15:55:08.141Z"
   },
   {
    "duration": 4,
    "start_time": "2024-10-18T15:55:08.671Z"
   },
   {
    "duration": 11,
    "start_time": "2024-10-18T15:55:13.469Z"
   },
   {
    "duration": 21,
    "start_time": "2024-10-18T15:55:14.444Z"
   },
   {
    "duration": 253,
    "start_time": "2024-10-18T15:58:04.651Z"
   },
   {
    "duration": 228,
    "start_time": "2024-10-18T15:58:41.221Z"
   },
   {
    "duration": 229,
    "start_time": "2024-10-18T15:59:31.225Z"
   },
   {
    "duration": 14,
    "start_time": "2024-10-18T16:00:31.953Z"
   },
   {
    "duration": 17,
    "start_time": "2024-10-18T16:01:07.846Z"
   },
   {
    "duration": 15,
    "start_time": "2024-10-18T16:01:15.281Z"
   },
   {
    "duration": 14,
    "start_time": "2024-10-18T16:01:19.521Z"
   },
   {
    "duration": 132,
    "start_time": "2024-10-18T16:02:04.924Z"
   },
   {
    "duration": 115,
    "start_time": "2024-10-18T16:03:12.574Z"
   },
   {
    "duration": 118,
    "start_time": "2024-10-18T16:04:18.924Z"
   },
   {
    "duration": 305,
    "start_time": "2024-10-18T16:06:05.742Z"
   },
   {
    "duration": 383,
    "start_time": "2024-10-18T16:06:39.221Z"
   },
   {
    "duration": 308,
    "start_time": "2024-10-18T16:06:43.640Z"
   },
   {
    "duration": 304,
    "start_time": "2024-10-18T16:06:51.950Z"
   },
   {
    "duration": 303,
    "start_time": "2024-10-18T16:07:01.032Z"
   },
   {
    "duration": 292,
    "start_time": "2024-10-18T16:07:08.253Z"
   },
   {
    "duration": 202,
    "start_time": "2024-10-18T16:08:30.622Z"
   },
   {
    "duration": 661,
    "start_time": "2024-10-18T16:09:32.031Z"
   },
   {
    "duration": 515,
    "start_time": "2024-10-18T16:09:52.526Z"
   },
   {
    "duration": 270,
    "start_time": "2024-10-18T16:11:14.279Z"
   },
   {
    "duration": 272,
    "start_time": "2024-10-18T16:11:28.937Z"
   },
   {
    "duration": 278,
    "start_time": "2024-10-18T16:11:36.322Z"
   },
   {
    "duration": 269,
    "start_time": "2024-10-18T16:11:46.827Z"
   },
   {
    "duration": 273,
    "start_time": "2024-10-18T16:12:14.724Z"
   },
   {
    "duration": 165,
    "start_time": "2024-10-18T16:13:08.480Z"
   },
   {
    "duration": 80,
    "start_time": "2024-10-18T16:15:39.800Z"
   },
   {
    "duration": 500,
    "start_time": "2024-10-18T16:15:57.456Z"
   },
   {
    "duration": 239,
    "start_time": "2024-10-18T16:17:17.261Z"
   },
   {
    "duration": 398,
    "start_time": "2024-10-18T16:17:51.218Z"
   },
   {
    "duration": 149,
    "start_time": "2024-10-18T16:19:16.384Z"
   },
   {
    "duration": 144,
    "start_time": "2024-10-18T16:19:51.159Z"
   },
   {
    "duration": 274,
    "start_time": "2024-10-18T16:22:24.027Z"
   },
   {
    "duration": 393,
    "start_time": "2024-10-18T16:22:24.303Z"
   },
   {
    "duration": 1205,
    "start_time": "2024-10-18T16:22:29.065Z"
   },
   {
    "duration": 78,
    "start_time": "2024-10-18T16:22:30.273Z"
   },
   {
    "duration": 34,
    "start_time": "2024-10-18T16:22:30.353Z"
   },
   {
    "duration": 43,
    "start_time": "2024-10-18T16:22:30.389Z"
   },
   {
    "duration": 34,
    "start_time": "2024-10-18T16:22:30.433Z"
   },
   {
    "duration": 99,
    "start_time": "2024-10-18T16:22:30.469Z"
   },
   {
    "duration": 26,
    "start_time": "2024-10-18T16:22:30.570Z"
   },
   {
    "duration": 35,
    "start_time": "2024-10-18T16:22:30.597Z"
   },
   {
    "duration": 14,
    "start_time": "2024-10-18T16:22:30.633Z"
   },
   {
    "duration": 7,
    "start_time": "2024-10-18T16:22:30.649Z"
   },
   {
    "duration": 29,
    "start_time": "2024-10-18T16:22:30.657Z"
   },
   {
    "duration": 31,
    "start_time": "2024-10-18T16:22:30.688Z"
   },
   {
    "duration": 41,
    "start_time": "2024-10-18T16:22:30.720Z"
   },
   {
    "duration": 18,
    "start_time": "2024-10-18T16:22:30.763Z"
   },
   {
    "duration": 282,
    "start_time": "2024-10-18T16:22:30.783Z"
   },
   {
    "duration": 13,
    "start_time": "2024-10-18T16:22:31.067Z"
   },
   {
    "duration": 373,
    "start_time": "2024-10-18T16:22:31.082Z"
   },
   {
    "duration": 8,
    "start_time": "2024-10-18T16:22:31.457Z"
   },
   {
    "duration": 474,
    "start_time": "2024-10-18T16:22:31.467Z"
   },
   {
    "duration": 582,
    "start_time": "2024-10-18T16:22:31.942Z"
   },
   {
    "duration": 9,
    "start_time": "2024-10-18T16:22:32.525Z"
   },
   {
    "duration": 473,
    "start_time": "2024-10-18T16:22:32.535Z"
   },
   {
    "duration": 264,
    "start_time": "2024-10-18T16:22:33.009Z"
   },
   {
    "duration": 9,
    "start_time": "2024-10-18T16:22:33.275Z"
   },
   {
    "duration": 213,
    "start_time": "2024-10-18T16:22:33.285Z"
   },
   {
    "duration": 21,
    "start_time": "2024-10-18T16:22:33.499Z"
   },
   {
    "duration": 12,
    "start_time": "2024-10-18T16:22:33.522Z"
   },
   {
    "duration": 20,
    "start_time": "2024-10-18T16:22:33.537Z"
   },
   {
    "duration": 31,
    "start_time": "2024-10-18T16:22:33.559Z"
   },
   {
    "duration": 27,
    "start_time": "2024-10-18T16:22:33.592Z"
   },
   {
    "duration": 35,
    "start_time": "2024-10-18T16:22:33.620Z"
   },
   {
    "duration": 39,
    "start_time": "2024-10-18T16:22:33.656Z"
   },
   {
    "duration": 23,
    "start_time": "2024-10-18T16:22:33.696Z"
   },
   {
    "duration": 402,
    "start_time": "2024-10-18T16:22:33.720Z"
   },
   {
    "duration": 9,
    "start_time": "2024-10-18T16:22:34.124Z"
   },
   {
    "duration": 21,
    "start_time": "2024-10-18T16:22:34.134Z"
   },
   {
    "duration": 305,
    "start_time": "2024-10-18T16:22:34.157Z"
   },
   {
    "duration": 13,
    "start_time": "2024-10-18T16:22:34.463Z"
   },
   {
    "duration": 96,
    "start_time": "2024-10-18T16:22:34.477Z"
   },
   {
    "duration": 49,
    "start_time": "2024-10-18T16:22:34.575Z"
   },
   {
    "duration": 7,
    "start_time": "2024-10-18T16:22:34.625Z"
   },
   {
    "duration": 25,
    "start_time": "2024-10-18T16:22:34.634Z"
   },
   {
    "duration": 16,
    "start_time": "2024-10-18T16:22:34.661Z"
   },
   {
    "duration": 27,
    "start_time": "2024-10-18T16:22:34.679Z"
   },
   {
    "duration": 35,
    "start_time": "2024-10-18T16:22:34.708Z"
   },
   {
    "duration": 22,
    "start_time": "2024-10-18T16:22:34.744Z"
   },
   {
    "duration": 427,
    "start_time": "2024-10-18T16:22:34.768Z"
   },
   {
    "duration": 147,
    "start_time": "2024-10-18T16:23:45.561Z"
   },
   {
    "duration": 143,
    "start_time": "2024-10-18T16:24:01.739Z"
   },
   {
    "duration": 148,
    "start_time": "2024-10-18T16:24:08.978Z"
   },
   {
    "duration": 157,
    "start_time": "2024-10-18T16:24:41.630Z"
   },
   {
    "duration": 241,
    "start_time": "2024-10-18T16:24:46.630Z"
   },
   {
    "duration": 154,
    "start_time": "2024-10-18T16:25:23.121Z"
   },
   {
    "duration": 221,
    "start_time": "2024-10-18T16:25:29.474Z"
   },
   {
    "duration": 139,
    "start_time": "2024-10-18T16:25:40.659Z"
   },
   {
    "duration": 171,
    "start_time": "2024-10-18T16:25:45.017Z"
   },
   {
    "duration": 19,
    "start_time": "2024-10-18T16:26:14.335Z"
   },
   {
    "duration": 149,
    "start_time": "2024-10-18T16:26:21.628Z"
   },
   {
    "duration": 147,
    "start_time": "2024-10-18T16:27:04.616Z"
   },
   {
    "duration": 162,
    "start_time": "2024-10-18T16:27:11.912Z"
   },
   {
    "duration": 1236,
    "start_time": "2024-10-18T16:27:18.226Z"
   },
   {
    "duration": 74,
    "start_time": "2024-10-18T16:27:19.464Z"
   },
   {
    "duration": 41,
    "start_time": "2024-10-18T16:27:19.539Z"
   },
   {
    "duration": 12,
    "start_time": "2024-10-18T16:27:19.583Z"
   },
   {
    "duration": 31,
    "start_time": "2024-10-18T16:27:19.597Z"
   },
   {
    "duration": 8,
    "start_time": "2024-10-18T16:27:19.630Z"
   },
   {
    "duration": 16,
    "start_time": "2024-10-18T16:27:19.640Z"
   },
   {
    "duration": 11,
    "start_time": "2024-10-18T16:27:19.657Z"
   },
   {
    "duration": 18,
    "start_time": "2024-10-18T16:27:19.670Z"
   },
   {
    "duration": 31,
    "start_time": "2024-10-18T16:27:19.691Z"
   },
   {
    "duration": 33,
    "start_time": "2024-10-18T16:27:19.723Z"
   },
   {
    "duration": 9,
    "start_time": "2024-10-18T16:27:19.758Z"
   },
   {
    "duration": 19,
    "start_time": "2024-10-18T16:27:19.768Z"
   },
   {
    "duration": 32,
    "start_time": "2024-10-18T16:27:19.789Z"
   },
   {
    "duration": 252,
    "start_time": "2024-10-18T16:27:19.823Z"
   },
   {
    "duration": 16,
    "start_time": "2024-10-18T16:27:20.076Z"
   },
   {
    "duration": 354,
    "start_time": "2024-10-18T16:27:20.094Z"
   },
   {
    "duration": 293,
    "start_time": "2024-10-18T16:27:20.450Z"
   },
   {
    "duration": 9,
    "start_time": "2024-10-18T16:27:20.745Z"
   },
   {
    "duration": 601,
    "start_time": "2024-10-18T16:27:20.755Z"
   },
   {
    "duration": 9,
    "start_time": "2024-10-18T16:27:21.357Z"
   },
   {
    "duration": 635,
    "start_time": "2024-10-18T16:27:21.421Z"
   },
   {
    "duration": 279,
    "start_time": "2024-10-18T16:27:22.058Z"
   },
   {
    "duration": 10,
    "start_time": "2024-10-18T16:27:22.339Z"
   },
   {
    "duration": 284,
    "start_time": "2024-10-18T16:27:22.351Z"
   },
   {
    "duration": 16,
    "start_time": "2024-10-18T16:27:22.637Z"
   },
   {
    "duration": 19,
    "start_time": "2024-10-18T16:27:22.655Z"
   },
   {
    "duration": 25,
    "start_time": "2024-10-18T16:27:22.679Z"
   },
   {
    "duration": 21,
    "start_time": "2024-10-18T16:27:22.706Z"
   },
   {
    "duration": 16,
    "start_time": "2024-10-18T16:27:22.729Z"
   },
   {
    "duration": 13,
    "start_time": "2024-10-18T16:27:22.747Z"
   },
   {
    "duration": 14,
    "start_time": "2024-10-18T16:27:22.762Z"
   },
   {
    "duration": 11,
    "start_time": "2024-10-18T16:27:22.778Z"
   },
   {
    "duration": 413,
    "start_time": "2024-10-18T16:27:22.791Z"
   },
   {
    "duration": 19,
    "start_time": "2024-10-18T16:27:23.206Z"
   },
   {
    "duration": 17,
    "start_time": "2024-10-18T16:27:23.227Z"
   },
   {
    "duration": 282,
    "start_time": "2024-10-18T16:27:23.246Z"
   },
   {
    "duration": 14,
    "start_time": "2024-10-18T16:27:23.530Z"
   },
   {
    "duration": 89,
    "start_time": "2024-10-18T16:27:23.545Z"
   },
   {
    "duration": 52,
    "start_time": "2024-10-18T16:27:23.636Z"
   },
   {
    "duration": 9,
    "start_time": "2024-10-18T16:27:23.691Z"
   },
   {
    "duration": 9,
    "start_time": "2024-10-18T16:27:23.701Z"
   },
   {
    "duration": 20,
    "start_time": "2024-10-18T16:27:23.712Z"
   },
   {
    "duration": 47,
    "start_time": "2024-10-18T16:27:23.734Z"
   },
   {
    "duration": 14,
    "start_time": "2024-10-18T16:27:23.783Z"
   },
   {
    "duration": 40,
    "start_time": "2024-10-18T16:27:23.799Z"
   },
   {
    "duration": 391,
    "start_time": "2024-10-18T16:27:23.841Z"
   },
   {
    "duration": 142,
    "start_time": "2024-10-18T16:27:39.280Z"
   },
   {
    "duration": 165,
    "start_time": "2024-10-18T16:27:51.653Z"
   },
   {
    "duration": 149,
    "start_time": "2024-10-18T16:28:12.116Z"
   },
   {
    "duration": 9,
    "start_time": "2024-10-18T16:29:49.070Z"
   },
   {
    "duration": 13,
    "start_time": "2024-10-18T16:29:57.575Z"
   },
   {
    "duration": 13,
    "start_time": "2024-10-18T16:30:12.698Z"
   },
   {
    "duration": 190,
    "start_time": "2024-10-18T16:45:37.875Z"
   },
   {
    "duration": 170,
    "start_time": "2024-10-18T16:46:29.348Z"
   },
   {
    "duration": 182,
    "start_time": "2024-10-18T16:46:36.631Z"
   },
   {
    "duration": 15,
    "start_time": "2024-10-18T16:47:31.704Z"
   },
   {
    "duration": 119,
    "start_time": "2024-10-18T16:47:50.623Z"
   },
   {
    "duration": 20,
    "start_time": "2024-10-18T16:47:59.024Z"
   },
   {
    "duration": 13,
    "start_time": "2024-10-18T16:48:05.508Z"
   },
   {
    "duration": 104,
    "start_time": "2024-10-18T16:49:10.589Z"
   },
   {
    "duration": 17,
    "start_time": "2024-10-18T16:49:26.511Z"
   },
   {
    "duration": 25,
    "start_time": "2024-10-18T16:49:42.350Z"
   },
   {
    "duration": 24,
    "start_time": "2024-10-18T16:49:46.148Z"
   },
   {
    "duration": 16,
    "start_time": "2024-10-18T16:52:17.610Z"
   },
   {
    "duration": 16,
    "start_time": "2024-10-18T16:53:34.667Z"
   },
   {
    "duration": 211,
    "start_time": "2024-10-18T16:53:45.071Z"
   },
   {
    "duration": 16,
    "start_time": "2024-10-18T16:53:46.434Z"
   },
   {
    "duration": 17,
    "start_time": "2024-10-18T16:53:57.582Z"
   },
   {
    "duration": 18,
    "start_time": "2024-10-18T16:54:09.393Z"
   },
   {
    "duration": 193,
    "start_time": "2024-10-18T16:54:23.744Z"
   },
   {
    "duration": 12,
    "start_time": "2024-10-18T16:54:51.145Z"
   },
   {
    "duration": 16,
    "start_time": "2024-10-18T16:59:18.184Z"
   },
   {
    "duration": 14,
    "start_time": "2024-10-18T16:59:50.428Z"
   },
   {
    "duration": 1224,
    "start_time": "2024-10-18T17:00:01.438Z"
   },
   {
    "duration": 70,
    "start_time": "2024-10-18T17:00:02.664Z"
   },
   {
    "duration": 75,
    "start_time": "2024-10-18T17:00:02.738Z"
   },
   {
    "duration": 81,
    "start_time": "2024-10-18T17:00:02.815Z"
   },
   {
    "duration": 65,
    "start_time": "2024-10-18T17:00:02.897Z"
   },
   {
    "duration": 81,
    "start_time": "2024-10-18T17:00:02.964Z"
   },
   {
    "duration": 94,
    "start_time": "2024-10-18T17:00:03.047Z"
   },
   {
    "duration": 75,
    "start_time": "2024-10-18T17:00:03.142Z"
   },
   {
    "duration": 67,
    "start_time": "2024-10-18T17:00:03.219Z"
   },
   {
    "duration": 54,
    "start_time": "2024-10-18T17:00:03.288Z"
   },
   {
    "duration": 51,
    "start_time": "2024-10-18T17:00:03.344Z"
   },
   {
    "duration": 25,
    "start_time": "2024-10-18T17:00:03.397Z"
   },
   {
    "duration": 35,
    "start_time": "2024-10-18T17:00:03.424Z"
   },
   {
    "duration": 59,
    "start_time": "2024-10-18T17:00:03.461Z"
   },
   {
    "duration": 137,
    "start_time": "2024-10-18T17:00:03.522Z"
   },
   {
    "duration": 0,
    "start_time": "2024-10-18T17:00:03.661Z"
   },
   {
    "duration": 0,
    "start_time": "2024-10-18T17:00:03.662Z"
   },
   {
    "duration": 0,
    "start_time": "2024-10-18T17:00:03.663Z"
   },
   {
    "duration": 0,
    "start_time": "2024-10-18T17:00:03.664Z"
   },
   {
    "duration": 0,
    "start_time": "2024-10-18T17:00:03.665Z"
   },
   {
    "duration": 0,
    "start_time": "2024-10-18T17:00:03.666Z"
   },
   {
    "duration": 0,
    "start_time": "2024-10-18T17:00:03.667Z"
   },
   {
    "duration": 0,
    "start_time": "2024-10-18T17:00:03.668Z"
   },
   {
    "duration": 0,
    "start_time": "2024-10-18T17:00:03.669Z"
   },
   {
    "duration": 0,
    "start_time": "2024-10-18T17:00:03.670Z"
   },
   {
    "duration": 0,
    "start_time": "2024-10-18T17:00:03.671Z"
   },
   {
    "duration": 0,
    "start_time": "2024-10-18T17:00:03.672Z"
   },
   {
    "duration": 0,
    "start_time": "2024-10-18T17:00:03.673Z"
   },
   {
    "duration": 0,
    "start_time": "2024-10-18T17:00:03.674Z"
   },
   {
    "duration": 0,
    "start_time": "2024-10-18T17:00:03.675Z"
   },
   {
    "duration": 0,
    "start_time": "2024-10-18T17:00:03.721Z"
   },
   {
    "duration": 0,
    "start_time": "2024-10-18T17:00:03.722Z"
   },
   {
    "duration": 0,
    "start_time": "2024-10-18T17:00:03.723Z"
   },
   {
    "duration": 0,
    "start_time": "2024-10-18T17:00:03.724Z"
   },
   {
    "duration": 0,
    "start_time": "2024-10-18T17:00:03.725Z"
   },
   {
    "duration": 0,
    "start_time": "2024-10-18T17:00:03.726Z"
   },
   {
    "duration": 0,
    "start_time": "2024-10-18T17:00:03.727Z"
   },
   {
    "duration": 0,
    "start_time": "2024-10-18T17:00:03.728Z"
   },
   {
    "duration": 0,
    "start_time": "2024-10-18T17:00:03.729Z"
   },
   {
    "duration": 0,
    "start_time": "2024-10-18T17:00:03.730Z"
   },
   {
    "duration": 0,
    "start_time": "2024-10-18T17:00:03.731Z"
   },
   {
    "duration": 0,
    "start_time": "2024-10-18T17:00:03.732Z"
   },
   {
    "duration": 0,
    "start_time": "2024-10-18T17:00:03.733Z"
   },
   {
    "duration": 0,
    "start_time": "2024-10-18T17:00:03.734Z"
   },
   {
    "duration": 0,
    "start_time": "2024-10-18T17:00:03.735Z"
   },
   {
    "duration": 0,
    "start_time": "2024-10-18T17:00:03.736Z"
   },
   {
    "duration": 0,
    "start_time": "2024-10-18T17:00:03.736Z"
   },
   {
    "duration": 0,
    "start_time": "2024-10-18T17:00:03.737Z"
   },
   {
    "duration": 189,
    "start_time": "2024-10-18T17:00:47.342Z"
   },
   {
    "duration": 18,
    "start_time": "2024-10-18T17:00:49.685Z"
   },
   {
    "duration": 16,
    "start_time": "2024-10-18T17:00:55.370Z"
   },
   {
    "duration": 17,
    "start_time": "2024-10-18T17:02:58.874Z"
   },
   {
    "duration": 13,
    "start_time": "2024-10-18T17:03:05.278Z"
   },
   {
    "duration": 174,
    "start_time": "2024-10-18T17:03:11.727Z"
   },
   {
    "duration": 140,
    "start_time": "2024-10-18T17:03:13.199Z"
   },
   {
    "duration": 16,
    "start_time": "2024-10-18T17:04:17.125Z"
   },
   {
    "duration": 273,
    "start_time": "2024-10-18T17:05:23.388Z"
   },
   {
    "duration": 10,
    "start_time": "2024-10-18T17:05:25.754Z"
   },
   {
    "duration": 25,
    "start_time": "2024-10-18T17:07:31.654Z"
   },
   {
    "duration": 23,
    "start_time": "2024-10-18T17:08:06.940Z"
   },
   {
    "duration": 177,
    "start_time": "2024-10-18T17:08:51.231Z"
   },
   {
    "duration": 16,
    "start_time": "2024-10-18T17:08:53.312Z"
   },
   {
    "duration": 17,
    "start_time": "2024-10-18T17:08:55.537Z"
   },
   {
    "duration": 186,
    "start_time": "2024-10-18T17:08:56.472Z"
   },
   {
    "duration": 210,
    "start_time": "2024-10-18T17:09:00.059Z"
   },
   {
    "duration": 8,
    "start_time": "2024-10-18T17:09:03.786Z"
   },
   {
    "duration": 290,
    "start_time": "2024-10-18T17:09:04.758Z"
   },
   {
    "duration": 10,
    "start_time": "2024-10-18T17:09:07.182Z"
   },
   {
    "duration": 394,
    "start_time": "2024-10-18T17:09:09.861Z"
   },
   {
    "duration": 15,
    "start_time": "2024-10-18T17:10:56.763Z"
   },
   {
    "duration": 321,
    "start_time": "2024-10-18T17:19:31.064Z"
   },
   {
    "duration": 881,
    "start_time": "2024-10-18T17:21:21.900Z"
   },
   {
    "duration": 919,
    "start_time": "2024-10-18T17:21:49.587Z"
   },
   {
    "duration": 837,
    "start_time": "2024-10-18T17:22:29.878Z"
   },
   {
    "duration": 817,
    "start_time": "2024-10-18T17:22:56.741Z"
   },
   {
    "duration": 812,
    "start_time": "2024-10-18T17:23:10.777Z"
   },
   {
    "duration": 803,
    "start_time": "2024-10-18T17:23:23.329Z"
   },
   {
    "duration": 835,
    "start_time": "2024-10-18T17:23:30.606Z"
   },
   {
    "duration": 893,
    "start_time": "2024-10-18T17:23:43.438Z"
   },
   {
    "duration": 157,
    "start_time": "2024-10-18T17:26:09.874Z"
   },
   {
    "duration": 271,
    "start_time": "2024-10-18T17:26:37.014Z"
   },
   {
    "duration": 255,
    "start_time": "2024-10-18T17:26:47.839Z"
   },
   {
    "duration": 247,
    "start_time": "2024-10-18T17:30:01.110Z"
   },
   {
    "duration": 802,
    "start_time": "2024-10-18T17:30:57.511Z"
   },
   {
    "duration": 1135,
    "start_time": "2024-10-18T17:32:25.293Z"
   },
   {
    "duration": 16,
    "start_time": "2024-10-18T17:32:53.854Z"
   },
   {
    "duration": 6684,
    "start_time": "2024-10-18T17:33:28.771Z"
   },
   {
    "duration": 765,
    "start_time": "2024-10-18T17:34:18.109Z"
   },
   {
    "duration": 725,
    "start_time": "2024-10-18T17:34:53.045Z"
   },
   {
    "duration": 8,
    "start_time": "2024-10-18T17:37:02.080Z"
   },
   {
    "duration": 192,
    "start_time": "2024-10-18T17:37:02.828Z"
   },
   {
    "duration": 254,
    "start_time": "2024-10-18T17:49:14.663Z"
   },
   {
    "duration": 405,
    "start_time": "2024-10-18T17:49:23.660Z"
   },
   {
    "duration": 374,
    "start_time": "2024-10-18T18:08:48.529Z"
   },
   {
    "duration": 385,
    "start_time": "2024-10-18T18:12:05.275Z"
   },
   {
    "duration": 251,
    "start_time": "2024-10-18T18:14:28.720Z"
   },
   {
    "duration": 365,
    "start_time": "2024-10-18T18:14:30.205Z"
   },
   {
    "duration": 12,
    "start_time": "2024-10-18T18:37:58.956Z"
   },
   {
    "duration": 17,
    "start_time": "2024-10-18T18:38:04.604Z"
   },
   {
    "duration": 14,
    "start_time": "2024-10-18T18:38:05.079Z"
   },
   {
    "duration": 15,
    "start_time": "2024-10-18T18:38:05.823Z"
   },
   {
    "duration": 11,
    "start_time": "2024-10-18T18:38:08.196Z"
   },
   {
    "duration": 13,
    "start_time": "2024-10-18T18:38:09.113Z"
   },
   {
    "duration": 13,
    "start_time": "2024-10-18T18:38:16.250Z"
   },
   {
    "duration": 192,
    "start_time": "2024-10-18T18:43:48.264Z"
   },
   {
    "duration": 237,
    "start_time": "2024-10-18T18:44:51.287Z"
   },
   {
    "duration": 202,
    "start_time": "2024-10-18T18:45:44.199Z"
   },
   {
    "duration": 91,
    "start_time": "2024-10-18T18:45:49.814Z"
   },
   {
    "duration": 186,
    "start_time": "2024-10-18T18:45:53.012Z"
   },
   {
    "duration": 188,
    "start_time": "2024-10-18T18:46:03.589Z"
   },
   {
    "duration": 280,
    "start_time": "2024-10-18T18:46:08.443Z"
   },
   {
    "duration": 186,
    "start_time": "2024-10-18T18:46:33.763Z"
   },
   {
    "duration": 212,
    "start_time": "2024-10-18T18:47:27.101Z"
   },
   {
    "duration": 148,
    "start_time": "2024-10-18T18:47:44.391Z"
   },
   {
    "duration": 180,
    "start_time": "2024-10-18T18:47:48.955Z"
   },
   {
    "duration": 178,
    "start_time": "2024-10-18T18:47:57.909Z"
   },
   {
    "duration": 180,
    "start_time": "2024-10-18T18:48:12.777Z"
   },
   {
    "duration": 209,
    "start_time": "2024-10-18T18:48:25.690Z"
   },
   {
    "duration": 183,
    "start_time": "2024-10-18T18:48:59.034Z"
   },
   {
    "duration": 233,
    "start_time": "2024-10-18T18:49:31.818Z"
   },
   {
    "duration": 214,
    "start_time": "2024-10-18T18:49:48.568Z"
   },
   {
    "duration": 315,
    "start_time": "2024-10-18T18:50:03.230Z"
   },
   {
    "duration": 219,
    "start_time": "2024-10-18T18:50:22.276Z"
   },
   {
    "duration": 218,
    "start_time": "2024-10-18T18:50:50.056Z"
   },
   {
    "duration": 221,
    "start_time": "2024-10-18T18:51:02.619Z"
   },
   {
    "duration": 225,
    "start_time": "2024-10-18T18:51:17.551Z"
   },
   {
    "duration": 234,
    "start_time": "2024-10-18T18:51:29.504Z"
   },
   {
    "duration": 234,
    "start_time": "2024-10-18T18:51:44.751Z"
   },
   {
    "duration": 227,
    "start_time": "2024-10-18T18:51:55.052Z"
   },
   {
    "duration": 197,
    "start_time": "2024-10-18T18:52:08.098Z"
   },
   {
    "duration": 198,
    "start_time": "2024-10-18T18:52:16.390Z"
   },
   {
    "duration": 225,
    "start_time": "2024-10-18T18:52:30.539Z"
   },
   {
    "duration": 313,
    "start_time": "2024-10-18T18:53:09.888Z"
   },
   {
    "duration": 151,
    "start_time": "2024-10-18T18:54:50.986Z"
   },
   {
    "duration": 285,
    "start_time": "2024-10-18T18:55:52.756Z"
   },
   {
    "duration": 253,
    "start_time": "2024-10-18T18:56:52.619Z"
   },
   {
    "duration": 248,
    "start_time": "2024-10-18T18:57:03.919Z"
   },
   {
    "duration": 68,
    "start_time": "2024-10-18T18:57:14.806Z"
   },
   {
    "duration": 274,
    "start_time": "2024-10-18T18:57:30.711Z"
   },
   {
    "duration": 352,
    "start_time": "2024-10-18T18:58:09.886Z"
   },
   {
    "duration": 180,
    "start_time": "2024-10-18T18:59:00.839Z"
   },
   {
    "duration": 1227,
    "start_time": "2024-10-18T18:59:07.725Z"
   },
   {
    "duration": 69,
    "start_time": "2024-10-18T18:59:08.955Z"
   },
   {
    "duration": 43,
    "start_time": "2024-10-18T18:59:09.025Z"
   },
   {
    "duration": 9,
    "start_time": "2024-10-18T18:59:09.070Z"
   },
   {
    "duration": 8,
    "start_time": "2024-10-18T18:59:09.081Z"
   },
   {
    "duration": 30,
    "start_time": "2024-10-18T18:59:09.091Z"
   },
   {
    "duration": 10,
    "start_time": "2024-10-18T18:59:09.123Z"
   },
   {
    "duration": 9,
    "start_time": "2024-10-18T18:59:09.134Z"
   },
   {
    "duration": 22,
    "start_time": "2024-10-18T18:59:09.145Z"
   },
   {
    "duration": 6,
    "start_time": "2024-10-18T18:59:09.169Z"
   },
   {
    "duration": 8,
    "start_time": "2024-10-18T18:59:09.177Z"
   },
   {
    "duration": 5,
    "start_time": "2024-10-18T18:59:09.187Z"
   },
   {
    "duration": 12,
    "start_time": "2024-10-18T18:59:09.221Z"
   },
   {
    "duration": 29,
    "start_time": "2024-10-18T18:59:09.236Z"
   },
   {
    "duration": 194,
    "start_time": "2024-10-18T18:59:09.267Z"
   },
   {
    "duration": 22,
    "start_time": "2024-10-18T18:59:09.463Z"
   },
   {
    "duration": 34,
    "start_time": "2024-10-18T18:59:09.487Z"
   },
   {
    "duration": 197,
    "start_time": "2024-10-18T18:59:09.524Z"
   },
   {
    "duration": 150,
    "start_time": "2024-10-18T18:59:09.723Z"
   },
   {
    "duration": 9,
    "start_time": "2024-10-18T18:59:09.875Z"
   },
   {
    "duration": 305,
    "start_time": "2024-10-18T18:59:09.886Z"
   },
   {
    "duration": 10,
    "start_time": "2024-10-18T18:59:10.193Z"
   },
   {
    "duration": 455,
    "start_time": "2024-10-18T18:59:10.205Z"
   },
   {
    "duration": 910,
    "start_time": "2024-10-18T18:59:10.662Z"
   },
   {
    "duration": 9,
    "start_time": "2024-10-18T18:59:11.574Z"
   },
   {
    "duration": 352,
    "start_time": "2024-10-18T18:59:11.584Z"
   },
   {
    "duration": 310,
    "start_time": "2024-10-18T18:59:11.938Z"
   },
   {
    "duration": 15,
    "start_time": "2024-10-18T18:59:12.250Z"
   },
   {
    "duration": 17,
    "start_time": "2024-10-18T18:59:12.266Z"
   },
   {
    "duration": 24,
    "start_time": "2024-10-18T18:59:12.285Z"
   },
   {
    "duration": 13,
    "start_time": "2024-10-18T18:59:12.320Z"
   },
   {
    "duration": 13,
    "start_time": "2024-10-18T18:59:12.335Z"
   },
   {
    "duration": 13,
    "start_time": "2024-10-18T18:59:12.349Z"
   },
   {
    "duration": 9,
    "start_time": "2024-10-18T18:59:12.364Z"
   },
   {
    "duration": 36,
    "start_time": "2024-10-18T18:59:12.386Z"
   },
   {
    "duration": 293,
    "start_time": "2024-10-18T18:59:12.423Z"
   },
   {
    "duration": 9,
    "start_time": "2024-10-18T18:59:12.720Z"
   },
   {
    "duration": 11,
    "start_time": "2024-10-18T18:59:12.732Z"
   },
   {
    "duration": 290,
    "start_time": "2024-10-18T18:59:12.745Z"
   },
   {
    "duration": 11,
    "start_time": "2024-10-18T18:59:13.037Z"
   },
   {
    "duration": 7,
    "start_time": "2024-10-18T18:59:13.052Z"
   },
   {
    "duration": 69,
    "start_time": "2024-10-18T18:59:13.061Z"
   },
   {
    "duration": 8,
    "start_time": "2024-10-18T18:59:13.132Z"
   },
   {
    "duration": 18,
    "start_time": "2024-10-18T18:59:13.142Z"
   },
   {
    "duration": 16,
    "start_time": "2024-10-18T18:59:13.162Z"
   },
   {
    "duration": 19,
    "start_time": "2024-10-18T18:59:13.179Z"
   },
   {
    "duration": 6,
    "start_time": "2024-10-18T18:59:13.200Z"
   },
   {
    "duration": 13,
    "start_time": "2024-10-18T18:59:13.208Z"
   },
   {
    "duration": 383,
    "start_time": "2024-10-18T18:59:13.223Z"
   },
   {
    "duration": 182,
    "start_time": "2024-10-18T19:00:23.412Z"
   },
   {
    "duration": 157,
    "start_time": "2024-10-18T19:12:41.452Z"
   },
   {
    "duration": 152,
    "start_time": "2024-10-18T19:13:58.375Z"
   },
   {
    "duration": 131,
    "start_time": "2024-10-18T19:16:25.210Z"
   },
   {
    "duration": 120,
    "start_time": "2024-10-18T19:16:45.627Z"
   },
   {
    "duration": 226,
    "start_time": "2024-10-18T19:20:03.987Z"
   },
   {
    "duration": 147,
    "start_time": "2024-10-18T19:20:57.797Z"
   },
   {
    "duration": 144,
    "start_time": "2024-10-18T19:21:02.562Z"
   },
   {
    "duration": 153,
    "start_time": "2024-10-18T19:21:30.773Z"
   },
   {
    "duration": 266,
    "start_time": "2024-10-18T19:22:28.969Z"
   },
   {
    "duration": 281,
    "start_time": "2024-10-18T19:23:25.149Z"
   },
   {
    "duration": 267,
    "start_time": "2024-10-18T19:23:32.789Z"
   },
   {
    "duration": 275,
    "start_time": "2024-10-18T19:23:53.854Z"
   },
   {
    "duration": 282,
    "start_time": "2024-10-18T19:24:07.139Z"
   },
   {
    "duration": 283,
    "start_time": "2024-10-18T19:24:12.168Z"
   },
   {
    "duration": 230,
    "start_time": "2024-10-18T19:24:23.557Z"
   },
   {
    "duration": 373,
    "start_time": "2024-10-18T19:24:28.391Z"
   },
   {
    "duration": 353,
    "start_time": "2024-10-18T19:25:23.091Z"
   },
   {
    "duration": 362,
    "start_time": "2024-10-18T19:25:32.086Z"
   },
   {
    "duration": 378,
    "start_time": "2024-10-18T19:26:16.459Z"
   },
   {
    "duration": 103,
    "start_time": "2024-10-18T19:26:54.130Z"
   },
   {
    "duration": 106,
    "start_time": "2024-10-18T19:27:04.385Z"
   },
   {
    "duration": 444,
    "start_time": "2024-10-18T19:28:55.744Z"
   },
   {
    "duration": 286,
    "start_time": "2024-10-18T19:30:58.784Z"
   },
   {
    "duration": 294,
    "start_time": "2024-10-18T19:31:08.465Z"
   },
   {
    "duration": 286,
    "start_time": "2024-10-18T19:31:22.018Z"
   },
   {
    "duration": 252,
    "start_time": "2024-10-18T19:31:53.131Z"
   },
   {
    "duration": 351,
    "start_time": "2024-10-18T19:32:33.170Z"
   },
   {
    "duration": 252,
    "start_time": "2024-10-18T19:32:48.957Z"
   },
   {
    "duration": 193,
    "start_time": "2024-10-18T19:33:44.074Z"
   },
   {
    "duration": 184,
    "start_time": "2024-10-18T19:33:54.829Z"
   },
   {
    "duration": 180,
    "start_time": "2024-10-18T19:34:03.416Z"
   },
   {
    "duration": 220,
    "start_time": "2024-10-18T19:34:17.792Z"
   },
   {
    "duration": 1238,
    "start_time": "2024-10-18T19:34:46.034Z"
   },
   {
    "duration": 71,
    "start_time": "2024-10-18T19:34:47.274Z"
   },
   {
    "duration": 34,
    "start_time": "2024-10-18T19:34:47.347Z"
   },
   {
    "duration": 8,
    "start_time": "2024-10-18T19:34:47.383Z"
   },
   {
    "duration": 8,
    "start_time": "2024-10-18T19:34:47.394Z"
   },
   {
    "duration": 7,
    "start_time": "2024-10-18T19:34:47.422Z"
   },
   {
    "duration": 18,
    "start_time": "2024-10-18T19:34:47.430Z"
   },
   {
    "duration": 19,
    "start_time": "2024-10-18T19:34:47.449Z"
   },
   {
    "duration": 9,
    "start_time": "2024-10-18T19:34:47.470Z"
   },
   {
    "duration": 7,
    "start_time": "2024-10-18T19:34:47.481Z"
   },
   {
    "duration": 32,
    "start_time": "2024-10-18T19:34:47.490Z"
   },
   {
    "duration": 5,
    "start_time": "2024-10-18T19:34:47.523Z"
   },
   {
    "duration": 12,
    "start_time": "2024-10-18T19:34:47.530Z"
   },
   {
    "duration": 19,
    "start_time": "2024-10-18T19:34:47.545Z"
   },
   {
    "duration": 235,
    "start_time": "2024-10-18T19:34:47.566Z"
   },
   {
    "duration": 26,
    "start_time": "2024-10-18T19:34:47.803Z"
   },
   {
    "duration": 20,
    "start_time": "2024-10-18T19:34:47.831Z"
   },
   {
    "duration": 204,
    "start_time": "2024-10-18T19:34:47.853Z"
   },
   {
    "duration": 154,
    "start_time": "2024-10-18T19:34:48.059Z"
   },
   {
    "duration": 13,
    "start_time": "2024-10-18T19:34:48.215Z"
   },
   {
    "duration": 295,
    "start_time": "2024-10-18T19:34:48.230Z"
   },
   {
    "duration": 11,
    "start_time": "2024-10-18T19:34:48.527Z"
   },
   {
    "duration": 270,
    "start_time": "2024-10-18T19:34:48.540Z"
   },
   {
    "duration": 407,
    "start_time": "2024-10-18T19:34:48.813Z"
   },
   {
    "duration": 9,
    "start_time": "2024-10-18T19:34:49.222Z"
   },
   {
    "duration": 214,
    "start_time": "2024-10-18T19:34:49.233Z"
   },
   {
    "duration": 299,
    "start_time": "2024-10-18T19:34:49.448Z"
   },
   {
    "duration": 16,
    "start_time": "2024-10-18T19:34:49.749Z"
   },
   {
    "duration": 13,
    "start_time": "2024-10-18T19:34:49.766Z"
   },
   {
    "duration": 40,
    "start_time": "2024-10-18T19:34:49.781Z"
   },
   {
    "duration": 11,
    "start_time": "2024-10-18T19:34:49.823Z"
   },
   {
    "duration": 20,
    "start_time": "2024-10-18T19:34:49.835Z"
   },
   {
    "duration": 18,
    "start_time": "2024-10-18T19:34:49.856Z"
   },
   {
    "duration": 8,
    "start_time": "2024-10-18T19:34:49.875Z"
   },
   {
    "duration": 9,
    "start_time": "2024-10-18T19:34:49.884Z"
   },
   {
    "duration": 229,
    "start_time": "2024-10-18T19:34:49.894Z"
   },
   {
    "duration": 9,
    "start_time": "2024-10-18T19:34:50.125Z"
   },
   {
    "duration": 22,
    "start_time": "2024-10-18T19:34:50.135Z"
   },
   {
    "duration": 780,
    "start_time": "2024-10-18T19:34:50.159Z"
   },
   {
    "duration": 212,
    "start_time": "2024-10-18T19:34:50.941Z"
   },
   {
    "duration": 67,
    "start_time": "2024-10-18T19:34:51.157Z"
   },
   {
    "duration": 27,
    "start_time": "2024-10-18T19:34:51.226Z"
   },
   {
    "duration": 96,
    "start_time": "2024-10-18T19:34:51.255Z"
   },
   {
    "duration": 7,
    "start_time": "2024-10-18T19:34:51.353Z"
   },
   {
    "duration": 61,
    "start_time": "2024-10-18T19:34:51.362Z"
   },
   {
    "duration": 26,
    "start_time": "2024-10-18T19:34:51.424Z"
   },
   {
    "duration": 20,
    "start_time": "2024-10-18T19:34:51.452Z"
   },
   {
    "duration": 6,
    "start_time": "2024-10-18T19:34:51.474Z"
   },
   {
    "duration": 45,
    "start_time": "2024-10-18T19:34:51.482Z"
   },
   {
    "duration": 693,
    "start_time": "2024-10-18T19:34:51.528Z"
   },
   {
    "duration": 349,
    "start_time": "2024-10-18T19:35:54.173Z"
   },
   {
    "duration": 346,
    "start_time": "2024-10-18T19:36:02.637Z"
   },
   {
    "duration": 362,
    "start_time": "2024-10-18T19:36:09.278Z"
   },
   {
    "duration": 50,
    "start_time": "2024-10-18T19:37:22.233Z"
   },
   {
    "duration": 1177,
    "start_time": "2024-10-18T19:37:31.672Z"
   },
   {
    "duration": 70,
    "start_time": "2024-10-18T19:37:32.852Z"
   },
   {
    "duration": 34,
    "start_time": "2024-10-18T19:37:32.923Z"
   },
   {
    "duration": 189,
    "start_time": "2024-10-18T19:37:32.959Z"
   },
   {
    "duration": 10,
    "start_time": "2024-10-18T19:37:33.151Z"
   },
   {
    "duration": 30,
    "start_time": "2024-10-18T19:37:33.162Z"
   },
   {
    "duration": 27,
    "start_time": "2024-10-18T19:37:33.194Z"
   },
   {
    "duration": 29,
    "start_time": "2024-10-18T19:37:33.223Z"
   },
   {
    "duration": 39,
    "start_time": "2024-10-18T19:37:33.254Z"
   },
   {
    "duration": 31,
    "start_time": "2024-10-18T19:37:33.296Z"
   },
   {
    "duration": 27,
    "start_time": "2024-10-18T19:37:33.329Z"
   },
   {
    "duration": 13,
    "start_time": "2024-10-18T19:37:33.358Z"
   },
   {
    "duration": 21,
    "start_time": "2024-10-18T19:37:33.372Z"
   },
   {
    "duration": 41,
    "start_time": "2024-10-18T19:37:33.397Z"
   },
   {
    "duration": 188,
    "start_time": "2024-10-18T19:37:33.440Z"
   },
   {
    "duration": 17,
    "start_time": "2024-10-18T19:37:33.630Z"
   },
   {
    "duration": 34,
    "start_time": "2024-10-18T19:37:33.649Z"
   },
   {
    "duration": 182,
    "start_time": "2024-10-18T19:37:33.685Z"
   },
   {
    "duration": 286,
    "start_time": "2024-10-18T19:37:33.868Z"
   },
   {
    "duration": 8,
    "start_time": "2024-10-18T19:37:34.156Z"
   },
   {
    "duration": 659,
    "start_time": "2024-10-18T19:37:34.165Z"
   },
   {
    "duration": 10,
    "start_time": "2024-10-18T19:37:34.825Z"
   },
   {
    "duration": 592,
    "start_time": "2024-10-18T19:37:34.836Z"
   },
   {
    "duration": 427,
    "start_time": "2024-10-18T19:37:35.429Z"
   },
   {
    "duration": 11,
    "start_time": "2024-10-18T19:37:35.858Z"
   },
   {
    "duration": 208,
    "start_time": "2024-10-18T19:37:35.871Z"
   },
   {
    "duration": 316,
    "start_time": "2024-10-18T19:37:36.080Z"
   },
   {
    "duration": 16,
    "start_time": "2024-10-18T19:37:36.398Z"
   },
   {
    "duration": 15,
    "start_time": "2024-10-18T19:37:36.421Z"
   },
   {
    "duration": 41,
    "start_time": "2024-10-18T19:37:36.438Z"
   },
   {
    "duration": 15,
    "start_time": "2024-10-18T19:37:36.481Z"
   },
   {
    "duration": 30,
    "start_time": "2024-10-18T19:37:36.498Z"
   },
   {
    "duration": 38,
    "start_time": "2024-10-18T19:37:36.529Z"
   },
   {
    "duration": 29,
    "start_time": "2024-10-18T19:37:36.569Z"
   },
   {
    "duration": 27,
    "start_time": "2024-10-18T19:37:36.600Z"
   },
   {
    "duration": 168,
    "start_time": "2024-10-18T19:37:36.629Z"
   },
   {
    "duration": 8,
    "start_time": "2024-10-18T19:37:36.799Z"
   },
   {
    "duration": 12,
    "start_time": "2024-10-18T19:37:36.809Z"
   },
   {
    "duration": 364,
    "start_time": "2024-10-18T19:37:36.823Z"
   },
   {
    "duration": 120,
    "start_time": "2024-10-18T19:37:37.189Z"
   },
   {
    "duration": 13,
    "start_time": "2024-10-18T19:37:37.323Z"
   },
   {
    "duration": 13,
    "start_time": "2024-10-18T19:37:37.338Z"
   },
   {
    "duration": 67,
    "start_time": "2024-10-18T19:37:37.353Z"
   },
   {
    "duration": 9,
    "start_time": "2024-10-18T19:37:37.421Z"
   },
   {
    "duration": 24,
    "start_time": "2024-10-18T19:37:37.432Z"
   },
   {
    "duration": 8,
    "start_time": "2024-10-18T19:37:37.458Z"
   },
   {
    "duration": 16,
    "start_time": "2024-10-18T19:37:37.468Z"
   },
   {
    "duration": 5,
    "start_time": "2024-10-18T19:37:37.486Z"
   },
   {
    "duration": 32,
    "start_time": "2024-10-18T19:37:37.493Z"
   },
   {
    "duration": 372,
    "start_time": "2024-10-18T19:37:37.527Z"
   },
   {
    "duration": 1557,
    "start_time": "2024-10-19T14:47:01.005Z"
   },
   {
    "duration": 392,
    "start_time": "2024-10-19T14:47:02.564Z"
   },
   {
    "duration": 38,
    "start_time": "2024-10-19T14:47:02.958Z"
   },
   {
    "duration": 28,
    "start_time": "2024-10-19T14:47:02.999Z"
   },
   {
    "duration": 12,
    "start_time": "2024-10-19T14:47:03.029Z"
   },
   {
    "duration": 23,
    "start_time": "2024-10-19T14:47:03.043Z"
   },
   {
    "duration": 11,
    "start_time": "2024-10-19T14:47:03.068Z"
   },
   {
    "duration": 9,
    "start_time": "2024-10-19T14:47:03.081Z"
   },
   {
    "duration": 45,
    "start_time": "2024-10-19T14:47:03.092Z"
   },
   {
    "duration": 8,
    "start_time": "2024-10-19T14:47:03.139Z"
   },
   {
    "duration": 25,
    "start_time": "2024-10-19T14:47:03.149Z"
   },
   {
    "duration": 6,
    "start_time": "2024-10-19T14:47:03.176Z"
   },
   {
    "duration": 51,
    "start_time": "2024-10-19T14:47:03.184Z"
   },
   {
    "duration": 37,
    "start_time": "2024-10-19T14:47:03.237Z"
   },
   {
    "duration": 206,
    "start_time": "2024-10-19T14:47:03.275Z"
   },
   {
    "duration": 34,
    "start_time": "2024-10-19T14:47:03.483Z"
   },
   {
    "duration": 21,
    "start_time": "2024-10-19T14:47:03.524Z"
   },
   {
    "duration": 214,
    "start_time": "2024-10-19T14:47:03.546Z"
   },
   {
    "duration": 176,
    "start_time": "2024-10-19T14:47:03.762Z"
   },
   {
    "duration": 8,
    "start_time": "2024-10-19T14:47:03.939Z"
   },
   {
    "duration": 318,
    "start_time": "2024-10-19T14:47:03.949Z"
   },
   {
    "duration": 9,
    "start_time": "2024-10-19T14:47:04.269Z"
   },
   {
    "duration": 320,
    "start_time": "2024-10-19T14:47:04.280Z"
   },
   {
    "duration": 445,
    "start_time": "2024-10-19T14:47:04.601Z"
   },
   {
    "duration": 8,
    "start_time": "2024-10-19T14:47:05.048Z"
   },
   {
    "duration": 210,
    "start_time": "2024-10-19T14:47:05.057Z"
   },
   {
    "duration": 322,
    "start_time": "2024-10-19T14:47:05.268Z"
   },
   {
    "duration": 27,
    "start_time": "2024-10-19T14:47:05.593Z"
   },
   {
    "duration": 17,
    "start_time": "2024-10-19T14:47:05.627Z"
   },
   {
    "duration": 23,
    "start_time": "2024-10-19T14:47:05.645Z"
   },
   {
    "duration": 15,
    "start_time": "2024-10-19T14:47:05.670Z"
   },
   {
    "duration": 37,
    "start_time": "2024-10-19T14:47:05.686Z"
   },
   {
    "duration": 28,
    "start_time": "2024-10-19T14:47:05.724Z"
   },
   {
    "duration": 30,
    "start_time": "2024-10-19T14:47:05.754Z"
   },
   {
    "duration": 63,
    "start_time": "2024-10-19T14:47:05.786Z"
   },
   {
    "duration": 189,
    "start_time": "2024-10-19T14:47:05.850Z"
   },
   {
    "duration": 10,
    "start_time": "2024-10-19T14:47:06.041Z"
   },
   {
    "duration": 18,
    "start_time": "2024-10-19T14:47:06.052Z"
   },
   {
    "duration": 432,
    "start_time": "2024-10-19T14:47:06.072Z"
   },
   {
    "duration": 322,
    "start_time": "2024-10-19T14:47:06.505Z"
   },
   {
    "duration": 16,
    "start_time": "2024-10-19T14:47:06.833Z"
   },
   {
    "duration": 12,
    "start_time": "2024-10-19T14:47:06.899Z"
   },
   {
    "duration": 114,
    "start_time": "2024-10-19T14:47:06.915Z"
   },
   {
    "duration": 8,
    "start_time": "2024-10-19T14:47:07.032Z"
   },
   {
    "duration": 64,
    "start_time": "2024-10-19T14:47:07.041Z"
   },
   {
    "duration": 12,
    "start_time": "2024-10-19T14:47:07.107Z"
   },
   {
    "duration": 16,
    "start_time": "2024-10-19T14:47:07.121Z"
   },
   {
    "duration": 20,
    "start_time": "2024-10-19T14:47:07.139Z"
   },
   {
    "duration": 62,
    "start_time": "2024-10-19T14:47:07.161Z"
   },
   {
    "duration": 1015,
    "start_time": "2024-10-19T14:47:07.225Z"
   },
   {
    "duration": 383,
    "start_time": "2024-10-19T14:49:27.795Z"
   },
   {
    "duration": 377,
    "start_time": "2024-10-19T14:49:40.912Z"
   },
   {
    "duration": 1177,
    "start_time": "2024-10-19T14:49:50.364Z"
   },
   {
    "duration": 82,
    "start_time": "2024-10-19T14:49:51.543Z"
   },
   {
    "duration": 33,
    "start_time": "2024-10-19T14:49:51.627Z"
   },
   {
    "duration": 51,
    "start_time": "2024-10-19T14:49:51.662Z"
   },
   {
    "duration": 17,
    "start_time": "2024-10-19T14:49:51.719Z"
   },
   {
    "duration": 7,
    "start_time": "2024-10-19T14:49:51.737Z"
   },
   {
    "duration": 75,
    "start_time": "2024-10-19T14:49:51.745Z"
   },
   {
    "duration": 13,
    "start_time": "2024-10-19T14:49:51.822Z"
   },
   {
    "duration": 19,
    "start_time": "2024-10-19T14:49:51.837Z"
   },
   {
    "duration": 13,
    "start_time": "2024-10-19T14:49:51.898Z"
   },
   {
    "duration": 21,
    "start_time": "2024-10-19T14:49:51.914Z"
   },
   {
    "duration": 5,
    "start_time": "2024-10-19T14:49:51.937Z"
   },
   {
    "duration": 65,
    "start_time": "2024-10-19T14:49:51.944Z"
   },
   {
    "duration": 25,
    "start_time": "2024-10-19T14:49:52.013Z"
   },
   {
    "duration": 475,
    "start_time": "2024-10-19T14:49:52.040Z"
   },
   {
    "duration": 18,
    "start_time": "2024-10-19T14:49:52.517Z"
   },
   {
    "duration": 96,
    "start_time": "2024-10-19T14:49:52.536Z"
   },
   {
    "duration": 403,
    "start_time": "2024-10-19T14:49:52.633Z"
   },
   {
    "duration": 385,
    "start_time": "2024-10-19T14:49:53.037Z"
   },
   {
    "duration": 9,
    "start_time": "2024-10-19T14:49:53.428Z"
   },
   {
    "duration": 324,
    "start_time": "2024-10-19T14:49:53.438Z"
   },
   {
    "duration": 9,
    "start_time": "2024-10-19T14:49:53.763Z"
   },
   {
    "duration": 288,
    "start_time": "2024-10-19T14:49:53.774Z"
   },
   {
    "duration": 399,
    "start_time": "2024-10-19T14:49:54.063Z"
   },
   {
    "duration": 9,
    "start_time": "2024-10-19T14:49:54.464Z"
   },
   {
    "duration": 205,
    "start_time": "2024-10-19T14:49:54.475Z"
   },
   {
    "duration": 331,
    "start_time": "2024-10-19T14:49:54.682Z"
   },
   {
    "duration": 19,
    "start_time": "2024-10-19T14:49:55.014Z"
   },
   {
    "duration": 17,
    "start_time": "2024-10-19T14:49:55.035Z"
   },
   {
    "duration": 24,
    "start_time": "2024-10-19T14:49:55.053Z"
   },
   {
    "duration": 10,
    "start_time": "2024-10-19T14:49:55.079Z"
   },
   {
    "duration": 18,
    "start_time": "2024-10-19T14:49:55.091Z"
   },
   {
    "duration": 26,
    "start_time": "2024-10-19T14:49:55.110Z"
   },
   {
    "duration": 14,
    "start_time": "2024-10-19T14:49:55.137Z"
   },
   {
    "duration": 8,
    "start_time": "2024-10-19T14:49:55.153Z"
   },
   {
    "duration": 171,
    "start_time": "2024-10-19T14:49:55.162Z"
   },
   {
    "duration": 8,
    "start_time": "2024-10-19T14:49:55.335Z"
   },
   {
    "duration": 9,
    "start_time": "2024-10-19T14:49:55.345Z"
   },
   {
    "duration": 383,
    "start_time": "2024-10-19T14:49:55.356Z"
   },
   {
    "duration": 122,
    "start_time": "2024-10-19T14:49:55.741Z"
   },
   {
    "duration": 12,
    "start_time": "2024-10-19T14:49:55.866Z"
   },
   {
    "duration": 35,
    "start_time": "2024-10-19T14:49:55.880Z"
   },
   {
    "duration": 48,
    "start_time": "2024-10-19T14:49:55.917Z"
   },
   {
    "duration": 7,
    "start_time": "2024-10-19T14:49:55.967Z"
   },
   {
    "duration": 11,
    "start_time": "2024-10-19T14:49:55.976Z"
   },
   {
    "duration": 24,
    "start_time": "2024-10-19T14:49:55.988Z"
   },
   {
    "duration": 7,
    "start_time": "2024-10-19T14:49:56.022Z"
   },
   {
    "duration": 33,
    "start_time": "2024-10-19T14:49:56.030Z"
   },
   {
    "duration": 12,
    "start_time": "2024-10-19T14:49:56.065Z"
   },
   {
    "duration": 418,
    "start_time": "2024-10-19T14:49:56.078Z"
   },
   {
    "duration": 1415,
    "start_time": "2024-10-29T17:39:35.243Z"
   },
   {
    "duration": 287,
    "start_time": "2024-10-29T17:39:36.661Z"
   },
   {
    "duration": 30,
    "start_time": "2024-10-29T17:39:36.949Z"
   },
   {
    "duration": 114,
    "start_time": "2024-10-29T17:39:36.981Z"
   },
   {
    "duration": 0,
    "start_time": "2024-10-29T17:39:37.098Z"
   },
   {
    "duration": 0,
    "start_time": "2024-10-29T17:39:37.099Z"
   },
   {
    "duration": 0,
    "start_time": "2024-10-29T17:39:37.100Z"
   },
   {
    "duration": 0,
    "start_time": "2024-10-29T17:39:37.101Z"
   },
   {
    "duration": 0,
    "start_time": "2024-10-29T17:39:37.102Z"
   },
   {
    "duration": 0,
    "start_time": "2024-10-29T17:39:37.103Z"
   },
   {
    "duration": 0,
    "start_time": "2024-10-29T17:39:37.104Z"
   },
   {
    "duration": 0,
    "start_time": "2024-10-29T17:39:37.105Z"
   },
   {
    "duration": 0,
    "start_time": "2024-10-29T17:39:37.107Z"
   },
   {
    "duration": 0,
    "start_time": "2024-10-29T17:39:37.108Z"
   },
   {
    "duration": 0,
    "start_time": "2024-10-29T17:39:37.110Z"
   },
   {
    "duration": 0,
    "start_time": "2024-10-29T17:39:37.111Z"
   },
   {
    "duration": 0,
    "start_time": "2024-10-29T17:39:37.112Z"
   },
   {
    "duration": 0,
    "start_time": "2024-10-29T17:39:37.113Z"
   },
   {
    "duration": 0,
    "start_time": "2024-10-29T17:39:37.114Z"
   },
   {
    "duration": 0,
    "start_time": "2024-10-29T17:39:37.115Z"
   },
   {
    "duration": 0,
    "start_time": "2024-10-29T17:39:37.143Z"
   },
   {
    "duration": 0,
    "start_time": "2024-10-29T17:39:37.144Z"
   },
   {
    "duration": 0,
    "start_time": "2024-10-29T17:39:37.146Z"
   },
   {
    "duration": 0,
    "start_time": "2024-10-29T17:39:37.147Z"
   },
   {
    "duration": 0,
    "start_time": "2024-10-29T17:39:37.148Z"
   },
   {
    "duration": 0,
    "start_time": "2024-10-29T17:39:37.149Z"
   },
   {
    "duration": 0,
    "start_time": "2024-10-29T17:39:37.150Z"
   },
   {
    "duration": 0,
    "start_time": "2024-10-29T17:39:37.151Z"
   },
   {
    "duration": 0,
    "start_time": "2024-10-29T17:39:37.152Z"
   },
   {
    "duration": 0,
    "start_time": "2024-10-29T17:39:37.153Z"
   },
   {
    "duration": 0,
    "start_time": "2024-10-29T17:39:37.154Z"
   },
   {
    "duration": 0,
    "start_time": "2024-10-29T17:39:37.155Z"
   },
   {
    "duration": 0,
    "start_time": "2024-10-29T17:39:37.156Z"
   },
   {
    "duration": 0,
    "start_time": "2024-10-29T17:39:37.157Z"
   },
   {
    "duration": 0,
    "start_time": "2024-10-29T17:39:37.159Z"
   },
   {
    "duration": 0,
    "start_time": "2024-10-29T17:39:37.159Z"
   },
   {
    "duration": 0,
    "start_time": "2024-10-29T17:39:37.161Z"
   },
   {
    "duration": 0,
    "start_time": "2024-10-29T17:39:37.162Z"
   },
   {
    "duration": 0,
    "start_time": "2024-10-29T17:39:37.163Z"
   },
   {
    "duration": 0,
    "start_time": "2024-10-29T17:39:37.164Z"
   },
   {
    "duration": 0,
    "start_time": "2024-10-29T17:39:37.165Z"
   },
   {
    "duration": 0,
    "start_time": "2024-10-29T17:39:37.166Z"
   },
   {
    "duration": 0,
    "start_time": "2024-10-29T17:39:37.167Z"
   },
   {
    "duration": 0,
    "start_time": "2024-10-29T17:39:37.168Z"
   },
   {
    "duration": 0,
    "start_time": "2024-10-29T17:39:37.169Z"
   },
   {
    "duration": 0,
    "start_time": "2024-10-29T17:39:37.170Z"
   },
   {
    "duration": 0,
    "start_time": "2024-10-29T17:39:37.171Z"
   },
   {
    "duration": 0,
    "start_time": "2024-10-29T17:39:37.172Z"
   },
   {
    "duration": 0,
    "start_time": "2024-10-29T17:39:37.173Z"
   },
   {
    "duration": 0,
    "start_time": "2024-10-29T17:39:37.175Z"
   },
   {
    "duration": 1158,
    "start_time": "2024-10-29T17:40:51.594Z"
   },
   {
    "duration": 72,
    "start_time": "2024-10-29T17:40:52.754Z"
   },
   {
    "duration": 32,
    "start_time": "2024-10-29T17:40:52.828Z"
   },
   {
    "duration": 10,
    "start_time": "2024-10-29T17:40:52.862Z"
   },
   {
    "duration": 11,
    "start_time": "2024-10-29T17:40:52.874Z"
   },
   {
    "duration": 8,
    "start_time": "2024-10-29T17:40:52.886Z"
   },
   {
    "duration": 140,
    "start_time": "2024-10-29T17:40:52.896Z"
   },
   {
    "duration": 0,
    "start_time": "2024-10-29T17:40:53.039Z"
   },
   {
    "duration": 0,
    "start_time": "2024-10-29T17:40:53.040Z"
   },
   {
    "duration": 0,
    "start_time": "2024-10-29T17:40:53.041Z"
   },
   {
    "duration": 0,
    "start_time": "2024-10-29T17:40:53.042Z"
   },
   {
    "duration": 0,
    "start_time": "2024-10-29T17:40:53.043Z"
   },
   {
    "duration": 0,
    "start_time": "2024-10-29T17:40:53.045Z"
   },
   {
    "duration": 0,
    "start_time": "2024-10-29T17:40:53.046Z"
   },
   {
    "duration": 0,
    "start_time": "2024-10-29T17:40:53.048Z"
   },
   {
    "duration": 0,
    "start_time": "2024-10-29T17:40:53.050Z"
   },
   {
    "duration": 0,
    "start_time": "2024-10-29T17:40:53.051Z"
   },
   {
    "duration": 0,
    "start_time": "2024-10-29T17:40:53.052Z"
   },
   {
    "duration": 0,
    "start_time": "2024-10-29T17:40:53.054Z"
   },
   {
    "duration": 0,
    "start_time": "2024-10-29T17:40:53.055Z"
   },
   {
    "duration": 0,
    "start_time": "2024-10-29T17:40:53.056Z"
   },
   {
    "duration": 0,
    "start_time": "2024-10-29T17:40:53.058Z"
   },
   {
    "duration": 0,
    "start_time": "2024-10-29T17:40:53.059Z"
   },
   {
    "duration": 0,
    "start_time": "2024-10-29T17:40:53.060Z"
   },
   {
    "duration": 0,
    "start_time": "2024-10-29T17:40:53.061Z"
   },
   {
    "duration": 0,
    "start_time": "2024-10-29T17:40:53.062Z"
   },
   {
    "duration": 0,
    "start_time": "2024-10-29T17:40:53.063Z"
   },
   {
    "duration": 0,
    "start_time": "2024-10-29T17:40:53.064Z"
   },
   {
    "duration": 0,
    "start_time": "2024-10-29T17:40:53.065Z"
   },
   {
    "duration": 0,
    "start_time": "2024-10-29T17:40:53.066Z"
   },
   {
    "duration": 0,
    "start_time": "2024-10-29T17:40:53.067Z"
   },
   {
    "duration": 0,
    "start_time": "2024-10-29T17:40:53.068Z"
   },
   {
    "duration": 0,
    "start_time": "2024-10-29T17:40:53.069Z"
   },
   {
    "duration": 0,
    "start_time": "2024-10-29T17:40:53.070Z"
   },
   {
    "duration": 0,
    "start_time": "2024-10-29T17:40:53.071Z"
   },
   {
    "duration": 0,
    "start_time": "2024-10-29T17:40:53.072Z"
   },
   {
    "duration": 0,
    "start_time": "2024-10-29T17:40:53.073Z"
   },
   {
    "duration": 0,
    "start_time": "2024-10-29T17:40:53.074Z"
   },
   {
    "duration": 0,
    "start_time": "2024-10-29T17:40:53.075Z"
   },
   {
    "duration": 0,
    "start_time": "2024-10-29T17:40:53.076Z"
   },
   {
    "duration": 0,
    "start_time": "2024-10-29T17:40:53.077Z"
   },
   {
    "duration": 0,
    "start_time": "2024-10-29T17:40:53.078Z"
   },
   {
    "duration": 0,
    "start_time": "2024-10-29T17:40:53.079Z"
   },
   {
    "duration": 0,
    "start_time": "2024-10-29T17:40:53.080Z"
   },
   {
    "duration": 0,
    "start_time": "2024-10-29T17:40:53.081Z"
   },
   {
    "duration": 0,
    "start_time": "2024-10-29T17:40:53.082Z"
   },
   {
    "duration": 0,
    "start_time": "2024-10-29T17:40:53.143Z"
   },
   {
    "duration": 0,
    "start_time": "2024-10-29T17:40:53.144Z"
   },
   {
    "duration": 0,
    "start_time": "2024-10-29T17:40:53.145Z"
   },
   {
    "duration": 0,
    "start_time": "2024-10-29T17:40:53.146Z"
   },
   {
    "duration": 10,
    "start_time": "2024-10-29T17:41:04.266Z"
   },
   {
    "duration": 8,
    "start_time": "2024-10-29T17:41:05.057Z"
   },
   {
    "duration": 7,
    "start_time": "2024-10-29T17:41:05.811Z"
   },
   {
    "duration": 6,
    "start_time": "2024-10-29T17:41:05.983Z"
   },
   {
    "duration": 11,
    "start_time": "2024-10-29T17:41:08.163Z"
   },
   {
    "duration": 6,
    "start_time": "2024-10-29T17:41:08.711Z"
   },
   {
    "duration": 1146,
    "start_time": "2024-10-29T17:41:13.292Z"
   },
   {
    "duration": 70,
    "start_time": "2024-10-29T17:41:14.442Z"
   },
   {
    "duration": 30,
    "start_time": "2024-10-29T17:41:14.514Z"
   },
   {
    "duration": 9,
    "start_time": "2024-10-29T17:41:14.546Z"
   },
   {
    "duration": 29,
    "start_time": "2024-10-29T17:41:14.556Z"
   },
   {
    "duration": 83,
    "start_time": "2024-10-29T17:41:14.587Z"
   },
   {
    "duration": 12,
    "start_time": "2024-10-29T17:41:14.671Z"
   },
   {
    "duration": 33,
    "start_time": "2024-10-29T17:41:14.685Z"
   },
   {
    "duration": 14,
    "start_time": "2024-10-29T17:41:14.719Z"
   },
   {
    "duration": 32,
    "start_time": "2024-10-29T17:41:14.735Z"
   },
   {
    "duration": 47,
    "start_time": "2024-10-29T17:41:14.769Z"
   },
   {
    "duration": 22,
    "start_time": "2024-10-29T17:41:14.818Z"
   },
   {
    "duration": 41,
    "start_time": "2024-10-29T17:41:14.843Z"
   },
   {
    "duration": 23,
    "start_time": "2024-10-29T17:41:14.888Z"
   },
   {
    "duration": 218,
    "start_time": "2024-10-29T17:41:14.913Z"
   },
   {
    "duration": 16,
    "start_time": "2024-10-29T17:41:15.133Z"
   },
   {
    "duration": 25,
    "start_time": "2024-10-29T17:41:15.151Z"
   },
   {
    "duration": 207,
    "start_time": "2024-10-29T17:41:15.178Z"
   },
   {
    "duration": 154,
    "start_time": "2024-10-29T17:41:15.386Z"
   },
   {
    "duration": 8,
    "start_time": "2024-10-29T17:41:15.543Z"
   },
   {
    "duration": 266,
    "start_time": "2024-10-29T17:41:15.552Z"
   },
   {
    "duration": 8,
    "start_time": "2024-10-29T17:41:15.820Z"
   },
   {
    "duration": 249,
    "start_time": "2024-10-29T17:41:15.830Z"
   },
   {
    "duration": 364,
    "start_time": "2024-10-29T17:41:16.080Z"
   },
   {
    "duration": 8,
    "start_time": "2024-10-29T17:41:16.446Z"
   },
   {
    "duration": 205,
    "start_time": "2024-10-29T17:41:16.456Z"
   },
   {
    "duration": 290,
    "start_time": "2024-10-29T17:41:16.663Z"
   },
   {
    "duration": 16,
    "start_time": "2024-10-29T17:41:16.955Z"
   },
   {
    "duration": 12,
    "start_time": "2024-10-29T17:41:16.972Z"
   },
   {
    "duration": 21,
    "start_time": "2024-10-29T17:41:16.985Z"
   },
   {
    "duration": 10,
    "start_time": "2024-10-29T17:41:17.008Z"
   },
   {
    "duration": 33,
    "start_time": "2024-10-29T17:41:17.019Z"
   },
   {
    "duration": 14,
    "start_time": "2024-10-29T17:41:17.053Z"
   },
   {
    "duration": 8,
    "start_time": "2024-10-29T17:41:17.069Z"
   },
   {
    "duration": 9,
    "start_time": "2024-10-29T17:41:17.079Z"
   },
   {
    "duration": 195,
    "start_time": "2024-10-29T17:41:17.090Z"
   },
   {
    "duration": 8,
    "start_time": "2024-10-29T17:41:17.287Z"
   },
   {
    "duration": 39,
    "start_time": "2024-10-29T17:41:17.297Z"
   },
   {
    "duration": 501,
    "start_time": "2024-10-29T17:41:17.338Z"
   },
   {
    "duration": 113,
    "start_time": "2024-10-29T17:41:17.841Z"
   },
   {
    "duration": 16,
    "start_time": "2024-10-29T17:41:17.959Z"
   },
   {
    "duration": 14,
    "start_time": "2024-10-29T17:41:17.976Z"
   },
   {
    "duration": 89,
    "start_time": "2024-10-29T17:41:17.991Z"
   },
   {
    "duration": 15,
    "start_time": "2024-10-29T17:41:18.081Z"
   },
   {
    "duration": 120,
    "start_time": "2024-10-29T17:41:18.098Z"
   },
   {
    "duration": 6,
    "start_time": "2024-10-29T17:41:18.220Z"
   },
   {
    "duration": 26,
    "start_time": "2024-10-29T17:41:18.227Z"
   },
   {
    "duration": 25,
    "start_time": "2024-10-29T17:41:18.256Z"
   },
   {
    "duration": 8,
    "start_time": "2024-10-29T17:41:18.284Z"
   },
   {
    "duration": 396,
    "start_time": "2024-10-29T17:41:18.294Z"
   },
   {
    "duration": 5,
    "start_time": "2024-10-29T17:52:03.843Z"
   },
   {
    "duration": 61,
    "start_time": "2024-10-29T17:52:34.760Z"
   },
   {
    "duration": 8,
    "start_time": "2024-10-29T17:52:35.614Z"
   },
   {
    "duration": 6,
    "start_time": "2024-10-29T17:52:37.874Z"
   },
   {
    "duration": 4,
    "start_time": "2024-10-29T17:52:38.679Z"
   },
   {
    "duration": 1159,
    "start_time": "2024-10-29T17:52:46.597Z"
   },
   {
    "duration": 69,
    "start_time": "2024-10-29T17:52:47.758Z"
   },
   {
    "duration": 29,
    "start_time": "2024-10-29T17:52:47.829Z"
   },
   {
    "duration": 7,
    "start_time": "2024-10-29T17:52:47.860Z"
   },
   {
    "duration": 7,
    "start_time": "2024-10-29T17:52:47.868Z"
   },
   {
    "duration": 14,
    "start_time": "2024-10-29T17:52:47.876Z"
   },
   {
    "duration": 10,
    "start_time": "2024-10-29T17:52:47.891Z"
   },
   {
    "duration": 42,
    "start_time": "2024-10-29T17:52:47.903Z"
   },
   {
    "duration": 7,
    "start_time": "2024-10-29T17:52:47.947Z"
   },
   {
    "duration": 5,
    "start_time": "2024-10-29T17:52:47.956Z"
   },
   {
    "duration": 10,
    "start_time": "2024-10-29T17:52:47.963Z"
   },
   {
    "duration": 10,
    "start_time": "2024-10-29T17:52:47.974Z"
   },
   {
    "duration": 27,
    "start_time": "2024-10-29T17:52:47.986Z"
   },
   {
    "duration": 34,
    "start_time": "2024-10-29T17:52:48.014Z"
   },
   {
    "duration": 326,
    "start_time": "2024-10-29T17:52:48.050Z"
   },
   {
    "duration": 66,
    "start_time": "2024-10-29T17:52:48.378Z"
   },
   {
    "duration": 23,
    "start_time": "2024-10-29T17:52:48.446Z"
   },
   {
    "duration": 301,
    "start_time": "2024-10-29T17:52:48.471Z"
   },
   {
    "duration": 287,
    "start_time": "2024-10-29T17:52:48.773Z"
   },
   {
    "duration": 8,
    "start_time": "2024-10-29T17:52:49.061Z"
   },
   {
    "duration": 502,
    "start_time": "2024-10-29T17:52:49.071Z"
   },
   {
    "duration": 9,
    "start_time": "2024-10-29T17:52:49.575Z"
   },
   {
    "duration": 250,
    "start_time": "2024-10-29T17:52:49.585Z"
   },
   {
    "duration": 394,
    "start_time": "2024-10-29T17:52:49.837Z"
   },
   {
    "duration": 9,
    "start_time": "2024-10-29T17:52:50.232Z"
   },
   {
    "duration": 175,
    "start_time": "2024-10-29T17:52:50.243Z"
   },
   {
    "duration": 304,
    "start_time": "2024-10-29T17:52:50.420Z"
   },
   {
    "duration": 28,
    "start_time": "2024-10-29T17:52:50.728Z"
   },
   {
    "duration": 16,
    "start_time": "2024-10-29T17:52:50.759Z"
   },
   {
    "duration": 19,
    "start_time": "2024-10-29T17:52:50.777Z"
   },
   {
    "duration": 14,
    "start_time": "2024-10-29T17:52:50.798Z"
   },
   {
    "duration": 44,
    "start_time": "2024-10-29T17:52:50.814Z"
   },
   {
    "duration": 14,
    "start_time": "2024-10-29T17:52:50.860Z"
   },
   {
    "duration": 14,
    "start_time": "2024-10-29T17:52:50.875Z"
   },
   {
    "duration": 8,
    "start_time": "2024-10-29T17:52:50.890Z"
   },
   {
    "duration": 160,
    "start_time": "2024-10-29T17:52:50.899Z"
   },
   {
    "duration": 8,
    "start_time": "2024-10-29T17:52:51.061Z"
   },
   {
    "duration": 7,
    "start_time": "2024-10-29T17:52:51.071Z"
   },
   {
    "duration": 323,
    "start_time": "2024-10-29T17:52:51.079Z"
   },
   {
    "duration": 106,
    "start_time": "2024-10-29T17:52:51.403Z"
   },
   {
    "duration": 11,
    "start_time": "2024-10-29T17:52:51.510Z"
   },
   {
    "duration": 45,
    "start_time": "2024-10-29T17:52:51.523Z"
   },
   {
    "duration": 47,
    "start_time": "2024-10-29T17:52:51.570Z"
   },
   {
    "duration": 5,
    "start_time": "2024-10-29T17:52:51.619Z"
   },
   {
    "duration": 24,
    "start_time": "2024-10-29T17:52:51.625Z"
   },
   {
    "duration": 15,
    "start_time": "2024-10-29T17:52:51.650Z"
   },
   {
    "duration": 15,
    "start_time": "2024-10-29T17:52:51.666Z"
   },
   {
    "duration": 15,
    "start_time": "2024-10-29T17:52:51.683Z"
   },
   {
    "duration": 7,
    "start_time": "2024-10-29T17:52:51.700Z"
   },
   {
    "duration": 402,
    "start_time": "2024-10-29T17:52:51.709Z"
   },
   {
    "duration": 6,
    "start_time": "2024-10-29T17:53:24.475Z"
   },
   {
    "duration": 8,
    "start_time": "2024-10-29T17:53:57.958Z"
   },
   {
    "duration": 4,
    "start_time": "2024-10-29T17:53:58.971Z"
   },
   {
    "duration": 5,
    "start_time": "2024-10-29T17:53:59.470Z"
   },
   {
    "duration": 8,
    "start_time": "2024-10-29T17:56:37.814Z"
   },
   {
    "duration": 8,
    "start_time": "2024-10-29T17:57:03.363Z"
   },
   {
    "duration": 5,
    "start_time": "2024-10-29T17:57:07.475Z"
   },
   {
    "duration": 4,
    "start_time": "2024-10-29T17:57:07.978Z"
   },
   {
    "duration": 48,
    "start_time": "2024-10-29T17:57:42.016Z"
   },
   {
    "duration": 31,
    "start_time": "2024-10-29T18:00:45.414Z"
   },
   {
    "duration": 42,
    "start_time": "2024-10-29T18:02:02.955Z"
   },
   {
    "duration": 13,
    "start_time": "2024-10-29T18:03:31.938Z"
   },
   {
    "duration": 33,
    "start_time": "2024-10-29T18:03:33.364Z"
   },
   {
    "duration": 7,
    "start_time": "2024-10-29T18:03:34.394Z"
   },
   {
    "duration": 5,
    "start_time": "2024-10-29T18:03:35.524Z"
   },
   {
    "duration": 4,
    "start_time": "2024-10-29T18:03:36.135Z"
   },
   {
    "duration": 51,
    "start_time": "2024-10-30T16:46:24.491Z"
   },
   {
    "duration": 1962,
    "start_time": "2024-10-30T16:46:35.623Z"
   },
   {
    "duration": 299,
    "start_time": "2024-10-30T16:46:37.587Z"
   },
   {
    "duration": 32,
    "start_time": "2024-10-30T16:46:37.887Z"
   },
   {
    "duration": 7,
    "start_time": "2024-10-30T16:46:37.920Z"
   },
   {
    "duration": 7,
    "start_time": "2024-10-30T16:46:37.929Z"
   },
   {
    "duration": 6,
    "start_time": "2024-10-30T16:46:37.937Z"
   },
   {
    "duration": 35,
    "start_time": "2024-10-30T16:46:37.945Z"
   },
   {
    "duration": 8,
    "start_time": "2024-10-30T16:46:37.982Z"
   },
   {
    "duration": 7,
    "start_time": "2024-10-30T16:46:37.991Z"
   },
   {
    "duration": 46,
    "start_time": "2024-10-30T16:46:38.000Z"
   },
   {
    "duration": 37,
    "start_time": "2024-10-30T16:46:38.048Z"
   },
   {
    "duration": 6,
    "start_time": "2024-10-30T16:46:38.087Z"
   },
   {
    "duration": 12,
    "start_time": "2024-10-30T16:46:38.094Z"
   },
   {
    "duration": 22,
    "start_time": "2024-10-30T16:46:38.109Z"
   },
   {
    "duration": 222,
    "start_time": "2024-10-30T16:46:38.133Z"
   },
   {
    "duration": 24,
    "start_time": "2024-10-30T16:46:38.356Z"
   },
   {
    "duration": 14,
    "start_time": "2024-10-30T16:46:38.382Z"
   },
   {
    "duration": 181,
    "start_time": "2024-10-30T16:46:38.397Z"
   },
   {
    "duration": 144,
    "start_time": "2024-10-30T16:46:38.579Z"
   },
   {
    "duration": 8,
    "start_time": "2024-10-30T16:46:38.724Z"
   },
   {
    "duration": 304,
    "start_time": "2024-10-30T16:46:38.733Z"
   },
   {
    "duration": 8,
    "start_time": "2024-10-30T16:46:39.039Z"
   },
   {
    "duration": 252,
    "start_time": "2024-10-30T16:46:39.048Z"
   },
   {
    "duration": 370,
    "start_time": "2024-10-30T16:46:39.302Z"
   },
   {
    "duration": 11,
    "start_time": "2024-10-30T16:46:39.674Z"
   },
   {
    "duration": 259,
    "start_time": "2024-10-30T16:46:39.686Z"
   },
   {
    "duration": 212,
    "start_time": "2024-10-30T16:46:39.947Z"
   },
   {
    "duration": 20,
    "start_time": "2024-10-30T16:46:40.161Z"
   },
   {
    "duration": 13,
    "start_time": "2024-10-30T16:46:40.182Z"
   },
   {
    "duration": 22,
    "start_time": "2024-10-30T16:46:40.196Z"
   },
   {
    "duration": 11,
    "start_time": "2024-10-30T16:46:40.219Z"
   },
   {
    "duration": 11,
    "start_time": "2024-10-30T16:46:40.232Z"
   },
   {
    "duration": 41,
    "start_time": "2024-10-30T16:46:40.244Z"
   },
   {
    "duration": 52,
    "start_time": "2024-10-30T16:46:40.286Z"
   },
   {
    "duration": 8,
    "start_time": "2024-10-30T16:46:40.339Z"
   },
   {
    "duration": 154,
    "start_time": "2024-10-30T16:46:40.348Z"
   },
   {
    "duration": 9,
    "start_time": "2024-10-30T16:46:40.503Z"
   },
   {
    "duration": 10,
    "start_time": "2024-10-30T16:46:40.513Z"
   },
   {
    "duration": 344,
    "start_time": "2024-10-30T16:46:40.524Z"
   },
   {
    "duration": 107,
    "start_time": "2024-10-30T16:46:40.870Z"
   },
   {
    "duration": 12,
    "start_time": "2024-10-30T16:46:40.982Z"
   },
   {
    "duration": 45,
    "start_time": "2024-10-30T16:46:40.996Z"
   },
   {
    "duration": 8,
    "start_time": "2024-10-30T16:46:41.043Z"
   },
   {
    "duration": 24,
    "start_time": "2024-10-30T16:46:41.053Z"
   },
   {
    "duration": 5,
    "start_time": "2024-10-30T16:46:41.079Z"
   },
   {
    "duration": 8,
    "start_time": "2024-10-30T16:46:41.085Z"
   },
   {
    "duration": 9,
    "start_time": "2024-10-30T16:46:41.094Z"
   },
   {
    "duration": 6,
    "start_time": "2024-10-30T16:46:41.105Z"
   },
   {
    "duration": 463,
    "start_time": "2024-10-30T16:46:41.113Z"
   },
   {
    "duration": 7,
    "start_time": "2024-10-30T16:58:06.626Z"
   },
   {
    "duration": 8,
    "start_time": "2024-10-30T16:58:24.594Z"
   },
   {
    "duration": 7,
    "start_time": "2024-10-30T16:58:32.433Z"
   },
   {
    "duration": 247,
    "start_time": "2024-10-30T17:05:44.366Z"
   },
   {
    "duration": 2365,
    "start_time": "2024-10-30T17:08:28.248Z"
   },
   {
    "duration": 344,
    "start_time": "2024-10-30T17:09:57.728Z"
   },
   {
    "duration": 240,
    "start_time": "2024-10-30T17:13:48.445Z"
   },
   {
    "duration": 2265,
    "start_time": "2024-10-30T17:16:07.611Z"
   },
   {
    "duration": 2325,
    "start_time": "2024-10-30T17:16:21.652Z"
   },
   {
    "duration": 2308,
    "start_time": "2024-10-30T17:16:46.821Z"
   },
   {
    "duration": 2381,
    "start_time": "2024-10-30T17:18:48.714Z"
   },
   {
    "duration": 2353,
    "start_time": "2024-10-30T17:20:43.369Z"
   },
   {
    "duration": 2298,
    "start_time": "2024-10-30T17:20:57.097Z"
   },
   {
    "duration": 2354,
    "start_time": "2024-10-30T17:21:11.633Z"
   },
   {
    "duration": 2354,
    "start_time": "2024-10-30T17:21:28.970Z"
   },
   {
    "duration": 2423,
    "start_time": "2024-10-30T17:21:42.576Z"
   },
   {
    "duration": 2302,
    "start_time": "2024-10-30T17:21:50.745Z"
   },
   {
    "duration": 2375,
    "start_time": "2024-10-30T17:22:12.204Z"
   },
   {
    "duration": 2324,
    "start_time": "2024-10-30T17:22:18.313Z"
   },
   {
    "duration": 2439,
    "start_time": "2024-10-30T17:22:33.847Z"
   },
   {
    "duration": 2619,
    "start_time": "2024-10-30T17:22:42.913Z"
   },
   {
    "duration": 2465,
    "start_time": "2024-10-30T17:22:56.611Z"
   },
   {
    "duration": 2385,
    "start_time": "2024-10-30T17:23:14.086Z"
   },
   {
    "duration": 2303,
    "start_time": "2024-10-30T17:23:33.874Z"
   },
   {
    "duration": 2401,
    "start_time": "2024-10-30T17:24:56.610Z"
   },
   {
    "duration": 20,
    "start_time": "2024-10-30T17:31:23.377Z"
   },
   {
    "duration": 5,
    "start_time": "2024-10-30T17:31:39.361Z"
   },
   {
    "duration": 137,
    "start_time": "2024-10-30T17:33:21.497Z"
   },
   {
    "duration": 235,
    "start_time": "2024-10-30T17:35:42.140Z"
   },
   {
    "duration": 231,
    "start_time": "2024-10-30T17:36:12.714Z"
   },
   {
    "duration": 227,
    "start_time": "2024-10-30T17:36:31.249Z"
   },
   {
    "duration": 228,
    "start_time": "2024-10-30T17:37:14.891Z"
   },
   {
    "duration": 248,
    "start_time": "2024-10-30T17:38:01.960Z"
   },
   {
    "duration": 1156,
    "start_time": "2024-10-30T17:38:32.134Z"
   },
   {
    "duration": 68,
    "start_time": "2024-10-30T17:38:33.292Z"
   },
   {
    "duration": 32,
    "start_time": "2024-10-30T17:38:33.362Z"
   },
   {
    "duration": 8,
    "start_time": "2024-10-30T17:38:33.397Z"
   },
   {
    "duration": 14,
    "start_time": "2024-10-30T17:38:33.407Z"
   },
   {
    "duration": 8,
    "start_time": "2024-10-30T17:38:33.423Z"
   },
   {
    "duration": 14,
    "start_time": "2024-10-30T17:38:33.432Z"
   },
   {
    "duration": 10,
    "start_time": "2024-10-30T17:38:33.475Z"
   },
   {
    "duration": 10,
    "start_time": "2024-10-30T17:38:33.487Z"
   },
   {
    "duration": 6,
    "start_time": "2024-10-30T17:38:33.500Z"
   },
   {
    "duration": 14,
    "start_time": "2024-10-30T17:38:33.507Z"
   },
   {
    "duration": 5,
    "start_time": "2024-10-30T17:38:33.523Z"
   },
   {
    "duration": 12,
    "start_time": "2024-10-30T17:38:33.529Z"
   },
   {
    "duration": 48,
    "start_time": "2024-10-30T17:38:33.542Z"
   },
   {
    "duration": 191,
    "start_time": "2024-10-30T17:38:33.591Z"
   },
   {
    "duration": 17,
    "start_time": "2024-10-30T17:38:33.783Z"
   },
   {
    "duration": 21,
    "start_time": "2024-10-30T17:38:33.801Z"
   },
   {
    "duration": 177,
    "start_time": "2024-10-30T17:38:33.824Z"
   },
   {
    "duration": 145,
    "start_time": "2024-10-30T17:38:34.003Z"
   },
   {
    "duration": 8,
    "start_time": "2024-10-30T17:38:34.149Z"
   },
   {
    "duration": 274,
    "start_time": "2024-10-30T17:38:34.159Z"
   },
   {
    "duration": 9,
    "start_time": "2024-10-30T17:38:34.435Z"
   },
   {
    "duration": 275,
    "start_time": "2024-10-30T17:38:34.445Z"
   },
   {
    "duration": 474,
    "start_time": "2024-10-30T17:38:34.722Z"
   },
   {
    "duration": 8,
    "start_time": "2024-10-30T17:38:35.198Z"
   },
   {
    "duration": 378,
    "start_time": "2024-10-30T17:38:35.208Z"
   },
   {
    "duration": 519,
    "start_time": "2024-10-30T17:38:35.588Z"
   },
   {
    "duration": 67,
    "start_time": "2024-10-30T17:38:36.110Z"
   },
   {
    "duration": 11,
    "start_time": "2024-10-30T17:38:36.179Z"
   },
   {
    "duration": 16,
    "start_time": "2024-10-30T17:38:36.192Z"
   },
   {
    "duration": 66,
    "start_time": "2024-10-30T17:38:36.209Z"
   },
   {
    "duration": 12,
    "start_time": "2024-10-30T17:38:36.277Z"
   },
   {
    "duration": 94,
    "start_time": "2024-10-30T17:38:36.291Z"
   },
   {
    "duration": 10,
    "start_time": "2024-10-30T17:38:36.387Z"
   },
   {
    "duration": 9,
    "start_time": "2024-10-30T17:38:36.399Z"
   },
   {
    "duration": 266,
    "start_time": "2024-10-30T17:38:36.410Z"
   },
   {
    "duration": 7,
    "start_time": "2024-10-30T17:38:36.678Z"
   },
   {
    "duration": 9,
    "start_time": "2024-10-30T17:38:36.687Z"
   },
   {
    "duration": 695,
    "start_time": "2024-10-30T17:38:36.697Z"
   },
   {
    "duration": 205,
    "start_time": "2024-10-30T17:38:37.393Z"
   },
   {
    "duration": 11,
    "start_time": "2024-10-30T17:38:37.600Z"
   },
   {
    "duration": 84,
    "start_time": "2024-10-30T17:38:37.612Z"
   },
   {
    "duration": 6,
    "start_time": "2024-10-30T17:38:37.698Z"
   },
   {
    "duration": 4,
    "start_time": "2024-10-30T17:38:37.705Z"
   },
   {
    "duration": 5,
    "start_time": "2024-10-30T17:38:37.710Z"
   },
   {
    "duration": 60,
    "start_time": "2024-10-30T17:38:37.717Z"
   },
   {
    "duration": 343,
    "start_time": "2024-10-30T17:38:37.778Z"
   },
   {
    "duration": 5,
    "start_time": "2024-10-30T17:38:38.122Z"
   },
   {
    "duration": 10,
    "start_time": "2024-10-30T17:38:38.129Z"
   },
   {
    "duration": 2236,
    "start_time": "2024-10-30T17:38:38.141Z"
   },
   {
    "duration": 226,
    "start_time": "2024-10-30T17:39:45.495Z"
   },
   {
    "duration": 422,
    "start_time": "2024-10-30T17:40:18.048Z"
   },
   {
    "duration": 338,
    "start_time": "2024-10-30T17:42:09.638Z"
   },
   {
    "duration": 315,
    "start_time": "2024-10-30T17:42:37.338Z"
   },
   {
    "duration": 231,
    "start_time": "2024-10-30T17:43:12.718Z"
   },
   {
    "duration": 243,
    "start_time": "2024-10-30T17:43:27.819Z"
   },
   {
    "duration": 291,
    "start_time": "2024-10-30T17:43:39.794Z"
   },
   {
    "duration": 148,
    "start_time": "2024-10-30T17:49:11.459Z"
   },
   {
    "duration": 214,
    "start_time": "2024-10-30T17:50:32.461Z"
   },
   {
    "duration": 220,
    "start_time": "2024-10-30T17:52:32.305Z"
   },
   {
    "duration": 229,
    "start_time": "2024-10-30T17:52:51.419Z"
   },
   {
    "duration": 110,
    "start_time": "2024-10-30T17:55:06.993Z"
   },
   {
    "duration": 2289,
    "start_time": "2024-10-30T17:55:40.249Z"
   },
   {
    "duration": 2263,
    "start_time": "2024-10-30T17:59:03.608Z"
   },
   {
    "duration": 146,
    "start_time": "2024-10-30T17:59:34.560Z"
   },
   {
    "duration": 284,
    "start_time": "2024-10-30T18:03:51.818Z"
   },
   {
    "duration": 152,
    "start_time": "2024-10-30T18:04:40.054Z"
   },
   {
    "duration": 1147,
    "start_time": "2024-10-30T18:04:54.422Z"
   },
   {
    "duration": 68,
    "start_time": "2024-10-30T18:04:55.576Z"
   },
   {
    "duration": 38,
    "start_time": "2024-10-30T18:04:55.646Z"
   },
   {
    "duration": 9,
    "start_time": "2024-10-30T18:04:55.685Z"
   },
   {
    "duration": 9,
    "start_time": "2024-10-30T18:04:55.696Z"
   },
   {
    "duration": 7,
    "start_time": "2024-10-30T18:04:55.706Z"
   },
   {
    "duration": 10,
    "start_time": "2024-10-30T18:04:55.715Z"
   },
   {
    "duration": 8,
    "start_time": "2024-10-30T18:04:55.727Z"
   },
   {
    "duration": 8,
    "start_time": "2024-10-30T18:04:55.776Z"
   },
   {
    "duration": 23,
    "start_time": "2024-10-30T18:04:55.785Z"
   },
   {
    "duration": 24,
    "start_time": "2024-10-30T18:04:55.810Z"
   },
   {
    "duration": 5,
    "start_time": "2024-10-30T18:04:55.836Z"
   },
   {
    "duration": 11,
    "start_time": "2024-10-30T18:04:55.842Z"
   },
   {
    "duration": 20,
    "start_time": "2024-10-30T18:04:55.856Z"
   },
   {
    "duration": 182,
    "start_time": "2024-10-30T18:04:55.877Z"
   },
   {
    "duration": 19,
    "start_time": "2024-10-30T18:04:56.061Z"
   },
   {
    "duration": 17,
    "start_time": "2024-10-30T18:04:56.081Z"
   },
   {
    "duration": 180,
    "start_time": "2024-10-30T18:04:56.099Z"
   },
   {
    "duration": 144,
    "start_time": "2024-10-30T18:04:56.281Z"
   },
   {
    "duration": 8,
    "start_time": "2024-10-30T18:04:56.426Z"
   },
   {
    "duration": 302,
    "start_time": "2024-10-30T18:04:56.436Z"
   },
   {
    "duration": 8,
    "start_time": "2024-10-30T18:04:56.740Z"
   },
   {
    "duration": 243,
    "start_time": "2024-10-30T18:04:56.750Z"
   },
   {
    "duration": 374,
    "start_time": "2024-10-30T18:04:56.994Z"
   },
   {
    "duration": 9,
    "start_time": "2024-10-30T18:04:57.370Z"
   },
   {
    "duration": 185,
    "start_time": "2024-10-30T18:04:57.381Z"
   },
   {
    "duration": 284,
    "start_time": "2024-10-30T18:04:57.568Z"
   },
   {
    "duration": 27,
    "start_time": "2024-10-30T18:04:57.853Z"
   },
   {
    "duration": 13,
    "start_time": "2024-10-30T18:04:57.881Z"
   },
   {
    "duration": 15,
    "start_time": "2024-10-30T18:04:57.895Z"
   },
   {
    "duration": 11,
    "start_time": "2024-10-30T18:04:57.911Z"
   },
   {
    "duration": 53,
    "start_time": "2024-10-30T18:04:57.923Z"
   },
   {
    "duration": 25,
    "start_time": "2024-10-30T18:04:57.977Z"
   },
   {
    "duration": 63,
    "start_time": "2024-10-30T18:04:58.004Z"
   },
   {
    "duration": 13,
    "start_time": "2024-10-30T18:04:58.069Z"
   },
   {
    "duration": 167,
    "start_time": "2024-10-30T18:04:58.083Z"
   },
   {
    "duration": 8,
    "start_time": "2024-10-30T18:04:58.252Z"
   },
   {
    "duration": 21,
    "start_time": "2024-10-30T18:04:58.261Z"
   },
   {
    "duration": 318,
    "start_time": "2024-10-30T18:04:58.283Z"
   },
   {
    "duration": 114,
    "start_time": "2024-10-30T18:04:58.603Z"
   },
   {
    "duration": 11,
    "start_time": "2024-10-30T18:04:58.721Z"
   },
   {
    "duration": 43,
    "start_time": "2024-10-30T18:04:58.733Z"
   },
   {
    "duration": 7,
    "start_time": "2024-10-30T18:04:58.778Z"
   },
   {
    "duration": 5,
    "start_time": "2024-10-30T18:04:58.786Z"
   },
   {
    "duration": 4,
    "start_time": "2024-10-30T18:04:58.792Z"
   },
   {
    "duration": 6,
    "start_time": "2024-10-30T18:04:58.798Z"
   },
   {
    "duration": 256,
    "start_time": "2024-10-30T18:04:58.805Z"
   },
   {
    "duration": 5,
    "start_time": "2024-10-30T18:04:59.062Z"
   },
   {
    "duration": 336,
    "start_time": "2024-10-30T18:04:59.068Z"
   },
   {
    "duration": 8,
    "start_time": "2024-10-30T18:04:59.406Z"
   },
   {
    "duration": 168,
    "start_time": "2024-10-30T18:04:59.415Z"
   },
   {
    "duration": 3099,
    "start_time": "2024-10-30T18:04:59.584Z"
   },
   {
    "duration": 2281,
    "start_time": "2024-10-30T18:05:18.098Z"
   },
   {
    "duration": 1502,
    "start_time": "2024-10-30T18:05:46.990Z"
   },
   {
    "duration": 104,
    "start_time": "2024-10-30T18:05:48.494Z"
   },
   {
    "duration": 83,
    "start_time": "2024-10-30T18:05:48.600Z"
   },
   {
    "duration": 9,
    "start_time": "2024-10-30T18:05:48.686Z"
   },
   {
    "duration": 8,
    "start_time": "2024-10-30T18:05:48.696Z"
   },
   {
    "duration": 12,
    "start_time": "2024-10-30T18:05:48.705Z"
   },
   {
    "duration": 65,
    "start_time": "2024-10-30T18:05:48.718Z"
   },
   {
    "duration": 9,
    "start_time": "2024-10-30T18:05:48.784Z"
   },
   {
    "duration": 12,
    "start_time": "2024-10-30T18:05:48.794Z"
   },
   {
    "duration": 67,
    "start_time": "2024-10-30T18:05:48.810Z"
   },
   {
    "duration": 8,
    "start_time": "2024-10-30T18:05:48.879Z"
   },
   {
    "duration": 5,
    "start_time": "2024-10-30T18:05:48.888Z"
   },
   {
    "duration": 11,
    "start_time": "2024-10-30T18:05:48.894Z"
   },
   {
    "duration": 71,
    "start_time": "2024-10-30T18:05:48.906Z"
   },
   {
    "duration": 334,
    "start_time": "2024-10-30T18:05:48.978Z"
   },
   {
    "duration": 78,
    "start_time": "2024-10-30T18:05:49.314Z"
   },
   {
    "duration": 16,
    "start_time": "2024-10-30T18:05:49.394Z"
   },
   {
    "duration": 255,
    "start_time": "2024-10-30T18:05:49.412Z"
   },
   {
    "duration": 153,
    "start_time": "2024-10-30T18:05:49.669Z"
   },
   {
    "duration": 8,
    "start_time": "2024-10-30T18:05:49.875Z"
   },
   {
    "duration": 376,
    "start_time": "2024-10-30T18:05:49.884Z"
   },
   {
    "duration": 18,
    "start_time": "2024-10-30T18:05:50.261Z"
   },
   {
    "duration": 259,
    "start_time": "2024-10-30T18:05:50.280Z"
   },
   {
    "duration": 411,
    "start_time": "2024-10-30T18:05:50.541Z"
   },
   {
    "duration": 8,
    "start_time": "2024-10-30T18:05:50.954Z"
   },
   {
    "duration": 185,
    "start_time": "2024-10-30T18:05:50.964Z"
   },
   {
    "duration": 282,
    "start_time": "2024-10-30T18:05:51.151Z"
   },
   {
    "duration": 15,
    "start_time": "2024-10-30T18:05:51.436Z"
   },
   {
    "duration": 25,
    "start_time": "2024-10-30T18:05:51.452Z"
   },
   {
    "duration": 15,
    "start_time": "2024-10-30T18:05:51.479Z"
   },
   {
    "duration": 10,
    "start_time": "2024-10-30T18:05:51.496Z"
   },
   {
    "duration": 12,
    "start_time": "2024-10-30T18:05:51.507Z"
   },
   {
    "duration": 14,
    "start_time": "2024-10-30T18:05:51.521Z"
   },
   {
    "duration": 39,
    "start_time": "2024-10-30T18:05:51.537Z"
   },
   {
    "duration": 8,
    "start_time": "2024-10-30T18:05:51.578Z"
   },
   {
    "duration": 156,
    "start_time": "2024-10-30T18:05:51.587Z"
   },
   {
    "duration": 7,
    "start_time": "2024-10-30T18:05:51.745Z"
   },
   {
    "duration": 9,
    "start_time": "2024-10-30T18:05:51.754Z"
   },
   {
    "duration": 320,
    "start_time": "2024-10-30T18:05:51.775Z"
   },
   {
    "duration": 120,
    "start_time": "2024-10-30T18:05:52.097Z"
   },
   {
    "duration": 11,
    "start_time": "2024-10-30T18:05:52.219Z"
   },
   {
    "duration": 51,
    "start_time": "2024-10-30T18:05:52.232Z"
   },
   {
    "duration": 8,
    "start_time": "2024-10-30T18:05:52.285Z"
   },
   {
    "duration": 12,
    "start_time": "2024-10-30T18:05:52.295Z"
   },
   {
    "duration": 16,
    "start_time": "2024-10-30T18:05:52.308Z"
   },
   {
    "duration": 6,
    "start_time": "2024-10-30T18:05:52.326Z"
   },
   {
    "duration": 262,
    "start_time": "2024-10-30T18:05:52.334Z"
   },
   {
    "duration": 4,
    "start_time": "2024-10-30T18:05:52.598Z"
   },
   {
    "duration": 321,
    "start_time": "2024-10-30T18:05:52.604Z"
   },
   {
    "duration": 7,
    "start_time": "2024-10-30T18:05:52.927Z"
   },
   {
    "duration": 167,
    "start_time": "2024-10-30T18:05:52.935Z"
   },
   {
    "duration": 2407,
    "start_time": "2024-10-30T18:05:53.104Z"
   },
   {
    "duration": 2326,
    "start_time": "2024-10-30T18:06:54.581Z"
   },
   {
    "duration": 2325,
    "start_time": "2024-10-30T18:07:30.837Z"
   },
   {
    "duration": 415,
    "start_time": "2024-10-30T18:08:10.081Z"
   },
   {
    "duration": 213,
    "start_time": "2024-10-30T18:08:33.104Z"
   },
   {
    "duration": 11,
    "start_time": "2024-10-30T18:12:44.411Z"
   },
   {
    "duration": 1205,
    "start_time": "2024-10-31T06:14:00.844Z"
   },
   {
    "duration": 71,
    "start_time": "2024-10-31T06:14:02.051Z"
   },
   {
    "duration": 31,
    "start_time": "2024-10-31T06:14:02.124Z"
   },
   {
    "duration": 8,
    "start_time": "2024-10-31T06:14:02.157Z"
   },
   {
    "duration": 86,
    "start_time": "2024-10-31T06:14:02.166Z"
   },
   {
    "duration": 14,
    "start_time": "2024-10-31T06:14:02.254Z"
   },
   {
    "duration": 104,
    "start_time": "2024-10-31T06:14:02.269Z"
   },
   {
    "duration": 52,
    "start_time": "2024-10-31T06:14:02.374Z"
   },
   {
    "duration": 44,
    "start_time": "2024-10-31T06:14:02.427Z"
   },
   {
    "duration": 11,
    "start_time": "2024-10-31T06:14:02.473Z"
   },
   {
    "duration": 16,
    "start_time": "2024-10-31T06:14:02.486Z"
   },
   {
    "duration": 42,
    "start_time": "2024-10-31T06:14:02.504Z"
   },
   {
    "duration": 88,
    "start_time": "2024-10-31T06:14:02.547Z"
   },
   {
    "duration": 25,
    "start_time": "2024-10-31T06:14:02.636Z"
   },
   {
    "duration": 187,
    "start_time": "2024-10-31T06:14:02.663Z"
   },
   {
    "duration": 16,
    "start_time": "2024-10-31T06:14:02.851Z"
   },
   {
    "duration": 28,
    "start_time": "2024-10-31T06:14:02.878Z"
   },
   {
    "duration": 168,
    "start_time": "2024-10-31T06:14:02.908Z"
   },
   {
    "duration": 139,
    "start_time": "2024-10-31T06:14:03.078Z"
   },
   {
    "duration": 7,
    "start_time": "2024-10-31T06:14:03.219Z"
   },
   {
    "duration": 271,
    "start_time": "2024-10-31T06:14:03.228Z"
   },
   {
    "duration": 9,
    "start_time": "2024-10-31T06:14:03.500Z"
   },
   {
    "duration": 255,
    "start_time": "2024-10-31T06:14:03.510Z"
   },
   {
    "duration": 358,
    "start_time": "2024-10-31T06:14:03.766Z"
   },
   {
    "duration": 8,
    "start_time": "2024-10-31T06:14:04.126Z"
   },
   {
    "duration": 188,
    "start_time": "2024-10-31T06:14:04.135Z"
   },
   {
    "duration": 283,
    "start_time": "2024-10-31T06:14:04.324Z"
   },
   {
    "duration": 15,
    "start_time": "2024-10-31T06:14:04.610Z"
   },
   {
    "duration": 12,
    "start_time": "2024-10-31T06:14:04.626Z"
   },
   {
    "duration": 20,
    "start_time": "2024-10-31T06:14:04.639Z"
   },
   {
    "duration": 11,
    "start_time": "2024-10-31T06:14:04.675Z"
   },
   {
    "duration": 23,
    "start_time": "2024-10-31T06:14:04.687Z"
   },
   {
    "duration": 21,
    "start_time": "2024-10-31T06:14:04.712Z"
   },
   {
    "duration": 13,
    "start_time": "2024-10-31T06:14:04.735Z"
   },
   {
    "duration": 8,
    "start_time": "2024-10-31T06:14:04.749Z"
   },
   {
    "duration": 154,
    "start_time": "2024-10-31T06:14:04.758Z"
   },
   {
    "duration": 8,
    "start_time": "2024-10-31T06:14:04.913Z"
   },
   {
    "duration": 6,
    "start_time": "2024-10-31T06:14:04.923Z"
   },
   {
    "duration": 330,
    "start_time": "2024-10-31T06:14:04.931Z"
   },
   {
    "duration": 110,
    "start_time": "2024-10-31T06:14:05.262Z"
   },
   {
    "duration": 11,
    "start_time": "2024-10-31T06:14:05.376Z"
   },
   {
    "duration": 63,
    "start_time": "2024-10-31T06:14:05.388Z"
   },
   {
    "duration": 6,
    "start_time": "2024-10-31T06:14:05.452Z"
   },
   {
    "duration": 16,
    "start_time": "2024-10-31T06:14:05.460Z"
   },
   {
    "duration": 16,
    "start_time": "2024-10-31T06:14:05.478Z"
   },
   {
    "duration": 36,
    "start_time": "2024-10-31T06:14:05.496Z"
   },
   {
    "duration": 196,
    "start_time": "2024-10-31T06:14:05.533Z"
   },
   {
    "duration": 6,
    "start_time": "2024-10-31T06:14:05.730Z"
   },
   {
    "duration": 343,
    "start_time": "2024-10-31T06:14:05.737Z"
   },
   {
    "duration": 6,
    "start_time": "2024-10-31T06:14:06.081Z"
   },
   {
    "duration": 161,
    "start_time": "2024-10-31T06:14:06.089Z"
   },
   {
    "duration": 2382,
    "start_time": "2024-10-31T06:14:06.252Z"
   },
   {
    "duration": 6,
    "start_time": "2024-10-31T06:24:16.424Z"
   },
   {
    "duration": 1131,
    "start_time": "2024-10-31T06:27:21.323Z"
   },
   {
    "duration": 71,
    "start_time": "2024-10-31T06:27:22.456Z"
   },
   {
    "duration": 33,
    "start_time": "2024-10-31T06:27:22.528Z"
   },
   {
    "duration": 9,
    "start_time": "2024-10-31T06:27:22.563Z"
   },
   {
    "duration": 65,
    "start_time": "2024-10-31T06:27:22.573Z"
   },
   {
    "duration": 12,
    "start_time": "2024-10-31T06:27:22.639Z"
   },
   {
    "duration": 38,
    "start_time": "2024-10-31T06:27:22.652Z"
   },
   {
    "duration": 15,
    "start_time": "2024-10-31T06:27:22.692Z"
   },
   {
    "duration": 30,
    "start_time": "2024-10-31T06:27:22.709Z"
   },
   {
    "duration": 15,
    "start_time": "2024-10-31T06:27:22.741Z"
   },
   {
    "duration": 12,
    "start_time": "2024-10-31T06:27:22.758Z"
   },
   {
    "duration": 6,
    "start_time": "2024-10-31T06:27:22.772Z"
   },
   {
    "duration": 25,
    "start_time": "2024-10-31T06:27:22.780Z"
   },
   {
    "duration": 28,
    "start_time": "2024-10-31T06:27:22.806Z"
   },
   {
    "duration": 184,
    "start_time": "2024-10-31T06:27:22.835Z"
   },
   {
    "duration": 15,
    "start_time": "2024-10-31T06:27:23.021Z"
   },
   {
    "duration": 19,
    "start_time": "2024-10-31T06:27:23.038Z"
   },
   {
    "duration": 176,
    "start_time": "2024-10-31T06:27:23.077Z"
   },
   {
    "duration": 145,
    "start_time": "2024-10-31T06:27:23.255Z"
   },
   {
    "duration": 8,
    "start_time": "2024-10-31T06:27:23.402Z"
   },
   {
    "duration": 276,
    "start_time": "2024-10-31T06:27:23.412Z"
   },
   {
    "duration": 10,
    "start_time": "2024-10-31T06:27:23.690Z"
   },
   {
    "duration": 262,
    "start_time": "2024-10-31T06:27:23.701Z"
   },
   {
    "duration": 395,
    "start_time": "2024-10-31T06:27:23.965Z"
   },
   {
    "duration": 8,
    "start_time": "2024-10-31T06:27:24.362Z"
   },
   {
    "duration": 198,
    "start_time": "2024-10-31T06:27:24.372Z"
   },
   {
    "duration": 294,
    "start_time": "2024-10-31T06:27:24.571Z"
   },
   {
    "duration": 17,
    "start_time": "2024-10-31T06:27:24.875Z"
   },
   {
    "duration": 12,
    "start_time": "2024-10-31T06:27:24.893Z"
   },
   {
    "duration": 26,
    "start_time": "2024-10-31T06:27:24.907Z"
   },
   {
    "duration": 12,
    "start_time": "2024-10-31T06:27:24.934Z"
   },
   {
    "duration": 29,
    "start_time": "2024-10-31T06:27:24.948Z"
   },
   {
    "duration": 12,
    "start_time": "2024-10-31T06:27:24.978Z"
   },
   {
    "duration": 10,
    "start_time": "2024-10-31T06:27:24.992Z"
   },
   {
    "duration": 11,
    "start_time": "2024-10-31T06:27:25.003Z"
   },
   {
    "duration": 171,
    "start_time": "2024-10-31T06:27:25.016Z"
   },
   {
    "duration": 8,
    "start_time": "2024-10-31T06:27:25.189Z"
   },
   {
    "duration": 8,
    "start_time": "2024-10-31T06:27:25.198Z"
   },
   {
    "duration": 349,
    "start_time": "2024-10-31T06:27:25.207Z"
   },
   {
    "duration": 112,
    "start_time": "2024-10-31T06:27:25.557Z"
   },
   {
    "duration": 15,
    "start_time": "2024-10-31T06:27:25.670Z"
   },
   {
    "duration": 34,
    "start_time": "2024-10-31T06:27:25.687Z"
   },
   {
    "duration": 7,
    "start_time": "2024-10-31T06:27:25.722Z"
   },
   {
    "duration": 5,
    "start_time": "2024-10-31T06:27:25.730Z"
   },
   {
    "duration": 80,
    "start_time": "2024-10-31T06:27:25.736Z"
   },
   {
    "duration": 5,
    "start_time": "2024-10-31T06:27:25.818Z"
   },
   {
    "duration": 262,
    "start_time": "2024-10-31T06:27:25.824Z"
   },
   {
    "duration": 5,
    "start_time": "2024-10-31T06:27:26.088Z"
   },
   {
    "duration": 307,
    "start_time": "2024-10-31T06:27:26.095Z"
   },
   {
    "duration": 7,
    "start_time": "2024-10-31T06:27:26.403Z"
   },
   {
    "duration": 168,
    "start_time": "2024-10-31T06:27:26.411Z"
   },
   {
    "duration": 2496,
    "start_time": "2024-10-31T06:27:26.582Z"
   },
   {
    "duration": 49,
    "start_time": "2024-10-31T16:33:09.094Z"
   },
   {
    "duration": 1296,
    "start_time": "2024-10-31T16:33:13.428Z"
   },
   {
    "duration": 266,
    "start_time": "2024-10-31T16:33:14.725Z"
   },
   {
    "duration": 30,
    "start_time": "2024-10-31T16:33:14.993Z"
   },
   {
    "duration": 11,
    "start_time": "2024-10-31T16:33:15.025Z"
   },
   {
    "duration": 29,
    "start_time": "2024-10-31T16:33:15.038Z"
   },
   {
    "duration": 39,
    "start_time": "2024-10-31T16:33:15.068Z"
   },
   {
    "duration": 29,
    "start_time": "2024-10-31T16:33:15.108Z"
   },
   {
    "duration": 44,
    "start_time": "2024-10-31T16:33:15.138Z"
   },
   {
    "duration": 38,
    "start_time": "2024-10-31T16:33:15.184Z"
   },
   {
    "duration": 46,
    "start_time": "2024-10-31T16:33:15.224Z"
   },
   {
    "duration": 35,
    "start_time": "2024-10-31T16:33:15.272Z"
   },
   {
    "duration": 43,
    "start_time": "2024-10-31T16:33:15.310Z"
   },
   {
    "duration": 36,
    "start_time": "2024-10-31T16:33:15.355Z"
   },
   {
    "duration": 125,
    "start_time": "2024-10-31T16:33:15.395Z"
   },
   {
    "duration": 0,
    "start_time": "2024-10-31T16:33:15.522Z"
   },
   {
    "duration": 0,
    "start_time": "2024-10-31T16:33:15.523Z"
   },
   {
    "duration": 0,
    "start_time": "2024-10-31T16:33:15.524Z"
   },
   {
    "duration": 0,
    "start_time": "2024-10-31T16:33:15.525Z"
   },
   {
    "duration": 0,
    "start_time": "2024-10-31T16:33:15.526Z"
   },
   {
    "duration": 0,
    "start_time": "2024-10-31T16:33:15.527Z"
   },
   {
    "duration": 0,
    "start_time": "2024-10-31T16:33:15.529Z"
   },
   {
    "duration": 0,
    "start_time": "2024-10-31T16:33:15.529Z"
   },
   {
    "duration": 0,
    "start_time": "2024-10-31T16:33:15.531Z"
   },
   {
    "duration": 0,
    "start_time": "2024-10-31T16:33:15.532Z"
   },
   {
    "duration": 0,
    "start_time": "2024-10-31T16:33:15.533Z"
   },
   {
    "duration": 0,
    "start_time": "2024-10-31T16:33:15.534Z"
   },
   {
    "duration": 0,
    "start_time": "2024-10-31T16:33:15.535Z"
   },
   {
    "duration": 0,
    "start_time": "2024-10-31T16:33:15.536Z"
   },
   {
    "duration": 0,
    "start_time": "2024-10-31T16:33:15.537Z"
   },
   {
    "duration": 0,
    "start_time": "2024-10-31T16:33:15.538Z"
   },
   {
    "duration": 0,
    "start_time": "2024-10-31T16:33:15.539Z"
   },
   {
    "duration": 0,
    "start_time": "2024-10-31T16:33:15.540Z"
   },
   {
    "duration": 0,
    "start_time": "2024-10-31T16:33:15.541Z"
   },
   {
    "duration": 0,
    "start_time": "2024-10-31T16:33:15.542Z"
   },
   {
    "duration": 0,
    "start_time": "2024-10-31T16:33:15.543Z"
   },
   {
    "duration": 0,
    "start_time": "2024-10-31T16:33:15.544Z"
   },
   {
    "duration": 0,
    "start_time": "2024-10-31T16:33:15.545Z"
   },
   {
    "duration": 0,
    "start_time": "2024-10-31T16:33:15.546Z"
   },
   {
    "duration": 0,
    "start_time": "2024-10-31T16:33:15.547Z"
   },
   {
    "duration": 0,
    "start_time": "2024-10-31T16:33:15.548Z"
   },
   {
    "duration": 0,
    "start_time": "2024-10-31T16:33:15.549Z"
   },
   {
    "duration": 0,
    "start_time": "2024-10-31T16:33:15.550Z"
   },
   {
    "duration": 0,
    "start_time": "2024-10-31T16:33:15.551Z"
   },
   {
    "duration": 0,
    "start_time": "2024-10-31T16:33:15.552Z"
   },
   {
    "duration": 0,
    "start_time": "2024-10-31T16:33:15.553Z"
   },
   {
    "duration": 0,
    "start_time": "2024-10-31T16:33:15.554Z"
   },
   {
    "duration": 0,
    "start_time": "2024-10-31T16:33:15.555Z"
   },
   {
    "duration": 0,
    "start_time": "2024-10-31T16:33:15.557Z"
   },
   {
    "duration": 0,
    "start_time": "2024-10-31T16:33:15.557Z"
   },
   {
    "duration": 0,
    "start_time": "2024-10-31T16:33:15.619Z"
   },
   {
    "duration": 0,
    "start_time": "2024-10-31T16:33:15.620Z"
   },
   {
    "duration": 0,
    "start_time": "2024-10-31T16:33:15.621Z"
   },
   {
    "duration": 21,
    "start_time": "2024-10-31T16:33:41.833Z"
   },
   {
    "duration": 23,
    "start_time": "2024-10-31T16:34:07.518Z"
   },
   {
    "duration": 24,
    "start_time": "2024-10-31T16:34:21.791Z"
   },
   {
    "duration": 19,
    "start_time": "2024-10-31T16:36:16.567Z"
   },
   {
    "duration": 35,
    "start_time": "2024-10-31T16:36:28.665Z"
   },
   {
    "duration": 6,
    "start_time": "2024-10-31T16:36:29.389Z"
   },
   {
    "duration": 4,
    "start_time": "2024-10-31T16:41:04.573Z"
   },
   {
    "duration": 1335,
    "start_time": "2024-10-31T16:41:45.004Z"
   },
   {
    "duration": 102,
    "start_time": "2024-10-31T16:41:46.341Z"
   },
   {
    "duration": 79,
    "start_time": "2024-10-31T16:41:46.444Z"
   },
   {
    "duration": 8,
    "start_time": "2024-10-31T16:41:46.525Z"
   },
   {
    "duration": 8,
    "start_time": "2024-10-31T16:41:46.534Z"
   },
   {
    "duration": 6,
    "start_time": "2024-10-31T16:41:46.543Z"
   },
   {
    "duration": 9,
    "start_time": "2024-10-31T16:41:46.551Z"
   },
   {
    "duration": 9,
    "start_time": "2024-10-31T16:41:46.618Z"
   },
   {
    "duration": 6,
    "start_time": "2024-10-31T16:41:46.629Z"
   },
   {
    "duration": 6,
    "start_time": "2024-10-31T16:41:46.639Z"
   },
   {
    "duration": 15,
    "start_time": "2024-10-31T16:41:46.647Z"
   },
   {
    "duration": 55,
    "start_time": "2024-10-31T16:41:46.664Z"
   },
   {
    "duration": 21,
    "start_time": "2024-10-31T16:41:46.721Z"
   },
   {
    "duration": 20,
    "start_time": "2024-10-31T16:41:46.744Z"
   },
   {
    "duration": 55,
    "start_time": "2024-10-31T16:41:46.765Z"
   },
   {
    "duration": 398,
    "start_time": "2024-10-31T16:41:46.822Z"
   },
   {
    "duration": 16,
    "start_time": "2024-10-31T16:41:47.222Z"
   },
   {
    "duration": 14,
    "start_time": "2024-10-31T16:41:47.239Z"
   },
   {
    "duration": 306,
    "start_time": "2024-10-31T16:41:47.255Z"
   },
   {
    "duration": 157,
    "start_time": "2024-10-31T16:41:47.563Z"
   },
   {
    "duration": 8,
    "start_time": "2024-10-31T16:41:47.721Z"
   },
   {
    "duration": 266,
    "start_time": "2024-10-31T16:41:47.731Z"
   },
   {
    "duration": 20,
    "start_time": "2024-10-31T16:41:47.999Z"
   },
   {
    "duration": 267,
    "start_time": "2024-10-31T16:41:48.021Z"
   },
   {
    "duration": 393,
    "start_time": "2024-10-31T16:41:48.290Z"
   },
   {
    "duration": 10,
    "start_time": "2024-10-31T16:41:48.685Z"
   },
   {
    "duration": 180,
    "start_time": "2024-10-31T16:41:48.697Z"
   },
   {
    "duration": 286,
    "start_time": "2024-10-31T16:41:48.882Z"
   },
   {
    "duration": 16,
    "start_time": "2024-10-31T16:41:49.170Z"
   },
   {
    "duration": 31,
    "start_time": "2024-10-31T16:41:49.188Z"
   },
   {
    "duration": 33,
    "start_time": "2024-10-31T16:41:49.221Z"
   },
   {
    "duration": 11,
    "start_time": "2024-10-31T16:41:49.255Z"
   },
   {
    "duration": 52,
    "start_time": "2024-10-31T16:41:49.268Z"
   },
   {
    "duration": 16,
    "start_time": "2024-10-31T16:41:49.322Z"
   },
   {
    "duration": 9,
    "start_time": "2024-10-31T16:41:49.339Z"
   },
   {
    "duration": 12,
    "start_time": "2024-10-31T16:41:49.349Z"
   },
   {
    "duration": 147,
    "start_time": "2024-10-31T16:41:49.363Z"
   },
   {
    "duration": 12,
    "start_time": "2024-10-31T16:41:49.511Z"
   },
   {
    "duration": 15,
    "start_time": "2024-10-31T16:41:49.524Z"
   },
   {
    "duration": 312,
    "start_time": "2024-10-31T16:41:49.540Z"
   },
   {
    "duration": 110,
    "start_time": "2024-10-31T16:41:49.853Z"
   },
   {
    "duration": 11,
    "start_time": "2024-10-31T16:41:49.964Z"
   },
   {
    "duration": 42,
    "start_time": "2024-10-31T16:41:49.977Z"
   },
   {
    "duration": 9,
    "start_time": "2024-10-31T16:41:50.021Z"
   },
   {
    "duration": 14,
    "start_time": "2024-10-31T16:41:50.031Z"
   },
   {
    "duration": 18,
    "start_time": "2024-10-31T16:41:50.047Z"
   },
   {
    "duration": 7,
    "start_time": "2024-10-31T16:41:50.067Z"
   },
   {
    "duration": 226,
    "start_time": "2024-10-31T16:41:50.075Z"
   },
   {
    "duration": 16,
    "start_time": "2024-10-31T16:41:50.302Z"
   },
   {
    "duration": 309,
    "start_time": "2024-10-31T16:41:50.320Z"
   },
   {
    "duration": 7,
    "start_time": "2024-10-31T16:41:50.630Z"
   },
   {
    "duration": 163,
    "start_time": "2024-10-31T16:41:50.638Z"
   },
   {
    "duration": 2340,
    "start_time": "2024-10-31T16:41:50.802Z"
   },
   {
    "duration": 184,
    "start_time": "2024-10-31T16:43:22.852Z"
   },
   {
    "duration": 182,
    "start_time": "2024-10-31T16:44:12.287Z"
   },
   {
    "duration": 155,
    "start_time": "2024-10-31T16:44:26.259Z"
   },
   {
    "duration": 165,
    "start_time": "2024-10-31T16:44:35.569Z"
   },
   {
    "duration": 148,
    "start_time": "2024-10-31T16:45:18.909Z"
   },
   {
    "duration": 150,
    "start_time": "2024-10-31T16:45:49.834Z"
   },
   {
    "duration": 7,
    "start_time": "2024-10-31T16:48:50.113Z"
   },
   {
    "duration": 8,
    "start_time": "2024-10-31T16:49:10.761Z"
   },
   {
    "duration": 64,
    "start_time": "2024-10-31T16:49:34.196Z"
   },
   {
    "duration": 64,
    "start_time": "2024-10-31T16:49:37.172Z"
   },
   {
    "duration": 1163,
    "start_time": "2024-10-31T16:49:45.459Z"
   },
   {
    "duration": 65,
    "start_time": "2024-10-31T16:49:46.624Z"
   },
   {
    "duration": 33,
    "start_time": "2024-10-31T16:49:46.691Z"
   },
   {
    "duration": 8,
    "start_time": "2024-10-31T16:49:46.725Z"
   },
   {
    "duration": 9,
    "start_time": "2024-10-31T16:49:46.735Z"
   },
   {
    "duration": 12,
    "start_time": "2024-10-31T16:49:46.745Z"
   },
   {
    "duration": 9,
    "start_time": "2024-10-31T16:49:46.758Z"
   },
   {
    "duration": 7,
    "start_time": "2024-10-31T16:49:46.768Z"
   },
   {
    "duration": 9,
    "start_time": "2024-10-31T16:49:46.776Z"
   },
   {
    "duration": 35,
    "start_time": "2024-10-31T16:49:46.787Z"
   },
   {
    "duration": 8,
    "start_time": "2024-10-31T16:49:46.824Z"
   },
   {
    "duration": 5,
    "start_time": "2024-10-31T16:49:46.834Z"
   },
   {
    "duration": 11,
    "start_time": "2024-10-31T16:49:46.841Z"
   },
   {
    "duration": 19,
    "start_time": "2024-10-31T16:49:46.855Z"
   },
   {
    "duration": 43,
    "start_time": "2024-10-31T16:49:46.876Z"
   },
   {
    "duration": 188,
    "start_time": "2024-10-31T16:49:46.921Z"
   },
   {
    "duration": 153,
    "start_time": "2024-10-31T16:49:47.117Z"
   },
   {
    "duration": 15,
    "start_time": "2024-10-31T16:49:47.271Z"
   },
   {
    "duration": 69,
    "start_time": "2024-10-31T16:49:47.288Z"
   },
   {
    "duration": 0,
    "start_time": "2024-10-31T16:49:47.360Z"
   },
   {
    "duration": 0,
    "start_time": "2024-10-31T16:49:47.362Z"
   },
   {
    "duration": 0,
    "start_time": "2024-10-31T16:49:47.364Z"
   },
   {
    "duration": 0,
    "start_time": "2024-10-31T16:49:47.365Z"
   },
   {
    "duration": 0,
    "start_time": "2024-10-31T16:49:47.367Z"
   },
   {
    "duration": 0,
    "start_time": "2024-10-31T16:49:47.368Z"
   },
   {
    "duration": 0,
    "start_time": "2024-10-31T16:49:47.370Z"
   },
   {
    "duration": 0,
    "start_time": "2024-10-31T16:49:47.371Z"
   },
   {
    "duration": 0,
    "start_time": "2024-10-31T16:49:47.373Z"
   },
   {
    "duration": 0,
    "start_time": "2024-10-31T16:49:47.375Z"
   },
   {
    "duration": 0,
    "start_time": "2024-10-31T16:49:47.376Z"
   },
   {
    "duration": 0,
    "start_time": "2024-10-31T16:49:47.378Z"
   },
   {
    "duration": 0,
    "start_time": "2024-10-31T16:49:47.379Z"
   },
   {
    "duration": 0,
    "start_time": "2024-10-31T16:49:47.380Z"
   },
   {
    "duration": 0,
    "start_time": "2024-10-31T16:49:47.382Z"
   },
   {
    "duration": 0,
    "start_time": "2024-10-31T16:49:47.384Z"
   },
   {
    "duration": 0,
    "start_time": "2024-10-31T16:49:47.385Z"
   },
   {
    "duration": 0,
    "start_time": "2024-10-31T16:49:47.386Z"
   },
   {
    "duration": 0,
    "start_time": "2024-10-31T16:49:47.388Z"
   },
   {
    "duration": 0,
    "start_time": "2024-10-31T16:49:47.418Z"
   },
   {
    "duration": 0,
    "start_time": "2024-10-31T16:49:47.419Z"
   },
   {
    "duration": 0,
    "start_time": "2024-10-31T16:49:47.420Z"
   },
   {
    "duration": 0,
    "start_time": "2024-10-31T16:49:47.422Z"
   },
   {
    "duration": 0,
    "start_time": "2024-10-31T16:49:47.423Z"
   },
   {
    "duration": 0,
    "start_time": "2024-10-31T16:49:47.425Z"
   },
   {
    "duration": 0,
    "start_time": "2024-10-31T16:49:47.426Z"
   },
   {
    "duration": 0,
    "start_time": "2024-10-31T16:49:47.427Z"
   },
   {
    "duration": 0,
    "start_time": "2024-10-31T16:49:47.428Z"
   },
   {
    "duration": 0,
    "start_time": "2024-10-31T16:49:47.429Z"
   },
   {
    "duration": 0,
    "start_time": "2024-10-31T16:49:47.431Z"
   },
   {
    "duration": 0,
    "start_time": "2024-10-31T16:49:47.432Z"
   },
   {
    "duration": 0,
    "start_time": "2024-10-31T16:49:47.433Z"
   },
   {
    "duration": 0,
    "start_time": "2024-10-31T16:49:47.435Z"
   },
   {
    "duration": 0,
    "start_time": "2024-10-31T16:49:47.436Z"
   },
   {
    "duration": 0,
    "start_time": "2024-10-31T16:49:47.437Z"
   },
   {
    "duration": 0,
    "start_time": "2024-10-31T16:49:47.439Z"
   },
   {
    "duration": 9,
    "start_time": "2024-10-31T16:49:58.278Z"
   },
   {
    "duration": 7,
    "start_time": "2024-10-31T16:50:32.177Z"
   },
   {
    "duration": 8,
    "start_time": "2024-10-31T16:51:53.908Z"
   },
   {
    "duration": 14,
    "start_time": "2024-10-31T16:52:03.176Z"
   },
   {
    "duration": 163,
    "start_time": "2024-10-31T16:52:05.671Z"
   },
   {
    "duration": 120,
    "start_time": "2024-10-31T16:52:17.878Z"
   },
   {
    "duration": 8,
    "start_time": "2024-10-31T16:52:47.338Z"
   },
   {
    "duration": 7,
    "start_time": "2024-10-31T16:53:44.123Z"
   },
   {
    "duration": 135,
    "start_time": "2024-10-31T16:54:53.984Z"
   },
   {
    "duration": 1210,
    "start_time": "2024-10-31T16:55:00.062Z"
   },
   {
    "duration": 68,
    "start_time": "2024-10-31T16:55:01.274Z"
   },
   {
    "duration": 32,
    "start_time": "2024-10-31T16:55:01.343Z"
   },
   {
    "duration": 24,
    "start_time": "2024-10-31T16:55:01.376Z"
   },
   {
    "duration": 41,
    "start_time": "2024-10-31T16:55:01.402Z"
   },
   {
    "duration": 44,
    "start_time": "2024-10-31T16:55:01.445Z"
   },
   {
    "duration": 40,
    "start_time": "2024-10-31T16:55:01.491Z"
   },
   {
    "duration": 30,
    "start_time": "2024-10-31T16:55:01.532Z"
   },
   {
    "duration": 38,
    "start_time": "2024-10-31T16:55:01.564Z"
   },
   {
    "duration": 17,
    "start_time": "2024-10-31T16:55:01.603Z"
   },
   {
    "duration": 37,
    "start_time": "2024-10-31T16:55:01.622Z"
   },
   {
    "duration": 38,
    "start_time": "2024-10-31T16:55:01.661Z"
   },
   {
    "duration": 87,
    "start_time": "2024-10-31T16:55:01.701Z"
   },
   {
    "duration": 42,
    "start_time": "2024-10-31T16:55:01.791Z"
   },
   {
    "duration": 40,
    "start_time": "2024-10-31T16:55:01.834Z"
   },
   {
    "duration": 191,
    "start_time": "2024-10-31T16:55:01.876Z"
   },
   {
    "duration": 166,
    "start_time": "2024-10-31T16:55:02.069Z"
   },
   {
    "duration": 22,
    "start_time": "2024-10-31T16:55:02.237Z"
   },
   {
    "duration": 42,
    "start_time": "2024-10-31T16:55:02.261Z"
   },
   {
    "duration": 43,
    "start_time": "2024-10-31T16:55:02.305Z"
   },
   {
    "duration": 234,
    "start_time": "2024-10-31T16:55:02.351Z"
   },
   {
    "duration": 240,
    "start_time": "2024-10-31T16:55:02.587Z"
   },
   {
    "duration": 9,
    "start_time": "2024-10-31T16:55:02.828Z"
   },
   {
    "duration": 621,
    "start_time": "2024-10-31T16:55:02.839Z"
   },
   {
    "duration": 62,
    "start_time": "2024-10-31T16:55:03.462Z"
   },
   {
    "duration": 610,
    "start_time": "2024-10-31T16:55:03.526Z"
   },
   {
    "duration": 385,
    "start_time": "2024-10-31T16:55:04.138Z"
   },
   {
    "duration": 9,
    "start_time": "2024-10-31T16:55:04.524Z"
   },
   {
    "duration": 259,
    "start_time": "2024-10-31T16:55:04.535Z"
   },
   {
    "duration": 208,
    "start_time": "2024-10-31T16:55:04.796Z"
   },
   {
    "duration": 20,
    "start_time": "2024-10-31T16:55:05.005Z"
   },
   {
    "duration": 11,
    "start_time": "2024-10-31T16:55:05.027Z"
   },
   {
    "duration": 16,
    "start_time": "2024-10-31T16:55:05.039Z"
   },
   {
    "duration": 10,
    "start_time": "2024-10-31T16:55:05.057Z"
   },
   {
    "duration": 41,
    "start_time": "2024-10-31T16:55:05.069Z"
   },
   {
    "duration": 14,
    "start_time": "2024-10-31T16:55:05.112Z"
   },
   {
    "duration": 29,
    "start_time": "2024-10-31T16:55:05.128Z"
   },
   {
    "duration": 15,
    "start_time": "2024-10-31T16:55:05.159Z"
   },
   {
    "duration": 154,
    "start_time": "2024-10-31T16:55:05.176Z"
   },
   {
    "duration": 8,
    "start_time": "2024-10-31T16:55:05.332Z"
   },
   {
    "duration": 7,
    "start_time": "2024-10-31T16:55:05.344Z"
   },
   {
    "duration": 366,
    "start_time": "2024-10-31T16:55:05.352Z"
   },
   {
    "duration": 152,
    "start_time": "2024-10-31T16:55:05.719Z"
   },
   {
    "duration": 49,
    "start_time": "2024-10-31T16:55:05.873Z"
   },
   {
    "duration": 68,
    "start_time": "2024-10-31T16:55:05.923Z"
   },
   {
    "duration": 9,
    "start_time": "2024-10-31T16:55:05.993Z"
   },
   {
    "duration": 14,
    "start_time": "2024-10-31T16:55:06.003Z"
   },
   {
    "duration": 31,
    "start_time": "2024-10-31T16:55:06.018Z"
   },
   {
    "duration": 13,
    "start_time": "2024-10-31T16:55:06.052Z"
   },
   {
    "duration": 251,
    "start_time": "2024-10-31T16:55:06.067Z"
   },
   {
    "duration": 5,
    "start_time": "2024-10-31T16:55:06.320Z"
   },
   {
    "duration": 496,
    "start_time": "2024-10-31T16:55:06.326Z"
   },
   {
    "duration": 7,
    "start_time": "2024-10-31T16:55:06.823Z"
   },
   {
    "duration": 188,
    "start_time": "2024-10-31T16:55:06.831Z"
   },
   {
    "duration": 2449,
    "start_time": "2024-10-31T16:55:07.021Z"
   },
   {
    "duration": 102,
    "start_time": "2024-10-31T17:36:36.635Z"
   },
   {
    "duration": 549,
    "start_time": "2024-10-31T17:40:51.304Z"
   },
   {
    "duration": 583,
    "start_time": "2024-10-31T17:42:10.118Z"
   },
   {
    "duration": 742,
    "start_time": "2024-10-31T17:42:43.106Z"
   },
   {
    "duration": 569,
    "start_time": "2024-10-31T17:42:55.297Z"
   },
   {
    "duration": 531,
    "start_time": "2024-10-31T17:43:23.773Z"
   },
   {
    "duration": 627,
    "start_time": "2024-10-31T17:43:32.181Z"
   },
   {
    "duration": 543,
    "start_time": "2024-10-31T17:44:33.182Z"
   },
   {
    "duration": 596,
    "start_time": "2024-10-31T17:44:42.380Z"
   },
   {
    "duration": 590,
    "start_time": "2024-10-31T17:44:59.345Z"
   },
   {
    "duration": 631,
    "start_time": "2024-10-31T17:45:15.486Z"
   },
   {
    "duration": 608,
    "start_time": "2024-10-31T17:45:30.891Z"
   },
   {
    "duration": 511,
    "start_time": "2024-10-31T17:45:37.798Z"
   },
   {
    "duration": 532,
    "start_time": "2024-10-31T17:45:51.415Z"
   },
   {
    "duration": 559,
    "start_time": "2024-10-31T17:46:19.883Z"
   },
   {
    "duration": 655,
    "start_time": "2024-10-31T17:47:44.543Z"
   },
   {
    "duration": 543,
    "start_time": "2024-10-31T17:48:01.469Z"
   },
   {
    "duration": 455,
    "start_time": "2024-10-31T17:48:46.746Z"
   },
   {
    "duration": 889,
    "start_time": "2024-10-31T17:48:53.529Z"
   },
   {
    "duration": 775,
    "start_time": "2024-10-31T17:49:10.678Z"
   },
   {
    "duration": 4075,
    "start_time": "2024-10-31T17:49:21.052Z"
   },
   {
    "duration": 783,
    "start_time": "2024-10-31T17:49:31.027Z"
   },
   {
    "duration": 1033,
    "start_time": "2024-10-31T17:49:52.362Z"
   },
   {
    "duration": 805,
    "start_time": "2024-10-31T17:50:12.592Z"
   },
   {
    "duration": 760,
    "start_time": "2024-10-31T17:51:01.175Z"
   },
   {
    "duration": 702,
    "start_time": "2024-10-31T17:51:24.441Z"
   },
   {
    "duration": 784,
    "start_time": "2024-10-31T17:51:30.620Z"
   },
   {
    "duration": 918,
    "start_time": "2024-10-31T17:51:46.684Z"
   },
   {
    "duration": 772,
    "start_time": "2024-10-31T17:55:54.854Z"
   },
   {
    "duration": 10,
    "start_time": "2024-10-31T17:58:18.811Z"
   },
   {
    "duration": 7,
    "start_time": "2024-10-31T18:00:44.759Z"
   },
   {
    "duration": 7,
    "start_time": "2024-10-31T18:00:56.997Z"
   },
   {
    "duration": 3,
    "start_time": "2024-10-31T18:03:51.553Z"
   },
   {
    "duration": 168,
    "start_time": "2024-10-31T18:03:54.193Z"
   },
   {
    "duration": 20,
    "start_time": "2024-10-31T18:04:06.933Z"
   },
   {
    "duration": 214,
    "start_time": "2024-10-31T18:04:07.638Z"
   },
   {
    "duration": 137,
    "start_time": "2024-10-31T18:04:12.130Z"
   },
   {
    "duration": 9,
    "start_time": "2024-10-31T18:04:14.489Z"
   },
   {
    "duration": 267,
    "start_time": "2024-10-31T18:04:16.224Z"
   },
   {
    "duration": 857,
    "start_time": "2024-10-31T18:05:54.800Z"
   },
   {
    "duration": 895,
    "start_time": "2024-10-31T19:04:16.232Z"
   },
   {
    "duration": 757,
    "start_time": "2024-10-31T19:04:34.228Z"
   },
   {
    "duration": 892,
    "start_time": "2024-10-31T19:04:49.633Z"
   },
   {
    "duration": 142,
    "start_time": "2024-10-31T19:05:00.551Z"
   },
   {
    "duration": 750,
    "start_time": "2024-10-31T19:05:22.177Z"
   },
   {
    "duration": 146,
    "start_time": "2024-10-31T19:05:58.147Z"
   },
   {
    "duration": 68,
    "start_time": "2024-10-31T19:08:31.639Z"
   },
   {
    "duration": 41,
    "start_time": "2024-10-31T19:09:24.768Z"
   },
   {
    "duration": 46,
    "start_time": "2024-10-31T19:09:37.420Z"
   },
   {
    "duration": 10,
    "start_time": "2024-10-31T19:10:15.699Z"
   },
   {
    "duration": 4,
    "start_time": "2024-10-31T19:10:16.674Z"
   },
   {
    "duration": 4,
    "start_time": "2024-10-31T19:10:17.244Z"
   },
   {
    "duration": 882,
    "start_time": "2024-10-31T19:44:07.667Z"
   },
   {
    "duration": 176,
    "start_time": "2024-10-31T19:45:21.592Z"
   },
   {
    "duration": 763,
    "start_time": "2024-10-31T19:49:31.813Z"
   },
   {
    "duration": 1252,
    "start_time": "2024-11-01T13:11:49.640Z"
   },
   {
    "duration": 291,
    "start_time": "2024-11-01T13:11:50.894Z"
   },
   {
    "duration": 30,
    "start_time": "2024-11-01T13:11:51.187Z"
   },
   {
    "duration": 54,
    "start_time": "2024-11-01T13:11:51.219Z"
   },
   {
    "duration": 14,
    "start_time": "2024-11-01T13:11:51.275Z"
   },
   {
    "duration": 12,
    "start_time": "2024-11-01T13:11:51.290Z"
   },
   {
    "duration": 11,
    "start_time": "2024-11-01T13:11:51.303Z"
   },
   {
    "duration": 38,
    "start_time": "2024-11-01T13:11:51.316Z"
   },
   {
    "duration": 10,
    "start_time": "2024-11-01T13:11:51.356Z"
   },
   {
    "duration": 76,
    "start_time": "2024-11-01T13:11:51.368Z"
   },
   {
    "duration": 100,
    "start_time": "2024-11-01T13:11:51.446Z"
   },
   {
    "duration": 12,
    "start_time": "2024-11-01T13:11:51.547Z"
   },
   {
    "duration": 14,
    "start_time": "2024-11-01T13:11:51.560Z"
   },
   {
    "duration": 14,
    "start_time": "2024-11-01T13:11:51.575Z"
   },
   {
    "duration": 4,
    "start_time": "2024-11-01T13:11:51.590Z"
   },
   {
    "duration": 156,
    "start_time": "2024-11-01T13:11:51.595Z"
   },
   {
    "duration": 15,
    "start_time": "2024-11-01T13:11:51.752Z"
   },
   {
    "duration": 6,
    "start_time": "2024-11-01T13:11:51.768Z"
   },
   {
    "duration": 121,
    "start_time": "2024-11-01T13:11:51.775Z"
   },
   {
    "duration": 105,
    "start_time": "2024-11-01T13:11:51.897Z"
   },
   {
    "duration": 117,
    "start_time": "2024-11-01T13:11:52.003Z"
   },
   {
    "duration": 6,
    "start_time": "2024-11-01T13:11:52.122Z"
   },
   {
    "duration": 256,
    "start_time": "2024-11-01T13:11:52.129Z"
   },
   {
    "duration": 7,
    "start_time": "2024-11-01T13:11:52.386Z"
   },
   {
    "duration": 227,
    "start_time": "2024-11-01T13:11:52.394Z"
   },
   {
    "duration": 349,
    "start_time": "2024-11-01T13:11:52.623Z"
   },
   {
    "duration": 7,
    "start_time": "2024-11-01T13:11:52.973Z"
   },
   {
    "duration": 156,
    "start_time": "2024-11-01T13:11:52.983Z"
   },
   {
    "duration": 230,
    "start_time": "2024-11-01T13:11:53.141Z"
   },
   {
    "duration": 13,
    "start_time": "2024-11-01T13:11:53.372Z"
   },
   {
    "duration": 160,
    "start_time": "2024-11-01T13:11:53.387Z"
   },
   {
    "duration": 23,
    "start_time": "2024-11-01T13:11:53.549Z"
   },
   {
    "duration": 10,
    "start_time": "2024-11-01T13:11:53.573Z"
   },
   {
    "duration": 10,
    "start_time": "2024-11-01T13:11:53.584Z"
   },
   {
    "duration": 12,
    "start_time": "2024-11-01T13:11:53.595Z"
   },
   {
    "duration": 7,
    "start_time": "2024-11-01T13:11:53.609Z"
   },
   {
    "duration": 25,
    "start_time": "2024-11-01T13:11:53.617Z"
   },
   {
    "duration": 124,
    "start_time": "2024-11-01T13:11:53.643Z"
   },
   {
    "duration": 7,
    "start_time": "2024-11-01T13:11:53.768Z"
   },
   {
    "duration": 17,
    "start_time": "2024-11-01T13:11:53.776Z"
   },
   {
    "duration": 711,
    "start_time": "2024-11-01T13:11:53.795Z"
   },
   {
    "duration": 96,
    "start_time": "2024-11-01T13:11:54.508Z"
   },
   {
    "duration": 11,
    "start_time": "2024-11-01T13:11:54.605Z"
   },
   {
    "duration": 94,
    "start_time": "2024-11-01T13:11:54.618Z"
   },
   {
    "duration": 5,
    "start_time": "2024-11-01T13:11:54.714Z"
   },
   {
    "duration": 14,
    "start_time": "2024-11-01T13:11:54.720Z"
   },
   {
    "duration": 30,
    "start_time": "2024-11-01T13:11:54.735Z"
   },
   {
    "duration": 3,
    "start_time": "2024-11-01T13:11:54.767Z"
   },
   {
    "duration": 204,
    "start_time": "2024-11-01T13:11:54.772Z"
   },
   {
    "duration": 4,
    "start_time": "2024-11-01T13:11:54.978Z"
   },
   {
    "duration": 318,
    "start_time": "2024-11-01T13:11:54.984Z"
   },
   {
    "duration": 6,
    "start_time": "2024-11-01T13:11:55.303Z"
   },
   {
    "duration": 147,
    "start_time": "2024-11-01T13:11:55.310Z"
   },
   {
    "duration": 1871,
    "start_time": "2024-11-01T13:11:55.459Z"
   },
   {
    "duration": 1397,
    "start_time": "2024-11-09T06:54:44.997Z"
   },
   {
    "duration": 291,
    "start_time": "2024-11-09T06:54:46.396Z"
   },
   {
    "duration": 43,
    "start_time": "2024-11-09T06:54:46.688Z"
   },
   {
    "duration": 36,
    "start_time": "2024-11-09T06:54:46.734Z"
   },
   {
    "duration": 12,
    "start_time": "2024-11-09T06:54:46.772Z"
   },
   {
    "duration": 9,
    "start_time": "2024-11-09T06:54:46.786Z"
   },
   {
    "duration": 24,
    "start_time": "2024-11-09T06:54:46.797Z"
   },
   {
    "duration": 11,
    "start_time": "2024-11-09T06:54:46.823Z"
   },
   {
    "duration": 15,
    "start_time": "2024-11-09T06:54:46.836Z"
   },
   {
    "duration": 7,
    "start_time": "2024-11-09T06:54:46.855Z"
   },
   {
    "duration": 9,
    "start_time": "2024-11-09T06:54:46.864Z"
   },
   {
    "duration": 58,
    "start_time": "2024-11-09T06:54:46.875Z"
   },
   {
    "duration": 12,
    "start_time": "2024-11-09T06:54:46.935Z"
   },
   {
    "duration": 21,
    "start_time": "2024-11-09T06:54:46.948Z"
   },
   {
    "duration": 5,
    "start_time": "2024-11-09T06:54:46.971Z"
   },
   {
    "duration": 211,
    "start_time": "2024-11-09T06:54:46.978Z"
   },
   {
    "duration": 17,
    "start_time": "2024-11-09T06:54:47.191Z"
   },
   {
    "duration": 7,
    "start_time": "2024-11-09T06:54:47.210Z"
   },
   {
    "duration": 34,
    "start_time": "2024-11-09T06:54:47.219Z"
   },
   {
    "duration": 131,
    "start_time": "2024-11-09T06:54:47.255Z"
   },
   {
    "duration": 154,
    "start_time": "2024-11-09T06:54:47.388Z"
   },
   {
    "duration": 8,
    "start_time": "2024-11-09T06:54:47.544Z"
   },
   {
    "duration": 297,
    "start_time": "2024-11-09T06:54:47.554Z"
   },
   {
    "duration": 9,
    "start_time": "2024-11-09T06:54:47.853Z"
   },
   {
    "duration": 281,
    "start_time": "2024-11-09T06:54:47.863Z"
   },
   {
    "duration": 382,
    "start_time": "2024-11-09T06:54:48.145Z"
   },
   {
    "duration": 15,
    "start_time": "2024-11-09T06:54:48.529Z"
   },
   {
    "duration": 199,
    "start_time": "2024-11-09T06:54:48.549Z"
   },
   {
    "duration": 335,
    "start_time": "2024-11-09T06:54:48.750Z"
   },
   {
    "duration": 15,
    "start_time": "2024-11-09T06:54:49.086Z"
   },
   {
    "duration": 28,
    "start_time": "2024-11-09T06:54:49.103Z"
   },
   {
    "duration": 22,
    "start_time": "2024-11-09T06:54:49.132Z"
   },
   {
    "duration": 12,
    "start_time": "2024-11-09T06:54:49.156Z"
   },
   {
    "duration": 12,
    "start_time": "2024-11-09T06:54:49.170Z"
   },
   {
    "duration": 15,
    "start_time": "2024-11-09T06:54:49.183Z"
   },
   {
    "duration": 9,
    "start_time": "2024-11-09T06:54:49.199Z"
   },
   {
    "duration": 41,
    "start_time": "2024-11-09T06:54:49.209Z"
   },
   {
    "duration": 171,
    "start_time": "2024-11-09T06:54:49.251Z"
   },
   {
    "duration": 21,
    "start_time": "2024-11-09T06:54:49.423Z"
   },
   {
    "duration": 7,
    "start_time": "2024-11-09T06:54:49.446Z"
   },
   {
    "duration": 838,
    "start_time": "2024-11-09T06:54:49.455Z"
   },
   {
    "duration": 120,
    "start_time": "2024-11-09T06:54:50.294Z"
   },
   {
    "duration": 13,
    "start_time": "2024-11-09T06:54:50.416Z"
   },
   {
    "duration": 108,
    "start_time": "2024-11-09T06:54:50.443Z"
   },
   {
    "duration": 7,
    "start_time": "2024-11-09T06:54:50.552Z"
   },
   {
    "duration": 40,
    "start_time": "2024-11-09T06:54:50.560Z"
   },
   {
    "duration": 18,
    "start_time": "2024-11-09T06:54:50.602Z"
   },
   {
    "duration": 32,
    "start_time": "2024-11-09T06:54:50.621Z"
   },
   {
    "duration": 240,
    "start_time": "2024-11-09T06:54:50.655Z"
   },
   {
    "duration": 6,
    "start_time": "2024-11-09T06:54:50.896Z"
   },
   {
    "duration": 396,
    "start_time": "2024-11-09T06:54:50.903Z"
   },
   {
    "duration": 7,
    "start_time": "2024-11-09T06:54:51.301Z"
   },
   {
    "duration": 162,
    "start_time": "2024-11-09T06:54:51.310Z"
   },
   {
    "duration": 2508,
    "start_time": "2024-11-09T06:54:51.474Z"
   },
   {
    "duration": 3018,
    "start_time": "2024-11-10T13:32:51.410Z"
   },
   {
    "duration": 386,
    "start_time": "2024-11-10T13:32:54.430Z"
   },
   {
    "duration": 115,
    "start_time": "2024-11-10T13:32:54.817Z"
   },
   {
    "duration": 9,
    "start_time": "2024-11-10T13:32:54.934Z"
   },
   {
    "duration": 85,
    "start_time": "2024-11-10T13:32:54.946Z"
   },
   {
    "duration": 9,
    "start_time": "2024-11-10T13:32:55.033Z"
   },
   {
    "duration": 88,
    "start_time": "2024-11-10T13:32:55.043Z"
   },
   {
    "duration": 11,
    "start_time": "2024-11-10T13:32:55.133Z"
   },
   {
    "duration": 30,
    "start_time": "2024-11-10T13:32:55.210Z"
   },
   {
    "duration": 191,
    "start_time": "2024-11-10T13:32:55.241Z"
   },
   {
    "duration": 10,
    "start_time": "2024-11-10T13:32:55.433Z"
   },
   {
    "duration": 75,
    "start_time": "2024-11-10T13:32:55.444Z"
   },
   {
    "duration": 13,
    "start_time": "2024-11-10T13:32:55.520Z"
   },
   {
    "duration": 93,
    "start_time": "2024-11-10T13:32:55.537Z"
   },
   {
    "duration": 85,
    "start_time": "2024-11-10T13:32:55.631Z"
   },
   {
    "duration": 598,
    "start_time": "2024-11-10T13:32:55.720Z"
   },
   {
    "duration": 106,
    "start_time": "2024-11-10T13:32:56.320Z"
   },
   {
    "duration": 9,
    "start_time": "2024-11-10T13:32:56.428Z"
   },
   {
    "duration": 97,
    "start_time": "2024-11-10T13:32:56.439Z"
   },
   {
    "duration": 388,
    "start_time": "2024-11-10T13:32:56.538Z"
   },
   {
    "duration": 400,
    "start_time": "2024-11-10T13:32:56.931Z"
   },
   {
    "duration": 8,
    "start_time": "2024-11-10T13:32:57.333Z"
   },
   {
    "duration": 974,
    "start_time": "2024-11-10T13:32:57.342Z"
   },
   {
    "duration": 10,
    "start_time": "2024-11-10T13:32:58.317Z"
   },
   {
    "duration": 1089,
    "start_time": "2024-11-10T13:32:58.330Z"
   },
   {
    "duration": 1813,
    "start_time": "2024-11-10T13:32:59.421Z"
   },
   {
    "duration": 80,
    "start_time": "2024-11-10T13:33:01.236Z"
   },
   {
    "duration": 694,
    "start_time": "2024-11-10T13:33:01.322Z"
   },
   {
    "duration": 1193,
    "start_time": "2024-11-10T13:33:02.019Z"
   },
   {
    "duration": 22,
    "start_time": "2024-11-10T13:33:03.214Z"
   },
   {
    "duration": 86,
    "start_time": "2024-11-10T13:33:03.238Z"
   },
   {
    "duration": 107,
    "start_time": "2024-11-10T13:33:03.328Z"
   },
   {
    "duration": 21,
    "start_time": "2024-11-10T13:33:03.516Z"
   },
   {
    "duration": 90,
    "start_time": "2024-11-10T13:33:03.539Z"
   },
   {
    "duration": 130,
    "start_time": "2024-11-10T13:33:03.711Z"
   },
   {
    "duration": 117,
    "start_time": "2024-11-10T13:33:03.915Z"
   },
   {
    "duration": 96,
    "start_time": "2024-11-10T13:33:04.034Z"
   },
   {
    "duration": 979,
    "start_time": "2024-11-10T13:33:04.132Z"
   },
   {
    "duration": 15,
    "start_time": "2024-11-10T13:33:05.113Z"
   },
   {
    "duration": 399,
    "start_time": "2024-11-10T13:33:05.130Z"
   },
   {
    "duration": 3100,
    "start_time": "2024-11-10T13:33:05.533Z"
   },
   {
    "duration": 389,
    "start_time": "2024-11-10T13:33:08.635Z"
   },
   {
    "duration": 94,
    "start_time": "2024-11-10T13:33:09.026Z"
   },
   {
    "duration": 122,
    "start_time": "2024-11-10T13:33:09.128Z"
   },
   {
    "duration": 277,
    "start_time": "2024-11-10T13:33:09.251Z"
   },
   {
    "duration": 10,
    "start_time": "2024-11-10T13:33:09.533Z"
   },
   {
    "duration": 104,
    "start_time": "2024-11-10T13:33:09.612Z"
   },
   {
    "duration": 11,
    "start_time": "2024-11-10T13:33:09.717Z"
   },
   {
    "duration": 606,
    "start_time": "2024-11-10T13:33:09.729Z"
   },
   {
    "duration": 5,
    "start_time": "2024-11-10T13:33:10.337Z"
   },
   {
    "duration": 771,
    "start_time": "2024-11-10T13:33:10.344Z"
   },
   {
    "duration": 10,
    "start_time": "2024-11-10T13:33:11.120Z"
   },
   {
    "duration": 597,
    "start_time": "2024-11-10T13:33:11.132Z"
   },
   {
    "duration": 8601,
    "start_time": "2024-11-10T13:33:11.730Z"
   }
  ],
  "kernelspec": {
   "display_name": "Python 3 (ipykernel)",
   "language": "python",
   "name": "python3"
  },
  "language_info": {
   "codemirror_mode": {
    "name": "ipython",
    "version": 3
   },
   "file_extension": ".py",
   "mimetype": "text/x-python",
   "name": "python",
   "nbconvert_exporter": "python",
   "pygments_lexer": "ipython3",
   "version": "3.9.5"
  },
  "toc": {
   "base_numbering": 1,
   "nav_menu": {},
   "number_sections": true,
   "sideBar": true,
   "skip_h1_title": true,
   "title_cell": "Table of Contents",
   "title_sidebar": "Contents",
   "toc_cell": false,
   "toc_position": {
    "height": "calc(100% - 180px)",
    "left": "10px",
    "top": "150px",
    "width": "373.188px"
   },
   "toc_section_display": true,
   "toc_window_display": true
  }
 },
 "nbformat": 4,
 "nbformat_minor": 5
}
