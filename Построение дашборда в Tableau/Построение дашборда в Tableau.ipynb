{
 "cells": [
  {
   "cell_type": "markdown",
   "id": "7280fd87",
   "metadata": {},
   "source": [
    "# Проект: Построение дашбордов в Tableau"
   ]
  },
  {
   "cell_type": "markdown",
   "id": "b90252ae",
   "metadata": {},
   "source": [
    "День добрый, Проект: Построение дашбордов в Tableau: <https://public.tableau.com/views/_17202640289950/Story1?:language=en-US&:sid=&:redirect=auth&:display_count=n&:origin=viz_share_link>"
   ]
  },
  {
   "cell_type": "code",
   "execution_count": null,
   "id": "992ab090",
   "metadata": {},
   "outputs": [],
   "source": []
  }
 ],
 "metadata": {
  "kernelspec": {
   "display_name": "Python 3 (ipykernel)",
   "language": "python",
   "name": "python3"
  },
  "language_info": {
   "codemirror_mode": {
    "name": "ipython",
    "version": 3
   },
   "file_extension": ".py",
   "mimetype": "text/x-python",
   "name": "python",
   "nbconvert_exporter": "python",
   "pygments_lexer": "ipython3",
   "version": "3.9.5"
  },
  "toc": {
   "base_numbering": 1,
   "nav_menu": {},
   "number_sections": true,
   "sideBar": true,
   "skip_h1_title": true,
   "title_cell": "Table of Contents",
   "title_sidebar": "Contents",
   "toc_cell": false,
   "toc_position": {},
   "toc_section_display": true,
   "toc_window_display": false
  }
 },
 "nbformat": 4,
 "nbformat_minor": 5
}
